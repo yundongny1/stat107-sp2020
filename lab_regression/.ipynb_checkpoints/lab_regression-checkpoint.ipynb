{
 "cells": [
  {
   "cell_type": "markdown",
   "metadata": {},
   "source": [
    "# Lab_regression: Are there any relationships? \n",
    "\n",
    "Congratulations! In this lab, you are a researcher for the U.S. Department of Education and you are trying to establish whether there is a relationship between Education Expenditure and SAT Scores. As a researcher, you also want to know if a higher pupil/teacher ratio results in better SAT scores. This will help the Dept. of Education decide if the more impoverished students are at a disadvantage while taking the SAT.\n",
    "\n",
    "For this investigation, you are provided a dataset which was collected between 1994 and 1995. In this dataset, we have a data frame with 50 observations on the following variables:\n",
    "\n",
    "- state: a factor with names of each state\n",
    "\n",
    "- expend: expenditure per pupil in average daily attendance in public elementary and secondary schools, 1994-95 (in thousands of US dollars)\n",
    "\n",
    "- ratio: average pupil/teacher ratio in public elementary and secondary schools, Fall 1994\n",
    "\n",
    "- sat: average total SAT score, 1994-95\n",
    "\n",
    "So let's start to look at the data and check for correlations!\n",
    "\n",
    "### Reminder\n",
    "- Complete all puzzles and submit this lab before Monday evening at 11:59pm.\n",
    "\n",
    "### Getting Help\n",
    "\n",
    "Remember, there are a lot of ways to get help if you find yourself stuck:\n",
    "\n",
    "1. On the course Piazza page: https://piazza.com/class/k5n1f8g2b722s7\n",
    "\n",
    "2. During the lab time, the lab TA will be available in the STAT 107 Zoom channel:\n",
    "    - Anku: 2-4pm and 4-6pm on Wednesday\n",
    "    - Sogol: 10am-12noon and 2-4pm on Friday\n",
    "    - STAT 107 Zoom Lab Hours Password (all caps): DISCOVERY\n",
    "    - STAT 107 Zoom Lab Hours Link : https://illinois.zoom.us/j/962372579\n",
    "\n",
    "3. Office Hours:\n",
    "\n",
    "    1-on-1 Zoom-based Office Hours: Available every weekday\n",
    "    - Mondays, 4-6pm\n",
    "    - Tuesdays, 4-6pm\n",
    "    - Wednesdays, 9-11am  (“Professor Office Hours” with Karle or Wade)\n",
    "    - Wednesdays, 4-6pm\n",
    "    - Thursdays, 4:30pm-6:30pm\n",
    "    - Friday: 4-6pm\n",
    "    \n",
    "    When you join Zoom, you will be in the “waiting room”.  Whenever you have a question:\n",
    "    1. Visit https://queue.illinois.edu/q/stat107\n",
    "    2. Add your question to the queue\n",
    "    3. As soon as you’re at the top, we’ll bring you into the Zoom channel to work 1:1 with staff\n",
    "\n",
    "    - STAT 107 Zoom Office Hours Password (all caps): DISCOVERY\n",
    "    - STAT 107 Zoom Office Hours Link(same as lab hours): https://illinois.zoom.us/j/962372579\n",
    "\n",
    "\n",
    "\n",
    "\n",
    "Have fun discovering relationships and stay safe! :) \n",
    "###### And remember keeping cheatsheet for syntax always helps! "
   ]
  },
  {
   "cell_type": "markdown",
   "metadata": {},
   "source": [
    "## Part 0 | Data Overview\n",
    "\n",
    "First of all, at the beginning of any data analysis, it is important to start with some quick exporatory data analysis (EDA). We can call the first few rows (head) and last few rows (tail) of the data set to see that everything is what we would expect. Additionally, we can look at the variable names, formats, and some summary statistics.\n",
    "\n",
    "### Notebook Setup\n",
    "\n",
    "We have provided the setup for libraries today, including `pandas` and visualization libraries (`matplotlib` and `seaborn`):\n",
    "#### In case, you don't have seaborn/ sklearn installed, please install it first by running : \n",
    "```\n",
    "conda install seaborn\n",
    "conda install scikit-learn \n",
    "```"
   ]
  },
  {
   "cell_type": "code",
   "execution_count": 1,
   "metadata": {},
   "outputs": [],
   "source": [
    "# Standard imports:\n",
    "import pandas as pd\n",
    "import matplotlib.pyplot as plt\n",
    "import seaborn as sns\n",
    "from sklearn.linear_model import LinearRegression\n",
    "\n",
    "# Visulaization options:\n",
    "#%matplotlib inline\n",
    "\n",
    "# We do this to ignore several specific pandas warnings:\n",
    "#import warnings\n",
    "#warnings.filterwarnings(\"ignore\")\n",
    "\n",
    "# Use default white plot style:\n",
    "#sns.set(style=\"white\")"
   ]
  },
  {
   "cell_type": "markdown",
   "metadata": {},
   "source": [
    "### Read the CSV file\n",
    "\n",
    "In the following cell, read the `dataa.csv` file and print out **10 random rows** from that file."
   ]
  },
  {
   "cell_type": "code",
   "execution_count": 14,
   "metadata": {
    "deletable": false,
    "nbgrader": {
     "cell_type": "code",
     "checksum": "405d16a1dfba37c3ffca134da0040163",
     "grade": false,
     "grade_id": "cell-9f9f09c3b580ad04",
     "locked": false,
     "schema_version": 3,
     "solution": true,
     "task": false
    }
   },
   "outputs": [
    {
     "data": {
      "text/html": [
       "<div>\n",
       "<style scoped>\n",
       "    .dataframe tbody tr th:only-of-type {\n",
       "        vertical-align: middle;\n",
       "    }\n",
       "\n",
       "    .dataframe tbody tr th {\n",
       "        vertical-align: top;\n",
       "    }\n",
       "\n",
       "    .dataframe thead th {\n",
       "        text-align: right;\n",
       "    }\n",
       "</style>\n",
       "<table border=\"1\" class=\"dataframe\">\n",
       "  <thead>\n",
       "    <tr style=\"text-align: right;\">\n",
       "      <th></th>\n",
       "      <th>state</th>\n",
       "      <th>expend</th>\n",
       "      <th>ratio</th>\n",
       "      <th>total</th>\n",
       "    </tr>\n",
       "  </thead>\n",
       "  <tbody>\n",
       "    <tr>\n",
       "      <th>36</th>\n",
       "      <td>Oregon</td>\n",
       "      <td>6.436</td>\n",
       "      <td>19.9</td>\n",
       "      <td>947</td>\n",
       "    </tr>\n",
       "    <tr>\n",
       "      <th>29</th>\n",
       "      <td>New Jersey</td>\n",
       "      <td>9.774</td>\n",
       "      <td>13.8</td>\n",
       "      <td>898</td>\n",
       "    </tr>\n",
       "    <tr>\n",
       "      <th>40</th>\n",
       "      <td>South Dakota</td>\n",
       "      <td>4.775</td>\n",
       "      <td>14.4</td>\n",
       "      <td>1068</td>\n",
       "    </tr>\n",
       "    <tr>\n",
       "      <th>45</th>\n",
       "      <td>Virginia</td>\n",
       "      <td>5.327</td>\n",
       "      <td>14.6</td>\n",
       "      <td>896</td>\n",
       "    </tr>\n",
       "    <tr>\n",
       "      <th>34</th>\n",
       "      <td>Ohio</td>\n",
       "      <td>6.162</td>\n",
       "      <td>16.6</td>\n",
       "      <td>975</td>\n",
       "    </tr>\n",
       "    <tr>\n",
       "      <th>12</th>\n",
       "      <td>Illinois</td>\n",
       "      <td>6.136</td>\n",
       "      <td>17.3</td>\n",
       "      <td>1048</td>\n",
       "    </tr>\n",
       "    <tr>\n",
       "      <th>9</th>\n",
       "      <td>Georgia</td>\n",
       "      <td>5.193</td>\n",
       "      <td>16.3</td>\n",
       "      <td>854</td>\n",
       "    </tr>\n",
       "    <tr>\n",
       "      <th>27</th>\n",
       "      <td>Nevada</td>\n",
       "      <td>5.160</td>\n",
       "      <td>18.7</td>\n",
       "      <td>917</td>\n",
       "    </tr>\n",
       "    <tr>\n",
       "      <th>43</th>\n",
       "      <td>Utah</td>\n",
       "      <td>3.656</td>\n",
       "      <td>24.3</td>\n",
       "      <td>1076</td>\n",
       "    </tr>\n",
       "    <tr>\n",
       "      <th>8</th>\n",
       "      <td>Florida</td>\n",
       "      <td>5.718</td>\n",
       "      <td>19.1</td>\n",
       "      <td>889</td>\n",
       "    </tr>\n",
       "  </tbody>\n",
       "</table>\n",
       "</div>"
      ],
      "text/plain": [
       "           state  expend  ratio  total\n",
       "36        Oregon   6.436   19.9    947\n",
       "29    New Jersey   9.774   13.8    898\n",
       "40  South Dakota   4.775   14.4   1068\n",
       "45      Virginia   5.327   14.6    896\n",
       "34          Ohio   6.162   16.6    975\n",
       "12      Illinois   6.136   17.3   1048\n",
       "9        Georgia   5.193   16.3    854\n",
       "27        Nevada   5.160   18.7    917\n",
       "43          Utah   3.656   24.3   1076\n",
       "8        Florida   5.718   19.1    889"
      ]
     },
     "execution_count": 14,
     "metadata": {},
     "output_type": "execute_result"
    }
   ],
   "source": [
    "df = pd.read_csv(\"dataa.csv\")\n",
    "\n",
    "\n",
    "df.sample(10)"
   ]
  },
  {
   "cell_type": "code",
   "execution_count": 3,
   "metadata": {
    "deletable": false,
    "editable": false,
    "nbgrader": {
     "cell_type": "code",
     "checksum": "4c8a2330a972731ee749c4a9a2b58b45",
     "grade": true,
     "grade_id": "cell-b3f9c5de87f7d3ef",
     "locked": true,
     "points": 1,
     "schema_version": 3,
     "solution": false,
     "task": false
    }
   },
   "outputs": [
    {
     "name": "stdout",
     "output_type": "stream",
     "text": [
      "🎉 All tests passed! 🎉\n"
     ]
    }
   ],
   "source": [
    "## == TEST CASES for dataset ==\n",
    "# - This read-only cell contains test cases for your previous cell.\n",
    "# - If this cell runs without any error our output, you PASSED all test cases!\n",
    "# - If this cell results in any errors, check you previous cell, make changes, and RE-RUN your code and then this cell.\n",
    "assert(len(df)==50), \"You dataset might not be correct\"\n",
    "## == SUCCESS MESSAGE ==\n",
    "# You will only see this message (with the emoji showing) if you passed all test cases:\n",
    "tada = \"\\N{PARTY POPPER}\"\n",
    "print(f\"{tada} All tests passed! {tada}\")"
   ]
  },
  {
   "cell_type": "markdown",
   "metadata": {},
   "source": [
    "### EDA: Top Five Rows\n",
    "\n",
    "Output the first five rows of your dataset:"
   ]
  },
  {
   "cell_type": "code",
   "execution_count": 4,
   "metadata": {
    "deletable": false,
    "nbgrader": {
     "cell_type": "code",
     "checksum": "636177e52b874c78094a3d22677e706d",
     "grade": false,
     "grade_id": "cell-c660d8a76bf3db99",
     "locked": false,
     "schema_version": 3,
     "solution": true,
     "task": false
    }
   },
   "outputs": [
    {
     "data": {
      "text/html": [
       "<div>\n",
       "<style scoped>\n",
       "    .dataframe tbody tr th:only-of-type {\n",
       "        vertical-align: middle;\n",
       "    }\n",
       "\n",
       "    .dataframe tbody tr th {\n",
       "        vertical-align: top;\n",
       "    }\n",
       "\n",
       "    .dataframe thead th {\n",
       "        text-align: right;\n",
       "    }\n",
       "</style>\n",
       "<table border=\"1\" class=\"dataframe\">\n",
       "  <thead>\n",
       "    <tr style=\"text-align: right;\">\n",
       "      <th></th>\n",
       "      <th>state</th>\n",
       "      <th>expend</th>\n",
       "      <th>ratio</th>\n",
       "      <th>total</th>\n",
       "    </tr>\n",
       "  </thead>\n",
       "  <tbody>\n",
       "    <tr>\n",
       "      <th>0</th>\n",
       "      <td>Alabama</td>\n",
       "      <td>4.405</td>\n",
       "      <td>17.2</td>\n",
       "      <td>1029</td>\n",
       "    </tr>\n",
       "    <tr>\n",
       "      <th>1</th>\n",
       "      <td>Alaska</td>\n",
       "      <td>8.963</td>\n",
       "      <td>17.6</td>\n",
       "      <td>934</td>\n",
       "    </tr>\n",
       "    <tr>\n",
       "      <th>2</th>\n",
       "      <td>Arizona</td>\n",
       "      <td>4.778</td>\n",
       "      <td>19.3</td>\n",
       "      <td>944</td>\n",
       "    </tr>\n",
       "    <tr>\n",
       "      <th>3</th>\n",
       "      <td>Arkansas</td>\n",
       "      <td>4.459</td>\n",
       "      <td>17.1</td>\n",
       "      <td>1005</td>\n",
       "    </tr>\n",
       "    <tr>\n",
       "      <th>4</th>\n",
       "      <td>California</td>\n",
       "      <td>4.992</td>\n",
       "      <td>24.0</td>\n",
       "      <td>902</td>\n",
       "    </tr>\n",
       "  </tbody>\n",
       "</table>\n",
       "</div>"
      ],
      "text/plain": [
       "        state  expend  ratio  total\n",
       "0     Alabama   4.405   17.2   1029\n",
       "1      Alaska   8.963   17.6    934\n",
       "2     Arizona   4.778   19.3    944\n",
       "3    Arkansas   4.459   17.1   1005\n",
       "4  California   4.992   24.0    902"
      ]
     },
     "execution_count": 4,
     "metadata": {},
     "output_type": "execute_result"
    }
   ],
   "source": [
    "head = df.head(5)\n",
    "head\n"
   ]
  },
  {
   "cell_type": "code",
   "execution_count": 5,
   "metadata": {
    "deletable": false,
    "editable": false,
    "nbgrader": {
     "cell_type": "code",
     "checksum": "174fd46f515fd385d1bf943b0b48395c",
     "grade": true,
     "grade_id": "cell-3fb07df6a1068f80",
     "locked": true,
     "points": 1,
     "schema_version": 3,
     "solution": false,
     "task": false
    }
   },
   "outputs": [
    {
     "name": "stdout",
     "output_type": "stream",
     "text": [
      "🎉 All tests passed! 🎉\n"
     ]
    }
   ],
   "source": [
    "## == TEST CASES for head ==\n",
    "# - This read-only cell contains test cases for your previous cell.\n",
    "# - If this cell runs without any error our output, you PASSED all test cases!\n",
    "# - If this cell results in any errors, check you previous cell, make changes, and RE-RUN your code and then this cell.\n",
    "assert(len(head)==5), \"You head might not be correct\"\n",
    "## == SUCCESS MESSAGE ==\n",
    "# You will only see this message (with the emoji showing) if you passed all test cases:\n",
    "tada = \"\\N{PARTY POPPER}\"\n",
    "print(f\"{tada} All tests passed! {tada}\")"
   ]
  },
  {
   "cell_type": "markdown",
   "metadata": {},
   "source": [
    "### EDA: Last Five Rows\n",
    "\n",
    "Output the last five rows of your dataset."
   ]
  },
  {
   "cell_type": "code",
   "execution_count": 6,
   "metadata": {
    "deletable": false,
    "nbgrader": {
     "cell_type": "code",
     "checksum": "033b3d41d4dd7a03690e046aa8bfe9bd",
     "grade": false,
     "grade_id": "cell-64b74c587fd3a754",
     "locked": false,
     "schema_version": 3,
     "solution": true,
     "task": false
    }
   },
   "outputs": [
    {
     "data": {
      "text/html": [
       "<div>\n",
       "<style scoped>\n",
       "    .dataframe tbody tr th:only-of-type {\n",
       "        vertical-align: middle;\n",
       "    }\n",
       "\n",
       "    .dataframe tbody tr th {\n",
       "        vertical-align: top;\n",
       "    }\n",
       "\n",
       "    .dataframe thead th {\n",
       "        text-align: right;\n",
       "    }\n",
       "</style>\n",
       "<table border=\"1\" class=\"dataframe\">\n",
       "  <thead>\n",
       "    <tr style=\"text-align: right;\">\n",
       "      <th></th>\n",
       "      <th>state</th>\n",
       "      <th>expend</th>\n",
       "      <th>ratio</th>\n",
       "      <th>total</th>\n",
       "    </tr>\n",
       "  </thead>\n",
       "  <tbody>\n",
       "    <tr>\n",
       "      <th>45</th>\n",
       "      <td>Virginia</td>\n",
       "      <td>5.327</td>\n",
       "      <td>14.6</td>\n",
       "      <td>896</td>\n",
       "    </tr>\n",
       "    <tr>\n",
       "      <th>46</th>\n",
       "      <td>Washington</td>\n",
       "      <td>5.906</td>\n",
       "      <td>20.2</td>\n",
       "      <td>937</td>\n",
       "    </tr>\n",
       "    <tr>\n",
       "      <th>47</th>\n",
       "      <td>West Virginia</td>\n",
       "      <td>6.107</td>\n",
       "      <td>14.8</td>\n",
       "      <td>932</td>\n",
       "    </tr>\n",
       "    <tr>\n",
       "      <th>48</th>\n",
       "      <td>Wisconsin</td>\n",
       "      <td>6.930</td>\n",
       "      <td>15.9</td>\n",
       "      <td>1073</td>\n",
       "    </tr>\n",
       "    <tr>\n",
       "      <th>49</th>\n",
       "      <td>Wyoming</td>\n",
       "      <td>6.160</td>\n",
       "      <td>14.9</td>\n",
       "      <td>1001</td>\n",
       "    </tr>\n",
       "  </tbody>\n",
       "</table>\n",
       "</div>"
      ],
      "text/plain": [
       "            state  expend  ratio  total\n",
       "45       Virginia   5.327   14.6    896\n",
       "46     Washington   5.906   20.2    937\n",
       "47  West Virginia   6.107   14.8    932\n",
       "48      Wisconsin   6.930   15.9   1073\n",
       "49        Wyoming   6.160   14.9   1001"
      ]
     },
     "execution_count": 6,
     "metadata": {},
     "output_type": "execute_result"
    }
   ],
   "source": [
    "tail = df.tail(5)\n",
    "tail\n"
   ]
  },
  {
   "cell_type": "code",
   "execution_count": 7,
   "metadata": {
    "deletable": false,
    "editable": false,
    "nbgrader": {
     "cell_type": "code",
     "checksum": "3c7cbcf7260730f64806948557f2bdf6",
     "grade": true,
     "grade_id": "cell-6c06aa0c32d3b4f6",
     "locked": true,
     "points": 1,
     "schema_version": 3,
     "solution": false,
     "task": false
    }
   },
   "outputs": [
    {
     "name": "stdout",
     "output_type": "stream",
     "text": [
      "🎉 All tests passed! 🎉\n"
     ]
    }
   ],
   "source": [
    "## == TEST CASES for tail ==\n",
    "# - This read-only cell contains test cases for your previous cell.\n",
    "# - If this cell runs without any error our output, you PASSED all test cases!\n",
    "# - If this cell results in any errors, check you previous cell, make changes, and RE-RUN your code and then this cell.\n",
    "assert(len(tail)==5), \"You tail might not be correct\"\n",
    "## == SUCCESS MESSAGE ==\n",
    "# You will only see this message (with the emoji showing) if you passed all test cases:\n",
    "tada = \"\\N{PARTY POPPER}\"\n",
    "print(f\"{tada} All tests passed! {tada}\")"
   ]
  },
  {
   "cell_type": "markdown",
   "metadata": {},
   "source": [
    "### EDA: Numeric Data Overview\n",
    "\n",
    "Use `df.describe()` to print out summary information about all numeric data columns in your dataset."
   ]
  },
  {
   "cell_type": "code",
   "execution_count": 8,
   "metadata": {
    "deletable": false,
    "nbgrader": {
     "cell_type": "code",
     "checksum": "74d5d258152bbfa481129cbc5eb08a74",
     "grade": false,
     "grade_id": "cell-1992e119743c9495",
     "locked": false,
     "schema_version": 3,
     "solution": true,
     "task": false
    }
   },
   "outputs": [
    {
     "data": {
      "text/html": [
       "<div>\n",
       "<style scoped>\n",
       "    .dataframe tbody tr th:only-of-type {\n",
       "        vertical-align: middle;\n",
       "    }\n",
       "\n",
       "    .dataframe tbody tr th {\n",
       "        vertical-align: top;\n",
       "    }\n",
       "\n",
       "    .dataframe thead th {\n",
       "        text-align: right;\n",
       "    }\n",
       "</style>\n",
       "<table border=\"1\" class=\"dataframe\">\n",
       "  <thead>\n",
       "    <tr style=\"text-align: right;\">\n",
       "      <th></th>\n",
       "      <th>expend</th>\n",
       "      <th>ratio</th>\n",
       "      <th>total</th>\n",
       "    </tr>\n",
       "  </thead>\n",
       "  <tbody>\n",
       "    <tr>\n",
       "      <th>count</th>\n",
       "      <td>50.000000</td>\n",
       "      <td>50.000000</td>\n",
       "      <td>50.000000</td>\n",
       "    </tr>\n",
       "    <tr>\n",
       "      <th>mean</th>\n",
       "      <td>5.905260</td>\n",
       "      <td>16.858000</td>\n",
       "      <td>965.920000</td>\n",
       "    </tr>\n",
       "    <tr>\n",
       "      <th>std</th>\n",
       "      <td>1.362807</td>\n",
       "      <td>2.266355</td>\n",
       "      <td>74.820558</td>\n",
       "    </tr>\n",
       "    <tr>\n",
       "      <th>min</th>\n",
       "      <td>3.656000</td>\n",
       "      <td>13.800000</td>\n",
       "      <td>844.000000</td>\n",
       "    </tr>\n",
       "    <tr>\n",
       "      <th>25%</th>\n",
       "      <td>4.881750</td>\n",
       "      <td>15.225000</td>\n",
       "      <td>897.250000</td>\n",
       "    </tr>\n",
       "    <tr>\n",
       "      <th>50%</th>\n",
       "      <td>5.767500</td>\n",
       "      <td>16.600000</td>\n",
       "      <td>945.500000</td>\n",
       "    </tr>\n",
       "    <tr>\n",
       "      <th>75%</th>\n",
       "      <td>6.434000</td>\n",
       "      <td>17.575000</td>\n",
       "      <td>1032.000000</td>\n",
       "    </tr>\n",
       "    <tr>\n",
       "      <th>max</th>\n",
       "      <td>9.774000</td>\n",
       "      <td>24.300000</td>\n",
       "      <td>1107.000000</td>\n",
       "    </tr>\n",
       "  </tbody>\n",
       "</table>\n",
       "</div>"
      ],
      "text/plain": [
       "          expend      ratio        total\n",
       "count  50.000000  50.000000    50.000000\n",
       "mean    5.905260  16.858000   965.920000\n",
       "std     1.362807   2.266355    74.820558\n",
       "min     3.656000  13.800000   844.000000\n",
       "25%     4.881750  15.225000   897.250000\n",
       "50%     5.767500  16.600000   945.500000\n",
       "75%     6.434000  17.575000  1032.000000\n",
       "max     9.774000  24.300000  1107.000000"
      ]
     },
     "execution_count": 8,
     "metadata": {},
     "output_type": "execute_result"
    }
   ],
   "source": [
    "description = df.describe()\n",
    "description\n"
   ]
  },
  {
   "cell_type": "code",
   "execution_count": 9,
   "metadata": {
    "deletable": false,
    "editable": false,
    "nbgrader": {
     "cell_type": "code",
     "checksum": "33e78e9780d6e6f1c5403b50e031fd04",
     "grade": true,
     "grade_id": "cell-2b4ea026d88790a9",
     "locked": true,
     "points": 1,
     "schema_version": 3,
     "solution": false,
     "task": false
    }
   },
   "outputs": [
    {
     "name": "stdout",
     "output_type": "stream",
     "text": [
      "🎉 All tests passed! 🎉\n"
     ]
    }
   ],
   "source": [
    "## == TEST CASES for description ==\n",
    "# - This read-only cell contains test cases for your previous cell.\n",
    "# - If this cell runs without any error our output, you PASSED all test cases!\n",
    "# - If this cell results in any errors, check you previous cell, make changes, and RE-RUN your code and then this cell.\n",
    "assert(len(description)==8), \"You description might not be correct\"\n",
    "## == SUCCESS MESSAGE ==\n",
    "# You will only see this message (with the emoji showing) if you passed all test cases:\n",
    "tada = \"\\N{PARTY POPPER}\"\n",
    "print(f\"{tada} All tests passed! {tada}\")"
   ]
  },
  {
   "cell_type": "markdown",
   "metadata": {},
   "source": [
    "### Great job!\n",
    "\n",
    "Now lets move forward with the analysis! As previously stated, in this lab we would like to find out if the two variables (Education Expenditure and pupil/teacher ratio) have a relationship with SAT scores. We already learned some techniques in class to figure this out, right?(Reminder to look at your notes!) But first, let's visualize the data to see if there are any correlations."
   ]
  },
  {
   "cell_type": "markdown",
   "metadata": {},
   "source": [
    "## Part 1 | First, let's create some scatterplots!\n",
    "\n",
    "It is really important to visualize your data first to see if there are any correlations between pairwise variables before doing further analysis. This helps us understand the relations between variables clearly.\n",
    "\n",
    "### Puzzle 1.1a: \n",
    "\n",
    "In the following cell, write the Python code to create scatterplots between the total expenditure, `expend` and average total SAT score, `total`. Label x as `expend` and y as `total`."
   ]
  },
  {
   "cell_type": "code",
   "execution_count": 56,
   "metadata": {
    "deletable": false,
    "nbgrader": {
     "cell_type": "code",
     "checksum": "fb1115798e26aa83f8978c7fc678d12a",
     "grade": false,
     "grade_id": "cell-2f26959b92927286",
     "locked": false,
     "schema_version": 3,
     "solution": true,
     "task": false
    }
   },
   "outputs": [
    {
     "data": {
      "text/plain": [
       "<matplotlib.axes._subplots.AxesSubplot at 0x1da48a16688>"
      ]
     },
     "execution_count": 56,
     "metadata": {},
     "output_type": "execute_result"
    },
    {
     "data": {
      "image/png": "[encoded data removed]",
      "text/plain": [
       "<Figure size 432x288 with 1 Axes>"
      ]
     },
     "metadata": {
      "needs_background": "light"
     },
     "output_type": "display_data"
    }
   ],
   "source": [
    "# Create a scatter plot between 'expend' (x-axis) and 'total'(y-axis). \n",
    "df.plot.scatter(x='expend', y='total')\n",
    "\n"
   ]
  },
  {
   "cell_type": "markdown",
   "metadata": {},
   "source": [
    "### Puzzle 1.1b: \n",
    "\n",
    "The researchers also had a hypothesis that better pupil/teacher ratio leads to better SAT scores. Go ahead and also create a scatterplot between average pupil/teacher ratio in public elementary and secondary schools,`ratio`, and SAT score,`total`. Label x as `ratio` and y as `total`. "
   ]
  },
  {
   "cell_type": "code",
   "execution_count": 57,
   "metadata": {
    "deletable": false,
    "nbgrader": {
     "cell_type": "code",
     "checksum": "7b6d0e8aa0be79d9aafb050dd3fe6265",
     "grade": false,
     "grade_id": "cell-ff688b98a7bb7736",
     "locked": false,
     "schema_version": 3,
     "solution": true,
     "task": false
    }
   },
   "outputs": [
    {
     "data": {
      "text/plain": [
       "<matplotlib.axes._subplots.AxesSubplot at 0x1da48c39f88>"
      ]
     },
     "execution_count": 57,
     "metadata": {},
     "output_type": "execute_result"
    },
    {
     "data": {
      "image/png": "[encoded data removed]",
      "text/plain": [
       "<Figure size 432x288 with 1 Axes>"
      ]
     },
     "metadata": {
      "needs_background": "light"
     },
     "output_type": "display_data"
    }
   ],
   "source": [
    "# Create a scatter plot between 'ratio'(x-axis) and 'total'(y-axis). \n",
    "df.plot.scatter(x='ratio', y='total')\n",
    "\n"
   ]
  },
  {
   "cell_type": "markdown",
   "metadata": {},
   "source": [
    "### Puzzle 1.2a:  Correlations\n",
    "\n",
    "Look at both of your scatter plots.  Do you think any of these pairs have **correlations**?\n",
    "\n",
    "- Is the correlation coefficent positive?\n",
    "- Is the correlation coefficent negative?\n",
    "- Is the correlation coefficent zero?\n",
    "\n",
    "Type your response in the Markdown cell below."
   ]
  },
  {
   "cell_type": "markdown",
   "metadata": {},
   "source": [
    "correlation coefficient is zero"
   ]
  },
  {
   "cell_type": "markdown",
   "metadata": {},
   "source": [
    "### Puzzle 1.2b: Correlation Matrix\n",
    "\n",
    "You just took a guess for the correlation. Now, its time to see the actual values. In the following cell, write the Python code to find the **correlation matrix** of our data.  Think about what you can see between the pairs. "
   ]
  },
  {
   "cell_type": "code",
   "execution_count": 93,
   "metadata": {
    "deletable": false,
    "nbgrader": {
     "cell_type": "code",
     "checksum": "a876c4b2743c28a9a023a0b1e001eebc",
     "grade": false,
     "grade_id": "cell-2e46e49c36c0159b",
     "locked": false,
     "schema_version": 3,
     "solution": true,
     "task": false
    }
   },
   "outputs": [],
   "source": [
    "cor = df.corr()"
   ]
  },
  {
   "cell_type": "code",
   "execution_count": 94,
   "metadata": {
    "deletable": false,
    "editable": false,
    "nbgrader": {
     "cell_type": "code",
     "checksum": "84482c62340bb96e9775230f35a8dd8c",
     "grade": true,
     "grade_id": "cell-d4030f7f26d5d9e4",
     "locked": true,
     "points": 1,
     "schema_version": 3,
     "solution": false,
     "task": false
    }
   },
   "outputs": [
    {
     "name": "stdout",
     "output_type": "stream",
     "text": [
      "🎉 All tests passed! 🎉\n"
     ]
    }
   ],
   "source": [
    "## == TEST CASES for Puzzle 1.2b ==\n",
    "# - This read-only cell contains test cases for your previous cell.\n",
    "# - If this cell runs without any error our output, you PASSED all test cases!\n",
    "# - If this cell results in any errors, check you previous cell, make changes, and RE-RUN your code and then this cell.\n",
    "\n",
    "assert(cor['expend'][\"expend\"] == cor['ratio'][\"ratio\"] == cor['total'][\"total\"]),\"Are you sure the correlations are correct?\"\n",
    "\n",
    "## == SUCCESS MESSAGE ==\n",
    "# You will only see this message (with the emoji showing) if you passed all test cases:\n",
    "tada = \"\\N{PARTY POPPER}\"\n",
    "print(f\"{tada} All tests passed! {tada}\")"
   ]
  },
  {
   "cell_type": "markdown",
   "metadata": {},
   "source": [
    "### Puzzle 1.2c: Reflections\n",
    "\n",
    "- What does a negative correlation mean?\n",
    "- Can we say something about **causality** by looking for correlations between the variables?"
   ]
  },
  {
   "cell_type": "markdown",
   "metadata": {},
   "source": [
    "## Part 2 | Simple Linear Regression\n",
    "\n",
    "### 2.1a. Linear Regression coefficents (slope and y-intercept)\n",
    "\n",
    "Checking the descriptive statistics is useful and gives us a basic idea of the data. Sometimes, we want to use the data that we have to make predictions.  We can do this using simple linear regression.\n",
    "\n",
    "The simple linear equation is:\n",
    "\n",
    "$Y = (slope)*X + intercept$\n",
    "\n",
    "- X is called as independent variable\n",
    "- Y is the dependent variable."
   ]
  },
  {
   "cell_type": "markdown",
   "metadata": {},
   "source": [
    "### Puzzle 2.1: \n",
    "In the following cell, write the Python code to create the simple regression model to predict the average total score from expenditure per pupil in average daily attendance in public elementary and secondary schools.\n",
    "\n",
    "First, train the `LinearRegression` model with our data:"
   ]
  },
  {
   "cell_type": "code",
   "execution_count": 95,
   "metadata": {
    "deletable": false,
    "nbgrader": {
     "cell_type": "code",
     "checksum": "0bcb9b2a11322cadfad506e10434cac9",
     "grade": false,
     "grade_id": "cell-7fa84b13d128b68b",
     "locked": false,
     "schema_version": 3,
     "solution": true,
     "task": false
    }
   },
   "outputs": [],
   "source": [
    "# Create a linear regression model:\n",
    "model = LinearRegression()\n",
    "\n",
    "# Train (\"fit\") the model:\n",
    "model = model.fit(df[ ['expend']], df['total'])\n",
    "\n"
   ]
  },
  {
   "cell_type": "markdown",
   "metadata": {},
   "source": [
    "### Puzzle 2.1b:\n",
    "\n",
    "Use `model.intercept_` and `model.coef_` to display the y-intercept ($b_0$) and slope ($b_1$) of the linear regression.  (If your `LinearRegression` variable is something other than `model`, you will need to use that instead of `model`.)"
   ]
  },
  {
   "cell_type": "code",
   "execution_count": 96,
   "metadata": {
    "deletable": false,
    "nbgrader": {
     "cell_type": "code",
     "checksum": "495e11223ce8022464337ee1df091276",
     "grade": false,
     "grade_id": "cell-3b364751faf20c13",
     "locked": false,
     "schema_version": 3,
     "solution": true,
     "task": false
    }
   },
   "outputs": [
    {
     "data": {
      "text/plain": [
       "1089.2937177502226"
      ]
     },
     "execution_count": 96,
     "metadata": {},
     "output_type": "execute_result"
    }
   ],
   "source": [
    "# Find the intercept:\n",
    "intercept = model.intercept_\n",
    "intercept\n",
    "\n"
   ]
  },
  {
   "cell_type": "code",
   "execution_count": 97,
   "metadata": {
    "deletable": false,
    "nbgrader": {
     "cell_type": "code",
     "checksum": "2d047df1fc4eea4e23cac83f2cb3234e",
     "grade": false,
     "grade_id": "cell-0c2ff6961252cf35",
     "locked": false,
     "schema_version": 3,
     "solution": true,
     "task": false
    }
   },
   "outputs": [
    {
     "data": {
      "text/plain": [
       "array([-20.89217371])"
      ]
     },
     "execution_count": 97,
     "metadata": {},
     "output_type": "execute_result"
    }
   ],
   "source": [
    "# Find the slope:\n",
    "slope = model.coef_\n",
    "slope\n",
    "\n"
   ]
  },
  {
   "cell_type": "code",
   "execution_count": 98,
   "metadata": {
    "deletable": false,
    "editable": false,
    "nbgrader": {
     "cell_type": "code",
     "checksum": "a37b0694a39c7058cf28f8938d5ea90c",
     "grade": true,
     "grade_id": "cell-07812929547646f0",
     "locked": true,
     "points": 1,
     "schema_version": 3,
     "solution": false,
     "task": false
    }
   },
   "outputs": [
    {
     "name": "stdout",
     "output_type": "stream",
     "text": [
      "🎉 All tests passed! 🎉\n"
     ]
    }
   ],
   "source": [
    "## == TEST CASES for Puzzle 2.1 ==\n",
    "# - This read-only cell contains test cases for your previous cell.\n",
    "# - If this cell runs without any error our output, you PASSED all test cases!\n",
    "# - If this cell results in any errors, check you previous cell, make changes, and RE-RUN your code and then this cell.\n",
    "assert(round(intercept,2) ==1089.29), \"The intercept doesn't seem correct\"\n",
    "assert(round(slope[0],2)== -20.89), \"The coefficent doesn't seem correct\"\n",
    "## == SUCCESS MESSAGE ==\n",
    "# You will only see this message (with the emoji showing) if you passed all test cases:\n",
    "tada = \"\\N{PARTY POPPER}\"\n",
    "print(f\"{tada} All tests passed! {tada}\")"
   ]
  },
  {
   "cell_type": "markdown",
   "metadata": {},
   "source": [
    "### 2.2 Residuals\n",
    "\n",
    "Look at the plot above and think about it for a second. Does this linear regression line predict all of our data perfectly or do we have some error?  The distance that each point is from the regression line is called the residual or prediction error.  Unless we have a perfect correlation, we will have some error.\n",
    "\n",
    "**Residuals are the differences between the observed value of $y$ and the predicted value of y ($\\hat{y}$).** \n",
    "\n",
    "Lets find the residuals!"
   ]
  },
  {
   "cell_type": "markdown",
   "metadata": {},
   "source": [
    "### Puzzle 2.2a: \n",
    "\n",
    "In the following cell, write the Python code to store the predicted `total` as `total_predicted`:"
   ]
  },
  {
   "cell_type": "code",
   "execution_count": 105,
   "metadata": {
    "deletable": false,
    "nbgrader": {
     "cell_type": "code",
     "checksum": "648bd4fa0a1e82f6a8d60ce1b6501d94",
     "grade": false,
     "grade_id": "cell-9d6b59d29388452d",
     "locked": false,
     "schema_version": 3,
     "solution": true,
     "task": false
    }
   },
   "outputs": [
    {
     "data": {
      "text/plain": [
       "0      997.263693\n",
       "1      902.037165\n",
       "2      989.470912\n",
       "3      996.135515\n",
       "4      984.999987\n",
       "5      975.577616\n",
       "6      905.087422\n",
       "7      942.421737\n",
       "8      969.832268\n",
       "9      980.800660\n",
       "10     962.311086\n",
       "11    1001.337666\n",
       "12     961.099340\n",
       "13     967.575914\n",
       "14     974.741929\n",
       "15     967.763943\n",
       "16     980.299247\n",
       "17     989.826079\n",
       "18     954.998825\n",
       "19     937.929919\n",
       "20     937.052448\n",
       "21     943.173855\n",
       "22     963.940675\n",
       "23    1004.053649\n",
       "24     976.831147\n",
       "25     970.375465\n",
       "26     965.298667\n",
       "27     981.490101\n",
       "28     966.886472\n",
       "29     885.093612\n",
       "30     993.482209\n",
       "31     888.248330\n",
       "32     983.224152\n",
       "33     989.533588\n",
       "34     960.556143\n",
       "35     988.071136\n",
       "36     954.831688\n",
       "37     940.771255\n",
       "38     933.250072\n",
       "39     989.073960\n",
       "40     989.533588\n",
       "41     997.618859\n",
       "42     980.194787\n",
       "43    1012.911931\n",
       "44     948.271545\n",
       "45     978.001108\n",
       "46     965.904540\n",
       "47     961.705213\n",
       "48     944.510954\n",
       "49     960.597928\n",
       "Name: total_predicted, dtype: float64"
      ]
     },
     "execution_count": 105,
     "metadata": {},
     "output_type": "execute_result"
    }
   ],
   "source": [
    "df[\"total_predicted\"] = model.predict(df [['expend']])\n",
    "\n",
    "\n",
    "\n",
    "df[\"total_predicted\"]"
   ]
  },
  {
   "cell_type": "markdown",
   "metadata": {
    "nbgrader": {
     "grade": false,
     "grade_id": "cell-aa66dadc148c24a8",
     "locked": false,
     "schema_version": 3,
     "solution": false,
     "task": false
    }
   },
   "source": [
    "### Puzzle 2.2b: \n",
    "\n",
    "In the following cell, write the Python code to store the error for of the column `total` as `total_error`:"
   ]
  },
  {
   "cell_type": "code",
   "execution_count": 106,
   "metadata": {
    "deletable": false,
    "nbgrader": {
     "cell_type": "code",
     "checksum": "8e704c67c6975b946e7ec6968aab316a",
     "grade": false,
     "grade_id": "cell-d8d13e2e7fe8c79c",
     "locked": false,
     "schema_version": 3,
     "solution": true,
     "task": false
    }
   },
   "outputs": [
    {
     "data": {
      "text/plain": [
       "0      31.736307\n",
       "1      31.962835\n",
       "2     -45.470912\n",
       "3       8.864485\n",
       "4     -82.999987\n",
       "5       4.422384\n",
       "6       2.912578\n",
       "7     -45.421737\n",
       "8     -80.832268\n",
       "9    -126.800660\n",
       "10    -73.311086\n",
       "11    -22.337666\n",
       "12     86.900660\n",
       "13    -85.575914\n",
       "14    124.258071\n",
       "15     92.236057\n",
       "16     18.700753\n",
       "17     31.173921\n",
       "18    -58.998825\n",
       "19    -28.929919\n",
       "20    -30.052448\n",
       "21     89.826145\n",
       "22    121.059325\n",
       "23     31.946351\n",
       "24     68.168853\n",
       "25     38.624535\n",
       "26     84.701333\n",
       "27    -64.490101\n",
       "28    -31.886472\n",
       "29     12.906388\n",
       "30     21.517791\n",
       "31      3.751670\n",
       "32   -118.224152\n",
       "33    117.466412\n",
       "34     14.443857\n",
       "35     38.928864\n",
       "36     -7.831688\n",
       "37    -60.771255\n",
       "38    -45.250072\n",
       "39   -145.073960\n",
       "40     78.466412\n",
       "41     42.381141\n",
       "42    -87.194787\n",
       "43     63.088069\n",
       "44    -47.271545\n",
       "45    -82.001108\n",
       "46    -28.904540\n",
       "47    -29.705213\n",
       "48    128.489046\n",
       "49     40.402072\n",
       "Name: total_error, dtype: float64"
      ]
     },
     "execution_count": 106,
     "metadata": {},
     "output_type": "execute_result"
    }
   ],
   "source": [
    "df[\"total_error\"] = df['total'] - df[\"total_predicted\"]\n",
    "\n",
    "\n",
    "\n",
    "df[\"total_error\"]"
   ]
  },
  {
   "cell_type": "code",
   "execution_count": 108,
   "metadata": {
    "deletable": false,
    "editable": false,
    "nbgrader": {
     "cell_type": "code",
     "checksum": "21f0b2204de4d46d5d9e7abf147d7789",
     "grade": true,
     "grade_id": "cell-4413553f0346fbac",
     "locked": true,
     "points": 1,
     "schema_version": 3,
     "solution": false,
     "task": false
    }
   },
   "outputs": [
    {
     "name": "stdout",
     "output_type": "stream",
     "text": [
      "🎉 All tests passed! 🎉\n"
     ]
    }
   ],
   "source": [
    "## == TEST CASES for Puzzle 2.2 ==\n",
    "# - This read-only cell contains test cases for your previous cell.\n",
    "# - If this cell runs without any error our output, you PASSED all test cases!\n",
    "# - If this cell results in any errors, check you previous cell, make changes, and RE-RUN your code and then this cell.\n",
    "assert(round(df[\"total_error\"].sum(), 3) == 0), \"The residuals might not be correct. Please check again!\"\n",
    "## == SUCCESS MESSAGE ==\n",
    "# You will only see this message (with the emoji showing) if you passed all test cases:\n",
    "tada = \"\\N{PARTY POPPER}\"\n",
    "print(f\"{tada} All tests passed! {tada}\")"
   ]
  },
  {
   "cell_type": "markdown",
   "metadata": {},
   "source": [
    "### Turn In\n",
    "\n",
    "You're almost done -- congratulations!\n",
    "\n",
    "You need to do two more things:\n",
    "\n",
    "1. Save your work.  To do this, create a **notebook checkpoint** by using the menu within the notebook to go **File -> Save and Checkpoint**\n",
    "\n",
    "2. After you have saved and checkpointed, exit this notebook and return to the Data Science Discovery page on how to use git to turn this notebook into the course!"
   ]
  },
  {
   "cell_type": "code",
   "execution_count": null,
   "metadata": {},
   "outputs": [],
   "source": []
  }
 ],
 "metadata": {
  "kernelspec": {
   "display_name": "Python 3",
   "language": "python",
   "name": "python3"
  },
  "language_info": {
   "codemirror_mode": {
    "name": "ipython",
    "version": 3
   },
   "file_extension": ".py",
   "mimetype": "text/x-python",
   "name": "python",
   "nbconvert_exporter": "python",
   "pygments_lexer": "ipython3",
   "version": "3.7.6"
  }
 },
 "nbformat": 4,
 "nbformat_minor": 2
}
