{
 "cells": [
  {
   "cell_type": "markdown",
   "metadata": {},
   "source": [
    "# Lab_regression: Are there any relationships? \n",
    "\n",
    "Congratulations! In this lab, you are a researcher for the U.S. Department of Education and you are trying to establish whether there is a relationship between Education Expenditure and SAT Scores. As a researcher, you also want to know if a higher pupil/teacher ratio results in better SAT scores. This will help the Dept. of Education decide if the more impoverished students are at a disadvantage while taking the SAT.\n",
    "\n",
    "For this investigation, you are provided a dataset which was collected between 1994 and 1995. In this dataset, we have a data frame with 50 observations on the following variables:\n",
    "\n",
    "- state: a factor with names of each state\n",
    "\n",
    "- expend: expenditure per pupil in average daily attendance in public elementary and secondary schools, 1994-95 (in thousands of US dollars)\n",
    "\n",
    "- ratio: average pupil/teacher ratio in public elementary and secondary schools, Fall 1994\n",
    "\n",
    "- sat: average total SAT score, 1994-95\n",
    "\n",
    "So let's start to look at the data and check for correlations!\n",
    "\n",
    "### Reminder\n",
    "- Complete all puzzles and submit this lab before Monday evening at 11:59pm.\n",
    "\n",
    "### Getting Help\n",
    "\n",
    "Remember, there are a lot of ways to get help if you find yourself stuck:\n",
    "\n",
    "1. On the course Piazza page: https://piazza.com/class/k5n1f8g2b722s7\n",
    "\n",
    "2. During the lab time, the lab TA will be available in the STAT 107 Zoom channel:\n",
    "    - Anku: 2-4pm and 4-6pm on Wednesday\n",
    "    - Sogol: 10am-12noon and 2-4pm on Friday\n",
    "    - STAT 107 Zoom Lab Hours Password (all caps): DISCOVERY\n",
    "    - STAT 107 Zoom Lab Hours Link : https://illinois.zoom.us/j/962372579\n",
    "\n",
    "3. Office Hours:\n",
    "\n",
    "    1-on-1 Zoom-based Office Hours: Available every weekday\n",
    "    - Mondays, 4-6pm\n",
    "    - Tuesdays, 4-6pm\n",
    "    - Wednesdays, 9-11am  (“Professor Office Hours” with Karle or Wade)\n",
    "    - Wednesdays, 4-6pm\n",
    "    - Thursdays, 4:30pm-6:30pm\n",
    "    - Friday: 4-6pm\n",
    "    \n",
    "    When you join Zoom, you will be in the “waiting room”.  Whenever you have a question:\n",
    "    1. Visit https://queue.illinois.edu/q/stat107\n",
    "    2. Add your question to the queue\n",
    "    3. As soon as you’re at the top, we’ll bring you into the Zoom channel to work 1:1 with staff\n",
    "\n",
    "    - STAT 107 Zoom Office Hours Password (all caps): DISCOVERY\n",
    "    - STAT 107 Zoom Office Hours Link(same as lab hours): https://illinois.zoom.us/j/962372579\n",
    "\n",
    "\n",
    "\n",
    "\n",
    "Have fun discovering relationships and stay safe! :) \n",
    "###### And remember keeping cheatsheet for syntax always helps! "
   ]
  },
  {
   "cell_type": "markdown",
   "metadata": {},
   "source": [
    "## Part 0 | Data Overview\n",
    "\n",
    "First of all, at the beginning of any data analysis, it is important to start with some quick exporatory data analysis (EDA). We can call the first few rows (head) and last few rows (tail) of the data set to see that everything is what we would expect. Additionally, we can look at the variable names, formats, and some summary statistics.\n",
    "\n",
    "### Notebook Setup\n",
    "\n",
    "We have provided the setup for libraries today, including `pandas` and visualization libraries (`matplotlib` and `seaborn`):\n",
    "#### In case, you don't have seaborn/ sklearn installed, please install it first by running : \n",
    "```\n",
    "conda install seaborn\n",
    "conda install scikit-learn \n",
    "```"
   ]
  },
  {
   "cell_type": "code",
   "execution_count": null,
   "metadata": {},
   "outputs": [],
   "source": [
    "# Standard imports:\n",
    "import pandas as pd\n",
    "import matplotlib.pyplot as plt\n",
    "import seaborn as sns\n",
    "from sklearn.linear_model import LinearRegression\n",
    "\n",
    "# Visulaization options:\n",
    "#%matplotlib inline\n",
    "\n",
    "# We do this to ignore several specific pandas warnings:\n",
    "#import warnings\n",
    "#warnings.filterwarnings(\"ignore\")\n",
    "\n",
    "# Use default white plot style:\n",
    "#sns.set(style=\"white\")"
   ]
  },
  {
   "cell_type": "markdown",
   "metadata": {},
   "source": [
    "### Read the CSV file\n",
    "\n",
    "In the following cell, read the `dataa.csv` file and print out **10 random rows** from that file."
   ]
  },
  {
   "cell_type": "code",
   "execution_count": null,
   "metadata": {
    "deletable": false,
    "nbgrader": {
     "cell_type": "code",
     "checksum": "405d16a1dfba37c3ffca134da0040163",
     "grade": false,
     "grade_id": "cell-9f9f09c3b580ad04",
     "locked": false,
     "schema_version": 3,
     "solution": true,
     "task": false
    }
   },
   "outputs": [],
   "source": [
    "df = ...\n",
    "\n",
    "\n",
    "df.sample(10)"
   ]
  },
  {
   "cell_type": "code",
   "execution_count": null,
   "metadata": {
    "deletable": false,
    "editable": false,
    "nbgrader": {
     "cell_type": "code",
     "checksum": "4c8a2330a972731ee749c4a9a2b58b45",
     "grade": true,
     "grade_id": "cell-b3f9c5de87f7d3ef",
     "locked": true,
     "points": 1,
     "schema_version": 3,
     "solution": false,
     "task": false
    }
   },
   "outputs": [],
   "source": [
    "## == TEST CASES for dataset ==\n",
    "# - This read-only cell contains test cases for your previous cell.\n",
    "# - If this cell runs without any error our output, you PASSED all test cases!\n",
    "# - If this cell results in any errors, check you previous cell, make changes, and RE-RUN your code and then this cell.\n",
    "assert(len(df)==50), \"You dataset might not be correct\"\n",
    "## == SUCCESS MESSAGE ==\n",
    "# You will only see this message (with the emoji showing) if you passed all test cases:\n",
    "tada = \"\\N{PARTY POPPER}\"\n",
    "print(f\"{tada} All tests passed! {tada}\")"
   ]
  },
  {
   "cell_type": "markdown",
   "metadata": {},
   "source": [
    "### EDA: Top Five Rows\n",
    "\n",
    "Output the first five rows of your dataset:"
   ]
  },
  {
   "cell_type": "code",
   "execution_count": null,
   "metadata": {
    "deletable": false,
    "nbgrader": {
     "cell_type": "code",
     "checksum": "636177e52b874c78094a3d22677e706d",
     "grade": false,
     "grade_id": "cell-c660d8a76bf3db99",
     "locked": false,
     "schema_version": 3,
     "solution": true,
     "task": false
    }
   },
   "outputs": [],
   "source": [
    "head = ...\n",
    "head\n"
   ]
  },
  {
   "cell_type": "code",
   "execution_count": null,
   "metadata": {
    "deletable": false,
    "editable": false,
    "nbgrader": {
     "cell_type": "code",
     "checksum": "174fd46f515fd385d1bf943b0b48395c",
     "grade": true,
     "grade_id": "cell-3fb07df6a1068f80",
     "locked": true,
     "points": 1,
     "schema_version": 3,
     "solution": false,
     "task": false
    }
   },
   "outputs": [],
   "source": [
    "## == TEST CASES for head ==\n",
    "# - This read-only cell contains test cases for your previous cell.\n",
    "# - If this cell runs without any error our output, you PASSED all test cases!\n",
    "# - If this cell results in any errors, check you previous cell, make changes, and RE-RUN your code and then this cell.\n",
    "assert(len(head)==5), \"You head might not be correct\"\n",
    "## == SUCCESS MESSAGE ==\n",
    "# You will only see this message (with the emoji showing) if you passed all test cases:\n",
    "tada = \"\\N{PARTY POPPER}\"\n",
    "print(f\"{tada} All tests passed! {tada}\")"
   ]
  },
  {
   "cell_type": "markdown",
   "metadata": {},
   "source": [
    "### EDA: Last Five Rows\n",
    "\n",
    "Output the last five rows of your dataset."
   ]
  },
  {
   "cell_type": "code",
   "execution_count": null,
   "metadata": {
    "deletable": false,
    "nbgrader": {
     "cell_type": "code",
     "checksum": "033b3d41d4dd7a03690e046aa8bfe9bd",
     "grade": false,
     "grade_id": "cell-64b74c587fd3a754",
     "locked": false,
     "schema_version": 3,
     "solution": true,
     "task": false
    }
   },
   "outputs": [],
   "source": [
    "tail = ...\n",
    "tail\n"
   ]
  },
  {
   "cell_type": "code",
   "execution_count": null,
   "metadata": {
    "deletable": false,
    "editable": false,
    "nbgrader": {
     "cell_type": "code",
     "checksum": "3c7cbcf7260730f64806948557f2bdf6",
     "grade": true,
     "grade_id": "cell-6c06aa0c32d3b4f6",
     "locked": true,
     "points": 1,
     "schema_version": 3,
     "solution": false,
     "task": false
    }
   },
   "outputs": [],
   "source": [
    "## == TEST CASES for tail ==\n",
    "# - This read-only cell contains test cases for your previous cell.\n",
    "# - If this cell runs without any error our output, you PASSED all test cases!\n",
    "# - If this cell results in any errors, check you previous cell, make changes, and RE-RUN your code and then this cell.\n",
    "assert(len(tail)==5), \"You tail might not be correct\"\n",
    "## == SUCCESS MESSAGE ==\n",
    "# You will only see this message (with the emoji showing) if you passed all test cases:\n",
    "tada = \"\\N{PARTY POPPER}\"\n",
    "print(f\"{tada} All tests passed! {tada}\")"
   ]
  },
  {
   "cell_type": "markdown",
   "metadata": {},
   "source": [
    "### EDA: Numeric Data Overview\n",
    "\n",
    "Use `df.describe()` to print out summary information about all numeric data columns in your dataset."
   ]
  },
  {
   "cell_type": "code",
   "execution_count": null,
   "metadata": {
    "deletable": false,
    "nbgrader": {
     "cell_type": "code",
     "checksum": "74d5d258152bbfa481129cbc5eb08a74",
     "grade": false,
     "grade_id": "cell-1992e119743c9495",
     "locked": false,
     "schema_version": 3,
     "solution": true,
     "task": false
    }
   },
   "outputs": [],
   "source": [
    "description = ...\n",
    "description\n"
   ]
  },
  {
   "cell_type": "code",
   "execution_count": null,
   "metadata": {
    "deletable": false,
    "editable": false,
    "nbgrader": {
     "cell_type": "code",
     "checksum": "33e78e9780d6e6f1c5403b50e031fd04",
     "grade": true,
     "grade_id": "cell-2b4ea026d88790a9",
     "locked": true,
     "points": 1,
     "schema_version": 3,
     "solution": false,
     "task": false
    }
   },
   "outputs": [],
   "source": [
    "## == TEST CASES for description ==\n",
    "# - This read-only cell contains test cases for your previous cell.\n",
    "# - If this cell runs without any error our output, you PASSED all test cases!\n",
    "# - If this cell results in any errors, check you previous cell, make changes, and RE-RUN your code and then this cell.\n",
    "assert(len(description)==8), \"You description might not be correct\"\n",
    "## == SUCCESS MESSAGE ==\n",
    "# You will only see this message (with the emoji showing) if you passed all test cases:\n",
    "tada = \"\\N{PARTY POPPER}\"\n",
    "print(f\"{tada} All tests passed! {tada}\")"
   ]
  },
  {
   "cell_type": "markdown",
   "metadata": {},
   "source": [
    "### Great job!\n",
    "\n",
    "Now lets move forward with the analysis! As previously stated, in this lab we would like to find out if the two variables (Education Expenditure and pupil/teacher ratio) have a relationship with SAT scores. We already learned some techniques in class to figure this out, right?(Reminder to look at your notes!) But first, let's visualize the data to see if there are any correlations."
   ]
  },
  {
   "cell_type": "markdown",
   "metadata": {},
   "source": [
    "## Part 1 | First, let's create some scatterplots!\n",
    "\n",
    "It is really important to visualize your data first to see if there are any correlations between pairwise variables before doing further analysis. This helps us understand the relations between variables clearly.\n",
    "\n",
    "### Puzzle 1.1a: \n",
    "\n",
    "In the following cell, write the Python code to create scatterplots between the total expenditure, `expend` and average total SAT score, `total`. Label x as `expend` and y as `total`."
   ]
  },
  {
   "cell_type": "code",
   "execution_count": null,
   "metadata": {
    "deletable": false,
    "nbgrader": {
     "cell_type": "code",
     "checksum": "fb1115798e26aa83f8978c7fc678d12a",
     "grade": false,
     "grade_id": "cell-2f26959b92927286",
     "locked": false,
     "schema_version": 3,
     "solution": true,
     "task": false
    }
   },
   "outputs": [],
   "source": [
    "# Create a scatter plot between 'expend' (x-axis) and 'total'(y-axis). \n",
    "...\n",
    "\n"
   ]
  },
  {
   "cell_type": "markdown",
   "metadata": {},
   "source": [
    "### Puzzle 1.1b: \n",
    "\n",
    "The researchers also had a hypothesis that better pupil/teacher ratio leads to better SAT scores. Go ahead and also create a scatterplot between average pupil/teacher ratio in public elementary and secondary schools,`ratio`, and SAT score,`total`. Label x as `ratio` and y as `total`. "
   ]
  },
  {
   "cell_type": "code",
   "execution_count": null,
   "metadata": {
    "deletable": false,
    "nbgrader": {
     "cell_type": "code",
     "checksum": "7b6d0e8aa0be79d9aafb050dd3fe6265",
     "grade": false,
     "grade_id": "cell-ff688b98a7bb7736",
     "locked": false,
     "schema_version": 3,
     "solution": true,
     "task": false
    }
   },
   "outputs": [],
   "source": [
    "# Create a scatter plot between 'ratio'(x-axis) and 'total'(y-axis). \n",
    "...\n",
    "\n"
   ]
  },
  {
   "cell_type": "markdown",
   "metadata": {},
   "source": [
    "### Puzzle 1.2a:  Correlations\n",
    "\n",
    "Look at both of your scatter plots.  Do you think any of these pairs have **correlations**?\n",
    "\n",
    "- Is the correlation coefficent positive?\n",
    "- Is the correlation coefficent negative?\n",
    "- Is the correlation coefficent zero?\n",
    "\n",
    "Type your response in the Markdown cell below."
   ]
  },
  {
   "cell_type": "markdown",
   "metadata": {},
   "source": [
    "Your response here!"
   ]
  },
  {
   "cell_type": "markdown",
   "metadata": {},
   "source": [
    "### Puzzle 1.2b: Correlation Matrix\n",
    "\n",
    "You just took a guess for the correlation. Now, its time to see the actual values. In the following cell, write the Python code to find the **correlation matrix** of our data.  Think about what you can see between the pairs. "
   ]
  },
  {
   "cell_type": "code",
   "execution_count": null,
   "metadata": {
    "deletable": false,
    "nbgrader": {
     "cell_type": "code",
     "checksum": "a876c4b2743c28a9a023a0b1e001eebc",
     "grade": false,
     "grade_id": "cell-2e46e49c36c0159b",
     "locked": false,
     "schema_version": 3,
     "solution": true,
     "task": false
    }
   },
   "outputs": [],
   "source": []
  },
  {
   "cell_type": "code",
   "execution_count": null,
   "metadata": {
    "deletable": false,
    "editable": false,
    "nbgrader": {
     "cell_type": "code",
     "checksum": "84482c62340bb96e9775230f35a8dd8c",
     "grade": true,
     "grade_id": "cell-d4030f7f26d5d9e4",
     "locked": true,
     "points": 1,
     "schema_version": 3,
     "solution": false,
     "task": false
    }
   },
   "outputs": [],
   "source": [
    "## == TEST CASES for Puzzle 1.2b ==\n",
    "# - This read-only cell contains test cases for your previous cell.\n",
    "# - If this cell runs without any error our output, you PASSED all test cases!\n",
    "# - If this cell results in any errors, check you previous cell, make changes, and RE-RUN your code and then this cell.\n",
    "\n",
    "assert(cor['expend'][\"expend\"] == cor['ratio'][\"ratio\"] == cor['total'][\"total\"]),\"Are you sure the correlations are correct?\"\n",
    "\n",
    "## == SUCCESS MESSAGE ==\n",
    "# You will only see this message (with the emoji showing) if you passed all test cases:\n",
    "tada = \"\\N{PARTY POPPER}\"\n",
    "print(f\"{tada} All tests passed! {tada}\")"
   ]
  },
  {
   "cell_type": "markdown",
   "metadata": {},
   "source": [
    "### Puzzle 1.2c: Reflections\n",
    "\n",
    "- What does a negative correlation mean?\n",
    "- Can we say something about **causality** by looking for correlations between the variables?"
   ]
  },
  {
   "cell_type": "markdown",
   "metadata": {},
   "source": [
    "## Part 2 | Simple Linear Regression\n",
    "\n",
    "### 2.1a. Linear Regression coefficents (slope and y-intercept)\n",
    "\n",
    "Checking the descriptive statistics is useful and gives us a basic idea of the data. Sometimes, we want to use the data that we have to make predictions.  We can do this using simple linear regression.\n",
    "\n",
    "The simple linear equation is:\n",
    "\n",
    "$Y = (slope)*X + intercept$\n",
    "\n",
    "- X is called as independent variable\n",
    "- Y is the dependent variable."
   ]
  },
  {
   "cell_type": "markdown",
   "metadata": {},
   "source": [
    "### Puzzle 2.1: \n",
    "In the following cell, write the Python code to create the simple regression model to predict the average total score from expenditure per pupil in average daily attendance in public elementary and secondary schools.\n",
    "\n",
    "First, train the `LinearRegression` model with our data:"
   ]
  },
  {
   "cell_type": "code",
   "execution_count": null,
   "metadata": {
    "deletable": false,
    "nbgrader": {
     "cell_type": "code",
     "checksum": "0bcb9b2a11322cadfad506e10434cac9",
     "grade": false,
     "grade_id": "cell-7fa84b13d128b68b",
     "locked": false,
     "schema_version": 3,
     "solution": true,
     "task": false
    }
   },
   "outputs": [],
   "source": [
    "# Create a linear regression model:\n",
    "model = ...\n",
    "\n",
    "# Train (\"fit\") the model:\n",
    "...\n",
    "\n"
   ]
  },
  {
   "cell_type": "markdown",
   "metadata": {},
   "source": [
    "### Puzzle 2.1b:\n",
    "\n",
    "Use `model.intercept_` and `model.coef_` to display the y-intercept ($b_0$) and slope ($b_1$) of the linear regression.  (If your `LinearRegression` variable is something other than `model`, you will need to use that instead of `model`.)"
   ]
  },
  {
   "cell_type": "code",
   "execution_count": null,
   "metadata": {
    "deletable": false,
    "nbgrader": {
     "cell_type": "code",
     "checksum": "495e11223ce8022464337ee1df091276",
     "grade": false,
     "grade_id": "cell-3b364751faf20c13",
     "locked": false,
     "schema_version": 3,
     "solution": true,
     "task": false
    }
   },
   "outputs": [],
   "source": [
    "# Find the intercept:\n",
    "intercept = ...\n",
    "intercept\n",
    "\n"
   ]
  },
  {
   "cell_type": "code",
   "execution_count": null,
   "metadata": {
    "deletable": false,
    "nbgrader": {
     "cell_type": "code",
     "checksum": "2d047df1fc4eea4e23cac83f2cb3234e",
     "grade": false,
     "grade_id": "cell-0c2ff6961252cf35",
     "locked": false,
     "schema_version": 3,
     "solution": true,
     "task": false
    }
   },
   "outputs": [],
   "source": [
    "# Find the slope:\n",
    "slope = ...\n",
    "slope\n",
    "\n"
   ]
  },
  {
   "cell_type": "code",
   "execution_count": null,
   "metadata": {
    "deletable": false,
    "editable": false,
    "nbgrader": {
     "cell_type": "code",
     "checksum": "a37b0694a39c7058cf28f8938d5ea90c",
     "grade": true,
     "grade_id": "cell-07812929547646f0",
     "locked": true,
     "points": 1,
     "schema_version": 3,
     "solution": false,
     "task": false
    }
   },
   "outputs": [],
   "source": [
    "## == TEST CASES for Puzzle 2.1 ==\n",
    "# - This read-only cell contains test cases for your previous cell.\n",
    "# - If this cell runs without any error our output, you PASSED all test cases!\n",
    "# - If this cell results in any errors, check you previous cell, make changes, and RE-RUN your code and then this cell.\n",
    "assert(round(intercept,2) ==1089.29), \"The intercept doesn't seem correct\"\n",
    "assert(round(slope[0],2)== -20.89), \"The coefficent doesn't seem correct\"\n",
    "## == SUCCESS MESSAGE ==\n",
    "# You will only see this message (with the emoji showing) if you passed all test cases:\n",
    "tada = \"\\N{PARTY POPPER}\"\n",
    "print(f\"{tada} All tests passed! {tada}\")"
   ]
  },
  {
   "cell_type": "markdown",
   "metadata": {},
   "source": [
    "### 2.2 Residuals\n",
    "\n",
    "Look at the plot above and think about it for a second. Does this linear regression line predict all of our data perfectly or do we have some error?  The distance that each point is from the regression line is called the residual or prediction error.  Unless we have a perfect correlation, we will have some error.\n",
    "\n",
    "**Residuals are the differences between the observed value of $y$ and the predicted value of y ($\\hat{y}$).** \n",
    "\n",
    "Lets find the residuals!"
   ]
  },
  {
   "cell_type": "markdown",
   "metadata": {},
   "source": [
    "### Puzzle 2.2a: \n",
    "\n",
    "In the following cell, write the Python code to store the predicted `total` as `total_predicted`:"
   ]
  },
  {
   "cell_type": "code",
   "execution_count": null,
   "metadata": {
    "deletable": false,
    "nbgrader": {
     "cell_type": "code",
     "checksum": "648bd4fa0a1e82f6a8d60ce1b6501d94",
     "grade": false,
     "grade_id": "cell-9d6b59d29388452d",
     "locked": false,
     "schema_version": 3,
     "solution": true,
     "task": false
    }
   },
   "outputs": [],
   "source": [
    "df[\"total_predicted\"] = ...\n",
    "\n",
    "\n",
    "\n",
    "df[\"total_predicted\"]"
   ]
  },
  {
   "cell_type": "markdown",
   "metadata": {
    "nbgrader": {
     "grade": false,
     "grade_id": "cell-aa66dadc148c24a8",
     "locked": false,
     "schema_version": 3,
     "solution": false,
     "task": false
    }
   },
   "source": [
    "### Puzzle 2.2b: \n",
    "\n",
    "In the following cell, write the Python code to store the error for of the column `total` as `total_error`:"
   ]
  },
  {
   "cell_type": "code",
   "execution_count": null,
   "metadata": {
    "deletable": false,
    "nbgrader": {
     "cell_type": "code",
     "checksum": "8e704c67c6975b946e7ec6968aab316a",
     "grade": false,
     "grade_id": "cell-d8d13e2e7fe8c79c",
     "locked": false,
     "schema_version": 3,
     "solution": true,
     "task": false
    }
   },
   "outputs": [],
   "source": [
    "df[\"total_error\"] = ...\n",
    "\n",
    "\n",
    "\n",
    "df[\"total_error\"]"
   ]
  },
  {
   "cell_type": "code",
   "execution_count": null,
   "metadata": {
    "deletable": false,
    "editable": false,
    "nbgrader": {
     "cell_type": "code",
     "checksum": "21f0b2204de4d46d5d9e7abf147d7789",
     "grade": true,
     "grade_id": "cell-4413553f0346fbac",
     "locked": true,
     "points": 1,
     "schema_version": 3,
     "solution": false,
     "task": false
    }
   },
   "outputs": [],
   "source": [
    "## == TEST CASES for Puzzle 2.2 ==\n",
    "# - This read-only cell contains test cases for your previous cell.\n",
    "# - If this cell runs without any error our output, you PASSED all test cases!\n",
    "# - If this cell results in any errors, check you previous cell, make changes, and RE-RUN your code and then this cell.\n",
    "assert(round(df[\"total_error\"].sum(), 3) == 0), \"The residuals might not be correct. Please check again!\"\n",
    "## == SUCCESS MESSAGE ==\n",
    "# You will only see this message (with the emoji showing) if you passed all test cases:\n",
    "tada = \"\\N{PARTY POPPER}\"\n",
    "print(f\"{tada} All tests passed! {tada}\")"
   ]
  },
  {
   "cell_type": "markdown",
   "metadata": {},
   "source": [
    "### Turn In\n",
    "\n",
    "You're almost done -- congratulations!\n",
    "\n",
    "You need to do two more things:\n",
    "\n",
    "1. Save your work.  To do this, create a **notebook checkpoint** by using the menu within the notebook to go **File -> Save and Checkpoint**\n",
    "\n",
    "2. After you have saved and checkpointed, exit this notebook and return to the Data Science Discovery page on how to use git to turn this notebook into the course!"
   ]
  }
 ],
 "metadata": {
  "kernelspec": {
   "display_name": "Python 3",
   "language": "python",
   "name": "python3"
  },
  "language_info": {
   "codemirror_mode": {
    "name": "ipython",
    "version": 3
   },
   "file_extension": ".py",
   "mimetype": "text/x-python",
   "name": "python",
   "nbconvert_exporter": "python",
   "pygments_lexer": "ipython3",
   "version": "3.7.3"
  }
 },
 "nbformat": 4,
 "nbformat_minor": 2
}
