{
 "cells": [
  {
   "cell_type": "markdown",
   "metadata": {},
   "source": [
    "# Find your Data Science DISCOVERY twin!\n",
    "\n",
    "Some of you may know your tablemates in this class from earlier in the semester. However, have you ever wondered if there is someone even more similar to you in the class than the people you already know? In this lab you will find your in-class doppelganger. While COVID-19 might separate us, you will learn more about your peers than ever before through the power of Data Science!\n",
    "\n",
    "In this lab, you will explore data frames more using Pandas again! As you go through the lab:\n",
    "\n",
    "- Make sure to run every cell with Python code and observe the output\n",
    "- Complete all puzzles and submit this lab before Monday, May 4th at 11:59pm for 105% credit (or Wednesday, May 6th at 11:59pm for 100% credit)\n",
    "\n",
    "Remember, there are several ways to get help:\n",
    "- Post on Piazza\n",
    "- Attend any of the Zoom-based Office Hours\n",
    "\n",
    "You need to look at the Day 1 Dataset (from the first week of class). Here's the link (make sure to login with @illinois): https://docs.google.com/spreadsheets/d/1uS6OoVsaCNEDwi-ozOXJe7Vn08M-41k7W1cdAlwLIiY/edit?usp=sharing\n",
    "\n",
    "\n",
    "Have fun!"
   ]
  },
  {
   "cell_type": "markdown",
   "metadata": {
    "deletable": false,
    "editable": false,
    "nbgrader": {
     "cell_type": "markdown",
     "checksum": "bc6685f3144f7e058c7945281620709e",
     "grade": false,
     "grade_id": "cell-c1d75e2264482750",
     "locked": true,
     "schema_version": 3,
     "solution": false,
     "task": false
    }
   },
   "source": [
    "## Part 0 | Loading the Dataset\n",
    "\n",
    "For the first part of our lab, we'll be using the \"Hello\" dataset one last time.\n",
    "\n",
    "- Import the proper libraries\n",
    "- Convert NaN values to 0 using `df.fillna(0)`\n",
    "- Output a description of the data frame"
   ]
  },
  {
   "cell_type": "code",
   "execution_count": null,
   "metadata": {
    "deletable": false,
    "nbgrader": {
     "cell_type": "code",
     "checksum": "3bc3973a7510b1cbdaed3e473d18599d",
     "grade": false,
     "grade_id": "cell-193e1aa1a2845076",
     "locked": false,
     "schema_version": 3,
     "solution": true,
     "task": false
    }
   },
   "outputs": [],
   "source": [
    "# Always first, libraries:\n",
    "import seaborn as sns\n",
    "...\n",
    "\n"
   ]
  },
  {
   "cell_type": "code",
   "execution_count": null,
   "metadata": {
    "deletable": false,
    "nbgrader": {
     "cell_type": "code",
     "checksum": "d3a7b6c7b20031dd60b258a9e293a02d",
     "grade": false,
     "grade_id": "cell-b13bbec99d775cf3",
     "locked": false,
     "schema_version": 3,
     "solution": true
    }
   },
   "outputs": [],
   "source": [
    "# Load your CSV:\n",
    "df = ...\n",
    "\n",
    "\n",
    "# Convert NaN values to 0 using `df.fillna(0)`:\n",
    "df = df.fillna(0)\n",
    "\n",
    "# Output a few rows:\n",
    "df.sample(n=3)"
   ]
  },
  {
   "cell_type": "code",
   "execution_count": null,
   "metadata": {
    "deletable": false,
    "editable": false,
    "nbgrader": {
     "cell_type": "code",
     "checksum": "84dacedcec02f27d5b6c91995a8cc127",
     "grade": true,
     "grade_id": "cell-4630e717d7a78a09",
     "locked": true,
     "points": 1,
     "schema_version": 3,
     "solution": false
    }
   },
   "outputs": [],
   "source": [
    "## == TEST CASES for Puzzle 0 ==\n",
    "# - This read-only cell contains test cases for your previous cell.\n",
    "# - If this cell runs with the success message as your output, you PASSED all test cases!\n",
    "# - If this cell results in any errors, check you previous cell, make changes, and RE-RUN your code and then this cell.\n",
    "\n",
    "assert(len(df) == 91), \"The dataframe does not appear to have correct dataset loaded\"\n",
    "assert(df.isnull().values.any() == False), \"The dataframe still seems to have NaN values, make sure to replace those with 0\"\n",
    "\n",
    "## == SUCCESS MESSAGE ==\n",
    "# You will only see this message (with the emoji showing) if you passed all test cases:\n",
    "tada = \"\\N{PARTY POPPER}\"\n",
    "print(f\"{tada} All tests passed! {tada}\")"
   ]
  },
  {
   "cell_type": "markdown",
   "metadata": {
    "deletable": false,
    "editable": false,
    "nbgrader": {
     "cell_type": "markdown",
     "checksum": "c7a894ef5feb9a3ca735e88cd610969d",
     "grade": false,
     "grade_id": "cell-3b74977570d144bb",
     "locked": true,
     "schema_version": 3,
     "solution": false,
     "task": false
    }
   },
   "source": [
    "## Part 1 | Numerical vs. Categorical Data\n",
    "\n",
    "**Numerical (or Quantitative) Data** is any type of data that can be expressed through numbers instead of descriptions. This is how mathematical operations can be applied to data.\n",
    "\n",
    "**Categorical (or Qualitative) Data** is any type of data that can be placed into categories using names or groups. Some categorical variables can take numerical values (like zip codes or your social security number).\n",
    "*A good trick to telling the difference between those is to ask yourself if it would make sense to sum two of the values. For example, the sum of two zipcodes is not meaningful.*\n",
    "\n",
    "\n",
    "### Puzzle 1.1a: Getting the Numerical Data\n",
    "\n",
    "Here we give you a function with some initial documentation to find all the columns from a dataframe that are numeric. \n",
    "\n",
    "- Use the given function to return a list of numeric columns and store that in the variable `numeric`\n",
    "- Once you've made your list named `numeric` use the code given to make a dataframe of just numeric data.\n",
    "\n",
    "**There is no need to edit the function code or the code creating `df_numeric`**"
   ]
  },
  {
   "cell_type": "code",
   "execution_count": null,
   "metadata": {
    "deletable": false,
    "nbgrader": {
     "cell_type": "code",
     "checksum": "5b8aa4a89cd2b01a27f8c408b771e9ae",
     "grade": false,
     "grade_id": "cell-cb7ad7b8f8f90b4e",
     "locked": false,
     "schema_version": 3,
     "solution": true,
     "task": false
    }
   },
   "outputs": [],
   "source": [
    "# isNumeric Function Description:\n",
    "#     input: an arbitrary DataFrame\n",
    "#     tests to see if a column is numeric\n",
    "#     return: a list of the the numeric columns\n",
    "def isNumeric(df):\n",
    "    from pandas.api.types import is_numeric_dtype\n",
    "\n",
    "    numericColumns = []\n",
    "    for column in df:\n",
    "        if is_numeric_dtype(df[column]):\n",
    "            numericColumns.append(column)\n",
    "    return numericColumns\n",
    "\n",
    "# Use the given function to return a list of numeric columns and store that in the variable `numeric`:\n",
    "numeric = ...\n",
    "numeric\n",
    "\n"
   ]
  },
  {
   "cell_type": "code",
   "execution_count": null,
   "metadata": {},
   "outputs": [],
   "source": [
    "# Create a DataFrame out of only columns contained in `numeric`\n",
    "# (This code is provided and already complete! :))\n",
    "df_numeric = df[ numeric ]\n",
    "df_numeric.sample(n=5)"
   ]
  },
  {
   "cell_type": "code",
   "execution_count": null,
   "metadata": {
    "deletable": false,
    "editable": false,
    "nbgrader": {
     "cell_type": "code",
     "checksum": "3f2d0b8f5871af145dcdfdae924eeed1",
     "grade": true,
     "grade_id": "cell-48f03cdf8ec4691b",
     "locked": true,
     "points": 0,
     "schema_version": 3,
     "solution": false,
     "task": false
    }
   },
   "outputs": [],
   "source": [
    "## == TEST CASES for Puzzle 1.1a ==\n",
    "# - This read-only cell contains test cases for your previous cell.\n",
    "# - If this cell runs with the success message as your output, you PASSED all test cases!\n",
    "# - If this cell results in any errors, check you previous cell, make changes, and RE-RUN your code and then this cell.\n",
    "\n",
    "assert(len(numeric) == 22), \"The list of numeric columns seems to have an incorrect number of elements\"\n",
    "assert(df_numeric.shape[0] == 91), \"The dataframe doesn't have the right number of rows\"\n",
    "assert(df_numeric.shape[1] == 22), \"The dataframe doesn't have the right number of columns\"\n",
    "\n",
    "## == SUCCESS MESSAGE ==\n",
    "# You will only see this message (with the emoji showing) if you passed all test cases:\n",
    "tada = \"\\N{PARTY POPPER}\"\n",
    "print(f\"{tada} All tests passed! {tada}\")"
   ]
  },
  {
   "cell_type": "markdown",
   "metadata": {
    "deletable": false,
    "editable": false,
    "nbgrader": {
     "cell_type": "markdown",
     "checksum": "61f643de30862acc92e8fc47e3d961fe",
     "grade": false,
     "grade_id": "cell-4c8781d82fdfb14c",
     "locked": true,
     "schema_version": 3,
     "solution": false,
     "task": false
    }
   },
   "source": [
    "### Puzzle 1.1b: Getting the Categorical Data\n",
    "\n",
    "This time you're going to create a function to find which columns from a dataframe are categorical. Model this function after `isNumeric` but instead of using `is_numeric_dtype()` to test if the column data is numerical, use `is_string_dtype()` to test if the column has text data.\n",
    "\n",
    "- Make a function that finds a list of categorical columns\n",
    "- Store those columns in the variable `categorical`\n",
    "- Create a dataframe of just the categorical variables called `df_categorical`"
   ]
  },
  {
   "cell_type": "code",
   "execution_count": null,
   "metadata": {
    "deletable": false,
    "nbgrader": {
     "cell_type": "code",
     "checksum": "67033ed5844209806fb072e30d1c62f1",
     "grade": false,
     "grade_id": "cell-7f8aafe93eb47802",
     "locked": false,
     "schema_version": 3,
     "solution": true,
     "task": false
    }
   },
   "outputs": [],
   "source": [
    "# isCategorical Function Description:\n",
    "#     input: an arbitrary DataFrame\n",
    "#     tests to see if a column is categorical\n",
    "#     return: a list of the the categorical columns\n",
    "\n",
    "def isCategorical(df):\n",
    "    from pandas.api.types import is_string_dtype\n",
    "    \n",
    "    # Complete this function.\n",
    "    # - Model this function after isNumeric but instead of using is_numeric_dtype()\n",
    "    #   to test if the column data is numerical, use is_string_dtype() to test if\n",
    "    #   the column has text data.\n",
    "    \n",
    "    \n",
    "    \n",
    "    return ...\n",
    "\n",
    "categorical = ...\n",
    "categorical\n",
    "\n"
   ]
  },
  {
   "cell_type": "code",
   "execution_count": null,
   "metadata": {},
   "outputs": [],
   "source": [
    "df_categorical = df[ categorical ]\n",
    "df_categorical.sample(n=5)"
   ]
  },
  {
   "cell_type": "code",
   "execution_count": null,
   "metadata": {
    "deletable": false,
    "editable": false,
    "nbgrader": {
     "cell_type": "code",
     "checksum": "84371b249c61efa5077c3b0f32703d0b",
     "grade": true,
     "grade_id": "cell-6f2c69f64d958645",
     "locked": true,
     "points": 1,
     "schema_version": 3,
     "solution": false,
     "task": false
    }
   },
   "outputs": [],
   "source": [
    "## == TEST CASES for Puzzle 1.1b ==\n",
    "# - This read-only cell contains test cases for your previous cell.\n",
    "# - If this cell runs with the success message as your output, you PASSED all test cases!\n",
    "# - If this cell results in any errors, check you previous cell, make changes, and RE-RUN your code and then this cell.\n",
    "\n",
    "assert(len(categorical) == 11), \"The list of numeric columns seems to have an incorrect number of elements\"\n",
    "assert(df_categorical.shape[0] == 91), \"The dataframe doesn't have the right number of rows\"\n",
    "assert(df_categorical.shape[1] == 11), \"The dataframe doesn't have the right number of columns\"\n",
    "\n",
    "## == SUCCESS MESSAGE ==\n",
    "# You will only see this message (with the emoji showing) if you passed all test cases:\n",
    "tada = \"\\N{PARTY POPPER}\"\n",
    "print(f\"{tada} All tests passed! {tada}\")"
   ]
  },
  {
   "cell_type": "markdown",
   "metadata": {
    "deletable": false,
    "editable": false,
    "nbgrader": {
     "cell_type": "markdown",
     "checksum": "0b1adb4793e39ad71c9803fb8a4709a6",
     "grade": false,
     "grade_id": "cell-ae8425133ce9746b",
     "locked": true,
     "schema_version": 3,
     "solution": false,
     "task": false
    }
   },
   "source": [
    "### Puzzle 1b) Visualizing Numerical Data\n",
    "\n",
    "Plot the histograms for each columns in `df_numeric`\n",
    "\n",
    "- If needed: In `df.hist`, use **`figsize=(30, 40)`** as an extra argument passed to `hist` to make your figure bigger."
   ]
  },
  {
   "cell_type": "code",
   "execution_count": null,
   "metadata": {
    "deletable": false,
    "nbgrader": {
     "cell_type": "code",
     "checksum": "6875b460ebf31cbad33a7522c50d4b4c",
     "grade": false,
     "grade_id": "cell-320d0db0b0449486",
     "locked": false,
     "schema_version": 3,
     "solution": true,
     "task": false
    }
   },
   "outputs": [],
   "source": [
    "#plot the histogram for each column in df_numeric\n",
    "\n"
   ]
  },
  {
   "cell_type": "markdown",
   "metadata": {
    "deletable": false,
    "editable": false,
    "nbgrader": {
     "cell_type": "markdown",
     "checksum": "56c00b93039e7066762a54b7a038992a",
     "grade": false,
     "grade_id": "cell-1319545c389bbb5f",
     "locked": true,
     "schema_version": 3,
     "solution": false,
     "task": false
    }
   },
   "source": [
    "## Part 1c) Visualizing Categorical Data\n",
    "\n",
    "To visualize the categorical data we will be using a bar plot.  However, we first need to convert our DataFrame with the categorical data into counts for each value.  To do this, we can use [`Series.value_counts()`](https://pandas.pydata.org/pandas-docs/stable/reference/api/pandas.Series.value_counts.html) on a column of data.\n",
    "\n",
    "Let's see how this works.  Select just the `[\"School Year\"]` from `df_categorical` and apply `.value_counts()`.  Then, in the next cell, use that data to make a bar plot using `.plot.bar()`:"
   ]
  },
  {
   "cell_type": "code",
   "execution_count": null,
   "metadata": {
    "deletable": false,
    "nbgrader": {
     "cell_type": "code",
     "checksum": "694e4db98dfc17a8488bef5dd9ab1fb1",
     "grade": false,
     "grade_id": "cell-6a70b687d4464dd2",
     "locked": false,
     "schema_version": 3,
     "solution": true,
     "task": false
    }
   },
   "outputs": [],
   "source": [
    "# Use `.value_counts()` to find the values counts of data about [\"School Year\"]\n",
    "value_counts = ...\n",
    "value_counts\n",
    "\n"
   ]
  },
  {
   "cell_type": "code",
   "execution_count": null,
   "metadata": {
    "deletable": false,
    "nbgrader": {
     "cell_type": "code",
     "checksum": "e50da17d01a34912f6b1047becd415a7",
     "grade": false,
     "grade_id": "cell-9a11d63567013a46",
     "locked": false,
     "schema_version": 3,
     "solution": true,
     "task": false
    }
   },
   "outputs": [],
   "source": [
    "# Now, use `value_counts` to plot a bar chart:\n",
    "\n",
    "\n"
   ]
  },
  {
   "cell_type": "markdown",
   "metadata": {},
   "source": [
    "### Repeat for all categorical data: \n",
    "\n",
    "Finally, repeat this process for all of the columns in `df_categorical`:\n",
    "- \"School Year\"\n",
    "- \"Phone\"\n",
    "- \"Computer\"\n",
    "- \"Hot Dog is Sandwitch\"\n",
    "- \"Programmed before?\"\n",
    "- \"Personality\"\n",
    "- \"Pineapple on Pizza\""
   ]
  },
  {
   "cell_type": "code",
   "execution_count": null,
   "metadata": {},
   "outputs": [],
   "source": [
    "for column in [\"Phone\", \"Computer\", \"Hot Dog is Sandwitch\", \"Programmed before?\", \"Personality\", \"Pineapple on Pizza\"]:\n",
    "    import matplotlib. pyplot as plt\n",
    "    df_categorical[column].value_counts().plot.bar(title=column)\n",
    "    plt.show()"
   ]
  },
  {
   "cell_type": "markdown",
   "metadata": {
    "deletable": false,
    "editable": false,
    "nbgrader": {
     "cell_type": "markdown",
     "checksum": "b87e64e02447dfa1475cbf50c2c67d39",
     "grade": false,
     "grade_id": "cell-502c0d7f6ea29b5d",
     "locked": true,
     "schema_version": 3,
     "solution": false,
     "task": false
    }
   },
   "source": [
    "## Part 3 | Now, Time to Find Yourself\n",
    "\n",
    "You cannot find people you are compatible with before finding yourself... literally! \n",
    "\n",
    "### Puzzle 3.1: Find Yourself\n",
    "\n",
    "In the following cell, write the Python code to create a DataFrame with only yourself:"
   ]
  },
  {
   "cell_type": "code",
   "execution_count": null,
   "metadata": {
    "deletable": false,
    "nbgrader": {
     "cell_type": "code",
     "checksum": "b8e30269a14753cf7b5bfe835377fbac",
     "grade": false,
     "grade_id": "cell-04bc136da68bc695",
     "locked": false,
     "schema_version": 3,
     "solution": true
    }
   },
   "outputs": [],
   "source": [
    "myrow = ...\n",
    "myrow\n",
    "\n"
   ]
  },
  {
   "cell_type": "code",
   "execution_count": null,
   "metadata": {
    "deletable": false,
    "editable": false,
    "nbgrader": {
     "cell_type": "code",
     "checksum": "6d751a60c3aa93d7667a6627b062c3a0",
     "grade": true,
     "grade_id": "cell-7b019251e3c71d1f",
     "locked": true,
     "points": 1,
     "schema_version": 3,
     "solution": false
    }
   },
   "outputs": [],
   "source": [
    "## == TEST CASES for Puzzle 3.1 ==\n",
    "# - This read-only cell contains test cases for your previous cell.\n",
    "# - If this cell runs with the success message as your output, you PASSED all test cases!\n",
    "# - If this cell results in any errors, check you previous cell, make changes, and RE-RUN your code and then this cell.\n",
    "\n",
    "assert(len(myrow) == 1), \"The row of yourself is not correctly set\"\n",
    "\n",
    "## == SUCCESS MESSAGE ==\n",
    "# You will only see this message (with the emoji showing) if you passed all test cases:\n",
    "tada = \"\\N{PARTY POPPER}\"\n",
    "print(f\"{tada} All tests passed! {tada}\")"
   ]
  },
  {
   "cell_type": "markdown",
   "metadata": {
    "deletable": false,
    "editable": false,
    "nbgrader": {
     "cell_type": "markdown",
     "checksum": "e3a9d650fd368f494dad3bfaa9446706",
     "grade": false,
     "grade_id": "cell-fe30a545161f7fbf",
     "locked": true,
     "schema_version": 3,
     "solution": false,
     "task": false
    }
   },
   "source": [
    "### DataFrame with one row vs. a Series\n",
    "\n",
    "In `pandas`, there are three major data structures we will be using:\n",
    "\n",
    "- A **DataFrame** is similar to an Excel sheet.  It contains zero or more rows and zero or more columns.  It can contain up to an unlimited number of rows and columns and is the basic data structure we will work with in Data Science Discovery\n",
    "\n",
    "- A **GroupBy** is a grouping of rows within a DataFrame.  This \"three dimensional data\" requires us to use `agg` to reduce it back down to a **DataFrame**.\n",
    "\n",
    "- A **Series** is a single row with zero or more values (columns).  You can think of a DataFrame as a collection of **Series** objects.  When we deal with a single row, we will usually want to deal with a **Series** instead of a **one row DataFrame**.\n",
    "\n",
    "#### Converting between types\n",
    "\n",
    "The `pandas` library makes it easy to convert between a **Series**, **DataFrame**, and **GroupBy**.\n",
    "\n",
    "![image.png](img/datatypes.png)\n",
    "\n",
    "Expressed as a list:\n",
    "\n",
    "- From a **Series** (`row`) to a **DataFrame**\n",
    "  * `row.to_frame()`\n",
    "- From a **DataFrame** (`df`) to a **GroupBy**:\n",
    "  * `df.groupby(by='columnName')` *-- (You know this already!)*\n",
    "\n",
    "- From a **GroupBy** (`group`) to a **DataFrame**:\n",
    "  * `df.agg( function )` *-- (You know this already!)*\n",
    "- From a **DataFrame** (`df`) to a **Series**:\n",
    "  * `df.squeeze()`, if the DataFrame has one row\n",
    "\n",
    "\n",
    "  \n",
    "\n",
    "### Puzzle 3.2: Transform your row into a Series\n",
    " \n",
    "Using the correct function from above, transform the row containing only you from a one-row DataFrame into a Series.  Make sure the Series is named `myrow` (this will match up with code we provide you with later):"
   ]
  },
  {
   "cell_type": "code",
   "execution_count": null,
   "metadata": {
    "deletable": false,
    "nbgrader": {
     "cell_type": "code",
     "checksum": "c639689741ed1440528c56fff066dfa2",
     "grade": false,
     "grade_id": "cell-8c946526ed7a65cd",
     "locked": false,
     "schema_version": 3,
     "solution": true
    }
   },
   "outputs": [],
   "source": [
    "# Your code here:\n",
    "...\n",
    "\n"
   ]
  },
  {
   "cell_type": "code",
   "execution_count": null,
   "metadata": {
    "deletable": false,
    "editable": false,
    "nbgrader": {
     "cell_type": "code",
     "checksum": "c31ab46141997f9575e5f0c0b5e12725",
     "grade": true,
     "grade_id": "cell-13e6051988c8bf2d",
     "locked": true,
     "points": 1,
     "schema_version": 3,
     "solution": false
    }
   },
   "outputs": [],
   "source": [
    "## == TEST CASES for Puzzle 3.2 ==\n",
    "# - This read-only cell contains test cases for your previous cell.\n",
    "# - If this cell runs with the success message as your output, you PASSED all test cases!\n",
    "# - If this cell results in any errors, check you previous cell, make changes, and RE-RUN your code and then this cell.\n",
    "\n",
    "assert(type(myrow) == pd.core.series.Series), \"You did not successfully transform myrow's type into series\"\n",
    "\n",
    "## == SUCCESS MESSAGE ==\n",
    "# You will only see this message (with the emoji showing) if you passed all test cases:\n",
    "tada = \"\\N{PARTY POPPER}\"\n",
    "print(f\"{tada} All tests passed! {tada}\")"
   ]
  },
  {
   "cell_type": "markdown",
   "metadata": {
    "deletable": false,
    "editable": false,
    "nbgrader": {
     "cell_type": "markdown",
     "checksum": "4db945cf606b763ce6ca88b92b45b415",
     "grade": false,
     "grade_id": "cell-553f54db699dd66f",
     "locked": true,
     "schema_version": 3,
     "solution": false,
     "task": false
    }
   },
   "source": [
    "## Part 4 | Create a similarity function\n",
    "\n",
    "The first step to finding who is the most similar to you is to create a **function** that will generate a similarity value for each person (or row). Think about the **algorithm** you would do this without code:\n",
    "\n",
    "1. Go through each person.\n",
    "2. Check how many questions that row has answered the same thing as you did.\n",
    "3. Record the number of matches in that row as a \"similarity score\".\n",
    "\n",
    "### Creating a Python function\n",
    "\n",
    "Unlike `sum`, `count`, or other functions, Python does not provide us a **function** that finds the similarity between two rows.  Instead, we need to write it ourselves. 😞\n",
    "\n",
    "Using what you learned in lecture, let's write this function!\n",
    "\n",
    "**Helpful Tips:**\n",
    "- Remember that you can loop through the columns of a dataframe\n",
    "- Treat numeric data and categorical data differently\n",
    "- Have a plan to test for if a column is all 0's\n",
    "\n",
    "For a measure of ***closeness*** between values for the numerical data we'll use the following formula:\n",
    "\n",
    "$1 -$ ( $|actual - desired|$ / $(maxColumnValue - minColumnValue)$ )\n"
   ]
  },
  {
   "cell_type": "code",
   "execution_count": null,
   "metadata": {
    "deletable": false,
    "nbgrader": {
     "cell_type": "code",
     "checksum": "cade4e3921b2b23aee4e6a720dd1448e",
     "grade": false,
     "grade_id": "cell-51500f7d58876da9",
     "locked": false,
     "schema_version": 3,
     "solution": true
    }
   },
   "outputs": [],
   "source": [
    "def similarity(row):\n",
    "    score = 0\n",
    "    \n",
    "    for column in df:\n",
    "        ...\n",
    "    return score\n",
    "\n",
    "# First test this function by checking how similar you are with yourself.\n",
    "# The expected result will be a number equal to the number of columns you checked:\n",
    "\n"
   ]
  },
  {
   "cell_type": "markdown",
   "metadata": {
    "deletable": false,
    "editable": false,
    "nbgrader": {
     "cell_type": "markdown",
     "checksum": "e70847bfef762490c2445d17953b29ba",
     "grade": false,
     "grade_id": "cell-1031a2762eed61e3",
     "locked": true,
     "schema_version": 3,
     "solution": false,
     "task": false
    }
   },
   "source": [
    "## Part 5 | Run the similarity function on all rows\n",
    "\n",
    "Now, finally, DATA SCIENCE!\n",
    "\n",
    "Add a column to your original DataFrame that contains the value of `df.apply(similarity)` using the proper axis which will run your `similarity` function you defined earlier across all rows:"
   ]
  },
  {
   "cell_type": "code",
   "execution_count": null,
   "metadata": {
    "deletable": false,
    "nbgrader": {
     "cell_type": "code",
     "checksum": "dee99b9aedb4092cf8547dea5e7b8812",
     "grade": false,
     "grade_id": "cell-8ddb7d2fa7a20c87",
     "locked": false,
     "schema_version": 3,
     "solution": true
    }
   },
   "outputs": [],
   "source": [
    "#your code to add a column to dataframe called \"similarity\"\n",
    "\n"
   ]
  },
  {
   "cell_type": "code",
   "execution_count": null,
   "metadata": {
    "deletable": false,
    "editable": false,
    "nbgrader": {
     "cell_type": "code",
     "checksum": "ea87d1817474edbad768ebf3bf981da3",
     "grade": true,
     "grade_id": "cell-ec38b4dade899048",
     "locked": true,
     "points": 1,
     "schema_version": 3,
     "solution": false
    }
   },
   "outputs": [],
   "source": [
    "## == TEST CASES for Puzzle 5 ==\n",
    "# - This read-only cell contains test cases for your previous cell.\n",
    "# - If this cell runs with the success message as your output, you PASSED all test cases!\n",
    "# - If this cell results in any errors, check you previous cell, make changes, and RE-RUN your code and then this cell.\n",
    "\n",
    "assert(df.shape[1] >= 34), \"You need to apply your similarity function to your dataframe\"\n",
    "\n",
    "## == SUCCESS MESSAGE ==\n",
    "# You will only see this message (with the emoji showing) if you passed all test cases:\n",
    "tada = \"\\N{PARTY POPPER}\"\n",
    "print(f\"{tada} All tests passed! {tada}\")"
   ]
  },
  {
   "cell_type": "markdown",
   "metadata": {
    "deletable": false,
    "editable": false,
    "nbgrader": {
     "cell_type": "markdown",
     "checksum": "66f5c3f20a816958f8b7d1338fc33d35",
     "grade": false,
     "grade_id": "cell-b60caa666e942962",
     "locked": true,
     "schema_version": 3,
     "solution": false,
     "task": false
    }
   },
   "source": [
    "## Part 6 | Find your twin!\n",
    "\n",
    "Your last column in your DataFrame is a **metric** (a measurement) of how similar you are to everyone else in the class!\n",
    "\n",
    "Use your **cheat sheet** (link: https://pandas.pydata.org/Pandas_Cheat_Sheet.pdf) to find how to sort a DataFrame where the most similar person is on top.  Store that sorted DataFrame in `df_twins`.\n",
    "\n",
    "- You should be most similar to yourself (you will always match yourself)!  *If this is not the case, you did something wrong and should double-check all of your steps up to this point.*"
   ]
  },
  {
   "cell_type": "code",
   "execution_count": null,
   "metadata": {
    "deletable": false,
    "nbgrader": {
     "cell_type": "code",
     "checksum": "a5d67e15f0cd993fb2afcba348981b13",
     "grade": false,
     "grade_id": "cell-2f540c719178869e",
     "locked": false,
     "schema_version": 3,
     "solution": true
    }
   },
   "outputs": [],
   "source": [
    "df_twins = ...\n",
    "df_twins\n",
    "\n"
   ]
  },
  {
   "cell_type": "code",
   "execution_count": null,
   "metadata": {
    "deletable": false,
    "editable": false,
    "nbgrader": {
     "cell_type": "code",
     "checksum": "5a89cbea65a04c429da9a5ddabe53bcd",
     "grade": true,
     "grade_id": "cell-d17c8bf547ab9ea7",
     "locked": true,
     "points": 3,
     "schema_version": 3,
     "solution": false
    }
   },
   "outputs": [],
   "source": [
    "## == TEST CASES for Puzzle 6 ==\n",
    "# - This read-only cell contains test cases for your previous cell.\n",
    "# - If this cell runs with the success message as your output, you PASSED all test cases!\n",
    "# - If this cell results in any errors, check you previous cell, make changes, and RE-RUN your code and then this cell.\n",
    "\n",
    "assert( df_twins.head(1).squeeze()[\"Name\"] == myrow[\"Name\"] ), \"You must be most similar to yourself.\"\n",
    "\n",
    "## == SUCCESS MESSAGE ==\n",
    "# You will only see this message (with the emoji showing) if you passed all test cases:\n",
    "tada = \"\\N{PARTY POPPER}\"\n",
    "print(f\"{tada} All tests passed! {tada}\")"
   ]
  },
  {
   "cell_type": "markdown",
   "metadata": {
    "deletable": false,
    "editable": false,
    "nbgrader": {
     "cell_type": "markdown",
     "checksum": "36825902206e819cad8e0eb953444615",
     "grade": false,
     "grade_id": "cell-dc56fb367aec1907",
     "locked": true,
     "schema_version": 3,
     "solution": false,
     "task": false
    }
   },
   "source": [
    "# Finale!\n",
    "## Submit Your Work!\n",
    "\n",
    "You're almost done -- congratulations!\n",
    "\n",
    "You need to do two more things:\n",
    "\n",
    "1. Save your work.  To do this, create a **notebook checkpoint** by using the menu within the notebook to go **File -> Save and Checkpoint**\n",
    "\n",
    "2. Choose `File` and then `Close and Halt` from this notebook.\n",
    "\n",
    "3. Choose `Quit` on the main notebook webpage.\n",
    "\n",
    "4. Return to your command line and follow the directions on the Data Science Discovery page on how to use git to turn this notebook into the course!"
   ]
  }
 ],
 "metadata": {
  "kernelspec": {
   "display_name": "Python 3",
   "language": "python",
   "name": "python3"
  },
  "language_info": {
   "codemirror_mode": {
    "name": "ipython",
    "version": 3
   },
   "file_extension": ".py",
   "mimetype": "text/x-python",
   "name": "python",
   "nbconvert_exporter": "python",
   "pygments_lexer": "ipython3",
   "version": "3.7.6"
  }
 },
 "nbformat": 4,
 "nbformat_minor": 2
}
