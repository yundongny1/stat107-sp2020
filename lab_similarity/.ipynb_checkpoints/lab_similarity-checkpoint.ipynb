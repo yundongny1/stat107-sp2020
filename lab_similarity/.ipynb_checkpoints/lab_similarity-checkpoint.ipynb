{
 "cells": [
  {
   "cell_type": "markdown",
   "metadata": {},
   "source": [
    "# Find your Data Science DISCOVERY twin!\n",
    "\n",
    "Some of you may know your tablemates in this class from earlier in the semester. However, have you ever wondered if there is someone even more similar to you in the class than the people you already know? In this lab you will find your in-class doppelganger. While COVID-19 might separate us, you will learn more about your peers than ever before through the power of Data Science!\n",
    "\n",
    "In this lab, you will explore data frames more using Pandas again! As you go through the lab:\n",
    "\n",
    "- Make sure to run every cell with Python code and observe the output\n",
    "- Complete all puzzles and submit this lab before Monday, May 4th at 11:59pm for 105% credit (or Wednesday, May 6th at 11:59pm for 100% credit)\n",
    "\n",
    "Remember, there are several ways to get help:\n",
    "- Post on Piazza\n",
    "- Attend any of the Zoom-based Office Hours\n",
    "\n",
    "You need to look at the Day 1 Dataset (from the first week of class). Here's the link (make sure to login with @illinois): https://docs.google.com/spreadsheets/d/1uS6OoVsaCNEDwi-ozOXJe7Vn08M-41k7W1cdAlwLIiY/edit?usp=sharing\n",
    "\n",
    "\n",
    "Have fun!"
   ]
  },
  {
   "cell_type": "markdown",
   "metadata": {
    "deletable": false,
    "editable": false,
    "nbgrader": {
     "cell_type": "markdown",
     "checksum": "bc6685f3144f7e058c7945281620709e",
     "grade": false,
     "grade_id": "cell-c1d75e2264482750",
     "locked": true,
     "schema_version": 3,
     "solution": false,
     "task": false
    }
   },
   "source": [
    "## Part 0 | Loading the Dataset\n",
    "\n",
    "For the first part of our lab, we'll be using the \"Hello\" dataset one last time.\n",
    "\n",
    "- Import the proper libraries\n",
    "- Convert NaN values to 0 using `df.fillna(0)`\n",
    "- Output a description of the data frame"
   ]
  },
  {
   "cell_type": "code",
   "execution_count": 4,
   "metadata": {
    "deletable": false,
    "nbgrader": {
     "cell_type": "code",
     "checksum": "3bc3973a7510b1cbdaed3e473d18599d",
     "grade": false,
     "grade_id": "cell-193e1aa1a2845076",
     "locked": false,
     "schema_version": 3,
     "solution": true,
     "task": false
    }
   },
   "outputs": [],
   "source": [
    "# Always first, libraries:\n",
    "import seaborn as sns\n",
    "import pandas as pd\n",
    "\n",
    "\n"
   ]
  },
  {
   "cell_type": "code",
   "execution_count": 5,
   "metadata": {
    "deletable": false,
    "nbgrader": {
     "cell_type": "code",
     "checksum": "d3a7b6c7b20031dd60b258a9e293a02d",
     "grade": false,
     "grade_id": "cell-b13bbec99d775cf3",
     "locked": false,
     "schema_version": 3,
     "solution": true
    }
   },
   "outputs": [
    {
     "data": {
      "text/html": [
       "<div>\n",
       "<style scoped>\n",
       "    .dataframe tbody tr th:only-of-type {\n",
       "        vertical-align: middle;\n",
       "    }\n",
       "\n",
       "    .dataframe tbody tr th {\n",
       "        vertical-align: top;\n",
       "    }\n",
       "\n",
       "    .dataframe thead th {\n",
       "        text-align: right;\n",
       "    }\n",
       "</style>\n",
       "<table border=\"1\" class=\"dataframe\">\n",
       "  <thead>\n",
       "    <tr style=\"text-align: right;\">\n",
       "      <th></th>\n",
       "      <th>Name</th>\n",
       "      <th>Major</th>\n",
       "      <th>School Year</th>\n",
       "      <th>Phone</th>\n",
       "      <th>Computer</th>\n",
       "      <th>Holes in a Straw</th>\n",
       "      <th>Has Dogs</th>\n",
       "      <th>Has Cats</th>\n",
       "      <th>Has Fish</th>\n",
       "      <th>Has Chickens</th>\n",
       "      <th>...</th>\n",
       "      <th>Programmed before?</th>\n",
       "      <th>Python Background</th>\n",
       "      <th>Statistics Courses</th>\n",
       "      <th>Hours Studying</th>\n",
       "      <th>Siblings</th>\n",
       "      <th>Hours of Sleep</th>\n",
       "      <th>Shoes Owned</th>\n",
       "      <th>People Texted Yesterday</th>\n",
       "      <th>Personality</th>\n",
       "      <th>Pineapple on Pizza</th>\n",
       "    </tr>\n",
       "  </thead>\n",
       "  <tbody>\n",
       "    <tr>\n",
       "      <th>77</th>\n",
       "      <td>Takaki</td>\n",
       "      <td>CS</td>\n",
       "      <td>Junior</td>\n",
       "      <td>Android</td>\n",
       "      <td>Windows-based computer</td>\n",
       "      <td>1.0</td>\n",
       "      <td>0</td>\n",
       "      <td>0</td>\n",
       "      <td>0</td>\n",
       "      <td>0</td>\n",
       "      <td>...</td>\n",
       "      <td>No</td>\n",
       "      <td>0</td>\n",
       "      <td>2</td>\n",
       "      <td>4.0</td>\n",
       "      <td>1</td>\n",
       "      <td>7.0</td>\n",
       "      <td>2</td>\n",
       "      <td>5</td>\n",
       "      <td>Introvert</td>\n",
       "      <td>No</td>\n",
       "    </tr>\n",
       "    <tr>\n",
       "      <th>17</th>\n",
       "      <td>Mariama</td>\n",
       "      <td>Political Science</td>\n",
       "      <td>Freshman</td>\n",
       "      <td>iPhone</td>\n",
       "      <td>Mac OS X-based computer</td>\n",
       "      <td>1.0</td>\n",
       "      <td>0</td>\n",
       "      <td>0</td>\n",
       "      <td>0</td>\n",
       "      <td>0</td>\n",
       "      <td>...</td>\n",
       "      <td>No</td>\n",
       "      <td>No programming background -- is Python Taylor ...</td>\n",
       "      <td>1</td>\n",
       "      <td>2.5</td>\n",
       "      <td>3</td>\n",
       "      <td>7.5</td>\n",
       "      <td>12</td>\n",
       "      <td>50</td>\n",
       "      <td>Extrovert</td>\n",
       "      <td>No</td>\n",
       "    </tr>\n",
       "    <tr>\n",
       "      <th>13</th>\n",
       "      <td>Daniel</td>\n",
       "      <td>Statistics</td>\n",
       "      <td>Freshman</td>\n",
       "      <td>iPhone</td>\n",
       "      <td>Windows-based computer</td>\n",
       "      <td>2.0</td>\n",
       "      <td>0</td>\n",
       "      <td>1</td>\n",
       "      <td>0</td>\n",
       "      <td>0</td>\n",
       "      <td>...</td>\n",
       "      <td>No</td>\n",
       "      <td>No programming background -- is Python Taylor ...</td>\n",
       "      <td>0</td>\n",
       "      <td>1.0</td>\n",
       "      <td>1</td>\n",
       "      <td>9.0</td>\n",
       "      <td>3</td>\n",
       "      <td>5</td>\n",
       "      <td>Extrovert</td>\n",
       "      <td>No</td>\n",
       "    </tr>\n",
       "  </tbody>\n",
       "</table>\n",
       "<p>3 rows × 33 columns</p>\n",
       "</div>"
      ],
      "text/plain": [
       "       Name              Major School Year    Phone                 Computer  \\\n",
       "77   Takaki                 CS      Junior  Android   Windows-based computer   \n",
       "17  Mariama  Political Science    Freshman   iPhone  Mac OS X-based computer   \n",
       "13   Daniel         Statistics    Freshman   iPhone   Windows-based computer   \n",
       "\n",
       "    Holes in a Straw  Has Dogs  Has Cats  Has Fish  Has Chickens  ...  \\\n",
       "77               1.0         0         0         0             0  ...   \n",
       "17               1.0         0         0         0             0  ...   \n",
       "13               2.0         0         1         0             0  ...   \n",
       "\n",
       "    Programmed before?                                  Python Background  \\\n",
       "77                  No                                                  0   \n",
       "17                  No  No programming background -- is Python Taylor ...   \n",
       "13                  No  No programming background -- is Python Taylor ...   \n",
       "\n",
       "    Statistics Courses  Hours Studying Siblings Hours of Sleep  Shoes Owned  \\\n",
       "77                   2             4.0        1            7.0            2   \n",
       "17                   1             2.5        3            7.5           12   \n",
       "13                   0             1.0        1            9.0            3   \n",
       "\n",
       "    People Texted Yesterday  Personality  Pineapple on Pizza  \n",
       "77                        5    Introvert                  No  \n",
       "17                       50    Extrovert                  No  \n",
       "13                        5    Extrovert                  No  \n",
       "\n",
       "[3 rows x 33 columns]"
      ]
     },
     "execution_count": 5,
     "metadata": {},
     "output_type": "execute_result"
    }
   ],
   "source": [
    "# Load your CSV:\n",
    "df = df = pd.read_csv(\"hello.csv\")\n",
    "\n",
    "\n",
    "# Convert NaN values to 0 using `df.fillna(0)`:\n",
    "df = df.fillna(0)\n",
    "\n",
    "# Output a few rows:\n",
    "df.sample(n=3)"
   ]
  },
  {
   "cell_type": "code",
   "execution_count": 6,
   "metadata": {
    "deletable": false,
    "editable": false,
    "nbgrader": {
     "cell_type": "code",
     "checksum": "84dacedcec02f27d5b6c91995a8cc127",
     "grade": true,
     "grade_id": "cell-4630e717d7a78a09",
     "locked": true,
     "points": 1,
     "schema_version": 3,
     "solution": false
    }
   },
   "outputs": [
    {
     "name": "stdout",
     "output_type": "stream",
     "text": [
      "🎉 All tests passed! 🎉\n"
     ]
    }
   ],
   "source": [
    "## == TEST CASES for Puzzle 0 ==\n",
    "# - This read-only cell contains test cases for your previous cell.\n",
    "# - If this cell runs with the success message as your output, you PASSED all test cases!\n",
    "# - If this cell results in any errors, check you previous cell, make changes, and RE-RUN your code and then this cell.\n",
    "\n",
    "assert(len(df) == 91), \"The dataframe does not appear to have correct dataset loaded\"\n",
    "assert(df.isnull().values.any() == False), \"The dataframe still seems to have NaN values, make sure to replace those with 0\"\n",
    "\n",
    "## == SUCCESS MESSAGE ==\n",
    "# You will only see this message (with the emoji showing) if you passed all test cases:\n",
    "tada = \"\\N{PARTY POPPER}\"\n",
    "print(f\"{tada} All tests passed! {tada}\")"
   ]
  },
  {
   "cell_type": "markdown",
   "metadata": {
    "deletable": false,
    "editable": false,
    "nbgrader": {
     "cell_type": "markdown",
     "checksum": "c7a894ef5feb9a3ca735e88cd610969d",
     "grade": false,
     "grade_id": "cell-3b74977570d144bb",
     "locked": true,
     "schema_version": 3,
     "solution": false,
     "task": false
    }
   },
   "source": [
    "## Part 1 | Numerical vs. Categorical Data\n",
    "\n",
    "**Numerical (or Quantitative) Data** is any type of data that can be expressed through numbers instead of descriptions. This is how mathematical operations can be applied to data.\n",
    "\n",
    "**Categorical (or Qualitative) Data** is any type of data that can be placed into categories using names or groups. Some categorical variables can take numerical values (like zip codes or your social security number).\n",
    "*A good trick to telling the difference between those is to ask yourself if it would make sense to sum two of the values. For example, the sum of two zipcodes is not meaningful.*\n",
    "\n",
    "\n",
    "### Puzzle 1.1a: Getting the Numerical Data\n",
    "\n",
    "Here we give you a function with some initial documentation to find all the columns from a dataframe that are numeric. \n",
    "\n",
    "- Use the given function to return a list of numeric columns and store that in the variable `numeric`\n",
    "- Once you've made your list named `numeric` use the code given to make a dataframe of just numeric data.\n",
    "\n",
    "**There is no need to edit the function code or the code creating `df_numeric`**"
   ]
  },
  {
   "cell_type": "code",
   "execution_count": 7,
   "metadata": {
    "deletable": false,
    "nbgrader": {
     "cell_type": "code",
     "checksum": "5b8aa4a89cd2b01a27f8c408b771e9ae",
     "grade": false,
     "grade_id": "cell-cb7ad7b8f8f90b4e",
     "locked": false,
     "schema_version": 3,
     "solution": true,
     "task": false
    }
   },
   "outputs": [
    {
     "data": {
      "text/plain": [
       "['Holes in a Straw',\n",
       " 'Has Dogs',\n",
       " 'Has Cats',\n",
       " 'Has Fish',\n",
       " 'Has Chickens',\n",
       " 'Has Horse',\n",
       " 'Has Rabiit',\n",
       " 'Has Other Pets',\n",
       " 'Shoe Size',\n",
       " 'Has Netflix',\n",
       " 'Has Hulu',\n",
       " 'Has HBO Now',\n",
       " 'Has Amazon Prime',\n",
       " 'Has Starz',\n",
       " 'Has YouTube',\n",
       " 'Has Twitch',\n",
       " 'Statistics Courses',\n",
       " 'Hours Studying',\n",
       " 'Siblings',\n",
       " 'Hours of Sleep',\n",
       " 'Shoes Owned',\n",
       " 'People Texted Yesterday']"
      ]
     },
     "execution_count": 7,
     "metadata": {},
     "output_type": "execute_result"
    }
   ],
   "source": [
    "# isNumeric Function Description:\n",
    "#     input: an arbitrary DataFrame\n",
    "#     tests to see if a column is numeric\n",
    "#     return: a list of the the numeric columns\n",
    "def isNumeric(df):\n",
    "    from pandas.api.types import is_numeric_dtype\n",
    "\n",
    "    numericColumns = []\n",
    "    for column in df:\n",
    "        if is_numeric_dtype(df[column]):\n",
    "            numericColumns.append(column)\n",
    "    return numericColumns\n",
    "\n",
    "# Use the given function to return a list of numeric columns and store that in the variable `numeric`:\n",
    "numeric = isNumeric(df)\n",
    "numeric\n",
    "\n"
   ]
  },
  {
   "cell_type": "code",
   "execution_count": 8,
   "metadata": {},
   "outputs": [
    {
     "data": {
      "text/html": [
       "<div>\n",
       "<style scoped>\n",
       "    .dataframe tbody tr th:only-of-type {\n",
       "        vertical-align: middle;\n",
       "    }\n",
       "\n",
       "    .dataframe tbody tr th {\n",
       "        vertical-align: top;\n",
       "    }\n",
       "\n",
       "    .dataframe thead th {\n",
       "        text-align: right;\n",
       "    }\n",
       "</style>\n",
       "<table border=\"1\" class=\"dataframe\">\n",
       "  <thead>\n",
       "    <tr style=\"text-align: right;\">\n",
       "      <th></th>\n",
       "      <th>Holes in a Straw</th>\n",
       "      <th>Has Dogs</th>\n",
       "      <th>Has Cats</th>\n",
       "      <th>Has Fish</th>\n",
       "      <th>Has Chickens</th>\n",
       "      <th>Has Horse</th>\n",
       "      <th>Has Rabiit</th>\n",
       "      <th>Has Other Pets</th>\n",
       "      <th>Shoe Size</th>\n",
       "      <th>Has Netflix</th>\n",
       "      <th>...</th>\n",
       "      <th>Has Amazon Prime</th>\n",
       "      <th>Has Starz</th>\n",
       "      <th>Has YouTube</th>\n",
       "      <th>Has Twitch</th>\n",
       "      <th>Statistics Courses</th>\n",
       "      <th>Hours Studying</th>\n",
       "      <th>Siblings</th>\n",
       "      <th>Hours of Sleep</th>\n",
       "      <th>Shoes Owned</th>\n",
       "      <th>People Texted Yesterday</th>\n",
       "    </tr>\n",
       "  </thead>\n",
       "  <tbody>\n",
       "    <tr>\n",
       "      <th>5</th>\n",
       "      <td>2.0</td>\n",
       "      <td>0</td>\n",
       "      <td>0</td>\n",
       "      <td>1</td>\n",
       "      <td>0</td>\n",
       "      <td>0</td>\n",
       "      <td>0</td>\n",
       "      <td>0</td>\n",
       "      <td>8.0</td>\n",
       "      <td>0</td>\n",
       "      <td>...</td>\n",
       "      <td>0</td>\n",
       "      <td>0</td>\n",
       "      <td>1</td>\n",
       "      <td>0</td>\n",
       "      <td>1</td>\n",
       "      <td>5.0</td>\n",
       "      <td>1</td>\n",
       "      <td>7.0</td>\n",
       "      <td>3</td>\n",
       "      <td>21</td>\n",
       "    </tr>\n",
       "    <tr>\n",
       "      <th>61</th>\n",
       "      <td>2.0</td>\n",
       "      <td>1</td>\n",
       "      <td>0</td>\n",
       "      <td>0</td>\n",
       "      <td>0</td>\n",
       "      <td>0</td>\n",
       "      <td>0</td>\n",
       "      <td>0</td>\n",
       "      <td>10.0</td>\n",
       "      <td>1</td>\n",
       "      <td>...</td>\n",
       "      <td>0</td>\n",
       "      <td>0</td>\n",
       "      <td>1</td>\n",
       "      <td>0</td>\n",
       "      <td>6</td>\n",
       "      <td>12.0</td>\n",
       "      <td>2</td>\n",
       "      <td>8.0</td>\n",
       "      <td>6</td>\n",
       "      <td>25</td>\n",
       "    </tr>\n",
       "    <tr>\n",
       "      <th>54</th>\n",
       "      <td>1.0</td>\n",
       "      <td>0</td>\n",
       "      <td>0</td>\n",
       "      <td>0</td>\n",
       "      <td>0</td>\n",
       "      <td>0</td>\n",
       "      <td>0</td>\n",
       "      <td>0</td>\n",
       "      <td>11.0</td>\n",
       "      <td>1</td>\n",
       "      <td>...</td>\n",
       "      <td>1</td>\n",
       "      <td>0</td>\n",
       "      <td>1</td>\n",
       "      <td>1</td>\n",
       "      <td>5</td>\n",
       "      <td>2.0</td>\n",
       "      <td>2</td>\n",
       "      <td>8.0</td>\n",
       "      <td>5</td>\n",
       "      <td>8</td>\n",
       "    </tr>\n",
       "    <tr>\n",
       "      <th>42</th>\n",
       "      <td>1.0</td>\n",
       "      <td>0</td>\n",
       "      <td>0</td>\n",
       "      <td>0</td>\n",
       "      <td>0</td>\n",
       "      <td>0</td>\n",
       "      <td>0</td>\n",
       "      <td>1</td>\n",
       "      <td>8.0</td>\n",
       "      <td>0</td>\n",
       "      <td>...</td>\n",
       "      <td>0</td>\n",
       "      <td>0</td>\n",
       "      <td>1</td>\n",
       "      <td>0</td>\n",
       "      <td>1</td>\n",
       "      <td>2.0</td>\n",
       "      <td>0</td>\n",
       "      <td>8.0</td>\n",
       "      <td>2</td>\n",
       "      <td>3</td>\n",
       "    </tr>\n",
       "    <tr>\n",
       "      <th>15</th>\n",
       "      <td>2.0</td>\n",
       "      <td>1</td>\n",
       "      <td>0</td>\n",
       "      <td>0</td>\n",
       "      <td>0</td>\n",
       "      <td>0</td>\n",
       "      <td>0</td>\n",
       "      <td>0</td>\n",
       "      <td>8.5</td>\n",
       "      <td>1</td>\n",
       "      <td>...</td>\n",
       "      <td>0</td>\n",
       "      <td>1</td>\n",
       "      <td>1</td>\n",
       "      <td>0</td>\n",
       "      <td>1</td>\n",
       "      <td>5.0</td>\n",
       "      <td>1</td>\n",
       "      <td>8.5</td>\n",
       "      <td>25</td>\n",
       "      <td>20</td>\n",
       "    </tr>\n",
       "  </tbody>\n",
       "</table>\n",
       "<p>5 rows × 22 columns</p>\n",
       "</div>"
      ],
      "text/plain": [
       "    Holes in a Straw  Has Dogs  Has Cats  Has Fish  Has Chickens  Has Horse  \\\n",
       "5                2.0         0         0         1             0          0   \n",
       "61               2.0         1         0         0             0          0   \n",
       "54               1.0         0         0         0             0          0   \n",
       "42               1.0         0         0         0             0          0   \n",
       "15               2.0         1         0         0             0          0   \n",
       "\n",
       "    Has Rabiit  Has Other Pets  Shoe Size  Has Netflix  ...  Has Amazon Prime  \\\n",
       "5            0               0        8.0            0  ...                 0   \n",
       "61           0               0       10.0            1  ...                 0   \n",
       "54           0               0       11.0            1  ...                 1   \n",
       "42           0               1        8.0            0  ...                 0   \n",
       "15           0               0        8.5            1  ...                 0   \n",
       "\n",
       "    Has Starz  Has YouTube  Has Twitch  Statistics Courses  Hours Studying  \\\n",
       "5           0            1           0                   1             5.0   \n",
       "61          0            1           0                   6            12.0   \n",
       "54          0            1           1                   5             2.0   \n",
       "42          0            1           0                   1             2.0   \n",
       "15          1            1           0                   1             5.0   \n",
       "\n",
       "    Siblings  Hours of Sleep  Shoes Owned  People Texted Yesterday  \n",
       "5          1             7.0            3                       21  \n",
       "61         2             8.0            6                       25  \n",
       "54         2             8.0            5                        8  \n",
       "42         0             8.0            2                        3  \n",
       "15         1             8.5           25                       20  \n",
       "\n",
       "[5 rows x 22 columns]"
      ]
     },
     "execution_count": 8,
     "metadata": {},
     "output_type": "execute_result"
    }
   ],
   "source": [
    "# Create a DataFrame out of only columns contained in `numeric`\n",
    "# (This code is provided and already complete! :))\n",
    "df_numeric = df[ numeric ]\n",
    "df_numeric.sample(n=5)"
   ]
  },
  {
   "cell_type": "code",
   "execution_count": 9,
   "metadata": {
    "deletable": false,
    "editable": false,
    "nbgrader": {
     "cell_type": "code",
     "checksum": "3f2d0b8f5871af145dcdfdae924eeed1",
     "grade": true,
     "grade_id": "cell-48f03cdf8ec4691b",
     "locked": true,
     "points": 0,
     "schema_version": 3,
     "solution": false,
     "task": false
    }
   },
   "outputs": [
    {
     "name": "stdout",
     "output_type": "stream",
     "text": [
      "🎉 All tests passed! 🎉\n"
     ]
    }
   ],
   "source": [
    "## == TEST CASES for Puzzle 1.1a ==\n",
    "# - This read-only cell contains test cases for your previous cell.\n",
    "# - If this cell runs with the success message as your output, you PASSED all test cases!\n",
    "# - If this cell results in any errors, check you previous cell, make changes, and RE-RUN your code and then this cell.\n",
    "\n",
    "assert(len(numeric) == 22), \"The list of numeric columns seems to have an incorrect number of elements\"\n",
    "assert(df_numeric.shape[0] == 91), \"The dataframe doesn't have the right number of rows\"\n",
    "assert(df_numeric.shape[1] == 22), \"The dataframe doesn't have the right number of columns\"\n",
    "\n",
    "## == SUCCESS MESSAGE ==\n",
    "# You will only see this message (with the emoji showing) if you passed all test cases:\n",
    "tada = \"\\N{PARTY POPPER}\"\n",
    "print(f\"{tada} All tests passed! {tada}\")"
   ]
  },
  {
   "cell_type": "markdown",
   "metadata": {
    "deletable": false,
    "editable": false,
    "nbgrader": {
     "cell_type": "markdown",
     "checksum": "61f643de30862acc92e8fc47e3d961fe",
     "grade": false,
     "grade_id": "cell-4c8781d82fdfb14c",
     "locked": true,
     "schema_version": 3,
     "solution": false,
     "task": false
    }
   },
   "source": [
    "### Puzzle 1.1b: Getting the Categorical Data\n",
    "\n",
    "This time you're going to create a function to find which columns from a dataframe are categorical. Model this function after `isNumeric` but instead of using `is_numeric_dtype()` to test if the column data is numerical, use `is_string_dtype()` to test if the column has text data.\n",
    "\n",
    "- Make a function that finds a list of categorical columns\n",
    "- Store those columns in the variable `categorical`\n",
    "- Create a dataframe of just the categorical variables called `df_categorical`"
   ]
  },
  {
   "cell_type": "code",
   "execution_count": 10,
   "metadata": {
    "deletable": false,
    "nbgrader": {
     "cell_type": "code",
     "checksum": "67033ed5844209806fb072e30d1c62f1",
     "grade": false,
     "grade_id": "cell-7f8aafe93eb47802",
     "locked": false,
     "schema_version": 3,
     "solution": true,
     "task": false
    }
   },
   "outputs": [
    {
     "data": {
      "text/plain": [
       "['Name',\n",
       " 'Major',\n",
       " 'School Year',\n",
       " 'Phone',\n",
       " 'Computer',\n",
       " 'Course Credit',\n",
       " 'Hot Dog is Sandwitch',\n",
       " 'Programmed before?',\n",
       " 'Python Background',\n",
       " 'Personality',\n",
       " 'Pineapple on Pizza']"
      ]
     },
     "execution_count": 10,
     "metadata": {},
     "output_type": "execute_result"
    }
   ],
   "source": [
    "# isCategorical Function Description:\n",
    "#     input: an arbitrary DataFrame\n",
    "#     tests to see if a column is categorical\n",
    "#     return: a list of the the categorical columns\n",
    "\n",
    "def isCategorical(df):\n",
    "    from pandas.api.types import is_string_dtype\n",
    "    \n",
    "    # Complete this function.\n",
    "    # - Model this function after isNumeric but instead of using is_numeric_dtype()\n",
    "    #   to test if the column data is numerical, use is_string_dtype() to test if\n",
    "    #   the column has text data.\n",
    "    categoricalColumns = []\n",
    "    for column in df:\n",
    "        if is_string_dtype(df[column]):\n",
    "            categoricalColumns.append(column)\n",
    "    return categoricalColumns\n",
    "\n",
    "\n",
    "categorical = isCategorical(df)\n",
    "categorical\n",
    "\n"
   ]
  },
  {
   "cell_type": "code",
   "execution_count": 11,
   "metadata": {},
   "outputs": [
    {
     "data": {
      "text/html": [
       "<div>\n",
       "<style scoped>\n",
       "    .dataframe tbody tr th:only-of-type {\n",
       "        vertical-align: middle;\n",
       "    }\n",
       "\n",
       "    .dataframe tbody tr th {\n",
       "        vertical-align: top;\n",
       "    }\n",
       "\n",
       "    .dataframe thead th {\n",
       "        text-align: right;\n",
       "    }\n",
       "</style>\n",
       "<table border=\"1\" class=\"dataframe\">\n",
       "  <thead>\n",
       "    <tr style=\"text-align: right;\">\n",
       "      <th></th>\n",
       "      <th>Name</th>\n",
       "      <th>Major</th>\n",
       "      <th>School Year</th>\n",
       "      <th>Phone</th>\n",
       "      <th>Computer</th>\n",
       "      <th>Course Credit</th>\n",
       "      <th>Hot Dog is Sandwitch</th>\n",
       "      <th>Programmed before?</th>\n",
       "      <th>Python Background</th>\n",
       "      <th>Personality</th>\n",
       "      <th>Pineapple on Pizza</th>\n",
       "    </tr>\n",
       "  </thead>\n",
       "  <tbody>\n",
       "    <tr>\n",
       "      <th>51</th>\n",
       "      <td>Xavier</td>\n",
       "      <td>Environmental Science</td>\n",
       "      <td>Junior</td>\n",
       "      <td>iPhone</td>\n",
       "      <td>Mac OS X-based computer</td>\n",
       "      <td>This course is one of several specific options</td>\n",
       "      <td>Yes</td>\n",
       "      <td>Yes</td>\n",
       "      <td>Some Python -- I have had one class or written...</td>\n",
       "      <td>Extrovert</td>\n",
       "      <td>No</td>\n",
       "    </tr>\n",
       "    <tr>\n",
       "      <th>16</th>\n",
       "      <td>Chulong</td>\n",
       "      <td>Economics</td>\n",
       "      <td>Sophomore</td>\n",
       "      <td>iPhone</td>\n",
       "      <td>Windows-based computer</td>\n",
       "      <td>This course will fulfill one of my QR geneds</td>\n",
       "      <td>Yes</td>\n",
       "      <td>No</td>\n",
       "      <td>No programming background -- is Python Taylor ...</td>\n",
       "      <td>Introvert</td>\n",
       "      <td>Yes</td>\n",
       "    </tr>\n",
       "    <tr>\n",
       "      <th>15</th>\n",
       "      <td>chloe</td>\n",
       "      <td>political science</td>\n",
       "      <td>Sophomore</td>\n",
       "      <td>iPhone</td>\n",
       "      <td>Windows-based computer</td>\n",
       "      <td>This course is an elective / does not fulfill ...</td>\n",
       "      <td>No</td>\n",
       "      <td>Yes</td>\n",
       "      <td>Some Python -- I have had one class or written...</td>\n",
       "      <td>Introvert</td>\n",
       "      <td>No</td>\n",
       "    </tr>\n",
       "    <tr>\n",
       "      <th>10</th>\n",
       "      <td>Maureen</td>\n",
       "      <td>ACE- Financial Planning</td>\n",
       "      <td>Junior</td>\n",
       "      <td>iPhone</td>\n",
       "      <td>Mac OS X-based computer</td>\n",
       "      <td>This course is one of several specific options</td>\n",
       "      <td>No</td>\n",
       "      <td>No</td>\n",
       "      <td>No programming background -- is Python Taylor ...</td>\n",
       "      <td>Introvert</td>\n",
       "      <td>Yes</td>\n",
       "    </tr>\n",
       "    <tr>\n",
       "      <th>72</th>\n",
       "      <td>Shawn</td>\n",
       "      <td>Computer Science + Statistics</td>\n",
       "      <td>Freshman</td>\n",
       "      <td>iPhone</td>\n",
       "      <td>Windows-based computer</td>\n",
       "      <td>This course is one of several specific options</td>\n",
       "      <td>Yes</td>\n",
       "      <td>Yes</td>\n",
       "      <td>No Python, but I've done some programming in o...</td>\n",
       "      <td>Extrovert</td>\n",
       "      <td>No</td>\n",
       "    </tr>\n",
       "  </tbody>\n",
       "</table>\n",
       "</div>"
      ],
      "text/plain": [
       "       Name                          Major School Year   Phone  \\\n",
       "51   Xavier          Environmental Science      Junior  iPhone   \n",
       "16  Chulong                      Economics   Sophomore  iPhone   \n",
       "15    chloe              political science   Sophomore  iPhone   \n",
       "10  Maureen        ACE- Financial Planning      Junior  iPhone   \n",
       "72    Shawn  Computer Science + Statistics    Freshman  iPhone   \n",
       "\n",
       "                   Computer  \\\n",
       "51  Mac OS X-based computer   \n",
       "16   Windows-based computer   \n",
       "15   Windows-based computer   \n",
       "10  Mac OS X-based computer   \n",
       "72   Windows-based computer   \n",
       "\n",
       "                                        Course Credit Hot Dog is Sandwitch  \\\n",
       "51     This course is one of several specific options                  Yes   \n",
       "16       This course will fulfill one of my QR geneds                  Yes   \n",
       "15  This course is an elective / does not fulfill ...                   No   \n",
       "10     This course is one of several specific options                   No   \n",
       "72     This course is one of several specific options                  Yes   \n",
       "\n",
       "   Programmed before?                                  Python Background  \\\n",
       "51                Yes  Some Python -- I have had one class or written...   \n",
       "16                 No  No programming background -- is Python Taylor ...   \n",
       "15                Yes  Some Python -- I have had one class or written...   \n",
       "10                 No  No programming background -- is Python Taylor ...   \n",
       "72                Yes  No Python, but I've done some programming in o...   \n",
       "\n",
       "   Personality Pineapple on Pizza  \n",
       "51   Extrovert                 No  \n",
       "16   Introvert                Yes  \n",
       "15   Introvert                 No  \n",
       "10   Introvert                Yes  \n",
       "72   Extrovert                 No  "
      ]
     },
     "execution_count": 11,
     "metadata": {},
     "output_type": "execute_result"
    }
   ],
   "source": [
    "df_categorical = df[ categorical ]\n",
    "df_categorical.sample(n=5)"
   ]
  },
  {
   "cell_type": "code",
   "execution_count": 12,
   "metadata": {
    "deletable": false,
    "editable": false,
    "nbgrader": {
     "cell_type": "code",
     "checksum": "84371b249c61efa5077c3b0f32703d0b",
     "grade": true,
     "grade_id": "cell-6f2c69f64d958645",
     "locked": true,
     "points": 1,
     "schema_version": 3,
     "solution": false,
     "task": false
    }
   },
   "outputs": [
    {
     "name": "stdout",
     "output_type": "stream",
     "text": [
      "🎉 All tests passed! 🎉\n"
     ]
    }
   ],
   "source": [
    "## == TEST CASES for Puzzle 1.1b ==\n",
    "# - This read-only cell contains test cases for your previous cell.\n",
    "# - If this cell runs with the success message as your output, you PASSED all test cases!\n",
    "# - If this cell results in any errors, check you previous cell, make changes, and RE-RUN your code and then this cell.\n",
    "\n",
    "assert(len(categorical) == 11), \"The list of numeric columns seems to have an incorrect number of elements\"\n",
    "assert(df_categorical.shape[0] == 91), \"The dataframe doesn't have the right number of rows\"\n",
    "assert(df_categorical.shape[1] == 11), \"The dataframe doesn't have the right number of columns\"\n",
    "\n",
    "## == SUCCESS MESSAGE ==\n",
    "# You will only see this message (with the emoji showing) if you passed all test cases:\n",
    "tada = \"\\N{PARTY POPPER}\"\n",
    "print(f\"{tada} All tests passed! {tada}\")"
   ]
  },
  {
   "cell_type": "markdown",
   "metadata": {
    "deletable": false,
    "editable": false,
    "nbgrader": {
     "cell_type": "markdown",
     "checksum": "0b1adb4793e39ad71c9803fb8a4709a6",
     "grade": false,
     "grade_id": "cell-ae8425133ce9746b",
     "locked": true,
     "schema_version": 3,
     "solution": false,
     "task": false
    }
   },
   "source": [
    "### Puzzle 1b) Visualizing Numerical Data\n",
    "\n",
    "Plot the histograms for each columns in `df_numeric`\n",
    "\n",
    "- If needed: In `df.hist`, use **`figsize=(30, 40)`** as an extra argument passed to `hist` to make your figure bigger."
   ]
  },
  {
   "cell_type": "code",
   "execution_count": 13,
   "metadata": {
    "deletable": false,
    "nbgrader": {
     "cell_type": "code",
     "checksum": "6875b460ebf31cbad33a7522c50d4b4c",
     "grade": false,
     "grade_id": "cell-320d0db0b0449486",
     "locked": false,
     "schema_version": 3,
     "solution": true,
     "task": false
    }
   },
   "outputs": [
    {
     "data": {
      "text/plain": [
       "array([[<matplotlib.axes._subplots.AxesSubplot object at 0x0000022EC3C2D988>,\n",
       "        <matplotlib.axes._subplots.AxesSubplot object at 0x0000022EC3BF9108>,\n",
       "        <matplotlib.axes._subplots.AxesSubplot object at 0x0000022EC5431B88>,\n",
       "        <matplotlib.axes._subplots.AxesSubplot object at 0x0000022EC546ABC8>,\n",
       "        <matplotlib.axes._subplots.AxesSubplot object at 0x0000022EC54A2C88>],\n",
       "       [<matplotlib.axes._subplots.AxesSubplot object at 0x0000022EC54DCD88>,\n",
       "        <matplotlib.axes._subplots.AxesSubplot object at 0x0000022EC5513E88>,\n",
       "        <matplotlib.axes._subplots.AxesSubplot object at 0x0000022EC554BFC8>,\n",
       "        <matplotlib.axes._subplots.AxesSubplot object at 0x0000022EC5555BC8>,\n",
       "        <matplotlib.axes._subplots.AxesSubplot object at 0x0000022EC558DD88>],\n",
       "       [<matplotlib.axes._subplots.AxesSubplot object at 0x0000022EC55F8308>,\n",
       "        <matplotlib.axes._subplots.AxesSubplot object at 0x0000022EC5631408>,\n",
       "        <matplotlib.axes._subplots.AxesSubplot object at 0x0000022EC5668508>,\n",
       "        <matplotlib.axes._subplots.AxesSubplot object at 0x0000022EC56A5E48>,\n",
       "        <matplotlib.axes._subplots.AxesSubplot object at 0x0000022EC56D9748>],\n",
       "       [<matplotlib.axes._subplots.AxesSubplot object at 0x0000022EC57117C8>,\n",
       "        <matplotlib.axes._subplots.AxesSubplot object at 0x0000022EC5748908>,\n",
       "        <matplotlib.axes._subplots.AxesSubplot object at 0x0000022EC5781A48>,\n",
       "        <matplotlib.axes._subplots.AxesSubplot object at 0x0000022EC57BAB48>,\n",
       "        <matplotlib.axes._subplots.AxesSubplot object at 0x0000022EC57F1C48>],\n",
       "       [<matplotlib.axes._subplots.AxesSubplot object at 0x0000022EC5829D08>,\n",
       "        <matplotlib.axes._subplots.AxesSubplot object at 0x0000022EC5862E08>,\n",
       "        <matplotlib.axes._subplots.AxesSubplot object at 0x0000022EC5899F08>,\n",
       "        <matplotlib.axes._subplots.AxesSubplot object at 0x0000022EC58D5148>,\n",
       "        <matplotlib.axes._subplots.AxesSubplot object at 0x0000022EC590D308>]],\n",
       "      dtype=object)"
      ]
     },
     "execution_count": 13,
     "metadata": {},
     "output_type": "execute_result"
    },
    {
     "data": {
      "image/png": "[encoded data removed]",
      "text/plain": [
       "<Figure size 2160x2880 with 25 Axes>"
      ]
     },
     "metadata": {
      "needs_background": "light"
     },
     "output_type": "display_data"
    }
   ],
   "source": [
    "#plot the histogram for each column in df_numeric\n",
    "\n",
    "df_numeric.hist(figsize=(30,40))"
   ]
  },
  {
   "cell_type": "markdown",
   "metadata": {
    "deletable": false,
    "editable": false,
    "nbgrader": {
     "cell_type": "markdown",
     "checksum": "56c00b93039e7066762a54b7a038992a",
     "grade": false,
     "grade_id": "cell-1319545c389bbb5f",
     "locked": true,
     "schema_version": 3,
     "solution": false,
     "task": false
    }
   },
   "source": [
    "## Part 1c) Visualizing Categorical Data\n",
    "\n",
    "To visualize the categorical data we will be using a bar plot.  However, we first need to convert our DataFrame with the categorical data into counts for each value.  To do this, we can use [`Series.value_counts()`](https://pandas.pydata.org/pandas-docs/stable/reference/api/pandas.Series.value_counts.html) on a column of data.\n",
    "\n",
    "Let's see how this works.  Select just the `[\"School Year\"]` from `df_categorical` and apply `.value_counts()`.  Then, in the next cell, use that data to make a bar plot using `.plot.bar()`:"
   ]
  },
  {
   "cell_type": "code",
   "execution_count": 14,
   "metadata": {
    "deletable": false,
    "nbgrader": {
     "cell_type": "code",
     "checksum": "694e4db98dfc17a8488bef5dd9ab1fb1",
     "grade": false,
     "grade_id": "cell-6a70b687d4464dd2",
     "locked": false,
     "schema_version": 3,
     "solution": true,
     "task": false
    }
   },
   "outputs": [
    {
     "data": {
      "text/plain": [
       "Sophomore    31\n",
       "Freshman     22\n",
       "Junior       19\n",
       "Senior       13\n",
       "Other         6\n",
       "Name: School Year, dtype: int64"
      ]
     },
     "execution_count": 14,
     "metadata": {},
     "output_type": "execute_result"
    }
   ],
   "source": [
    "# Use `.value_counts()` to find the values counts of data about [\"School Year\"]\n",
    "value_counts = df_categorical[\"School Year\"].value_counts()\n",
    "value_counts\n",
    "\n"
   ]
  },
  {
   "cell_type": "code",
   "execution_count": 15,
   "metadata": {
    "deletable": false,
    "nbgrader": {
     "cell_type": "code",
     "checksum": "e50da17d01a34912f6b1047becd415a7",
     "grade": false,
     "grade_id": "cell-9a11d63567013a46",
     "locked": false,
     "schema_version": 3,
     "solution": true,
     "task": false
    }
   },
   "outputs": [
    {
     "data": {
      "text/plain": [
       "<matplotlib.axes._subplots.AxesSubplot at 0x22ec77db648>"
      ]
     },
     "execution_count": 15,
     "metadata": {},
     "output_type": "execute_result"
    },
    {
     "data": {
      "image/png": "[encoded data removed]",
      "text/plain": [
       "<Figure size 432x288 with 1 Axes>"
      ]
     },
     "metadata": {
      "needs_background": "light"
     },
     "output_type": "display_data"
    }
   ],
   "source": [
    "# Now, use `value_counts` to plot a bar chart:\n",
    "\n",
    "value_counts.plot.bar()\n"
   ]
  },
  {
   "cell_type": "markdown",
   "metadata": {},
   "source": [
    "### Repeat for all categorical data: \n",
    "\n",
    "Finally, repeat this process for all of the columns in `df_categorical`:\n",
    "- \"School Year\"\n",
    "- \"Phone\"\n",
    "- \"Computer\"\n",
    "- \"Hot Dog is Sandwitch\"\n",
    "- \"Programmed before?\"\n",
    "- \"Personality\"\n",
    "- \"Pineapple on Pizza\""
   ]
  },
  {
   "cell_type": "code",
   "execution_count": 16,
   "metadata": {},
   "outputs": [
    {
     "data": {
      "image/png": "[encoded data removed]",
      "text/plain": [
       "<Figure size 432x288 with 1 Axes>"
      ]
     },
     "metadata": {
      "needs_background": "light"
     },
     "output_type": "display_data"
    },
    {
     "data": {
      "image/png": "[encoded data removed]",
      "text/plain": [
       "<Figure size 432x288 with 1 Axes>"
      ]
     },
     "metadata": {
      "needs_background": "light"
     },
     "output_type": "display_data"
    },
    {
     "data": {
      "image/png": "[encoded data removed]",
      "text/plain": [
       "<Figure size 432x288 with 1 Axes>"
      ]
     },
     "metadata": {
      "needs_background": "light"
     },
     "output_type": "display_data"
    },
    {
     "data": {
      "image/png": "[encoded data removed]",
      "text/plain": [
       "<Figure size 432x288 with 1 Axes>"
      ]
     },
     "metadata": {
      "needs_background": "light"
     },
     "output_type": "display_data"
    },
    {
     "data": {
      "image/png": "[encoded data removed]",
      "text/plain": [
       "<Figure size 432x288 with 1 Axes>"
      ]
     },
     "metadata": {
      "needs_background": "light"
     },
     "output_type": "display_data"
    },
    {
     "data": {
      "image/png": "[encoded data removed]",
      "text/plain": [
       "<Figure size 432x288 with 1 Axes>"
      ]
     },
     "metadata": {
      "needs_background": "light"
     },
     "output_type": "display_data"
    }
   ],
   "source": [
    "for column in [\"Phone\", \"Computer\", \"Hot Dog is Sandwitch\", \"Programmed before?\", \"Personality\", \"Pineapple on Pizza\"]:\n",
    "    import matplotlib. pyplot as plt\n",
    "    df_categorical[column].value_counts().plot.bar(title=column)\n",
    "    plt.show()"
   ]
  },
  {
   "cell_type": "markdown",
   "metadata": {
    "deletable": false,
    "editable": false,
    "nbgrader": {
     "cell_type": "markdown",
     "checksum": "b87e64e02447dfa1475cbf50c2c67d39",
     "grade": false,
     "grade_id": "cell-502c0d7f6ea29b5d",
     "locked": true,
     "schema_version": 3,
     "solution": false,
     "task": false
    }
   },
   "source": [
    "## Part 3 | Now, Time to Find Yourself\n",
    "\n",
    "You cannot find people you are compatible with before finding yourself... literally! \n",
    "\n",
    "### Puzzle 3.1: Find Yourself\n",
    "\n",
    "In the following cell, write the Python code to create a DataFrame with only yourself:"
   ]
  },
  {
   "cell_type": "code",
   "execution_count": 17,
   "metadata": {
    "deletable": false,
    "nbgrader": {
     "cell_type": "code",
     "checksum": "b8e30269a14753cf7b5bfe835377fbac",
     "grade": false,
     "grade_id": "cell-04bc136da68bc695",
     "locked": false,
     "schema_version": 3,
     "solution": true
    }
   },
   "outputs": [
    {
     "data": {
      "text/html": [
       "<div>\n",
       "<style scoped>\n",
       "    .dataframe tbody tr th:only-of-type {\n",
       "        vertical-align: middle;\n",
       "    }\n",
       "\n",
       "    .dataframe tbody tr th {\n",
       "        vertical-align: top;\n",
       "    }\n",
       "\n",
       "    .dataframe thead th {\n",
       "        text-align: right;\n",
       "    }\n",
       "</style>\n",
       "<table border=\"1\" class=\"dataframe\">\n",
       "  <thead>\n",
       "    <tr style=\"text-align: right;\">\n",
       "      <th></th>\n",
       "      <th>Name</th>\n",
       "      <th>Major</th>\n",
       "      <th>School Year</th>\n",
       "      <th>Phone</th>\n",
       "      <th>Computer</th>\n",
       "      <th>Holes in a Straw</th>\n",
       "      <th>Has Dogs</th>\n",
       "      <th>Has Cats</th>\n",
       "      <th>Has Fish</th>\n",
       "      <th>Has Chickens</th>\n",
       "      <th>...</th>\n",
       "      <th>Programmed before?</th>\n",
       "      <th>Python Background</th>\n",
       "      <th>Statistics Courses</th>\n",
       "      <th>Hours Studying</th>\n",
       "      <th>Siblings</th>\n",
       "      <th>Hours of Sleep</th>\n",
       "      <th>Shoes Owned</th>\n",
       "      <th>People Texted Yesterday</th>\n",
       "      <th>Personality</th>\n",
       "      <th>Pineapple on Pizza</th>\n",
       "    </tr>\n",
       "  </thead>\n",
       "  <tbody>\n",
       "    <tr>\n",
       "      <th>28</th>\n",
       "      <td>Justin</td>\n",
       "      <td>Statistics</td>\n",
       "      <td>Junior</td>\n",
       "      <td>Android</td>\n",
       "      <td>Windows-based computer</td>\n",
       "      <td>2.0</td>\n",
       "      <td>1</td>\n",
       "      <td>0</td>\n",
       "      <td>0</td>\n",
       "      <td>0</td>\n",
       "      <td>...</td>\n",
       "      <td>Yes</td>\n",
       "      <td>No Python, but I've done some programming in o...</td>\n",
       "      <td>3</td>\n",
       "      <td>3.0</td>\n",
       "      <td>1</td>\n",
       "      <td>8.0</td>\n",
       "      <td>9</td>\n",
       "      <td>5</td>\n",
       "      <td>Introvert</td>\n",
       "      <td>Yes</td>\n",
       "    </tr>\n",
       "  </tbody>\n",
       "</table>\n",
       "<p>1 rows × 33 columns</p>\n",
       "</div>"
      ],
      "text/plain": [
       "      Name       Major School Year    Phone                Computer  \\\n",
       "28  Justin  Statistics      Junior  Android  Windows-based computer   \n",
       "\n",
       "    Holes in a Straw  Has Dogs  Has Cats  Has Fish  Has Chickens  ...  \\\n",
       "28               2.0         1         0         0             0  ...   \n",
       "\n",
       "    Programmed before?                                  Python Background  \\\n",
       "28                 Yes  No Python, but I've done some programming in o...   \n",
       "\n",
       "    Statistics Courses  Hours Studying Siblings Hours of Sleep  Shoes Owned  \\\n",
       "28                   3             3.0        1            8.0            9   \n",
       "\n",
       "    People Texted Yesterday  Personality  Pineapple on Pizza  \n",
       "28                        5    Introvert                 Yes  \n",
       "\n",
       "[1 rows x 33 columns]"
      ]
     },
     "execution_count": 17,
     "metadata": {},
     "output_type": "execute_result"
    }
   ],
   "source": [
    "myrow = df[(df[\"Name\"] == \"Justin\") & (df[\"School Year\"] == \"Junior\") & (df[\"Major\"] == \"Statistics\") & (df[\"Phone\"] == \"Android\")]\n",
    "myrow\n",
    "\n"
   ]
  },
  {
   "cell_type": "code",
   "execution_count": 18,
   "metadata": {
    "deletable": false,
    "editable": false,
    "nbgrader": {
     "cell_type": "code",
     "checksum": "6d751a60c3aa93d7667a6627b062c3a0",
     "grade": true,
     "grade_id": "cell-7b019251e3c71d1f",
     "locked": true,
     "points": 1,
     "schema_version": 3,
     "solution": false
    }
   },
   "outputs": [
    {
     "name": "stdout",
     "output_type": "stream",
     "text": [
      "🎉 All tests passed! 🎉\n"
     ]
    }
   ],
   "source": [
    "## == TEST CASES for Puzzle 3.1 ==\n",
    "# - This read-only cell contains test cases for your previous cell.\n",
    "# - If this cell runs with the success message as your output, you PASSED all test cases!\n",
    "# - If this cell results in any errors, check you previous cell, make changes, and RE-RUN your code and then this cell.\n",
    "\n",
    "assert(len(myrow) == 1), \"The row of yourself is not correctly set\"\n",
    "\n",
    "## == SUCCESS MESSAGE ==\n",
    "# You will only see this message (with the emoji showing) if you passed all test cases:\n",
    "tada = \"\\N{PARTY POPPER}\"\n",
    "print(f\"{tada} All tests passed! {tada}\")"
   ]
  },
  {
   "cell_type": "markdown",
   "metadata": {
    "deletable": false,
    "editable": false,
    "nbgrader": {
     "cell_type": "markdown",
     "checksum": "e3a9d650fd368f494dad3bfaa9446706",
     "grade": false,
     "grade_id": "cell-fe30a545161f7fbf",
     "locked": true,
     "schema_version": 3,
     "solution": false,
     "task": false
    }
   },
   "source": [
    "### DataFrame with one row vs. a Series\n",
    "\n",
    "In `pandas`, there are three major data structures we will be using:\n",
    "\n",
    "- A **DataFrame** is similar to an Excel sheet.  It contains zero or more rows and zero or more columns.  It can contain up to an unlimited number of rows and columns and is the basic data structure we will work with in Data Science Discovery\n",
    "\n",
    "- A **GroupBy** is a grouping of rows within a DataFrame.  This \"three dimensional data\" requires us to use `agg` to reduce it back down to a **DataFrame**.\n",
    "\n",
    "- A **Series** is a single row with zero or more values (columns).  You can think of a DataFrame as a collection of **Series** objects.  When we deal with a single row, we will usually want to deal with a **Series** instead of a **one row DataFrame**.\n",
    "\n",
    "#### Converting between types\n",
    "\n",
    "The `pandas` library makes it easy to convert between a **Series**, **DataFrame**, and **GroupBy**.\n",
    "\n",
    "![image.png](img/datatypes.png)\n",
    "\n",
    "Expressed as a list:\n",
    "\n",
    "- From a **Series** (`row`) to a **DataFrame**\n",
    "  * `row.to_frame()`\n",
    "- From a **DataFrame** (`df`) to a **GroupBy**:\n",
    "  * `df.groupby(by='columnName')` *-- (You know this already!)*\n",
    "\n",
    "- From a **GroupBy** (`group`) to a **DataFrame**:\n",
    "  * `df.agg( function )` *-- (You know this already!)*\n",
    "- From a **DataFrame** (`df`) to a **Series**:\n",
    "  * `df.squeeze()`, if the DataFrame has one row\n",
    "\n",
    "\n",
    "  \n",
    "\n",
    "### Puzzle 3.2: Transform your row into a Series\n",
    " \n",
    "Using the correct function from above, transform the row containing only you from a one-row DataFrame into a Series.  Make sure the Series is named `myrow` (this will match up with code we provide you with later):"
   ]
  },
  {
   "cell_type": "code",
   "execution_count": 19,
   "metadata": {
    "deletable": false,
    "nbgrader": {
     "cell_type": "code",
     "checksum": "c639689741ed1440528c56fff066dfa2",
     "grade": false,
     "grade_id": "cell-8c946526ed7a65cd",
     "locked": false,
     "schema_version": 3,
     "solution": true
    }
   },
   "outputs": [
    {
     "data": {
      "text/plain": [
       "Name                                                                  Justin\n",
       "Major                                                             Statistics\n",
       "School Year                                                           Junior\n",
       "Phone                                                                Android\n",
       "Computer                                              Windows-based computer\n",
       "Holes in a Straw                                                           2\n",
       "Has Dogs                                                                   1\n",
       "Has Cats                                                                   0\n",
       "Has Fish                                                                   0\n",
       "Has Chickens                                                               0\n",
       "Has Horse                                                                  0\n",
       "Has Rabiit                                                                 0\n",
       "Has Other Pets                                                             0\n",
       "Shoe Size                                                                 10\n",
       "Course Credit                 This course is one of several specific options\n",
       "Hot Dog is Sandwitch                                                     Yes\n",
       "Has Netflix                                                                0\n",
       "Has Hulu                                                                   0\n",
       "Has HBO Now                                                                0\n",
       "Has Amazon Prime                                                           0\n",
       "Has Starz                                                                  0\n",
       "Has YouTube                                                                1\n",
       "Has Twitch                                                                 0\n",
       "Programmed before?                                                       Yes\n",
       "Python Background          No Python, but I've done some programming in o...\n",
       "Statistics Courses                                                         3\n",
       "Hours Studying                                                             3\n",
       "Siblings                                                                   1\n",
       "Hours of Sleep                                                             8\n",
       "Shoes Owned                                                                9\n",
       "People Texted Yesterday                                                    5\n",
       "Personality                                                        Introvert\n",
       "Pineapple on Pizza                                                       Yes\n",
       "Name: 28, dtype: object"
      ]
     },
     "execution_count": 19,
     "metadata": {},
     "output_type": "execute_result"
    }
   ],
   "source": [
    "# Your code here:\n",
    "myrow = myrow.squeeze()\n",
    "\n",
    "myrow"
   ]
  },
  {
   "cell_type": "code",
   "execution_count": 20,
   "metadata": {
    "deletable": false,
    "editable": false,
    "nbgrader": {
     "cell_type": "code",
     "checksum": "c31ab46141997f9575e5f0c0b5e12725",
     "grade": true,
     "grade_id": "cell-13e6051988c8bf2d",
     "locked": true,
     "points": 1,
     "schema_version": 3,
     "solution": false
    }
   },
   "outputs": [
    {
     "name": "stdout",
     "output_type": "stream",
     "text": [
      "🎉 All tests passed! 🎉\n"
     ]
    }
   ],
   "source": [
    "## == TEST CASES for Puzzle 3.2 ==\n",
    "# - This read-only cell contains test cases for your previous cell.\n",
    "# - If this cell runs with the success message as your output, you PASSED all test cases!\n",
    "# - If this cell results in any errors, check you previous cell, make changes, and RE-RUN your code and then this cell.\n",
    "\n",
    "assert(type(myrow) == pd.core.series.Series), \"You did not successfully transform myrow's type into series\"\n",
    "\n",
    "## == SUCCESS MESSAGE ==\n",
    "# You will only see this message (with the emoji showing) if you passed all test cases:\n",
    "tada = \"\\N{PARTY POPPER}\"\n",
    "print(f\"{tada} All tests passed! {tada}\")"
   ]
  },
  {
   "cell_type": "markdown",
   "metadata": {
    "deletable": false,
    "editable": false,
    "nbgrader": {
     "cell_type": "markdown",
     "checksum": "4db945cf606b763ce6ca88b92b45b415",
     "grade": false,
     "grade_id": "cell-553f54db699dd66f",
     "locked": true,
     "schema_version": 3,
     "solution": false,
     "task": false
    }
   },
   "source": [
    "## Part 4 | Create a similarity function\n",
    "\n",
    "The first step to finding who is the most similar to you is to create a **function** that will generate a similarity value for each person (or row). Think about the **algorithm** you would do this without code:\n",
    "\n",
    "1. Go through each person.\n",
    "2. Check how many questions that row has answered the same thing as you did.\n",
    "3. Record the number of matches in that row as a \"similarity score\".\n",
    "\n",
    "### Creating a Python function\n",
    "\n",
    "Unlike `sum`, `count`, or other functions, Python does not provide us a **function** that finds the similarity between two rows.  Instead, we need to write it ourselves. 😞\n",
    "\n",
    "Using what you learned in lecture, let's write this function!\n",
    "\n",
    "**Helpful Tips:**\n",
    "- Remember that you can loop through the columns of a dataframe\n",
    "- Treat numeric data and categorical data differently\n",
    "- Have a plan to test for if a column is all 0's\n",
    "\n",
    "For a measure of ***closeness*** between values for the numerical data we'll use the following formula:\n",
    "\n",
    "$1 -$ ( $|actual - desired|$ / $(maxColumnValue - minColumnValue)$ )\n"
   ]
  },
  {
   "cell_type": "code",
   "execution_count": 23,
   "metadata": {
    "deletable": false,
    "nbgrader": {
     "cell_type": "code",
     "checksum": "cade4e3921b2b23aee4e6a720dd1448e",
     "grade": false,
     "grade_id": "cell-51500f7d58876da9",
     "locked": false,
     "schema_version": 3,
     "solution": true
    }
   },
   "outputs": [
    {
     "name": "stdout",
     "output_type": "stream",
     "text": [
      "(11, 10.0)\n"
     ]
    },
    {
     "data": {
      "text/plain": [
       "33"
      ]
     },
     "execution_count": 23,
     "metadata": {},
     "output_type": "execute_result"
    }
   ],
   "source": [
    "def similarity(row):\n",
    "    from pandas.api.types import is_string_dtype\n",
    "    score1 = 0\n",
    "    score2 = 0\n",
    "    \n",
    "    for column in df:\n",
    "        if row[column] != 0:\n",
    "            if isinstance(row[column], str):\n",
    "                if row[column] == myrow[column]:\n",
    "                    score1 += 1\n",
    "            else:\n",
    "                colmax = df.nlargest(1, column)\n",
    "                colmin = df.nsmallest(1, column)\n",
    "                score2 += 1- ((row[column]) - (myrow[column])) / (colmax.iloc[0, df.columns.get_loc(column)] - colmin.iloc[0, df.columns.get_loc(column)])            \n",
    "    return score1, score2\n",
    "\n",
    "# First test this function by checking how similar you are with yourself.\n",
    "# The expected result will be a number equal to the number of columns you checked:\n",
    "\n",
    "print(similarity(myrow))\n",
    "len(myrow)\n",
    "\n",
    "\n",
    "\n",
    "# First test this function by checking how similar you are with yourself.\n",
    "# The expected result will be a number equal to the number of columns you checked:\n",
    "\n",
    "\n"
   ]
  },
  {
   "cell_type": "markdown",
   "metadata": {
    "deletable": false,
    "editable": false,
    "nbgrader": {
     "cell_type": "markdown",
     "checksum": "e70847bfef762490c2445d17953b29ba",
     "grade": false,
     "grade_id": "cell-1031a2762eed61e3",
     "locked": true,
     "schema_version": 3,
     "solution": false,
     "task": false
    }
   },
   "source": [
    "## Part 5 | Run the similarity function on all rows\n",
    "\n",
    "Now, finally, DATA SCIENCE!\n",
    "\n",
    "Add a column to your original DataFrame that contains the value of `df.apply(similarity)` using the proper axis which will run your `similarity` function you defined earlier across all rows:"
   ]
  },
  {
   "cell_type": "code",
   "execution_count": 30,
   "metadata": {
    "deletable": false,
    "nbgrader": {
     "cell_type": "code",
     "checksum": "dee99b9aedb4092cf8547dea5e7b8812",
     "grade": false,
     "grade_id": "cell-8ddb7d2fa7a20c87",
     "locked": false,
     "schema_version": 3,
     "solution": true
    }
   },
   "outputs": [
    {
     "ename": "ValueError",
     "evalue": "no results",
     "output_type": "error",
     "traceback": [
      "\u001b[1;31m---------------------------------------------------------------------------\u001b[0m",
      "\u001b[1;31mValueError\u001b[0m                                Traceback (most recent call last)",
      "\u001b[1;32m<ipython-input-30-8d576237de57>\u001b[0m in \u001b[0;36m<module>\u001b[1;34m\u001b[0m\n\u001b[0;32m      1\u001b[0m \u001b[1;31m#your code to add a column to dataframe called \"similarity\"\u001b[0m\u001b[1;33m\u001b[0m\u001b[1;33m\u001b[0m\u001b[1;33m\u001b[0m\u001b[0m\n\u001b[1;32m----> 2\u001b[1;33m \u001b[0mdf\u001b[0m\u001b[1;33m[\u001b[0m\u001b[1;34m\"similarity\"\u001b[0m\u001b[1;33m]\u001b[0m \u001b[1;33m=\u001b[0m \u001b[0mdf\u001b[0m\u001b[1;33m.\u001b[0m\u001b[0mapply\u001b[0m\u001b[1;33m(\u001b[0m\u001b[0msimilarity\u001b[0m\u001b[1;33m(\u001b[0m\u001b[0mmyrow\u001b[0m\u001b[1;33m)\u001b[0m\u001b[1;33m)\u001b[0m\u001b[1;33m\u001b[0m\u001b[1;33m\u001b[0m\u001b[0m\n\u001b[0m",
      "\u001b[1;32m~\\miniconda3\\lib\\site-packages\\pandas\\core\\frame.py\u001b[0m in \u001b[0;36mapply\u001b[1;34m(self, func, axis, raw, result_type, args, **kwds)\u001b[0m\n\u001b[0;32m   6876\u001b[0m             \u001b[0mkwds\u001b[0m\u001b[1;33m=\u001b[0m\u001b[0mkwds\u001b[0m\u001b[1;33m,\u001b[0m\u001b[1;33m\u001b[0m\u001b[1;33m\u001b[0m\u001b[0m\n\u001b[0;32m   6877\u001b[0m         )\n\u001b[1;32m-> 6878\u001b[1;33m         \u001b[1;32mreturn\u001b[0m \u001b[0mop\u001b[0m\u001b[1;33m.\u001b[0m\u001b[0mget_result\u001b[0m\u001b[1;33m(\u001b[0m\u001b[1;33m)\u001b[0m\u001b[1;33m\u001b[0m\u001b[1;33m\u001b[0m\u001b[0m\n\u001b[0m\u001b[0;32m   6879\u001b[0m \u001b[1;33m\u001b[0m\u001b[0m\n\u001b[0;32m   6880\u001b[0m     \u001b[1;32mdef\u001b[0m \u001b[0mapplymap\u001b[0m\u001b[1;33m(\u001b[0m\u001b[0mself\u001b[0m\u001b[1;33m,\u001b[0m \u001b[0mfunc\u001b[0m\u001b[1;33m)\u001b[0m \u001b[1;33m->\u001b[0m \u001b[1;34m\"DataFrame\"\u001b[0m\u001b[1;33m:\u001b[0m\u001b[1;33m\u001b[0m\u001b[1;33m\u001b[0m\u001b[0m\n",
      "\u001b[1;32m~\\miniconda3\\lib\\site-packages\\pandas\\core\\apply.py\u001b[0m in \u001b[0;36mget_result\u001b[1;34m(self)\u001b[0m\n\u001b[0;32m    147\u001b[0m         \u001b[1;31m# dispatch to agg\u001b[0m\u001b[1;33m\u001b[0m\u001b[1;33m\u001b[0m\u001b[1;33m\u001b[0m\u001b[0m\n\u001b[0;32m    148\u001b[0m         \u001b[1;32mif\u001b[0m \u001b[0mis_list_like\u001b[0m\u001b[1;33m(\u001b[0m\u001b[0mself\u001b[0m\u001b[1;33m.\u001b[0m\u001b[0mf\u001b[0m\u001b[1;33m)\u001b[0m \u001b[1;32mor\u001b[0m \u001b[0mis_dict_like\u001b[0m\u001b[1;33m(\u001b[0m\u001b[0mself\u001b[0m\u001b[1;33m.\u001b[0m\u001b[0mf\u001b[0m\u001b[1;33m)\u001b[0m\u001b[1;33m:\u001b[0m\u001b[1;33m\u001b[0m\u001b[1;33m\u001b[0m\u001b[0m\n\u001b[1;32m--> 149\u001b[1;33m             \u001b[1;32mreturn\u001b[0m \u001b[0mself\u001b[0m\u001b[1;33m.\u001b[0m\u001b[0mobj\u001b[0m\u001b[1;33m.\u001b[0m\u001b[0maggregate\u001b[0m\u001b[1;33m(\u001b[0m\u001b[0mself\u001b[0m\u001b[1;33m.\u001b[0m\u001b[0mf\u001b[0m\u001b[1;33m,\u001b[0m \u001b[0maxis\u001b[0m\u001b[1;33m=\u001b[0m\u001b[0mself\u001b[0m\u001b[1;33m.\u001b[0m\u001b[0maxis\u001b[0m\u001b[1;33m,\u001b[0m \u001b[1;33m*\u001b[0m\u001b[0mself\u001b[0m\u001b[1;33m.\u001b[0m\u001b[0margs\u001b[0m\u001b[1;33m,\u001b[0m \u001b[1;33m**\u001b[0m\u001b[0mself\u001b[0m\u001b[1;33m.\u001b[0m\u001b[0mkwds\u001b[0m\u001b[1;33m)\u001b[0m\u001b[1;33m\u001b[0m\u001b[1;33m\u001b[0m\u001b[0m\n\u001b[0m\u001b[0;32m    150\u001b[0m \u001b[1;33m\u001b[0m\u001b[0m\n\u001b[0;32m    151\u001b[0m         \u001b[1;31m# all empty\u001b[0m\u001b[1;33m\u001b[0m\u001b[1;33m\u001b[0m\u001b[1;33m\u001b[0m\u001b[0m\n",
      "\u001b[1;32m~\\miniconda3\\lib\\site-packages\\pandas\\core\\frame.py\u001b[0m in \u001b[0;36maggregate\u001b[1;34m(self, func, axis, *args, **kwargs)\u001b[0m\n\u001b[0;32m   6704\u001b[0m         \u001b[0mresult\u001b[0m \u001b[1;33m=\u001b[0m \u001b[1;32mNone\u001b[0m\u001b[1;33m\u001b[0m\u001b[1;33m\u001b[0m\u001b[0m\n\u001b[0;32m   6705\u001b[0m         \u001b[1;32mtry\u001b[0m\u001b[1;33m:\u001b[0m\u001b[1;33m\u001b[0m\u001b[1;33m\u001b[0m\u001b[0m\n\u001b[1;32m-> 6706\u001b[1;33m             \u001b[0mresult\u001b[0m\u001b[1;33m,\u001b[0m \u001b[0mhow\u001b[0m \u001b[1;33m=\u001b[0m \u001b[0mself\u001b[0m\u001b[1;33m.\u001b[0m\u001b[0m_aggregate\u001b[0m\u001b[1;33m(\u001b[0m\u001b[0mfunc\u001b[0m\u001b[1;33m,\u001b[0m \u001b[0maxis\u001b[0m\u001b[1;33m=\u001b[0m\u001b[0maxis\u001b[0m\u001b[1;33m,\u001b[0m \u001b[1;33m*\u001b[0m\u001b[0margs\u001b[0m\u001b[1;33m,\u001b[0m \u001b[1;33m**\u001b[0m\u001b[0mkwargs\u001b[0m\u001b[1;33m)\u001b[0m\u001b[1;33m\u001b[0m\u001b[1;33m\u001b[0m\u001b[0m\n\u001b[0m\u001b[0;32m   6707\u001b[0m         \u001b[1;32mexcept\u001b[0m \u001b[0mTypeError\u001b[0m\u001b[1;33m:\u001b[0m\u001b[1;33m\u001b[0m\u001b[1;33m\u001b[0m\u001b[0m\n\u001b[0;32m   6708\u001b[0m             \u001b[1;32mpass\u001b[0m\u001b[1;33m\u001b[0m\u001b[1;33m\u001b[0m\u001b[0m\n",
      "\u001b[1;32m~\\miniconda3\\lib\\site-packages\\pandas\\core\\frame.py\u001b[0m in \u001b[0;36m_aggregate\u001b[1;34m(self, arg, axis, *args, **kwargs)\u001b[0m\n\u001b[0;32m   6718\u001b[0m             \u001b[0mresult\u001b[0m \u001b[1;33m=\u001b[0m \u001b[0mresult\u001b[0m\u001b[1;33m.\u001b[0m\u001b[0mT\u001b[0m \u001b[1;32mif\u001b[0m \u001b[0mresult\u001b[0m \u001b[1;32mis\u001b[0m \u001b[1;32mnot\u001b[0m \u001b[1;32mNone\u001b[0m \u001b[1;32melse\u001b[0m \u001b[0mresult\u001b[0m\u001b[1;33m\u001b[0m\u001b[1;33m\u001b[0m\u001b[0m\n\u001b[0;32m   6719\u001b[0m             \u001b[1;32mreturn\u001b[0m \u001b[0mresult\u001b[0m\u001b[1;33m,\u001b[0m \u001b[0mhow\u001b[0m\u001b[1;33m\u001b[0m\u001b[1;33m\u001b[0m\u001b[0m\n\u001b[1;32m-> 6720\u001b[1;33m         \u001b[1;32mreturn\u001b[0m \u001b[0msuper\u001b[0m\u001b[1;33m(\u001b[0m\u001b[1;33m)\u001b[0m\u001b[1;33m.\u001b[0m\u001b[0m_aggregate\u001b[0m\u001b[1;33m(\u001b[0m\u001b[0marg\u001b[0m\u001b[1;33m,\u001b[0m \u001b[1;33m*\u001b[0m\u001b[0margs\u001b[0m\u001b[1;33m,\u001b[0m \u001b[1;33m**\u001b[0m\u001b[0mkwargs\u001b[0m\u001b[1;33m)\u001b[0m\u001b[1;33m\u001b[0m\u001b[1;33m\u001b[0m\u001b[0m\n\u001b[0m\u001b[0;32m   6721\u001b[0m \u001b[1;33m\u001b[0m\u001b[0m\n\u001b[0;32m   6722\u001b[0m     \u001b[0magg\u001b[0m \u001b[1;33m=\u001b[0m \u001b[0maggregate\u001b[0m\u001b[1;33m\u001b[0m\u001b[1;33m\u001b[0m\u001b[0m\n",
      "\u001b[1;32m~\\miniconda3\\lib\\site-packages\\pandas\\core\\base.py\u001b[0m in \u001b[0;36m_aggregate\u001b[1;34m(self, arg, *args, **kwargs)\u001b[0m\n\u001b[0;32m    475\u001b[0m         \u001b[1;32melif\u001b[0m \u001b[0mis_list_like\u001b[0m\u001b[1;33m(\u001b[0m\u001b[0marg\u001b[0m\u001b[1;33m)\u001b[0m\u001b[1;33m:\u001b[0m\u001b[1;33m\u001b[0m\u001b[1;33m\u001b[0m\u001b[0m\n\u001b[0;32m    476\u001b[0m             \u001b[1;31m# we require a list, but not an 'str'\u001b[0m\u001b[1;33m\u001b[0m\u001b[1;33m\u001b[0m\u001b[1;33m\u001b[0m\u001b[0m\n\u001b[1;32m--> 477\u001b[1;33m             \u001b[1;32mreturn\u001b[0m \u001b[0mself\u001b[0m\u001b[1;33m.\u001b[0m\u001b[0m_aggregate_multiple_funcs\u001b[0m\u001b[1;33m(\u001b[0m\u001b[0marg\u001b[0m\u001b[1;33m,\u001b[0m \u001b[0m_axis\u001b[0m\u001b[1;33m=\u001b[0m\u001b[0m_axis\u001b[0m\u001b[1;33m)\u001b[0m\u001b[1;33m,\u001b[0m \u001b[1;32mNone\u001b[0m\u001b[1;33m\u001b[0m\u001b[1;33m\u001b[0m\u001b[0m\n\u001b[0m\u001b[0;32m    478\u001b[0m         \u001b[1;32melse\u001b[0m\u001b[1;33m:\u001b[0m\u001b[1;33m\u001b[0m\u001b[1;33m\u001b[0m\u001b[0m\n\u001b[0;32m    479\u001b[0m             \u001b[0mresult\u001b[0m \u001b[1;33m=\u001b[0m \u001b[1;32mNone\u001b[0m\u001b[1;33m\u001b[0m\u001b[1;33m\u001b[0m\u001b[0m\n",
      "\u001b[1;32m~\\miniconda3\\lib\\site-packages\\pandas\\core\\base.py\u001b[0m in \u001b[0;36m_aggregate_multiple_funcs\u001b[1;34m(self, arg, _axis)\u001b[0m\n\u001b[0;32m    540\u001b[0m         \u001b[1;31m# if we are empty\u001b[0m\u001b[1;33m\u001b[0m\u001b[1;33m\u001b[0m\u001b[1;33m\u001b[0m\u001b[0m\n\u001b[0;32m    541\u001b[0m         \u001b[1;32mif\u001b[0m \u001b[1;32mnot\u001b[0m \u001b[0mlen\u001b[0m\u001b[1;33m(\u001b[0m\u001b[0mresults\u001b[0m\u001b[1;33m)\u001b[0m\u001b[1;33m:\u001b[0m\u001b[1;33m\u001b[0m\u001b[1;33m\u001b[0m\u001b[0m\n\u001b[1;32m--> 542\u001b[1;33m             \u001b[1;32mraise\u001b[0m \u001b[0mValueError\u001b[0m\u001b[1;33m(\u001b[0m\u001b[1;34m\"no results\"\u001b[0m\u001b[1;33m)\u001b[0m\u001b[1;33m\u001b[0m\u001b[1;33m\u001b[0m\u001b[0m\n\u001b[0m\u001b[0;32m    543\u001b[0m \u001b[1;33m\u001b[0m\u001b[0m\n\u001b[0;32m    544\u001b[0m         \u001b[1;32mtry\u001b[0m\u001b[1;33m:\u001b[0m\u001b[1;33m\u001b[0m\u001b[1;33m\u001b[0m\u001b[0m\n",
      "\u001b[1;31mValueError\u001b[0m: no results"
     ]
    }
   ],
   "source": [
    "#your code to add a column to dataframe called \"similarity\"\n",
    "df[\"similarity\"] = df.apply(similarity(myrow))"
   ]
  },
  {
   "cell_type": "code",
   "execution_count": null,
   "metadata": {
    "deletable": false,
    "editable": false,
    "nbgrader": {
     "cell_type": "code",
     "checksum": "ea87d1817474edbad768ebf3bf981da3",
     "grade": true,
     "grade_id": "cell-ec38b4dade899048",
     "locked": true,
     "points": 1,
     "schema_version": 3,
     "solution": false
    }
   },
   "outputs": [],
   "source": [
    "## == TEST CASES for Puzzle 5 ==\n",
    "# - This read-only cell contains test cases for your previous cell.\n",
    "# - If this cell runs with the success message as your output, you PASSED all test cases!\n",
    "# - If this cell results in any errors, check you previous cell, make changes, and RE-RUN your code and then this cell.\n",
    "\n",
    "assert(df.shape[1] >= 34), \"You need to apply your similarity function to your dataframe\"\n",
    "\n",
    "## == SUCCESS MESSAGE ==\n",
    "# You will only see this message (with the emoji showing) if you passed all test cases:\n",
    "tada = \"\\N{PARTY POPPER}\"\n",
    "print(f\"{tada} All tests passed! {tada}\")"
   ]
  },
  {
   "cell_type": "markdown",
   "metadata": {
    "deletable": false,
    "editable": false,
    "nbgrader": {
     "cell_type": "markdown",
     "checksum": "66f5c3f20a816958f8b7d1338fc33d35",
     "grade": false,
     "grade_id": "cell-b60caa666e942962",
     "locked": true,
     "schema_version": 3,
     "solution": false,
     "task": false
    }
   },
   "source": [
    "## Part 6 | Find your twin!\n",
    "\n",
    "Your last column in your DataFrame is a **metric** (a measurement) of how similar you are to everyone else in the class!\n",
    "\n",
    "Use your **cheat sheet** (link: https://pandas.pydata.org/Pandas_Cheat_Sheet.pdf) to find how to sort a DataFrame where the most similar person is on top.  Store that sorted DataFrame in `df_twins`.\n",
    "\n",
    "- You should be most similar to yourself (you will always match yourself)!  *If this is not the case, you did something wrong and should double-check all of your steps up to this point.*"
   ]
  },
  {
   "cell_type": "code",
   "execution_count": null,
   "metadata": {
    "deletable": false,
    "nbgrader": {
     "cell_type": "code",
     "checksum": "a5d67e15f0cd993fb2afcba348981b13",
     "grade": false,
     "grade_id": "cell-2f540c719178869e",
     "locked": false,
     "schema_version": 3,
     "solution": true
    }
   },
   "outputs": [],
   "source": [
    "df_twins = ...\n",
    "df_twins\n",
    "\n"
   ]
  },
  {
   "cell_type": "code",
   "execution_count": null,
   "metadata": {
    "deletable": false,
    "editable": false,
    "nbgrader": {
     "cell_type": "code",
     "checksum": "5a89cbea65a04c429da9a5ddabe53bcd",
     "grade": true,
     "grade_id": "cell-d17c8bf547ab9ea7",
     "locked": true,
     "points": 3,
     "schema_version": 3,
     "solution": false
    }
   },
   "outputs": [],
   "source": [
    "## == TEST CASES for Puzzle 6 ==\n",
    "# - This read-only cell contains test cases for your previous cell.\n",
    "# - If this cell runs with the success message as your output, you PASSED all test cases!\n",
    "# - If this cell results in any errors, check you previous cell, make changes, and RE-RUN your code and then this cell.\n",
    "\n",
    "assert( df_twins.head(1).squeeze()[\"Name\"] == myrow[\"Name\"] ), \"You must be most similar to yourself.\"\n",
    "\n",
    "## == SUCCESS MESSAGE ==\n",
    "# You will only see this message (with the emoji showing) if you passed all test cases:\n",
    "tada = \"\\N{PARTY POPPER}\"\n",
    "print(f\"{tada} All tests passed! {tada}\")"
   ]
  },
  {
   "cell_type": "markdown",
   "metadata": {
    "deletable": false,
    "editable": false,
    "nbgrader": {
     "cell_type": "markdown",
     "checksum": "36825902206e819cad8e0eb953444615",
     "grade": false,
     "grade_id": "cell-dc56fb367aec1907",
     "locked": true,
     "schema_version": 3,
     "solution": false,
     "task": false
    }
   },
   "source": [
    "# Finale!\n",
    "## Submit Your Work!\n",
    "\n",
    "You're almost done -- congratulations!\n",
    "\n",
    "You need to do two more things:\n",
    "\n",
    "1. Save your work.  To do this, create a **notebook checkpoint** by using the menu within the notebook to go **File -> Save and Checkpoint**\n",
    "\n",
    "2. Choose `File` and then `Close and Halt` from this notebook.\n",
    "\n",
    "3. Choose `Quit` on the main notebook webpage.\n",
    "\n",
    "4. Return to your command line and follow the directions on the Data Science Discovery page on how to use git to turn this notebook into the course!"
   ]
  }
 ],
 "metadata": {
  "kernelspec": {
   "display_name": "Python 3",
   "language": "python",
   "name": "python3"
  },
  "language_info": {
   "codemirror_mode": {
    "name": "ipython",
    "version": 3
   },
   "file_extension": ".py",
   "mimetype": "text/x-python",
   "name": "python",
   "nbconvert_exporter": "python",
   "pygments_lexer": "ipython3",
   "version": "3.7.6"
  }
 },
 "nbformat": 4,
 "nbformat_minor": 2
}
