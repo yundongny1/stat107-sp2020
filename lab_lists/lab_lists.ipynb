{
 "cells": [
  {
   "cell_type": "markdown",
   "metadata": {},
   "source": [
    "# Lab Lists and Dictionaries\n",
    "\n",
    "Hello and welcome to the CIA. Henceforth, you will be addressed by your codename: \"Agent BlackCobra\". The information about your assignment is highly classified, and should not be shared with anyone other than your supervisors under any circumstances.\n",
    "\n",
    "We have intercepted a note from the government of Kerplakistan intended for its military located on a submarine in the Pacific Ocean. The problem is, the message is encoded using a caesar cypher (https://en.wikipedia.org/wiki/Caesar_cipher) We know that the message is dealing with the raid of the SpaceX headquarters, as the Kerplakistinian president recently commented \"that Elon Musk dude is crazy, SpaceX has gotta go\", but we don't know when the attack is happening.\n",
    "\n",
    "Please use your programming skills to decode the message, Agent BlackCobra; the fate of Elon Musk rests in your hands.\n",
    "\n",
    "- Complete all puzzles and submit this lab before Sunday at 11:59pm"
   ]
  },
  {
   "cell_type": "markdown",
   "metadata": {},
   "source": [
    "## Concept Review: Lists in Python\n",
    "\n",
    "Several different times during Data Science DISCOVERY, you have seen the use of **lists** in Python.  A list allow us to combine multiple elements into a single variable.\n",
    "\n",
    "For example, the following code stores a list of the first ten prime numbers:\n",
    "```\n",
    "primes = [2, 3, 5, 7, 11, 13, 17, 19, 23, 29]\n",
    "```\n",
    "\n",
    "And the following list stores five Game of Thrones characters:\n",
    "```\n",
    "got_chars = ['Daenerys Targaryen', 'Jon Snow', 'Gregor Clegane', 'Cersei Lannister', 'Arya Stark']\n",
    "```\n",
    "\n",
    "Elements in a list can be indexed just like a DataFrame, except that the first element is always 0, the second element is always 1, etc.\n",
    "\n",
    "- `primes[0]` returns the first element (\"index 0\") of `primes` -- the number `2`\n",
    "- `primes[2]` returns the third element (\"index 2\") of `primes` -- the number `5`\n",
    "- `got_chars[1]` returns the second element (\"index 1\") of `got_chars` -- `'Jon Snow'`\n",
    "\n",
    "Try out a few yourself:"
   ]
  },
  {
   "cell_type": "code",
   "execution_count": null,
   "metadata": {},
   "outputs": [],
   "source": [
    "primes = [2, 3, 5, 7, 11, 13, 17, 19, 23, 29]\n",
    "got_chars = ['Daenerys Targaryen', 'Jon Snow', 'Gregor Clegane', 'Cersei Lannister', 'Arya Stark']"
   ]
  },
  {
   "cell_type": "markdown",
   "metadata": {},
   "source": [
    "## Concept: Dictionaries\n",
    "\n",
    "The second concept core to this lab is that of a dictionary.  You have already used dictionaries extensively with DataFrames, but we are going to focus on a simple Python dictionary.\n",
    "\n",
    "A dictionary is an association between a key and a value -- *a dictionary is just a lookup table where we store information to get back later.*  All values stored are stored by a **key**.  For example, your NetID is a lookup value (or **key**) to your name.\n",
    "\n",
    "- `'waf'` could look up `'Wade Fagen-Ulmschneider'`\n",
    "- `'kflan'` could look up `'Karle Flanagan'`\n",
    "\n",
    "To do this in Python, a dictionary in Python takes three steps:\n",
    "\n",
    "1. Create a empty dictionary with `{}`.  For example:\n",
    "\n",
    "```\n",
    "dict = {}\n",
    "```\n",
    "\n",
    "2. Add values to the dictionary using the same syntax as a list, except our index is now the **key**:\n",
    "\n",
    "```\n",
    "dict['waf'] = 'Wade Fagen-Ulmschneider'\n",
    "dict['kflan'] = 'Karle Flanagan'\n",
    "```\n",
    "\n",
    "3. You can retrieve the values by reading from the dictionary:\n",
    "\n",
    "```\n",
    "dict['waf']   # Returns 'Wade Fagen-Ulmschneider'\n",
    "```\n",
    "\n",
    "Try out a few yourself:"
   ]
  },
  {
   "cell_type": "code",
   "execution_count": null,
   "metadata": {
    "deletable": false,
    "nbgrader": {
     "cell_type": "code",
     "checksum": "7d6a2db2fb430840f59b7e663c6f97f8",
     "grade": false,
     "grade_id": "cell-c1d17ab92f582e01",
     "locked": false,
     "schema_version": 3,
     "solution": true,
     "task": false
    }
   },
   "outputs": [],
   "source": [
    "dict = {}\n",
    "\n",
    "dict['waf'] = 'Wade Fagen-Ulmschneider'\n",
    "dict['kflan'] = 'Karle Flanagan'\n",
    "# TODO: Add yourself to the dictionary!\n",
    "\n",
    "dict\n",
    "\n"
   ]
  },
  {
   "cell_type": "code",
   "execution_count": null,
   "metadata": {
    "deletable": false,
    "editable": false,
    "nbgrader": {
     "cell_type": "code",
     "checksum": "af39ab86ca247382034cc8f8aa4f5cce",
     "grade": true,
     "grade_id": "cell-8af9642a5ca090fc",
     "locked": true,
     "points": 1,
     "schema_version": 3,
     "solution": false,
     "task": false
    }
   },
   "outputs": [],
   "source": [
    "## == TEST CASES ==\n",
    "# - This read-only cell contains test cases for your previous cell(s).\n",
    "assert(len(dict) >= 3), \"You must add a new entry to the dictionary.\"\n",
    "\n",
    "## == SUCCESS MESSAGE ==\n",
    "# You will only see this message (with the emoji showing) if you passed all test cases:\n",
    "tada = \"\\N{PARTY POPPER}\"\n",
    "print(f\"{tada} All tests passed! {tada}\")\n",
    "print()"
   ]
  },
  {
   "cell_type": "markdown",
   "metadata": {},
   "source": [
    "## Overall Strategy\n",
    "\n",
    "A ceasar cypher is when you take all of the letters of a message and rotate them by a shift amount. If the shift parameter is 2, then all of the C's in the original message will become A's in the cypertext (aka, the encrypted version). See the Wikipedia example for more information: https://en.wikipedia.org/wiki/Caesar_cipher.\n",
    "\n",
    "We know that the Kerplakistinian note was encoded with a caesar cypher, but we don't know what the shift amount was. How can we figure it out? By trying all 26 possible shift amounts (we will only use UPPERCASE letters)!\n",
    "\n",
    "\n",
    "## Puzzle 1: helper for decoding messages\n",
    "First, let's write a function that helps us decode a message, given a certain shift amount.\n",
    "\n",
    "### Pre-Puzzle 1.1: Shifting `A` by 2\n",
    "\n",
    "If you are going to shift `A` by 2, what is the result?\n",
    "\n",
    "- (Solve using indexing and list syntax)"
   ]
  },
  {
   "cell_type": "code",
   "execution_count": null,
   "metadata": {
    "deletable": false,
    "nbgrader": {
     "cell_type": "code",
     "checksum": "8596353cb8d7de4c3f64223da7c4b1b4",
     "grade": false,
     "grade_id": "cell-5f849453cf430e62",
     "locked": false,
     "schema_version": 3,
     "solution": true,
     "task": false
    }
   },
   "outputs": [],
   "source": [
    "alpha = [\"A\",\"B\",\"C\",\"D\",\"E\",\"F\",\"G\",\"H\",\"I\",\"J\",\"K\",\"L\",\"M\",\"N\",\"O\",\"P\",\"Q\",\"R\",\"S\",\"T\",\"U\",\"V\",\"W\",\"X\",\"Y\",\"Z\"]\n",
    "A_shiftBy2 = ...\n",
    "\n"
   ]
  },
  {
   "cell_type": "code",
   "execution_count": null,
   "metadata": {
    "deletable": false,
    "editable": false,
    "nbgrader": {
     "cell_type": "code",
     "checksum": "aebcc98ec3fadeafbbb66631716211e6",
     "grade": true,
     "grade_id": "cell-305fdaa3ab0c6f32",
     "locked": true,
     "points": 1,
     "schema_version": 3,
     "solution": false,
     "task": false
    }
   },
   "outputs": [],
   "source": [
    "## == TEST CASES ==\n",
    "# - This read-only cell contains test cases for your previous cell(s).\n",
    "assert(A_shiftBy2 == \"C\"), \"Shifting `A` by two should be `C`.\"\n",
    "\n",
    "## == SUCCESS MESSAGE ==\n",
    "# You will only see this message (with the emoji showing) if you passed all test cases:\n",
    "tada = \"\\N{PARTY POPPER}\"\n",
    "print(f\"{tada} All tests passed! {tada}\")\n",
    "print()"
   ]
  },
  {
   "cell_type": "markdown",
   "metadata": {},
   "source": [
    "### Pre-Puzzle 1.2: Shifting `A` by `shift` amount\n",
    "\n",
    "Instead of shifting just by 2, complete a function that shifts `'A'` by the amount stored in the function parameter `shift`.\n",
    "\n",
    "*HINT1: Use the list `alpha` to help out!*\n",
    "\n",
    "*HINT2: What happens when 'shift' parameter is large and greater than length of possible alphabet set? If we shift A by 27, then it should \"loop back\" and return B*\n",
    "\n",
    "\n",
    "\n",
    "#### Helpful Concept: Modulo operation\n",
    "Finds the remainder of a division between two positive integers\n",
    "```\n",
    " 1 % 2    # returns 1\n",
    "12 % 5    # returns 2\n",
    "14 % 7    # returns 0\n",
    "27 % 26   # returns 1\n",
    "```\n"
   ]
  },
  {
   "cell_type": "code",
   "execution_count": null,
   "metadata": {
    "deletable": false,
    "nbgrader": {
     "cell_type": "code",
     "checksum": "432402d796856860df5934b2dd43ebcc",
     "grade": false,
     "grade_id": "cell-cfcba9163460c169",
     "locked": false,
     "schema_version": 3,
     "solution": true,
     "task": false
    }
   },
   "outputs": [],
   "source": [
    "alpha = [\"A\",\"B\",\"C\",\"D\",\"E\",\"F\",\"G\",\"H\",\"I\",\"J\",\"K\",\"L\",\"M\",\"N\",\"O\",\"P\",\"Q\",\"R\",\"S\",\"T\",\"U\",\"V\",\"W\",\"X\",\"Y\",\"Z\"]\n",
    "\n",
    "# Return 'A' shifted by `shift`.\n",
    "def shiftA(shift):\n",
    "    ...\n",
    "    \n"
   ]
  },
  {
   "cell_type": "markdown",
   "metadata": {},
   "source": [
    "#### Testing `shiftA` - Checking Your Work!"
   ]
  },
  {
   "cell_type": "code",
   "execution_count": null,
   "metadata": {},
   "outputs": [],
   "source": [
    "shiftA(1)  # Should be 'B'"
   ]
  },
  {
   "cell_type": "code",
   "execution_count": null,
   "metadata": {},
   "outputs": [],
   "source": [
    "shiftA(6)  # Should be 'G'"
   ]
  },
  {
   "cell_type": "code",
   "execution_count": null,
   "metadata": {},
   "outputs": [],
   "source": [
    "shiftA(0)  # Should be 'A'"
   ]
  },
  {
   "cell_type": "code",
   "execution_count": null,
   "metadata": {},
   "outputs": [],
   "source": [
    "shiftA(0) + shiftA(22) + shiftA(4) + shiftA(18) + shiftA(14) + shiftA(12) + shiftA(4) + '!'"
   ]
  },
  {
   "cell_type": "code",
   "execution_count": null,
   "metadata": {
    "deletable": false,
    "editable": false,
    "nbgrader": {
     "cell_type": "code",
     "checksum": "0b1325a95d6680c10b6c1648cd3df3f8",
     "grade": true,
     "grade_id": "cell-bcfa5c84909d7d6c",
     "locked": true,
     "points": 1,
     "schema_version": 3,
     "solution": false,
     "task": false
    }
   },
   "outputs": [],
   "source": [
    "## == TEST CASES ==\n",
    "# - This read-only cell contains test cases for your previous cell(s).\n",
    "assert(shiftA(0)  == \"A\"), f\"A shift of 0 must be A -- your algorithm got: {shiftA(0)}\"\n",
    "assert(shiftA(22) == \"W\"), f\"A shift of 22 must be W -- your algorithm got: {shiftA(22)}\"\n",
    "assert(shiftA(4)  == \"E\"), f\"A shift of 4 must be E -- your algorithm got: {shiftA(4)}\"\n",
    "assert(shiftA(18) == \"S\"), f\"A shift of 18 must be S -- your algorithm got: {shiftA(18)}\"\n",
    "assert(shiftA(14) == \"O\"), f\"A shift of 14 must be O -- your algorithm got: {shiftA(14)}\"\n",
    "assert(shiftA(12) == \"M\"), f\"A shift of 12 must be M -- your algorithm got: {shiftA(12)}\"\n",
    "assert(shiftA(4)  == \"E\"), f\"A shift of 4 must be E -- your algorithm got: {shiftA(4)}\"\n",
    "\n",
    "## == SUCCESS MESSAGE ==\n",
    "# You will only see this message (with the emoji showing) if you passed all test cases:\n",
    "tada = \"\\N{PARTY POPPER}\"\n",
    "print(f\"{tada} All tests passed! {tada}\")\n",
    "print()"
   ]
  },
  {
   "cell_type": "markdown",
   "metadata": {},
   "source": [
    "## Puzzle 2\n",
    "\n",
    "GOAL: Write a function that takes in one parameter: a shift amount between [0, 25] inclusive. The function should return a dictionary that contains the letters A-Z and what they would be in the original (decoded) message with the given shift amount used during encryption.\n",
    "\n",
    "Example, if the shift amount is 3, then the function should return a dictionary of the following:\n",
    "```\n",
    "{\"A\": \"D\", \"B\": \"E\", \"C\": \"F\" ... \"X\": \"A\", \"Y\": \"B\", \"Z\": \"C\"}\n",
    "```"
   ]
  },
  {
   "cell_type": "code",
   "execution_count": null,
   "metadata": {
    "deletable": false,
    "nbgrader": {
     "cell_type": "code",
     "checksum": "91712370865fed8c64e90cbdced5dd06",
     "grade": false,
     "grade_id": "cell-e37c76fc14bdc94a",
     "locked": false,
     "schema_version": 3,
     "solution": true,
     "task": false
    }
   },
   "outputs": [],
   "source": []
  },
  {
   "cell_type": "markdown",
   "metadata": {},
   "source": [
    "#### Testing `createDictionary`\n",
    "\n",
    "Let's make sure your function works before we go further!  Check to make sure you get the expected results:"
   ]
  },
  {
   "cell_type": "code",
   "execution_count": null,
   "metadata": {},
   "outputs": [],
   "source": [
    "# Print out the whole dictionary, just to see what's in it:\n",
    "createDictionary(3)"
   ]
  },
  {
   "cell_type": "code",
   "execution_count": null,
   "metadata": {},
   "outputs": [],
   "source": [
    "d = createDictionary(3)\n",
    "d['A']  # Should be 'A' shifted by 3 == 'D'"
   ]
  },
  {
   "cell_type": "code",
   "execution_count": null,
   "metadata": {},
   "outputs": [],
   "source": [
    "d = createDictionary(3)\n",
    "d['C']  # Should be 'C' shifted by 3 == 'F'"
   ]
  },
  {
   "cell_type": "code",
   "execution_count": null,
   "metadata": {},
   "outputs": [],
   "source": [
    "d = createDictionary(3)\n",
    "d['Z']  # Should be 'Z' shifted by 3 == 'C'"
   ]
  },
  {
   "cell_type": "code",
   "execution_count": null,
   "metadata": {},
   "outputs": [],
   "source": [
    "d = createDictionary(1)\n",
    "d['Z']  # Should be 'Z' shifted by 1 == 'A'"
   ]
  },
  {
   "cell_type": "code",
   "execution_count": null,
   "metadata": {
    "deletable": false,
    "editable": false,
    "nbgrader": {
     "cell_type": "code",
     "checksum": "f9be96b70eaf7740679815f5bb3923f7",
     "grade": true,
     "grade_id": "cell-0b65e7c4819d2b25",
     "locked": true,
     "points": 1,
     "schema_version": 3,
     "solution": false,
     "task": false
    }
   },
   "outputs": [],
   "source": [
    "## == TEST CASES ==\n",
    "# - This read-only cell contains test cases for your previous cell(s).\n",
    "d = createDictionary(3)\n",
    "assert(d['A']  == 'D'), f\"A dictionary with a shift of 3 must translate A to D -- you got: {d['A']}\"\n",
    "assert(d['C']  == 'F'), f\"A dictionary with a shift of 3 must translate C to F -- you got: {d['C']}\"\n",
    "assert(d['Z']  == 'C'), f\"A dictionary with a shift of 3 must translate Z to C -- you got: {d['Z']}\"\n",
    "\n",
    "d = createDictionary(1)\n",
    "assert(d['Z']  == 'A'), f\"A dictionary with a shift of 1 must translate Z to A -- you got: {d['Z']}\"\n",
    "\n",
    "\n",
    "## == SUCCESS MESSAGE ==\n",
    "# You will only see this message (with the emoji showing) if you passed all test cases:\n",
    "tada = \"\\N{PARTY POPPER}\"\n",
    "print(f\"{tada} All tests passed! {tada}\")\n",
    "print()"
   ]
  },
  {
   "cell_type": "markdown",
   "metadata": {},
   "source": [
    "## Puzzle 3: Decoding the message\n",
    "\n",
    "Using your `createDictionary` function, we have provided a function that, given the parameters of the encoded message and a shift amount, returns what that message decodes to via the given shift amount.  The message will be given as a list of the words of the message and the function returns the decoded list:"
   ]
  },
  {
   "cell_type": "code",
   "execution_count": null,
   "metadata": {},
   "outputs": [],
   "source": [
    "# This function is complete -- run it and see it work! :)\n",
    "def decodeGivenShift(msg, shift):\n",
    "    decoded = []\n",
    "    dictionary = createDictionary(shift)\n",
    "    for word in msg:\n",
    "        decodedWord = \"\"\n",
    "        for letter in word:\n",
    "            decodedWord += dictionary[letter]\n",
    "        decoded.append(decodedWord)\n",
    "    return decoded\n",
    "\n",
    "decodeGivenShift([\"HVWG\", \"WG\", \"O\", \"ASGGOUS\"], 12)\n"
   ]
  },
  {
   "cell_type": "markdown",
   "metadata": {},
   "source": [
    "## Puzzle 3.1: Decoding the RIGHT message\n",
    "\n",
    "Now that we have a decode function given a shift amount, how can we find out which shift amount is right? Easy, try all of the shift amounts, and see which one gives us a message back in English!\n",
    "\n",
    "We would like you to programmatically detect which message is in English. (How can you do this? Hint: what or who is the known target for the attack? How can we use this information to check if the message was decoded correctly?)\n",
    "\n",
    "The actual message you need to decode is given in the next cell."
   ]
  },
  {
   "cell_type": "code",
   "execution_count": null,
   "metadata": {
    "deletable": false,
    "nbgrader": {
     "cell_type": "code",
     "checksum": "6184d463d7bf3621eaef177b08644474",
     "grade": false,
     "grade_id": "cell-5ca9785aeb50f488",
     "locked": false,
     "schema_version": 3,
     "solution": true,
     "task": false
    }
   },
   "outputs": [],
   "source": [
    "def decode(msg):\n",
    "    ...\n",
    "\n",
    "\n",
    "\n",
    "kerplakistanMessage = [\"KHB\", \"ERE\", \"ZH\", \"DUH\", \"JRLQJ\", \"WR\", \"KLW\", \"XS\", \"ORV\", \"DQJHOHV\", \"DQG\", \"VSDFHA\", \"WRPRUURZ\", \"DW\", \"R\", \"IRXUWHHQ\", \"KXQGUHG\", \"WKDW\", \"HORQ\", \"GXGH\", \"LV\", \"FUDB\", \"DQG\", \"ZH\", \"KDYH\", \"JRW\", \"WR\", \"GR\", \"VRPHWKLQJ\", \"DERXW\", \"LW\", \"KDVKWDJ\", \"DLQW\", \"QR\", \"PDQ\", \"WRXFKLQJ\", \"WKDW\", \"EDOO\", \"RI\", \"FKHHVH\", \"KDVKWDJ\", \"GRZQ\", \"ZLWK\", \"HORQ\", \"KDVKWDJ\", \"MHW\", \"SDFNV\", \"EH\", \"ZKDFN\"]\n",
    "' '.join(decode(kerplakistanMessage))"
   ]
  },
  {
   "cell_type": "markdown",
   "metadata": {},
   "source": [
    "## Puzzle 3.2: A second note\n",
    "\n",
    "Agent BlackCobra, our operatives intersected a second note from the Kerplakistinian government. We know what they are doing with Elon, so we have no idea what this one is regarding. Can you still find a way to decode the message?\n",
    "\n",
    "There are several heuristics you can use to solve this issue. For instance, chances are the message contains at least one of the words \"the, and, an, but, so\". However, we want you to solve it by visualizing the frequency of the letters in the message!"
   ]
  },
  {
   "cell_type": "markdown",
   "metadata": {},
   "source": [
    "## A touch of background\n",
    "It turns out that most English texts have relatively consistently distributed letter usage. Traditional English text usually has a letter distribution that looks something like this: https://en.wikipedia.org/wiki/Letter_frequency#/media/File:English_letter_frequency_(alphabetic).svg\n",
    "\n",
    "Let's create a program that creates a graph of letter frequencies for us."
   ]
  },
  {
   "cell_type": "markdown",
   "metadata": {},
   "source": [
    "## Puzzle 4: Visualizing letter frequencies\n",
    "In order to make the visualization, we have to count letter frequencies first.\n",
    "\n",
    "GOAL: Create a function that, given a list of strings like before, returns a dictionary where the keys are letters and the values are number of times that letter appears in the entire message.\n",
    "\n",
    "Example:\n",
    "```\n",
    "msg = [\"MY\", \"CAT\", \"IS\", \"COOL\"]\n",
    "```\n",
    "returns: `{'A': 1, 'C': 2, ... 'Y': 1}`"
   ]
  },
  {
   "cell_type": "code",
   "execution_count": null,
   "metadata": {
    "deletable": false,
    "nbgrader": {
     "cell_type": "code",
     "checksum": "34c164d0fc24a4b8a2339aa1d5b27c45",
     "grade": false,
     "grade_id": "cell-9f1a8da1982ef2d0",
     "locked": false,
     "schema_version": 3,
     "solution": true,
     "task": false
    }
   },
   "outputs": [],
   "source": [
    "def countLetters(msg):\n",
    "    dictionary = {}\n",
    "    \n",
    "    ...\n",
    "    \n",
    "    return dictionary\n",
    "    \n",
    "\n",
    "\n",
    "message = [\"MY\", \"CAT\", \"IS\", \"COOL\"]\n",
    "print(countLetters(message))"
   ]
  },
  {
   "cell_type": "code",
   "execution_count": null,
   "metadata": {
    "deletable": false,
    "editable": false,
    "nbgrader": {
     "cell_type": "code",
     "checksum": "de2db864e4e538eed124de5ae5de9727",
     "grade": true,
     "grade_id": "cell-c7e7567f7610d776",
     "locked": true,
     "points": 1,
     "schema_version": 3,
     "solution": false,
     "task": false
    }
   },
   "outputs": [],
   "source": [
    "## == TEST CASES ==\n",
    "# - This read-only cell contains test cases for your previous cell(s).\n",
    "message = [\"MY\", \"CAT\", \"IS\", \"COOL\"]\n",
    "result = countLetters(message)\n",
    "assert( result['M'] == 1 ), f\"The message \\\"MY CAT IS COOL\\\" has one 'M' -- you returned {result['M']}.\"\n",
    "assert( result['C'] == 2 ), f\"The message \\\"MY CAT IS COOL\\\" has two 'C's -- you returned {result['C']}.\"\n",
    "\n",
    "message = [\"DATA\", \"SCIENCE\", \"DISCOVERY\"]\n",
    "result = countLetters(message)\n",
    "assert( result['Y'] == 1 ), f\"The message \\\"DATA SCIENCE DISCOVERY\\\" has one 'Y' -- you returned {result['Y']}.\"\n",
    "assert( result['E'] == 3 ), f\"The message \\\"DATA SCIENCE DISCOVERY\\\" has three 'E's -- you returned {result['E']}.\"\n",
    "assert( result['C'] == 3 ), f\"The message \\\"DATA SCIENCE DISCOVERY\\\" has three 'C's -- you returned {result['C']}.\"\n",
    "\n",
    "## == SUCCESS MESSAGE ==\n",
    "# You will only see this message (with the emoji showing) if you passed all test cases:\n",
    "tada = \"\\N{PARTY POPPER}\"\n",
    "print(f\"{tada} All tests passed! {tada}\")"
   ]
  },
  {
   "cell_type": "markdown",
   "metadata": {},
   "source": [
    "## Create the visualization\n",
    "\n",
    "We have provided a function that creates a visualization of the letter frequency of a message that is decoded with a given shift amount. The function takes in two parameters: an encoded message and a shift amount to try, and it will produce a frequency plot of the letters in the decoded message and returning the DataFrame"
   ]
  },
  {
   "cell_type": "code",
   "execution_count": null,
   "metadata": {},
   "outputs": [],
   "source": [
    "import pandas as pd\n",
    "import matplotlib.pyplot as plt\n",
    "\n",
    "alpha = [\"A\",\"B\",\"C\",\"D\",\"E\",\"F\",\"G\",\"H\",\"I\",\"J\",\"K\",\"L\",\"M\",\"N\",\"O\",\"P\",\"Q\",\"R\",\"S\",\"T\",\"U\",\"V\",\"W\",\"X\",\"Y\",\"Z\"]\n",
    "message = [\"HVWG\", \"WG\", \"O\", \"ASGGOUS\"]\n",
    "\n",
    "def createVis(msg, shift):\n",
    "    decodedMsg = decodeGivenShift(msg, shift)\n",
    "    dictionary = countLetters(decodedMsg)\n",
    "    data = []\n",
    "    for key in dictionary:\n",
    "        data.append({'letter': key, 'count': dictionary[key]} )\n",
    "    df = pd.DataFrame(data)\n",
    "    df = df.sort_values(by='letter')\n",
    "    df.plot.bar(x = 'letter', y = 'count')\n",
    "    return df\n",
    "        \n",
    "df = createVis(message, 12)"
   ]
  },
  {
   "cell_type": "markdown",
   "metadata": {},
   "source": [
    "## What is the right shift value?\n",
    "Now try manually passing parameters into the createVis function and see which shift value is correct (e.g., which parameter creates a distribution that matches this one https://upload.wikimedia.org/wikipedia/commons/thumb/d/d5/English_letter_frequency_%28alphabetic%29.svg/1200px-English_letter_frequency_%28alphabetic%29.svg.png)\n",
    "\n",
    "Note that the correct shift value will create a distribution that **very clearly** mimics the wikipedia image. It will be obvious which solution is correct. (Hint, if you start with shift value 0 and you try them in order, if you get to 12 you've passed the correct answer)"
   ]
  },
  {
   "cell_type": "code",
   "execution_count": null,
   "metadata": {
    "deletable": false,
    "nbgrader": {
     "cell_type": "code",
     "checksum": "4080f1ad6066078c74350ea417cd32a9",
     "grade": false,
     "grade_id": "cell-3edc3f33d68f4388",
     "locked": false,
     "schema_version": 3,
     "solution": true,
     "task": false
    }
   },
   "outputs": [],
   "source": [
    "# Using the createViz visualization, find the correct shift value:\n",
    "shiftValue = 0\n",
    "\n",
    "\n",
    "\n",
    "# This will send the message through `createViz`:\n",
    "newMessage = ['ZSNW','QGM','JWSV','SDAUW','AF','OGFVWJDSFV','KMUZ','S','YJWSL','TGGC','EQ','XSNGJALW','IMGLW','AK','SDAUW','OSK','TWYAFFAFY','LG','YWL','NWJQ','LAJWV','GX','KALLAFY','TQ','ZWJ','KAKLWJ','GF','LZW','TSFC','SFV','GX','ZSNAFY','FGLZAFY','LG','VG','GFUW','GJ','LOAUW','KZW','ZSV','HWWHWV','AFLG','LZW','TGGC','ZWJ','KAKLWJ','OSK','JWSVAFY','TML','AL','ZSV','FG','HAULMJWK','GJ','UGFNWJKSLAGFK','AF','AL','SFV','OZSL','AK','LZW','MKW','GX','S','TGGC','LZGMYZL','SDAUW','OALZGML','HAULMJWK','GJ','UGFNWJKSLAGF','KG','KZW','OSK','UGFKAVWJAFY','AF','ZWJ','GOF','EAFV','SK','OWDD','SK','KZW','UGMDV','XGJ','LZW','ZGL','VSQ','ESVW','ZWJ','XWWD','NWJQ','KDWWHQ','SFV','KLMHAV','OZWLZWJ','LZW','HDWSKMJW','GX','ESCAFY','S','VSAKQUZSAF','OGMDV','TW','OGJLZ','LZW','LJGMTDW','GX','YWLLAFY','MH','SFV','HAUCAFY','LZW','VSAKAWK','OZWF','KMVVWFDQ','S','OZALW','JSTTAL','OALZ','HAFC','WQWK','JSF','UDGKW','TQ','ZWJ','LZWJW','OSK','FGLZAFY','KG','NWJQ','JWESJCSTDW','AF','LZSL','FGJ','VAV','SDAUW','LZAFC','AL','KG','NWJQ','EMUZ','GML','GX','LZW','OSQ','LG','ZWSJ','LZW','JSTTAL','KSQ','LG','ALKWDX','GZ','VWSJ','GZ','VWSJ','A','KZSDD','TW','DSLW','OZWF','KZW','LZGMYZL','AL','GNWJ','SXLWJOSJVK','AL','GUUMJJWV','LG','ZWJ','LZSL','KZW','GMYZL','LG','ZSNW','OGFVWJWV','SL','LZAK','TML','SL','LZW','LAEW','AL','SDD','KWWEWV','IMALW','FSLMJSD','TML','OZWF','LZW','JSTTAL','SULMSDDQ','LGGC','S','OSLUZ','GML','GX','ALK','OSAKLUGSL','HGUCWL','SFV','DGGCWV','SL','AL','SFV','LZWF','ZMJJAWV','GF','SDAUW','KLSJLWV','LG','ZWJ','XWWL','XGJ','AL','XDSKZWV','SUJGKK','ZWJ','EAFV','LZSL','KZW','ZSV','FWNWJ','TWXGJW','KWWF','S','JSTTAL','OALZ','WALZWJ','S','OSAKLUGSLHGUCWL','GJ','S','OSLUZ','LG','LSCW','GML','GX','AL','SFV','TMJFAFY','OALZ','UMJAGKALQ','KZW','JSF','SUJGKK','LZW','XAWDV','SXLWJ','AL','SFV','XGJLMFSLWDQ','OSK','BMKL','AF','LAEW','LG','KWW','AL','HGH','VGOF','S','DSJYW','JSTTALZGDW','MFVWJ','LZW','ZWVYW','AF','SFGLZWJ','EGEWFL','VGOF','OWFL','SDAUW','SXLWJ','AL','FWNWJ','GFUW','UGFKAVWJAFY','ZGO','AF','LZW','OGJDV','KZW','OSK','LG','YWL','GML','SYSAF','LZW','JSTTALZGDW','OWFL','KLJSAYZL','GF','DACW','S','LMFFWD','XGJ','KGEW','OSQ','SFV','LZWF','VAHHWV','KMVVWFDQ','VGOF','KG','KMVVWFDQ','LZSL','SDAUW','ZSV','FGL','S','EGEWFL','LG','LZAFC','STGML','KLGHHAFY','ZWJKWDX','TWXGJW','KZW','XGMFV','ZWJKWDX','XSDDAFY','VGOF','S','NWJQ','VWWH','OWDD','WALZWJ','LZW','OWDD','OSK','NWJQ','VWWH','GJ','KZW','XWDD','NWJQ','KDGODQ','XGJ','KZW','ZSV','HDWFLQ','GX','LAEW','SK','KZW','OWFL','VGOF','LG','DGGC','STGML','ZWJ','SFV','LG','OGFVWJ','OZSL','OSK','YGAFY','LG','ZSHHWF','FWPL','XAJKL','KZW','LJAWV','LG','DGGC','VGOF','SFV','ESCW','GML','OZSL','KZW','OSK','UGEAFY','LG','TML','AL','OSK','LGG','VSJC','LG','KWW','SFQLZAFY','LZWF','KZW','DGGCWV','SL','LZW','KAVWK','GX','LZW','OWDD','SFV','FGLAUWV','LZSL','LZWQ','OWJW','XADDWV','OALZ','UMHTGSJVK','SFV','TGGCKZWDNWK','ZWJW','SFV','LZWJW','KZW','KSO','ESHK','SFV','HAULMJWK','ZMFY','MHGF','HWYK','KZW','LGGC','VGOF','S','BSJ','XJGE','GFW','GX','LZW','KZWDNWK','SK','KZW','HSKKWV','AL','OSK','DSTWDDWV','GJSFYW','ESJESDSVW','TML','LG','ZWJ','YJWSL','VAKSHHGAFLEWFL','AL','OSK','WEHLQ','KZW','VAV','FGL','DACW','LG','VJGH','LZW','BSJ','XGJ','XWSJ','GX','CADDAFY','KGEWTGVQ','KG','ESFSYWV','LG','HML','AL','AFLG','GFW','GX','LZW','UMHTGSJVK','SK','KZW','XWDD','HSKL','AL','OWDD','LZGMYZL','SDAUW','LG','ZWJKWDX','SXLWJ','KMUZ','S','XSDD','SK','LZAK','A','KZSDD','LZAFC','FGLZAFY','GX','LMETDAFY','VGOF','KLSAJK','ZGO','TJSNW','LZWQDD','SDD','LZAFC','EW','SL','ZGEW','OZQ','A','OGMDVFL','KSQ','SFQLZAFY','STGML','AL','WNWF','AX','A','XWDD','GXX','LZW','LGH','GX','LZW','ZGMKW','OZAUZ','OSK','NWJQ','DACWDQ','LJMW','VGOF','VGOF','VGOF','OGMDV','LZW','XSDD','FWNWJ','UGEW','LG','SF','WFV','A','OGFVWJ','ZGO','ESFQ','EADWK','ANW','XSDDWF','TQ','LZAK','LAEW','KZW','KSAV','SDGMV','A','EMKL','TW','YWLLAFY','KGEWOZWJW','FWSJ','LZW','UWFLJW','GX','LZW','WSJLZ','DWL','EW','KWW','LZSL','OGMDV','TW','XGMJ','LZGMKSFV','EADWK','VGOF','A','LZAFC','XGJ','QGM','KWW','SDAUW','ZSV','DWSJFL','KWNWJSD','LZAFYK','GX','LZAK','KGJL','AF','ZWJ','DWKKGFK','AF','LZW','KUZGGDJGGE','SFV','LZGMYZ','LZAK','OSK','FGL','S','NWJQ','YGGV','GHHGJLMFALQ','XGJ','KZGOAFY','GXX','ZWJ','CFGODWVYW','SK','LZWJW','OSK','FG','GFW','LG','DAKLWF','LG','ZWJ','KLADD','AL','OSK','YGGV','HJSULAUW','LG','KSQ','AL','GNWJ','QWK','LZSLK','STGML','LZW','JAYZL','VAKLSFUWTML','LZWF','A','OGFVWJ','OZSL','DSLALMVW','GJ','DGFYALMVW','ANW','YGL','LG','SDAUW','ZSV','FG','AVWS','OZSL','DSLALMVW','OSK','GJ','DGFYALMVW','WALZWJ','TML','LZGMYZL','LZWQ','OWJW','FAUW','YJSFV','OGJVK','LG','KSQ','HJWKWFLDQ','KZW','TWYSF','SYSAF','A','OGFVWJ','AX','A','KZSDD','XSDD','JAYZL','LZJGMYZ','LZW','WSJLZ','ZGO','XMFFQ','ALDD','KWWE','LG','UGEW','GML','SEGFY','LZW','HWGHDW','LZSL','OSDC','OALZ','LZWAJ','ZWSVK','VGOFOSJV','LZW','SFLAHSLZAWK','A','LZAFC','KZW','OSK','JSLZWJ','YDSV','LZWJW','OSK','FG','GFW','DAKLWFAFY','LZAK','LAEW','SK','AL','VAVFL','KGMFV','SL','SDD','LZW','JAYZL','OGJV','TML','A','KZSDD','ZSNW','LG','SKC','LZWE','OZSL','LZW','FSEW','GX','LZW','UGMFLJQ','AK','QGM','CFGO','HDWSKW','ESSE','AK','LZAK','FWO','RWSDSFV','GJ','SMKLJSDAS','SFV','KZW','LJAWV','LG','UMJLKWQ','SK','KZW','KHGCWXSFUQ','UMJLKWQAFY','SK','QGMJW','XSDDAFY','LZJGMYZ','LZW','SAJ','VG','QGM','LZAFC','QGM','UGMDV','ESFSYW','AL','SFV','OZSL','SF','AYFGJSFL','DALLDW','YAJD','KZWDD','LZAFC','EW','XGJ','SKCAFY','FG','ALDD','FWNWJ','VG','LG','SKC','HWJZSHK','A','KZSDD','KWW','AL','OJALLWF','MH','KGEWOZWJW','VGOF','VGOF','VGOF','LZWJW','OSK','FGLZAFY','WDKW','LG','VG','KG','SDAUW','KGGF','TWYSF','LSDCAFY','SYSAF','VAFSZDD','EAKK','EW','NWJQ','EMUZ','LGFAYZL','A','KZGMDV','LZAFC','VAFSZ','OSK','LZW','USL','A','ZGHW','LZWQDD','JWEWETWJ','ZWJ','KSMUWJ','GX','EADC','SL','LWSLAEW','VAFSZ','EQ','VWSJ','A','OAKZ','QGM','OWJW','VGOF','ZWJW','OALZ','EW','LZWJW','SJW','FG','EAUW','AF','LZW','SAJ','AE','SXJSAV','TML','QGM','EAYZL','USLUZ','S','TSL','SFV','LZSLK','NWJQ','DACW','S','EGMKW','QGM','CFGO','TML','VG','USLK','WSL','TSLK','A','OGFVWJ','SFV','ZWJW','SDAUW','TWYSF','LG','YWL','JSLZWJ','KDWWHQ','SFV','OWFL','GF','KSQAFY','LG','ZWJKWDX','AF','S','VJWSEQ','KGJL','GX','OSQ','VG','USLK','WSL','TSLK','VG','USLK','WSL','TSLK','SFV','KGEWLAEWK','VG','TSLK','WSL','USLK','XGJ','QGM','KWW','SK','KZW','UGMDVFL','SFKOWJ','WALZWJ','IMWKLAGF','AL','VAVFL','EMUZ','ESLLWJ','OZAUZ','OSQ','KZW','HML','AL','KZW','XWDL','LZSL','KZW','OSK','VGRAFY','GXX','SFV','ZSV','BMKL','TWYMF','LG','VJWSE','LZSL','KZW','OSK','OSDCAFY','ZSFV','AF','ZSFV','OALZ','VAFSZ','SFV','KSQAFY','LG','ZWJ','NWJQ','WSJFWKLDQ','FGO','VAFSZ','LWDD','EW','LZW','LJMLZ','VAV','QGM','WNWJ','WSL','S','TSL','OZWF','KMVVWFDQ','LZMEH','LZMEH','VGOF','KZW','USEW','MHGF','S','ZWSH','GX','KLAUCK','SFV','VJQ','DWSNWK','SFV','LZW','XSDD','OSK','GNWJ','SDAUW','OSK','FGL','S','TAL','ZMJL','SFV','KZW','BMEHWV','MH','GF','LG','ZWJ','XWWL','AF','S','EGEWFL','KZW','DGGCWV','MH','TML','AL','OSK','SDD','VSJC','GNWJZWSV','TWXGJW','ZWJ','OSK','SFGLZWJ','DGFY','HSKKSYW','SFV','LZW','OZALW','JSTTAL','OSK','KLADD','AF','KAYZL','ZMJJQAFY','VGOF','AL','LZWJW','OSK','FGL','S','EGEWFL','LG','TW','DGKL','SOSQ','OWFL','SDAUW','DACW','LZW','OAFV','SFV','OSK','BMKL','AF','LAEW','LG','ZWSJ','AL','KSQ','SK','AL','LMJFWV','S','UGJFWJ','GZ','EQ','WSJK','SFV','OZAKCWJK','ZGO','DSLW','ALK','YWLLAFY','KZW','OSK','UDGKW','TWZAFV','AL','OZWF','KZW','LMJFWV','LZW','UGJFWJ','TML','LZW','JSTTAL','OSK','FG','DGFYWJ','LG','TW','KWWF','KZW','XGMFV','ZWJKWDX','AF','S','DGFY','DGO','ZSDD','OZAUZ','OSK','DAL','MH','TQ','S','JGO','GX','DSEHK','ZSFYAFY','XJGE','LZW','JGGX','LZWJW','OWJW','VGGJK','SDD','JGMFV','LZW','ZSDD','TML','LZWQ','OWJW','SDD','DGUCWV','SFV','OZWF','SDAUW','ZSV','TWWF','SDD','LZW','OSQ','VGOF','GFW','KAVW','SFV','MH','LZW','GLZWJ','LJQAFY','WNWJQ','VGGJ','KZW','OSDCWV','KSVDQ','VGOF','LZW','EAVVDW','OGFVWJAFY','ZGO','KZW','OSK','WNWJ','LG','YWL','GML','SYSAF','KMVVWFDQ','KZW','USEW','MHGF','S','DALLDW','LZJWWDWYYWV','LSTDW','SDD','ESVW','GX','KGDAV','YDSKK','LZWJW','OSK','FGLZAFY','GF','AL','WPUWHL','S','LAFQ','YGDVWF','CWQ','SFV','SDAUWK','XAJKL','LZGMYZL','OSK','LZSL','AL','EAYZL','TWDGFY','LG','GFW','GX','LZW','VGGJK','GX','LZW','ZSDD','TML','SDSK','WALZWJ','LZW','DGUCK','OWJW','LGG','DSJYW','GJ','LZW','CWQ','OSK','LGG','KESDD','TML','SL','SFQ','JSLW','AL','OGMDV','FGL','GHWF','SFQ','GX','LZWE','ZGOWNWJ','GF','LZW','KWUGFV','LAEW','JGMFV','KZW','USEW','MHGF','S','DGO','UMJLSAF','KZW','ZSV','FGL','FGLAUWV','TWXGJW','SFV','TWZAFV','AL','OSK','S','DALLDW','VGGJ','STGML','XAXLWWF','AFUZWK','ZAYZ','KZW','LJAWV','LZW','DALLDW','YGDVWF','CWQ','AF','LZW','DGUC','SFV','LG','ZWJ','YJWSL','VWDAYZL','AL','XALLWV','SDAUW','GHWFWV','LZW','VGGJ','SFV','XGMFV','LZSL','AL','DWV','AFLG','S','KESDD','HSKKSYW','FGL','EMUZ','DSJYWJ','LZSF','S','JSLZGDW','KZW','CFWDL','VGOF','SFV','DGGCWV','SDGFY','LZW','HSKKSYW','AFLG','LZW','DGNWDAWKL','YSJVWF','QGM','WNWJ','KSO','ZGO','KZW','DGFYWV','LG','YWL','GML','GX','LZSL','VSJC','ZSDD','SFV','OSFVWJ','STGML','SEGFY','LZGKW','TWVK','GX','TJAYZL','XDGOWJK','SFV','LZGKW','UGGD','XGMFLSAFK','TML','KZW','UGMDV','FGL','WNWF','YWL','ZWJ','ZWSV','LZJGMYZ','LZW','VGGJOSQ','SFV','WNWF','AX','EQ','ZWSV','OGMDV','YG','LZJGMYZ','LZGMYZL','HGGJ','SDAUW','AL','OGMDV','TW','GX','NWJQ','DALLDW','MKW','OALZGML','EQ','KZGMDVWJK','GZ','ZGO','A','OAKZ','A','UGMDV','KZML','MH','DACW','S','LWDWKUGHW','A','LZAFC','A','UGMDV','AX','A','GFDQ','CFGO','ZGO','LG','TWYAF','XGJ','QGM','KWW','KG','ESFQ','GMLGXLZWOSQ','LZAFYK','ZSV','ZSHHWFWV','DSLWDQ','LZSL','SDAUW','ZSV','TWYMF','LG','LZAFC','LZSL','NWJQ','XWO','LZAFYK','AFVWWV','OWJW','JWSDDQ','AEHGKKATDW','LZWJW','KWWEWV','LG','TW','FG','MKW','AF','OSALAFY','TQ','LZW','DALLDW','VGGJ','KG','KZW','OWFL','TSUC','LG','LZW','LSTDW','ZSDX','ZGHAFY','KZW','EAYZL','XAFV','SFGLZWJ','CWQ','GF','AL','GJ','SL','SFQ','JSLW','S','TGGC','GX','JMDWK','XGJ','KZMLLAFY','HWGHDW','MH','DACW','LWDWKUGHWK','LZAK','LAEW','KZW','XGMFV','S','DALLDW','TGLLDW','GF','AL','OZAUZ','UWJLSAFDQ','OSK','FGL','ZWJW','TWXGJW','KSAV','SDAUW','SFV','JGMFV','LZW','FWUC','GX','LZW','TGLLDW','OSK','S','HSHWJ','DSTWD','OALZ','LZW','OGJVK','VJAFC','EW','TWSMLAXMDDQ','HJAFLWV','GF','AL','AF','DSJYW','DWLLWJK','AL','OSK','SDD','NWJQ','OWDD','LG','KSQ','VJAFC','EW','TML','LZW','OAKW','DALLDW','SDAUW','OSK','FGL','YGAFY','LG','VG','LZSL','AF','S','ZMJJQ','FG','ADD','DGGC','XAJKL','KZW','KSAV','SFV','KWW','OZWLZWJ','ALK','ESJCWV','HGAKGF','GJ','FGL','XGJ','KZW','ZSV','JWSV','KWNWJSD','FAUW','DALLDW','ZAKLGJAWK','STGML','UZADVJWF','OZG','ZSV','YGL','TMJFL','SFV','WSLWF','MH','TQ','OADV','TWSKLK','SFV','GLZWJ','MFHDWSKSFL','LZAFYK','SDD','TWUSMKW','LZWQ','OGMDV','FGL','JWEWETWJ','LZW','KAEHDW','JMDWK','LZWAJ','XJAWFVK','ZSV','LSMYZL','LZWE','KMUZ','SK','LZSL','S','JWVZGL','HGCWJ','OADD','TMJF','QGM','AX','QGM','ZGDV','AL','LGG','DGFY','SFV','LZSL','AX','QGM','UML','QGMJ','XAFYWJ','NWJQ','VWWHDQ','OALZ','S','CFAXW','AL','MKMSDDQ','TDWWVK','SFV','KZW','ZSV','FWNWJ','XGJYGLLWF','LZSL','AX','QGM','VJAFC','EMUZ','XJGE','S','TGLLDW','ESJCWV','HGAKGF','AL','AK','SDEGKL','UWJLSAF','LG','VAKSYJWW','OALZ','QGM','KGGFWJ','GJ','DSLWJ','ZGOWNWJ','LZAK','TGLLDW','OSK','FGL','ESJCWV','HGAKGF','KG','SDAUW','NWFLMJWV','LG','LSKLW','AL','SFV','XAFVAFY','AL','NWJQ','FAUW','AL','ZSV','AF','XSUL','S','KGJL','GX','EAPWV','XDSNGMJ','GX','UZWJJQLSJL','UMKLSJV','HAFWSHHDW','JGSKL','LMJCWQ','LGXXWW','SFV','ZGL','TMLLWJWV','LGSKL','KZW','NWJQ','KGGF','XAFAKZWV','AL','GXX','OZSL','S','UMJAGMK','XWWDAFY','KSAV','SDAUW','A','EMKL','TW','KZMLLAFY','MH','DACW','S','LWDWKUGHW','SFV','KG','AL','OSK','AFVWWV','KZW','OSK','FGO','GFDQ','LWF','AFUZWK','ZAYZ','SFV','ZWJ','XSUW','TJAYZLWFWV','MH','SL','LZW','LZGMYZL','LZSL','KZW','OSK','FGO','LZW','JAYZL','KARW','XGJ','YGAFY','LZJGMYZ','LZW','DALLDW','VGGJ','AFLG','LZSL','DGNWDQ','YSJVWF','XAJKL','ZGOWNWJ','KZW','OSALWV','XGJ','S','XWO','EAFMLWK','LG','KWW','AX','KZW','OSK','YGAFY','LG','KZJAFC','SFQ','XMJLZWJ','KZW','XWDL','S','DALLDW','FWJNGMK','STGML','LZAK','XGJ','AL','EAYZL','WFV','QGM','CFGO','KSAV','SDAUW','LG','ZWJKWDX','AF','EQ','YGAFY','GML','SDLGYWLZWJ','DACW','S','USFVDW','A','OGFVWJ','OZSL','A','KZGMDV','TW','DACW','LZWF','SFV','KZW','LJAWV','LG','XSFUQ','OZSL','LZW','XDSEW','GX','S','USFVDW','AK','DACW','SXLWJ','LZW','USFVDW','AK','TDGOF','GML','XGJ','KZW','UGMDV','FGL','JWEWETWJ','WNWJ','ZSNAFY','KWWF','KMUZ','S','LZAFY','SXLWJ','S','OZADW','XAFVAFY','LZSL','FGLZAFY','EGJW','ZSHHWFWV','KZW','VWUAVWV','GF','YGAFY','AFLG','LZW','YSJVWF','SL','GFUW','TML','SDSK','XGJ','HGGJ','SDAUW','OZWF','KZW','YGL','LG','LZW','VGGJ','KZW','XGMFV','KZW','ZSV','XGJYGLLWF','LZW','DALLDW','YGDVWF','CWQ','SFV','OZWF','KZW','OWFL','TSUC','LG','LZW','LSTDW','XGJ','AL','KZW','XGMFV','KZW','UGMDV','FGL','HGKKATDQ','JWSUZ','AL','KZW','UGMDV','KWW','AL','IMALW','HDSAFDQ','LZJGMYZ','LZW','YDSKK','SFV','KZW','LJAWV','ZWJ','TWKL','LG','UDAET','MH','GFW','GX','LZW','DWYK','GX','LZW','LSTDW','TML','AL','OSK','LGG','KDAHHWJQ','SFV','OZWF','KZW','ZSV','LAJWV','ZWJKWDX','GML','OALZ','LJQAFY','LZW','HGGJ','DALLDW','LZAFY','KSL','VGOF','SFV','UJAWV','UGEW','LZWJWK','FG','MKW','AF','UJQAFY','DACW','LZSL','KSAV','SDAUW','LG','ZWJKWDX','JSLZWJ','KZSJHDQ','A','SVNAKW','QGM','LG','DWSNW','GXX','LZAK','EAFMLW','KZW','YWFWJSDDQ','YSNW','ZWJKWDX','NWJQ','YGGV','SVNAUW','LZGMYZ','KZW','NWJQ','KWDVGE','XGDDGOWV','AL','SFV','KGEWLAEWK','KZW','KUGDVWV','ZWJKWDX','KG','KWNWJWDQ','SK','LG','TJAFY','LWSJK','AFLG','ZWJ','WQWK','SFV','GFUW','KZW','JWEWETWJWV','LJQAFY','LG','TGP','ZWJ','GOF','WSJK','XGJ','ZSNAFY','UZWSLWV','ZWJKWDX','AF','S','YSEW','GX','UJGIMWL','KZW','OSK','HDSQAFY','SYSAFKL','ZWJKWDX','XGJ','LZAK','UMJAGMK','UZADV','OSK','NWJQ','XGFV','GX','HJWLWFVAFY','LG','TW','LOG','HWGHDW','TML','ALK','FG','MKW','FGO','LZGMYZL','HGGJ','SDAUW','LG','HJWLWFV','LG','TW','LOG','HWGHDW','OZQ','LZWJWK','ZSJVDQ','WFGMYZ','GX','EW','DWXL','LG','ESCW','GFW','JWKHWULSTDW','HWJKGF','KGGF','ZWJ','WQW','XWDD','GF','S','DALLDW','YDSKK','TGP','LZSL','OSK','DQAFY','MFVWJ','LZW','LSTDW','KZW','GHWFWV','AL','SFV','XGMFV','AF','AL','S','NWJQ','KESDD','USCW','GF','OZAUZ','LZW','OGJVK','WSL','EW','OWJW','TWSMLAXMDDQ','ESJCWV','AF','UMJJSFLK','OWDD','ADD','WSL','AL','KSAV','SDAUW','SFV','AX','AL','ESCWK','EW','YJGO','DSJYWJ','A','USF','JWSUZ','LZW','CWQ','SFV','AX','AL','ESCWK','EW','YJGO','KESDDWJ','A','USF','UJWWH','MFVWJ','LZW','VGGJ','KG','WALZWJ','OSQ','ADD','YWL','AFLG','LZW','YSJVWF','SFV','A','VGFL','USJW','OZAUZ','ZSHHWFK','KZW','SLW','S','DALLDW','TAL','SFV','KSAV','SFPAGMKDQ','LG','ZWJKWDX','OZAUZ','OSQ','OZAUZ','OSQ','ZGDVAFY','ZWJ','ZSFV','GF','LZW','LGH','GX','ZWJ','ZWSV','LG','XWWD','OZAUZ','OSQ','AL','OSK','YJGOAFY','SFV','KZW','OSK','IMALW','KMJHJAKWV','LG','XAFV','LZSL','KZW','JWESAFWV','LZW','KSEW','KARW','LG','TW','KMJW','LZAK','YWFWJSDDQ','ZSHHWFK','OZWF','GFW','WSLK','USCW','TML','SDAUW','ZSV','YGL','KG','EMUZ','AFLG','LZW','OSQ','GX','WPHWULAFY','FGLZAFY','TML','GMLGXLZWOSQ','LZAFYK','LG','ZSHHWF','LZSL','AL','KWWEWV','IMALW','VMDD','SFV','KLMHAV','XGJ','DAXW','LG','YG','GF','AF','LZW','UGEEGF','OSQ','KG','KZW','KWL','LG','OGJC','SFV','NWJQ','KGGF','XAFAKZWV','GXX','LZW','USCW']\n",
    "df = createVis(newMessage, shiftValue)"
   ]
  },
  {
   "cell_type": "code",
   "execution_count": null,
   "metadata": {
    "deletable": false,
    "editable": false,
    "nbgrader": {
     "cell_type": "code",
     "checksum": "6d0d94f8de2422d4d7fab47101e50c54",
     "grade": true,
     "grade_id": "cell-da17050954630c0e",
     "locked": true,
     "points": 0,
     "schema_version": 3,
     "solution": false,
     "task": false
    }
   },
   "outputs": [],
   "source": [
    "## == TEST CASES ==\n",
    "# - This read-only cell contains test cases for your previous cell(s).\n",
    "newMessage = ['ZSNW','QGM','JWSV','SDAUW','AF','OGFVWJDSFV','KMUZ','S','YJWSL','TGGC','EQ','XSNGJALW','IMGLW','AK','SDAUW','OSK','TWYAFFAFY','LG','YWL','NWJQ','LAJWV','GX','KALLAFY','TQ','ZWJ','KAKLWJ','GF','LZW','TSFC','SFV','GX','ZSNAFY','FGLZAFY','LG','VG','GFUW','GJ','LOAUW','KZW','ZSV','HWWHWV','AFLG','LZW','TGGC','ZWJ','KAKLWJ','OSK','JWSVAFY','TML','AL','ZSV','FG','HAULMJWK','GJ','UGFNWJKSLAGFK','AF','AL','SFV','OZSL','AK','LZW','MKW','GX','S','TGGC','LZGMYZL','SDAUW','OALZGML','HAULMJWK','GJ','UGFNWJKSLAGF','KG','KZW','OSK','UGFKAVWJAFY','AF','ZWJ','GOF','EAFV','SK','OWDD','SK','KZW','UGMDV','XGJ','LZW','ZGL','VSQ','ESVW','ZWJ','XWWD','NWJQ','KDWWHQ','SFV','KLMHAV','OZWLZWJ','LZW','HDWSKMJW','GX','ESCAFY','S','VSAKQUZSAF','OGMDV','TW','OGJLZ','LZW','LJGMTDW','GX','YWLLAFY','MH','SFV','HAUCAFY','LZW','VSAKAWK','OZWF','KMVVWFDQ','S','OZALW','JSTTAL','OALZ','HAFC','WQWK','JSF','UDGKW','TQ','ZWJ','LZWJW','OSK','FGLZAFY','KG','NWJQ','JWESJCSTDW','AF','LZSL','FGJ','VAV','SDAUW','LZAFC','AL','KG','NWJQ','EMUZ','GML','GX','LZW','OSQ','LG','ZWSJ','LZW','JSTTAL','KSQ','LG','ALKWDX','GZ','VWSJ','GZ','VWSJ','A','KZSDD','TW','DSLW','OZWF','KZW','LZGMYZL','AL','GNWJ','SXLWJOSJVK','AL','GUUMJJWV','LG','ZWJ','LZSL','KZW','GMYZL','LG','ZSNW','OGFVWJWV','SL','LZAK','TML','SL','LZW','LAEW','AL','SDD','KWWEWV','IMALW','FSLMJSD','TML','OZWF','LZW','JSTTAL','SULMSDDQ','LGGC','S','OSLUZ','GML','GX','ALK','OSAKLUGSL','HGUCWL','SFV','DGGCWV','SL','AL','SFV','LZWF','ZMJJAWV','GF','SDAUW','KLSJLWV','LG','ZWJ','XWWL','XGJ','AL','XDSKZWV','SUJGKK','ZWJ','EAFV','LZSL','KZW','ZSV','FWNWJ','TWXGJW','KWWF','S','JSTTAL','OALZ','WALZWJ','S','OSAKLUGSLHGUCWL','GJ','S','OSLUZ','LG','LSCW','GML','GX','AL','SFV','TMJFAFY','OALZ','UMJAGKALQ','KZW','JSF','SUJGKK','LZW','XAWDV','SXLWJ','AL','SFV','XGJLMFSLWDQ','OSK','BMKL','AF','LAEW','LG','KWW','AL','HGH','VGOF','S','DSJYW','JSTTALZGDW','MFVWJ','LZW','ZWVYW','AF','SFGLZWJ','EGEWFL','VGOF','OWFL','SDAUW','SXLWJ','AL','FWNWJ','GFUW','UGFKAVWJAFY','ZGO','AF','LZW','OGJDV','KZW','OSK','LG','YWL','GML','SYSAF','LZW','JSTTALZGDW','OWFL','KLJSAYZL','GF','DACW','S','LMFFWD','XGJ','KGEW','OSQ','SFV','LZWF','VAHHWV','KMVVWFDQ','VGOF','KG','KMVVWFDQ','LZSL','SDAUW','ZSV','FGL','S','EGEWFL','LG','LZAFC','STGML','KLGHHAFY','ZWJKWDX','TWXGJW','KZW','XGMFV','ZWJKWDX','XSDDAFY','VGOF','S','NWJQ','VWWH','OWDD','WALZWJ','LZW','OWDD','OSK','NWJQ','VWWH','GJ','KZW','XWDD','NWJQ','KDGODQ','XGJ','KZW','ZSV','HDWFLQ','GX','LAEW','SK','KZW','OWFL','VGOF','LG','DGGC','STGML','ZWJ','SFV','LG','OGFVWJ','OZSL','OSK','YGAFY','LG','ZSHHWF','FWPL','XAJKL','KZW','LJAWV','LG','DGGC','VGOF','SFV','ESCW','GML','OZSL','KZW','OSK','UGEAFY','LG','TML','AL','OSK','LGG','VSJC','LG','KWW','SFQLZAFY','LZWF','KZW','DGGCWV','SL','LZW','KAVWK','GX','LZW','OWDD','SFV','FGLAUWV','LZSL','LZWQ','OWJW','XADDWV','OALZ','UMHTGSJVK','SFV','TGGCKZWDNWK','ZWJW','SFV','LZWJW','KZW','KSO','ESHK','SFV','HAULMJWK','ZMFY','MHGF','HWYK','KZW','LGGC','VGOF','S','BSJ','XJGE','GFW','GX','LZW','KZWDNWK','SK','KZW','HSKKWV','AL','OSK','DSTWDDWV','GJSFYW','ESJESDSVW','TML','LG','ZWJ','YJWSL','VAKSHHGAFLEWFL','AL','OSK','WEHLQ','KZW','VAV','FGL','DACW','LG','VJGH','LZW','BSJ','XGJ','XWSJ','GX','CADDAFY','KGEWTGVQ','KG','ESFSYWV','LG','HML','AL','AFLG','GFW','GX','LZW','UMHTGSJVK','SK','KZW','XWDD','HSKL','AL','OWDD','LZGMYZL','SDAUW','LG','ZWJKWDX','SXLWJ','KMUZ','S','XSDD','SK','LZAK','A','KZSDD','LZAFC','FGLZAFY','GX','LMETDAFY','VGOF','KLSAJK','ZGO','TJSNW','LZWQDD','SDD','LZAFC','EW','SL','ZGEW','OZQ','A','OGMDVFL','KSQ','SFQLZAFY','STGML','AL','WNWF','AX','A','XWDD','GXX','LZW','LGH','GX','LZW','ZGMKW','OZAUZ','OSK','NWJQ','DACWDQ','LJMW','VGOF','VGOF','VGOF','OGMDV','LZW','XSDD','FWNWJ','UGEW','LG','SF','WFV','A','OGFVWJ','ZGO','ESFQ','EADWK','ANW','XSDDWF','TQ','LZAK','LAEW','KZW','KSAV','SDGMV','A','EMKL','TW','YWLLAFY','KGEWOZWJW','FWSJ','LZW','UWFLJW','GX','LZW','WSJLZ','DWL','EW','KWW','LZSL','OGMDV','TW','XGMJ','LZGMKSFV','EADWK','VGOF','A','LZAFC','XGJ','QGM','KWW','SDAUW','ZSV','DWSJFL','KWNWJSD','LZAFYK','GX','LZAK','KGJL','AF','ZWJ','DWKKGFK','AF','LZW','KUZGGDJGGE','SFV','LZGMYZ','LZAK','OSK','FGL','S','NWJQ','YGGV','GHHGJLMFALQ','XGJ','KZGOAFY','GXX','ZWJ','CFGODWVYW','SK','LZWJW','OSK','FG','GFW','LG','DAKLWF','LG','ZWJ','KLADD','AL','OSK','YGGV','HJSULAUW','LG','KSQ','AL','GNWJ','QWK','LZSLK','STGML','LZW','JAYZL','VAKLSFUWTML','LZWF','A','OGFVWJ','OZSL','DSLALMVW','GJ','DGFYALMVW','ANW','YGL','LG','SDAUW','ZSV','FG','AVWS','OZSL','DSLALMVW','OSK','GJ','DGFYALMVW','WALZWJ','TML','LZGMYZL','LZWQ','OWJW','FAUW','YJSFV','OGJVK','LG','KSQ','HJWKWFLDQ','KZW','TWYSF','SYSAF','A','OGFVWJ','AX','A','KZSDD','XSDD','JAYZL','LZJGMYZ','LZW','WSJLZ','ZGO','XMFFQ','ALDD','KWWE','LG','UGEW','GML','SEGFY','LZW','HWGHDW','LZSL','OSDC','OALZ','LZWAJ','ZWSVK','VGOFOSJV','LZW','SFLAHSLZAWK','A','LZAFC','KZW','OSK','JSLZWJ','YDSV','LZWJW','OSK','FG','GFW','DAKLWFAFY','LZAK','LAEW','SK','AL','VAVFL','KGMFV','SL','SDD','LZW','JAYZL','OGJV','TML','A','KZSDD','ZSNW','LG','SKC','LZWE','OZSL','LZW','FSEW','GX','LZW','UGMFLJQ','AK','QGM','CFGO','HDWSKW','ESSE','AK','LZAK','FWO','RWSDSFV','GJ','SMKLJSDAS','SFV','KZW','LJAWV','LG','UMJLKWQ','SK','KZW','KHGCWXSFUQ','UMJLKWQAFY','SK','QGMJW','XSDDAFY','LZJGMYZ','LZW','SAJ','VG','QGM','LZAFC','QGM','UGMDV','ESFSYW','AL','SFV','OZSL','SF','AYFGJSFL','DALLDW','YAJD','KZWDD','LZAFC','EW','XGJ','SKCAFY','FG','ALDD','FWNWJ','VG','LG','SKC','HWJZSHK','A','KZSDD','KWW','AL','OJALLWF','MH','KGEWOZWJW','VGOF','VGOF','VGOF','LZWJW','OSK','FGLZAFY','WDKW','LG','VG','KG','SDAUW','KGGF','TWYSF','LSDCAFY','SYSAF','VAFSZDD','EAKK','EW','NWJQ','EMUZ','LGFAYZL','A','KZGMDV','LZAFC','VAFSZ','OSK','LZW','USL','A','ZGHW','LZWQDD','JWEWETWJ','ZWJ','KSMUWJ','GX','EADC','SL','LWSLAEW','VAFSZ','EQ','VWSJ','A','OAKZ','QGM','OWJW','VGOF','ZWJW','OALZ','EW','LZWJW','SJW','FG','EAUW','AF','LZW','SAJ','AE','SXJSAV','TML','QGM','EAYZL','USLUZ','S','TSL','SFV','LZSLK','NWJQ','DACW','S','EGMKW','QGM','CFGO','TML','VG','USLK','WSL','TSLK','A','OGFVWJ','SFV','ZWJW','SDAUW','TWYSF','LG','YWL','JSLZWJ','KDWWHQ','SFV','OWFL','GF','KSQAFY','LG','ZWJKWDX','AF','S','VJWSEQ','KGJL','GX','OSQ','VG','USLK','WSL','TSLK','VG','USLK','WSL','TSLK','SFV','KGEWLAEWK','VG','TSLK','WSL','USLK','XGJ','QGM','KWW','SK','KZW','UGMDVFL','SFKOWJ','WALZWJ','IMWKLAGF','AL','VAVFL','EMUZ','ESLLWJ','OZAUZ','OSQ','KZW','HML','AL','KZW','XWDL','LZSL','KZW','OSK','VGRAFY','GXX','SFV','ZSV','BMKL','TWYMF','LG','VJWSE','LZSL','KZW','OSK','OSDCAFY','ZSFV','AF','ZSFV','OALZ','VAFSZ','SFV','KSQAFY','LG','ZWJ','NWJQ','WSJFWKLDQ','FGO','VAFSZ','LWDD','EW','LZW','LJMLZ','VAV','QGM','WNWJ','WSL','S','TSL','OZWF','KMVVWFDQ','LZMEH','LZMEH','VGOF','KZW','USEW','MHGF','S','ZWSH','GX','KLAUCK','SFV','VJQ','DWSNWK','SFV','LZW','XSDD','OSK','GNWJ','SDAUW','OSK','FGL','S','TAL','ZMJL','SFV','KZW','BMEHWV','MH','GF','LG','ZWJ','XWWL','AF','S','EGEWFL','KZW','DGGCWV','MH','TML','AL','OSK','SDD','VSJC','GNWJZWSV','TWXGJW','ZWJ','OSK','SFGLZWJ','DGFY','HSKKSYW','SFV','LZW','OZALW','JSTTAL','OSK','KLADD','AF','KAYZL','ZMJJQAFY','VGOF','AL','LZWJW','OSK','FGL','S','EGEWFL','LG','TW','DGKL','SOSQ','OWFL','SDAUW','DACW','LZW','OAFV','SFV','OSK','BMKL','AF','LAEW','LG','ZWSJ','AL','KSQ','SK','AL','LMJFWV','S','UGJFWJ','GZ','EQ','WSJK','SFV','OZAKCWJK','ZGO','DSLW','ALK','YWLLAFY','KZW','OSK','UDGKW','TWZAFV','AL','OZWF','KZW','LMJFWV','LZW','UGJFWJ','TML','LZW','JSTTAL','OSK','FG','DGFYWJ','LG','TW','KWWF','KZW','XGMFV','ZWJKWDX','AF','S','DGFY','DGO','ZSDD','OZAUZ','OSK','DAL','MH','TQ','S','JGO','GX','DSEHK','ZSFYAFY','XJGE','LZW','JGGX','LZWJW','OWJW','VGGJK','SDD','JGMFV','LZW','ZSDD','TML','LZWQ','OWJW','SDD','DGUCWV','SFV','OZWF','SDAUW','ZSV','TWWF','SDD','LZW','OSQ','VGOF','GFW','KAVW','SFV','MH','LZW','GLZWJ','LJQAFY','WNWJQ','VGGJ','KZW','OSDCWV','KSVDQ','VGOF','LZW','EAVVDW','OGFVWJAFY','ZGO','KZW','OSK','WNWJ','LG','YWL','GML','SYSAF','KMVVWFDQ','KZW','USEW','MHGF','S','DALLDW','LZJWWDWYYWV','LSTDW','SDD','ESVW','GX','KGDAV','YDSKK','LZWJW','OSK','FGLZAFY','GF','AL','WPUWHL','S','LAFQ','YGDVWF','CWQ','SFV','SDAUWK','XAJKL','LZGMYZL','OSK','LZSL','AL','EAYZL','TWDGFY','LG','GFW','GX','LZW','VGGJK','GX','LZW','ZSDD','TML','SDSK','WALZWJ','LZW','DGUCK','OWJW','LGG','DSJYW','GJ','LZW','CWQ','OSK','LGG','KESDD','TML','SL','SFQ','JSLW','AL','OGMDV','FGL','GHWF','SFQ','GX','LZWE','ZGOWNWJ','GF','LZW','KWUGFV','LAEW','JGMFV','KZW','USEW','MHGF','S','DGO','UMJLSAF','KZW','ZSV','FGL','FGLAUWV','TWXGJW','SFV','TWZAFV','AL','OSK','S','DALLDW','VGGJ','STGML','XAXLWWF','AFUZWK','ZAYZ','KZW','LJAWV','LZW','DALLDW','YGDVWF','CWQ','AF','LZW','DGUC','SFV','LG','ZWJ','YJWSL','VWDAYZL','AL','XALLWV','SDAUW','GHWFWV','LZW','VGGJ','SFV','XGMFV','LZSL','AL','DWV','AFLG','S','KESDD','HSKKSYW','FGL','EMUZ','DSJYWJ','LZSF','S','JSLZGDW','KZW','CFWDL','VGOF','SFV','DGGCWV','SDGFY','LZW','HSKKSYW','AFLG','LZW','DGNWDAWKL','YSJVWF','QGM','WNWJ','KSO','ZGO','KZW','DGFYWV','LG','YWL','GML','GX','LZSL','VSJC','ZSDD','SFV','OSFVWJ','STGML','SEGFY','LZGKW','TWVK','GX','TJAYZL','XDGOWJK','SFV','LZGKW','UGGD','XGMFLSAFK','TML','KZW','UGMDV','FGL','WNWF','YWL','ZWJ','ZWSV','LZJGMYZ','LZW','VGGJOSQ','SFV','WNWF','AX','EQ','ZWSV','OGMDV','YG','LZJGMYZ','LZGMYZL','HGGJ','SDAUW','AL','OGMDV','TW','GX','NWJQ','DALLDW','MKW','OALZGML','EQ','KZGMDVWJK','GZ','ZGO','A','OAKZ','A','UGMDV','KZML','MH','DACW','S','LWDWKUGHW','A','LZAFC','A','UGMDV','AX','A','GFDQ','CFGO','ZGO','LG','TWYAF','XGJ','QGM','KWW','KG','ESFQ','GMLGXLZWOSQ','LZAFYK','ZSV','ZSHHWFWV','DSLWDQ','LZSL','SDAUW','ZSV','TWYMF','LG','LZAFC','LZSL','NWJQ','XWO','LZAFYK','AFVWWV','OWJW','JWSDDQ','AEHGKKATDW','LZWJW','KWWEWV','LG','TW','FG','MKW','AF','OSALAFY','TQ','LZW','DALLDW','VGGJ','KG','KZW','OWFL','TSUC','LG','LZW','LSTDW','ZSDX','ZGHAFY','KZW','EAYZL','XAFV','SFGLZWJ','CWQ','GF','AL','GJ','SL','SFQ','JSLW','S','TGGC','GX','JMDWK','XGJ','KZMLLAFY','HWGHDW','MH','DACW','LWDWKUGHWK','LZAK','LAEW','KZW','XGMFV','S','DALLDW','TGLLDW','GF','AL','OZAUZ','UWJLSAFDQ','OSK','FGL','ZWJW','TWXGJW','KSAV','SDAUW','SFV','JGMFV','LZW','FWUC','GX','LZW','TGLLDW','OSK','S','HSHWJ','DSTWD','OALZ','LZW','OGJVK','VJAFC','EW','TWSMLAXMDDQ','HJAFLWV','GF','AL','AF','DSJYW','DWLLWJK','AL','OSK','SDD','NWJQ','OWDD','LG','KSQ','VJAFC','EW','TML','LZW','OAKW','DALLDW','SDAUW','OSK','FGL','YGAFY','LG','VG','LZSL','AF','S','ZMJJQ','FG','ADD','DGGC','XAJKL','KZW','KSAV','SFV','KWW','OZWLZWJ','ALK','ESJCWV','HGAKGF','GJ','FGL','XGJ','KZW','ZSV','JWSV','KWNWJSD','FAUW','DALLDW','ZAKLGJAWK','STGML','UZADVJWF','OZG','ZSV','YGL','TMJFL','SFV','WSLWF','MH','TQ','OADV','TWSKLK','SFV','GLZWJ','MFHDWSKSFL','LZAFYK','SDD','TWUSMKW','LZWQ','OGMDV','FGL','JWEWETWJ','LZW','KAEHDW','JMDWK','LZWAJ','XJAWFVK','ZSV','LSMYZL','LZWE','KMUZ','SK','LZSL','S','JWVZGL','HGCWJ','OADD','TMJF','QGM','AX','QGM','ZGDV','AL','LGG','DGFY','SFV','LZSL','AX','QGM','UML','QGMJ','XAFYWJ','NWJQ','VWWHDQ','OALZ','S','CFAXW','AL','MKMSDDQ','TDWWVK','SFV','KZW','ZSV','FWNWJ','XGJYGLLWF','LZSL','AX','QGM','VJAFC','EMUZ','XJGE','S','TGLLDW','ESJCWV','HGAKGF','AL','AK','SDEGKL','UWJLSAF','LG','VAKSYJWW','OALZ','QGM','KGGFWJ','GJ','DSLWJ','ZGOWNWJ','LZAK','TGLLDW','OSK','FGL','ESJCWV','HGAKGF','KG','SDAUW','NWFLMJWV','LG','LSKLW','AL','SFV','XAFVAFY','AL','NWJQ','FAUW','AL','ZSV','AF','XSUL','S','KGJL','GX','EAPWV','XDSNGMJ','GX','UZWJJQLSJL','UMKLSJV','HAFWSHHDW','JGSKL','LMJCWQ','LGXXWW','SFV','ZGL','TMLLWJWV','LGSKL','KZW','NWJQ','KGGF','XAFAKZWV','AL','GXX','OZSL','S','UMJAGMK','XWWDAFY','KSAV','SDAUW','A','EMKL','TW','KZMLLAFY','MH','DACW','S','LWDWKUGHW','SFV','KG','AL','OSK','AFVWWV','KZW','OSK','FGO','GFDQ','LWF','AFUZWK','ZAYZ','SFV','ZWJ','XSUW','TJAYZLWFWV','MH','SL','LZW','LZGMYZL','LZSL','KZW','OSK','FGO','LZW','JAYZL','KARW','XGJ','YGAFY','LZJGMYZ','LZW','DALLDW','VGGJ','AFLG','LZSL','DGNWDQ','YSJVWF','XAJKL','ZGOWNWJ','KZW','OSALWV','XGJ','S','XWO','EAFMLWK','LG','KWW','AX','KZW','OSK','YGAFY','LG','KZJAFC','SFQ','XMJLZWJ','KZW','XWDL','S','DALLDW','FWJNGMK','STGML','LZAK','XGJ','AL','EAYZL','WFV','QGM','CFGO','KSAV','SDAUW','LG','ZWJKWDX','AF','EQ','YGAFY','GML','SDLGYWLZWJ','DACW','S','USFVDW','A','OGFVWJ','OZSL','A','KZGMDV','TW','DACW','LZWF','SFV','KZW','LJAWV','LG','XSFUQ','OZSL','LZW','XDSEW','GX','S','USFVDW','AK','DACW','SXLWJ','LZW','USFVDW','AK','TDGOF','GML','XGJ','KZW','UGMDV','FGL','JWEWETWJ','WNWJ','ZSNAFY','KWWF','KMUZ','S','LZAFY','SXLWJ','S','OZADW','XAFVAFY','LZSL','FGLZAFY','EGJW','ZSHHWFWV','KZW','VWUAVWV','GF','YGAFY','AFLG','LZW','YSJVWF','SL','GFUW','TML','SDSK','XGJ','HGGJ','SDAUW','OZWF','KZW','YGL','LG','LZW','VGGJ','KZW','XGMFV','KZW','ZSV','XGJYGLLWF','LZW','DALLDW','YGDVWF','CWQ','SFV','OZWF','KZW','OWFL','TSUC','LG','LZW','LSTDW','XGJ','AL','KZW','XGMFV','KZW','UGMDV','FGL','HGKKATDQ','JWSUZ','AL','KZW','UGMDV','KWW','AL','IMALW','HDSAFDQ','LZJGMYZ','LZW','YDSKK','SFV','KZW','LJAWV','ZWJ','TWKL','LG','UDAET','MH','GFW','GX','LZW','DWYK','GX','LZW','LSTDW','TML','AL','OSK','LGG','KDAHHWJQ','SFV','OZWF','KZW','ZSV','LAJWV','ZWJKWDX','GML','OALZ','LJQAFY','LZW','HGGJ','DALLDW','LZAFY','KSL','VGOF','SFV','UJAWV','UGEW','LZWJWK','FG','MKW','AF','UJQAFY','DACW','LZSL','KSAV','SDAUW','LG','ZWJKWDX','JSLZWJ','KZSJHDQ','A','SVNAKW','QGM','LG','DWSNW','GXX','LZAK','EAFMLW','KZW','YWFWJSDDQ','YSNW','ZWJKWDX','NWJQ','YGGV','SVNAUW','LZGMYZ','KZW','NWJQ','KWDVGE','XGDDGOWV','AL','SFV','KGEWLAEWK','KZW','KUGDVWV','ZWJKWDX','KG','KWNWJWDQ','SK','LG','TJAFY','LWSJK','AFLG','ZWJ','WQWK','SFV','GFUW','KZW','JWEWETWJWV','LJQAFY','LG','TGP','ZWJ','GOF','WSJK','XGJ','ZSNAFY','UZWSLWV','ZWJKWDX','AF','S','YSEW','GX','UJGIMWL','KZW','OSK','HDSQAFY','SYSAFKL','ZWJKWDX','XGJ','LZAK','UMJAGMK','UZADV','OSK','NWJQ','XGFV','GX','HJWLWFVAFY','LG','TW','LOG','HWGHDW','TML','ALK','FG','MKW','FGO','LZGMYZL','HGGJ','SDAUW','LG','HJWLWFV','LG','TW','LOG','HWGHDW','OZQ','LZWJWK','ZSJVDQ','WFGMYZ','GX','EW','DWXL','LG','ESCW','GFW','JWKHWULSTDW','HWJKGF','KGGF','ZWJ','WQW','XWDD','GF','S','DALLDW','YDSKK','TGP','LZSL','OSK','DQAFY','MFVWJ','LZW','LSTDW','KZW','GHWFWV','AL','SFV','XGMFV','AF','AL','S','NWJQ','KESDD','USCW','GF','OZAUZ','LZW','OGJVK','WSL','EW','OWJW','TWSMLAXMDDQ','ESJCWV','AF','UMJJSFLK','OWDD','ADD','WSL','AL','KSAV','SDAUW','SFV','AX','AL','ESCWK','EW','YJGO','DSJYWJ','A','USF','JWSUZ','LZW','CWQ','SFV','AX','AL','ESCWK','EW','YJGO','KESDDWJ','A','USF','UJWWH','MFVWJ','LZW','VGGJ','KG','WALZWJ','OSQ','ADD','YWL','AFLG','LZW','YSJVWF','SFV','A','VGFL','USJW','OZAUZ','ZSHHWFK','KZW','SLW','S','DALLDW','TAL','SFV','KSAV','SFPAGMKDQ','LG','ZWJKWDX','OZAUZ','OSQ','OZAUZ','OSQ','ZGDVAFY','ZWJ','ZSFV','GF','LZW','LGH','GX','ZWJ','ZWSV','LG','XWWD','OZAUZ','OSQ','AL','OSK','YJGOAFY','SFV','KZW','OSK','IMALW','KMJHJAKWV','LG','XAFV','LZSL','KZW','JWESAFWV','LZW','KSEW','KARW','LG','TW','KMJW','LZAK','YWFWJSDDQ','ZSHHWFK','OZWF','GFW','WSLK','USCW','TML','SDAUW','ZSV','YGL','KG','EMUZ','AFLG','LZW','OSQ','GX','WPHWULAFY','FGLZAFY','TML','GMLGXLZWOSQ','LZAFYK','LG','ZSHHWF','LZSL','AL','KWWEWV','IMALW','VMDD','SFV','KLMHAV','XGJ','DAXW','LG','YG','GF','AF','LZW','UGEEGF','OSQ','KG','KZW','KWL','LG','OGJC','SFV','NWJQ','KGGF','XAFAKZWV','GXX','LZW','USCW']\n",
    "\n",
    "df = createVis(newMessage, shiftValue)\n",
    "assert( df[ df['letter'] == 'T' ]['count'].max() == 867 ), \"Are you sure you found the correct solution?\"\n",
    "\n",
    "## == SUCCESS MESSAGE ==\n",
    "# You will only see this message (with the emoji showing) if you passed all test cases:\n",
    "tada = \"\\N{PARTY POPPER}\"\n",
    "print(f\"{tada} All tests passed! {tada}\")\n",
    "print()\n",
    "print(\"Here's the story (from Alice in Wonderland):\")\n",
    "s = decodeGivenShift(newMessage, shiftValue)\n",
    "print(' '.join(s))"
   ]
  },
  {
   "cell_type": "markdown",
   "metadata": {},
   "source": [
    "## Submit Your Work!\n",
    "\n",
    "You're almost done -- congratulations! 🎉 \n",
    "\n",
    "You need to do a few more things:\n",
    "\n",
    "1. Save your work.  To do this, create a **notebook checkpoint** by using the menu within the notebook to go **File -> Save and Checkpoint**\n",
    "\n",
    "\n",
    "2. After you have saved and checkpointed, exit this notebook by going to **File -> Close and Halt**\n",
    "\n",
    "\n",
    "3. Once you have closed your notebook select **Quit** on the **Jupyter main page** to stop the Jupyter server\n",
    "\n",
    "\n",
    "4. Return to the Data Science Discovery page on how to use git to turn this notebook into the course!"
   ]
  }
 ],
 "metadata": {
  "kernelspec": {
   "display_name": "Python 3",
   "language": "python",
   "name": "python3"
  },
  "language_info": {
   "codemirror_mode": {
    "name": "ipython",
    "version": 3
   },
   "file_extension": ".py",
   "mimetype": "text/x-python",
   "name": "python",
   "nbconvert_exporter": "python",
   "pygments_lexer": "ipython3",
   "version": "3.7.6"
  }
 },
 "nbformat": 4,
 "nbformat_minor": 2
}
