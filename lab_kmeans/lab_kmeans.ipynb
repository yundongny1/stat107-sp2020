{
 "cells": [
  {
   "cell_type": "markdown",
   "metadata": {},
   "source": [
    "# Welcome to lab k-means(karle)!\n",
    "\n",
    "We will be exploring k-means clustering! \n",
    "I promise this won't be scary :)\n",
    "\n",
    "Really, loops are an incredibly useful tool that will help you code for other purposes in life. We're going to start by introducing you to while and for loops and then we will apply them to clustering."
   ]
  },
  {
   "cell_type": "markdown",
   "metadata": {},
   "source": [
    "## Part 1: Import the libraries and data sets you need\n",
    "\n",
    "### Libraries\n",
    "\n",
    "To complete this lab, you will need two libraries:\n",
    "\n",
    "1. `pandas`, which I **know** you know how to import :)\n",
    "2. The `KMeans` model, which can be imported with `from sklearn.cluster import KMeans`\n",
    "\n",
    "### Datasets\n",
    "\n",
    "Additionally, you be using the beer dataset.  Here is the direct link to the CSV dataset: http://courses.las.illinois.edu/spring2020/stat107/static/data/beer-dataset.csv\n",
    "\n",
    "Make sure to load the dataset into Python! :)"
   ]
  },
  {
   "cell_type": "code",
   "execution_count": null,
   "metadata": {
    "deletable": false,
    "nbgrader": {
     "cell_type": "code",
     "checksum": "9894a51b6d743f2900a4cb91ab0b9b9f",
     "grade": false,
     "grade_id": "cell-47bb214090f380cf",
     "locked": false,
     "schema_version": 3,
     "solution": true,
     "task": false
    }
   },
   "outputs": [],
   "source": [
    "# Import libraries:\n",
    "\n",
    "\n",
    "# Load dataset:\n",
    "df = ...\n",
    "df\n",
    "\n"
   ]
  },
  {
   "cell_type": "markdown",
   "metadata": {},
   "source": [
    "## Part 1.1: EDA - Let's do some statistics! :)\n",
    "\n",
    "Before going any further, let's find out a few basic statistics about the dataset.\n",
    "\n",
    "- Use `df.describe()` to find basic EDA about the dataset.  Store the EDA table into `df_eda` below.\n",
    "- Use `df.corr()` to find the correlation between data in the dataset.  Store the correlation table in `df_corr` below."
   ]
  },
  {
   "cell_type": "code",
   "execution_count": null,
   "metadata": {
    "deletable": false,
    "nbgrader": {
     "cell_type": "code",
     "checksum": "b9ce1b0bd6814ab4fe97849315dbfee3",
     "grade": false,
     "grade_id": "cell-322e4f6a4d5584e8",
     "locked": false,
     "schema_version": 3,
     "solution": true,
     "task": false
    }
   },
   "outputs": [],
   "source": [
    "df_eda = ...\n",
    "df_eda\n",
    "\n"
   ]
  },
  {
   "cell_type": "code",
   "execution_count": null,
   "metadata": {
    "deletable": false,
    "nbgrader": {
     "cell_type": "code",
     "checksum": "3f0bc06d0ec88c954f023e405b0281c5",
     "grade": false,
     "grade_id": "cell-10a7ec62ba539341",
     "locked": false,
     "schema_version": 3,
     "solution": true,
     "task": false
    }
   },
   "outputs": [],
   "source": [
    "df_corr = ...\n",
    "df_corr\n",
    "\n"
   ]
  },
  {
   "cell_type": "code",
   "execution_count": null,
   "metadata": {
    "deletable": false,
    "editable": false,
    "nbgrader": {
     "cell_type": "code",
     "checksum": "af792f71d8d35d3cb85f27aa50dad9f7",
     "grade": true,
     "grade_id": "cell-80b7b810a8e3351f",
     "locked": true,
     "points": 1,
     "schema_version": 3,
     "solution": false,
     "task": false
    }
   },
   "outputs": [],
   "source": [
    "## == TEST CASES for Puzzle 1 ==\n",
    "# - This read-only cell contains test cases for your previous cell.\n",
    "# - If this cell runs without any error our output, you PASSED all test cases!\n",
    "# - If this cell results in any errors, check you previous cell, make changes, and RE-RUN your code and then this cell.\n",
    "\n",
    "assert('Carbohydrates' in df_eda), \"Make sure you've done EDA\"\n",
    "assert('Carbohydrates' in df_corr), \"Make sure you've done correlation\"\n",
    "\n",
    "print(\"Congrats!🎉😊 All tests passed!\")"
   ]
  },
  {
   "cell_type": "markdown",
   "metadata": {},
   "source": [
    "## Part 2: Beer Dataset Clustering!\n",
    "\n",
    "Similar to what you did in lecture this week, we are going to be looking at the dataset Karle found! The dataset has these five variables:\n",
    "\n",
    "- Brand\n",
    "- Brewery\n",
    "- PercentAlcohol\n",
    "- Calories\n",
    "- Carbohydrates\n",
    "\n",
    "In lecture you found the regression equation for predicting Calories from PercentAlcohol and Carbohydrates. Now, we are going to cluster the dataset using `KMeans`.\n",
    "\n",
    "### Part 2a: Create and Fit a KMeans model\n",
    "\n",
    "1. Create the model with **two** clusters\n",
    "2. Fit your model with your data\n",
    "\n",
    "Each of these two steps are just one line of code, for two lines of code below:"
   ]
  },
  {
   "cell_type": "code",
   "execution_count": null,
   "metadata": {
    "deletable": false,
    "nbgrader": {
     "cell_type": "code",
     "checksum": "2bfb65b037a2d050d5ba376cfb5ca176",
     "grade": false,
     "grade_id": "cell-1572792b891915cc",
     "locked": false,
     "schema_version": 3,
     "solution": true,
     "task": false
    }
   },
   "outputs": [],
   "source": [
    "model = ...\n",
    "...\n",
    "\n"
   ]
  },
  {
   "cell_type": "markdown",
   "metadata": {},
   "source": [
    "### Part 2b: Label data with a cluster\n",
    "\n",
    "Use the model you created a fit to create a new column that contains the predicted cluster:"
   ]
  },
  {
   "cell_type": "code",
   "execution_count": null,
   "metadata": {
    "deletable": false,
    "nbgrader": {
     "cell_type": "code",
     "checksum": "378b2a64956d718cb3b960e58671b99c",
     "grade": false,
     "grade_id": "cell-54a882b2799f7a7c",
     "locked": false,
     "schema_version": 3,
     "solution": true,
     "task": false
    }
   },
   "outputs": [],
   "source": [
    "df['cluster'] = ...\n",
    "df\n",
    "\n"
   ]
  },
  {
   "cell_type": "markdown",
   "metadata": {},
   "source": [
    "### Part 2c: Explore the Clusters\n",
    "\n",
    "Find out what beers appear in `cluster` `1`.  Store those in df_cluster1:"
   ]
  },
  {
   "cell_type": "code",
   "execution_count": null,
   "metadata": {
    "deletable": false,
    "nbgrader": {
     "cell_type": "code",
     "checksum": "64d42e6e60660f1aa2a4b15e6e9c6f1a",
     "grade": false,
     "grade_id": "cell-c6eb2274440818ee",
     "locked": false,
     "schema_version": 3,
     "solution": true,
     "task": false
    }
   },
   "outputs": [],
   "source": [
    "df_cluster1 = ...\n",
    "df_cluster1\n",
    "\n"
   ]
  },
  {
   "cell_type": "code",
   "execution_count": null,
   "metadata": {
    "deletable": false,
    "editable": false,
    "nbgrader": {
     "cell_type": "code",
     "checksum": "b20673b9976736c97c12e67a1052b490",
     "grade": true,
     "grade_id": "cell-7d79328221c654ff",
     "locked": true,
     "points": 0,
     "schema_version": 3,
     "solution": false,
     "task": false
    }
   },
   "outputs": [],
   "source": [
    "## == TEST CASES for Puzzle 1 ==\n",
    "# - This read-only cell contains test cases for your previous cell.\n",
    "# - If this cell runs without any error our output, you PASSED all test cases!\n",
    "# - If this cell results in any errors, check you previous cell, make changes, and RE-RUN your code and then this cell.\n",
    "\n",
    "assert('cluster' in df), 'There is no column `cluster` in `df`.'\n",
    "assert( len(df[ df['cluster'] < 2 ]) == 85), 'Make sure your `KMeans` is finding only two clusters.'\n",
    "assert( len(df_cluster1) == 26), 'Make sure your `KMeans` is finding only two clusters.'\n",
    "\n",
    "print(\"Congrats!🎉😊 All tests passed!\")"
   ]
  },
  {
   "cell_type": "markdown",
   "metadata": {},
   "source": [
    "## Part 3: Iris Flowers\n",
    "\n",
    "*You're doing awesome!  Let's try this with a completely new dataset you haven't seen yet!*\n",
    "\n",
    "One of the **most classic** datasets in statistics is the \"Iris Flower dataset\".  This dataset is a collection of five variables:\n",
    "\n",
    "- Sepal Length (cm)\n",
    "- Sepal Width (cm)\n",
    "- Petal Length (cm)\n",
    "- Petal Width (cm)\n",
    "- Species Classification\n",
    "\n",
    "\n",
    "In the dataset, there are three species present:\n",
    "\n",
    "![iris.jpg](iris.jpg)\n",
    "\n",
    "This data is so classic that it is included as part of the `sklearn` Python library we have been using to do various forms of machine learning so far!  The following cell will load the dataset into a DataFrame `df`:"
   ]
  },
  {
   "cell_type": "code",
   "execution_count": null,
   "metadata": {},
   "outputs": [],
   "source": [
    "from sklearn import datasets\n",
    "import pandas as pd\n",
    "\n",
    "iris = datasets.load_iris()\n",
    "df = pd.DataFrame(iris['data'], columns=iris['feature_names'])\n",
    "df['species'] = iris['target']\n",
    "df['species name'] = iris['target_names'][ iris['target'] ]\n",
    "df.sample(5)"
   ]
  },
  {
   "cell_type": "markdown",
   "metadata": {},
   "source": [
    "### Puzzle 3.1: Fit the Model\n",
    "\n",
    "Build a k-means clustering model with **three** clusters and train the model using all four input measurements:\n",
    "\n",
    "- Sepal Length (cm)\n",
    "- Sepal Width (cm)\n",
    "- Petal Length (cm)\n",
    "- Petal Width (cm)"
   ]
  },
  {
   "cell_type": "code",
   "execution_count": null,
   "metadata": {
    "deletable": false,
    "nbgrader": {
     "cell_type": "code",
     "checksum": "e7b8d32249555591ccb87453a773e470",
     "grade": false,
     "grade_id": "cell-3d0e0ea42d5c1f6d",
     "locked": false,
     "schema_version": 3,
     "solution": true,
     "task": false
    }
   },
   "outputs": [],
   "source": [
    "model = ...\n",
    "...\n",
    "\n"
   ]
  },
  {
   "cell_type": "markdown",
   "metadata": {},
   "source": [
    "### Puzzle 3.2: Predict the Species with k-means clustering\n",
    "\n",
    "Use the k-means clustering model to predict the species, adding the predicted species as a new column called `predicted species`."
   ]
  },
  {
   "cell_type": "code",
   "execution_count": null,
   "metadata": {
    "deletable": false,
    "nbgrader": {
     "cell_type": "code",
     "checksum": "0cf03822667fd5382918241ffd68a805",
     "grade": true,
     "grade_id": "cell-b7579689f52d26c9",
     "locked": false,
     "points": 1,
     "schema_version": 3,
     "solution": true,
     "task": false
    }
   },
   "outputs": [],
   "source": [
    "df['predicted species'] = ...\n",
    "\n",
    "\n",
    "\n",
    "df.sample(3)"
   ]
  },
  {
   "cell_type": "markdown",
   "metadata": {},
   "source": [
    "### Puzzle 3.3: Find the Accuracy\n",
    "\n",
    "Finally, find the percentage of observations where the predicted species is a **correct match** the actual species.  *(When is the `predicted species` equal to the actual `species`?)*\n",
    "\n",
    "Find the percentage of times our predicted species is correct and store that percentage in `accuracy`:"
   ]
  },
  {
   "cell_type": "code",
   "execution_count": null,
   "metadata": {
    "deletable": false,
    "nbgrader": {
     "cell_type": "code",
     "checksum": "aba07fe17715a1d53cfdaf322894e71e",
     "grade": false,
     "grade_id": "cell-5fb2e528a53e01e2",
     "locked": false,
     "schema_version": 3,
     "solution": true,
     "task": false
    }
   },
   "outputs": [],
   "source": [
    "accuracy = ...\n",
    "accuracy\n",
    "\n"
   ]
  },
  {
   "cell_type": "code",
   "execution_count": null,
   "metadata": {
    "deletable": false,
    "editable": false,
    "nbgrader": {
     "cell_type": "code",
     "checksum": "b36eca9fcf911c78105b55b6236f0795",
     "grade": true,
     "grade_id": "cell-b05cd80356703d30",
     "locked": true,
     "points": 1,
     "schema_version": 3,
     "solution": false,
     "task": false
    }
   },
   "outputs": [],
   "source": [
    "## == TEST CASES for Puzzle 3 ==\n",
    "# - This read-only cell contains test cases for your previous cell.\n",
    "# - If this cell runs without any error our output, you PASSED all test cases!\n",
    "# - If this cell results in any errors, check you previous cell, make changes, and RE-RUN your code and then this cell.\n",
    "\n",
    "assert('predicted species' in df), \"Make sure you have a column named `predicted species`\"\n",
    "assert(accuracy > 80), \"Your accuracy should be higher than what you calculated!\"\n",
    "\n",
    "print(\"Congrats!🎉😊 All tests passed!\")"
   ]
  },
  {
   "cell_type": "markdown",
   "metadata": {},
   "source": [
    "## Submit Your Work!\n",
    "\n",
    "You're almost done -- congratulations!\n",
    "\n",
    "You need to do two more things:\n",
    "\n",
    "1. Save your work.  To do this, create a **notebook checkpoint** by using the menu within the notebook to go **File -> Save and Checkpoint**\n",
    "\n",
    "2. Choose `File` and then `Close and Halt` from this notebook.\n",
    "\n",
    "3. Choose `Quit` on the main notebook webpage.\n",
    "\n",
    "4. Return to your command line and follow the directions on the Data Science Discovery page on how to use git to turn this notebook into the course!"
   ]
  },
  {
   "cell_type": "code",
   "execution_count": null,
   "metadata": {},
   "outputs": [],
   "source": []
  }
 ],
 "metadata": {
  "kernelspec": {
   "display_name": "Python 3",
   "language": "python",
   "name": "python3"
  },
  "language_info": {
   "codemirror_mode": {
    "name": "ipython",
    "version": 3
   },
   "file_extension": ".py",
   "mimetype": "text/x-python",
   "name": "python",
   "nbconvert_exporter": "python",
   "pygments_lexer": "ipython3",
   "version": "3.7.6"
  }
 },
 "nbformat": 4,
 "nbformat_minor": 2
}
