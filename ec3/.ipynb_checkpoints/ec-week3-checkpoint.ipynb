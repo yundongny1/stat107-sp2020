{
 "cells": [
  {
   "cell_type": "markdown",
   "metadata": {},
   "source": [
    "# EC Notebook for Week #3: Working with columns\n",
    "\n",
    "This extra credit Python notebook will let you practice the material you saw in lecture.  Completing all parts of this notebook will earn +1 extra credit point to your grade in STAT 107! :)"
   ]
  },
  {
   "cell_type": "markdown",
   "metadata": {},
   "source": [
    "## 1. Loading pandas and importing data\n",
    "\n",
    "For this notebook, we will use the \"Hello\" dataset -- as we did in lecture -- to answer a few questions on working with columns.\n",
    "\n",
    "Using your @illinois.edu address, you can access the \"Hello\" dataset here: https://docs.google.com/spreadsheets/d/1uS6OoVsaCNEDwi-ozOXJe7Vn08M-41k7W1cdAlwLIiY/edit?usp=sharing"
   ]
  },
  {
   "cell_type": "code",
   "execution_count": 3,
   "metadata": {
    "deletable": false,
    "nbgrader": {
     "cell_type": "code",
     "checksum": "3ad0eb1e8fc3cc4fd6749f392c6d3a2c",
     "grade": false,
     "grade_id": "cell-0d5f5f22a56cb05c",
     "locked": false,
     "schema_version": 3,
     "solution": true,
     "task": false
    }
   },
   "outputs": [
    {
     "data": {
      "text/html": [
       "<div>\n",
       "<style scoped>\n",
       "    .dataframe tbody tr th:only-of-type {\n",
       "        vertical-align: middle;\n",
       "    }\n",
       "\n",
       "    .dataframe tbody tr th {\n",
       "        vertical-align: top;\n",
       "    }\n",
       "\n",
       "    .dataframe thead th {\n",
       "        text-align: right;\n",
       "    }\n",
       "</style>\n",
       "<table border=\"1\" class=\"dataframe\">\n",
       "  <thead>\n",
       "    <tr style=\"text-align: right;\">\n",
       "      <th></th>\n",
       "      <th>Name</th>\n",
       "      <th>Major</th>\n",
       "      <th>School Year</th>\n",
       "      <th>Phone</th>\n",
       "      <th>Computer</th>\n",
       "      <th>Holes in a Straw</th>\n",
       "      <th>Has Dogs</th>\n",
       "      <th>Has Cats</th>\n",
       "      <th>Has Fish</th>\n",
       "      <th>Has Chickens</th>\n",
       "      <th>...</th>\n",
       "      <th>Programmed before?</th>\n",
       "      <th>Python Background</th>\n",
       "      <th>Statistics Courses</th>\n",
       "      <th>Hours Studying</th>\n",
       "      <th>Siblings</th>\n",
       "      <th>Hours of Sleep</th>\n",
       "      <th>Shoes Owned</th>\n",
       "      <th>People Texted Yesterday</th>\n",
       "      <th>Personality</th>\n",
       "      <th>Pineapple on Pizza</th>\n",
       "    </tr>\n",
       "  </thead>\n",
       "  <tbody>\n",
       "    <tr>\n",
       "      <th>2</th>\n",
       "      <td>Grace</td>\n",
       "      <td>Statistics</td>\n",
       "      <td>Sophomore</td>\n",
       "      <td>iPhone</td>\n",
       "      <td>Mac OS X-based computer</td>\n",
       "      <td>2.0</td>\n",
       "      <td>1</td>\n",
       "      <td>1</td>\n",
       "      <td>1</td>\n",
       "      <td>0</td>\n",
       "      <td>...</td>\n",
       "      <td>No</td>\n",
       "      <td>No programming background -- is Python Taylor ...</td>\n",
       "      <td>3</td>\n",
       "      <td>4.0</td>\n",
       "      <td>1</td>\n",
       "      <td>8.0</td>\n",
       "      <td>40</td>\n",
       "      <td>4</td>\n",
       "      <td>Introvert</td>\n",
       "      <td>Yes</td>\n",
       "    </tr>\n",
       "    <tr>\n",
       "      <th>84</th>\n",
       "      <td>Feliks</td>\n",
       "      <td>Statistics</td>\n",
       "      <td>Junior</td>\n",
       "      <td>iPhone</td>\n",
       "      <td>Windows-based computer</td>\n",
       "      <td>1.0</td>\n",
       "      <td>1</td>\n",
       "      <td>0</td>\n",
       "      <td>0</td>\n",
       "      <td>0</td>\n",
       "      <td>...</td>\n",
       "      <td>Yes</td>\n",
       "      <td>Some Python -- I have had one class or written...</td>\n",
       "      <td>2</td>\n",
       "      <td>3.5</td>\n",
       "      <td>3</td>\n",
       "      <td>8.3</td>\n",
       "      <td>4</td>\n",
       "      <td>8</td>\n",
       "      <td>Introvert</td>\n",
       "      <td>No</td>\n",
       "    </tr>\n",
       "    <tr>\n",
       "      <th>13</th>\n",
       "      <td>Daniel</td>\n",
       "      <td>Statistics</td>\n",
       "      <td>Freshman</td>\n",
       "      <td>iPhone</td>\n",
       "      <td>Windows-based computer</td>\n",
       "      <td>2.0</td>\n",
       "      <td>0</td>\n",
       "      <td>1</td>\n",
       "      <td>0</td>\n",
       "      <td>0</td>\n",
       "      <td>...</td>\n",
       "      <td>No</td>\n",
       "      <td>No programming background -- is Python Taylor ...</td>\n",
       "      <td>0</td>\n",
       "      <td>1.0</td>\n",
       "      <td>1</td>\n",
       "      <td>9.0</td>\n",
       "      <td>3</td>\n",
       "      <td>5</td>\n",
       "      <td>Extrovert</td>\n",
       "      <td>No</td>\n",
       "    </tr>\n",
       "    <tr>\n",
       "      <th>63</th>\n",
       "      <td>Thomas</td>\n",
       "      <td>information Sciences</td>\n",
       "      <td>Sophomore</td>\n",
       "      <td>iPhone</td>\n",
       "      <td>Windows-based computer</td>\n",
       "      <td>0.0</td>\n",
       "      <td>1</td>\n",
       "      <td>1</td>\n",
       "      <td>0</td>\n",
       "      <td>0</td>\n",
       "      <td>...</td>\n",
       "      <td>Yes</td>\n",
       "      <td>Some Python -- I have had one class or written...</td>\n",
       "      <td>0</td>\n",
       "      <td>3.0</td>\n",
       "      <td>1</td>\n",
       "      <td>7.0</td>\n",
       "      <td>4</td>\n",
       "      <td>18</td>\n",
       "      <td>Introvert</td>\n",
       "      <td>Yes</td>\n",
       "    </tr>\n",
       "    <tr>\n",
       "      <th>18</th>\n",
       "      <td>Jason</td>\n",
       "      <td>Computer Science</td>\n",
       "      <td>Junior</td>\n",
       "      <td>iPhone</td>\n",
       "      <td>Mac OS X-based computer</td>\n",
       "      <td>1.0</td>\n",
       "      <td>0</td>\n",
       "      <td>0</td>\n",
       "      <td>0</td>\n",
       "      <td>0</td>\n",
       "      <td>...</td>\n",
       "      <td>No</td>\n",
       "      <td>No programming background -- is Python Taylor ...</td>\n",
       "      <td>0</td>\n",
       "      <td>3.0</td>\n",
       "      <td>2</td>\n",
       "      <td>8.0</td>\n",
       "      <td>10</td>\n",
       "      <td>15</td>\n",
       "      <td>Introvert</td>\n",
       "      <td>Yes</td>\n",
       "    </tr>\n",
       "  </tbody>\n",
       "</table>\n",
       "<p>5 rows × 33 columns</p>\n",
       "</div>"
      ],
      "text/plain": [
       "      Name                 Major School Year   Phone                 Computer  \\\n",
       "2    Grace            Statistics   Sophomore  iPhone  Mac OS X-based computer   \n",
       "84  Feliks            Statistics      Junior  iPhone   Windows-based computer   \n",
       "13  Daniel            Statistics    Freshman  iPhone   Windows-based computer   \n",
       "63  Thomas  information Sciences   Sophomore  iPhone   Windows-based computer   \n",
       "18   Jason      Computer Science      Junior  iPhone  Mac OS X-based computer   \n",
       "\n",
       "    Holes in a Straw  Has Dogs  Has Cats  Has Fish  Has Chickens  ...  \\\n",
       "2                2.0         1         1         1             0  ...   \n",
       "84               1.0         1         0         0             0  ...   \n",
       "13               2.0         0         1         0             0  ...   \n",
       "63               0.0         1         1         0             0  ...   \n",
       "18               1.0         0         0         0             0  ...   \n",
       "\n",
       "    Programmed before?                                  Python Background  \\\n",
       "2                   No  No programming background -- is Python Taylor ...   \n",
       "84                 Yes  Some Python -- I have had one class or written...   \n",
       "13                  No  No programming background -- is Python Taylor ...   \n",
       "63                 Yes  Some Python -- I have had one class or written...   \n",
       "18                  No  No programming background -- is Python Taylor ...   \n",
       "\n",
       "    Statistics Courses  Hours Studying Siblings Hours of Sleep  Shoes Owned  \\\n",
       "2                    3             4.0        1            8.0           40   \n",
       "84                   2             3.5        3            8.3            4   \n",
       "13                   0             1.0        1            9.0            3   \n",
       "63                   0             3.0        1            7.0            4   \n",
       "18                   0             3.0        2            8.0           10   \n",
       "\n",
       "    People Texted Yesterday  Personality  Pineapple on Pizza  \n",
       "2                         4    Introvert                 Yes  \n",
       "84                        8    Introvert                  No  \n",
       "13                        5    Extrovert                  No  \n",
       "63                       18    Introvert                 Yes  \n",
       "18                       15    Introvert                 Yes  \n",
       "\n",
       "[5 rows x 33 columns]"
      ]
     },
     "execution_count": 3,
     "metadata": {},
     "output_type": "execute_result"
    }
   ],
   "source": [
    "import pandas as pd\n",
    "df = pd.read_csv(\"hello.csv\")\n",
    "df.sample(n=5)"
   ]
  },
  {
   "cell_type": "markdown",
   "metadata": {},
   "source": [
    "# 2. Do seniors students study less than freshman?\n",
    "\n",
    "Using the \"Hello\" dataset, find the average number of hours freshman study (`freshman_avg_study_hours`) and the average number of hours seniors study (`senior_avg_study_hours`) each week:  "
   ]
  },
  {
   "cell_type": "code",
   "execution_count": 16,
   "metadata": {
    "deletable": false,
    "nbgrader": {
     "cell_type": "code",
     "checksum": "02ee1b21183e2ead088f5d45611e5dc4",
     "grade": false,
     "grade_id": "cell-0c5e6b97fdf25f9a",
     "locked": false,
     "schema_version": 3,
     "solution": true,
     "task": false
    }
   },
   "outputs": [
    {
     "data": {
      "text/plain": [
       "3.159090909090909"
      ]
     },
     "execution_count": 16,
     "metadata": {},
     "output_type": "execute_result"
    }
   ],
   "source": [
    "freshman = df[df[\"School Year\"] == \"Freshman\"]\n",
    "\n",
    "freshman_avg_study_hours = freshman[\"Hours Studying\"].mean()\n",
    "freshman_avg_study_hours\n",
    "\n"
   ]
  },
  {
   "cell_type": "code",
   "execution_count": 17,
   "metadata": {
    "deletable": false,
    "nbgrader": {
     "cell_type": "code",
     "checksum": "9e41303a5bc80e41d45d116643c01279",
     "grade": false,
     "grade_id": "cell-ba360e51c3559faa",
     "locked": false,
     "schema_version": 3,
     "solution": true,
     "task": false
    }
   },
   "outputs": [
    {
     "data": {
      "text/plain": [
       "3.6153846153846154"
      ]
     },
     "execution_count": 17,
     "metadata": {},
     "output_type": "execute_result"
    }
   ],
   "source": [
    "senior = df[df[\"School Year\"] == \"Senior\"]\n",
    "\n",
    "senior_avg_study_hours = senior[\"Hours Studying\"].mean()\n",
    "senior_avg_study_hours\n",
    "\n"
   ]
  },
  {
   "cell_type": "code",
   "execution_count": 18,
   "metadata": {
    "deletable": false,
    "editable": false,
    "nbgrader": {
     "cell_type": "code",
     "checksum": "11d167cc4af48d40e4fd519294a425ef",
     "grade": true,
     "grade_id": "cell-e03adddf03d4c81a",
     "locked": true,
     "points": 1,
     "schema_version": 3,
     "solution": false,
     "task": false
    }
   },
   "outputs": [
    {
     "name": "stdout",
     "output_type": "stream",
     "text": [
      "🎉 All tests passed! 🎉\n"
     ]
    }
   ],
   "source": [
    "## == TEST CASES for Puzzle 2 ==\n",
    "# - This read-only cell contains test cases for your previous cell.\n",
    "# - If this cell runs without any error our output, you PASSED all test cases!\n",
    "# - If this cell results in any errors, check you previous cell, make changes, and RE-RUN your code and then this cell.\n",
    "\n",
    "assert(round(freshman_avg_study_hours ** 3, 2) == 31.53), \"The average number of hours studying for freshman appears incorrect.\"\n",
    "assert(round(senior_avg_study_hours ** 3, 2) == 47.26), \"The average number of hours studying for seniors appears incorrect.\"\n",
    "assert(round(freshman_avg_study_hours * senior_avg_study_hours, 2) == 11.42), \"The average number of hours studying for seniors or freshman appears incorrect.\"\n",
    "\n",
    "\n",
    "## == SUCCESS MESSAGE ==\n",
    "# You will only see this message (with the emoji showing) if you passed all test cases:\n",
    "tada = \"\\N{PARTY POPPER}\"\n",
    "print(f\"{tada} All tests passed! {tada}\")"
   ]
  },
  {
   "cell_type": "markdown",
   "metadata": {},
   "source": [
    "# 3. Do introverts text less than extroverts?\n",
    "\n",
    "In our dataset, you responded with the number of texts recieved yesterday.  Find the average number of texts sent by introverts and by extroverts:"
   ]
  },
  {
   "cell_type": "code",
   "execution_count": 20,
   "metadata": {
    "deletable": false,
    "nbgrader": {
     "cell_type": "code",
     "checksum": "6aa62c22b3a0149a98bf48d028e74b43",
     "grade": false,
     "grade_id": "cell-0ded48531f57011e",
     "locked": false,
     "schema_version": 3,
     "solution": true,
     "task": false
    }
   },
   "outputs": [
    {
     "data": {
      "text/plain": [
       "14.295081967213115"
      ]
     },
     "execution_count": 20,
     "metadata": {},
     "output_type": "execute_result"
    }
   ],
   "source": [
    "introvert = df[df[\"Personality\"] == \"Introvert\"]\n",
    "introverts_avg_txts = introvert[\"People Texted Yesterday\"].mean()\n",
    "introverts_avg_txts\n",
    "\n"
   ]
  },
  {
   "cell_type": "code",
   "execution_count": 21,
   "metadata": {
    "deletable": false,
    "nbgrader": {
     "cell_type": "code",
     "checksum": "22215cce9bb81150050b522be4949cbe",
     "grade": false,
     "grade_id": "cell-975d7137d0ca4494",
     "locked": false,
     "schema_version": 3,
     "solution": true,
     "task": false
    }
   },
   "outputs": [
    {
     "data": {
      "text/plain": [
       "19.24137931034483"
      ]
     },
     "execution_count": 21,
     "metadata": {},
     "output_type": "execute_result"
    }
   ],
   "source": [
    "extrovert = df[df[\"Personality\"] == \"Extrovert\"]\n",
    "extroverts_avg_txts = extrovert[\"People Texted Yesterday\"].mean()\n",
    "extroverts_avg_txts\n",
    "\n"
   ]
  },
  {
   "cell_type": "code",
   "execution_count": 22,
   "metadata": {
    "deletable": false,
    "editable": false,
    "nbgrader": {
     "cell_type": "code",
     "checksum": "4e5965b308911114ecbda2714e81adc8",
     "grade": true,
     "grade_id": "cell-85b1350f5048af0d",
     "locked": true,
     "points": 1,
     "schema_version": 3,
     "solution": false,
     "task": false
    }
   },
   "outputs": [
    {
     "name": "stdout",
     "output_type": "stream",
     "text": [
      "🎉 All tests passed! 🎉\n"
     ]
    }
   ],
   "source": [
    "## == TEST CASES for Puzzle 3 ==\n",
    "# - This read-only cell contains test cases for your previous cell.\n",
    "# - If this cell runs without any error our output, you PASSED all test cases!\n",
    "# - If this cell results in any errors, check you previous cell, make changes, and RE-RUN your code and then this cell.\n",
    "\n",
    "assert(introverts_avg_txts < extroverts_avg_txts), \"This does not appear correct -- check your introvert and extrovert logic.\"\n",
    "\n",
    "\n",
    "## == SUCCESS MESSAGE ==\n",
    "# You will only see this message (with the emoji showing) if you passed all test cases:\n",
    "tada = \"\\N{PARTY POPPER}\"\n",
    "print(f\"{tada} All tests passed! {tada}\")"
   ]
  },
  {
   "cell_type": "markdown",
   "metadata": {},
   "source": [
    "## Submit Your Work!\n",
    "\n",
    "Make sure to **Save and Checkpoint** your notebook, exit Jupyter, and submit your work! :)"
   ]
  },
  {
   "cell_type": "code",
   "execution_count": null,
   "metadata": {},
   "outputs": [],
   "source": []
  }
 ],
 "metadata": {
  "kernelspec": {
   "display_name": "Python 3",
   "language": "python",
   "name": "python3"
  },
  "language_info": {
   "codemirror_mode": {
    "name": "ipython",
    "version": 3
   },
   "file_extension": ".py",
   "mimetype": "text/x-python",
   "name": "python",
   "nbconvert_exporter": "python",
   "pygments_lexer": "ipython3",
   "version": "3.7.4"
  }
 },
 "nbformat": 4,
 "nbformat_minor": 2
}
