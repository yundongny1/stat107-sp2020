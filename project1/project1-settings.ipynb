{
 "cells": [
  {
   "cell_type": "markdown",
   "metadata": {},
   "source": [
    "# Settings File\n",
    "\n",
    "This files controls the settings for your mosaic.  Unlike normal notebook files, running these cells will do nothing.  Instead, these cells will be run **by Part 1 and Part 2 notebooks**.  If you want to change a setting:\n",
    "\n",
    "- Change the setting here and run the cell to ensure the syntax is correct\n",
    "- Save and checkpoint this settings notebook\n",
    "- Run your Part 1 or Part 2 notebook"
   ]
  },
  {
   "cell_type": "markdown",
   "metadata": {},
   "source": [
    "## Tile images height/width in your final image (pixels):\n",
    "\n",
    "A good value is around `32`.  You may want to make this value smaller if your program if **Part 1** is taking forever to run.  The other value (`maxTilesAcross`) has more of an impact on **Part 2**.\n",
    "\n",
    "- A larger tile image will result in a larger output file.\n",
    "- A larger tile image will result in your program running slower.\n",
    "- A larger tile image will result in more detail in the output file.\n",
    "- This value is used in both **Part 1 and Part 2**.  If you change this value, be sure to re-run Part 1 and Part 2 or your mosaic may not look as good as possible."
   ]
  },
  {
   "cell_type": "code",
   "execution_count": null,
   "metadata": {},
   "outputs": [],
   "source": [
    "outputSize = 32"
   ]
  },
  {
   "cell_type": "markdown",
   "metadata": {},
   "source": [
    "## Max tile images used across your final image (width):\n",
    "\n",
    "With a good set of tile images, you mosaic will look amazing with a value around `300`.  However, **Part 2** may take **FOREVER** to run on slower/older computers (eg: laptops).  Your laptop will usually run this a bit faster plugged in since it will try and save battery when not plugged in.\n",
    "\n",
    "**HINT**: You may to adjust this value to `10` or `20` while testing your program.  Once your program words, come back and change it to `300` and let your program run to make your final mosaic.\n",
    "\n",
    "- More tiles across will increase the quality of the final image.\n",
    "- More tiles across will cause your program to run slower.\n",
    "- If you have an image that is very wide/tall, you may need to adjust this value."
   ]
  },
  {
   "cell_type": "code",
   "execution_count": null,
   "metadata": {},
   "outputs": [],
   "source": [
    "maxTilesAcross = 300"
   ]
  },
  {
   "cell_type": "markdown",
   "metadata": {},
   "source": [
    "## Location of your tile images:\n",
    "\n",
    "- This directory must contain all of your tile images.\n",
    "- Non-image files will be ignored.\n",
    "- This is only directly used in Part 1.  If you add new tile images, re-run Part 1 to re-calculate the average colors or your Part 2 will not refer to the correct images."
   ]
  },
  {
   "cell_type": "code",
   "execution_count": null,
   "metadata": {},
   "outputs": [],
   "source": [
    "tileImageDir = \"images/\""
   ]
  },
  {
   "cell_type": "markdown",
   "metadata": {},
   "source": [
    "## Location of your base image:\n",
    "\n",
    "- This is the image you wish to use as your base image to create your mosaic.\n",
    "- This is used only in Part 2."
   ]
  },
  {
   "cell_type": "code",
   "execution_count": null,
   "metadata": {},
   "outputs": [],
   "source": [
    "baseImageFile = \"base.jpg\""
   ]
  },
  {
   "cell_type": "markdown",
   "metadata": {},
   "source": [
    "# Library Functions\n",
    "\n",
    "These functions are already programmed and do not need to be changed.  These are used to help the provided code in both Part 1 and Part 2 of this project:"
   ]
  },
  {
   "cell_type": "code",
   "execution_count": null,
   "metadata": {},
   "outputs": [],
   "source": [
    "# Resize the image to an `outputSize` x `outputSize` square, where `outputSize` is defined (globally) above.\n",
    "def imageResizeToOutputSize(image):\n",
    "    import PIL\n",
    "\n",
    "    w, h = image.size\n",
    "    d = min(w, h)\n",
    "    image = image.crop( (0, 0, d, d) ).resize( (outputSize, outputSize), resample=PIL.Image.LANCZOS )\n",
    "    \n",
    "    return image\n",
    "\n",
    "# Convert (and resize) an Image to an Lab array\n",
    "def imageToLabArray(image, resize = True):\n",
    "    import skimage\n",
    "    import skimage.io\n",
    "    import numpy as np\n",
    "\n",
    "    w, h = image.size\n",
    "    if resize:\n",
    "        image = imageResizeToOutputSize(image)\n",
    "\n",
    "    image = image.convert('RGB')\n",
    "    rgb = np.array(image)\n",
    "    lab = skimage.color.rgb2lab(rgb)\n",
    "    lab = lab.transpose([1,0,2])\n",
    "    \n",
    "    return lab\n",
    "\n",
    "# Convert (and resize) an file to an Lab array\n",
    "def fileToLabArray(file, resize = True):\n",
    "    from PIL import Image\n",
    "    \n",
    "    image = Image.open(file)\n",
    "    return imageToLabArray(image, resize)"
   ]
  }
 ],
 "metadata": {
  "kernelspec": {
   "display_name": "Python 3",
   "language": "python",
   "name": "python3"
  },
  "language_info": {
   "codemirror_mode": {
    "name": "ipython",
    "version": 3
   },
   "file_extension": ".py",
   "mimetype": "text/x-python",
   "name": "python",
   "nbconvert_exporter": "python",
   "pygments_lexer": "ipython3",
   "version": "3.7.3"
  }
 },
 "nbformat": 4,
 "nbformat_minor": 2
}
