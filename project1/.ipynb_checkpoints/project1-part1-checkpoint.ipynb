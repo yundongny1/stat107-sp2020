{
 "cells": [
  {
   "cell_type": "markdown",
   "metadata": {},
   "source": [
    "# Project 1 Notebook\n",
    "\n",
    "The overview of Project 1 is written here: http://courses.las.illinois.edu/spring2020/stat107/projects/mosaic/.  This notebook is used for coding the project with some provided starter code. :)"
   ]
  },
  {
   "cell_type": "markdown",
   "metadata": {},
   "source": [
    "## Part 1: Average Image Color\n",
    "\n",
    "Follow the guide for Project 1 to help complete your `findAverageImageColor` function:"
   ]
  },
  {
   "cell_type": "code",
   "execution_count": 3,
   "metadata": {
    "deletable": false,
    "nbgrader": {
     "cell_type": "code",
     "checksum": "b6bd089b87b2a5831e7714eadcaa3b79",
     "grade": false,
     "grade_id": "cell-0dbb8ddddc2b1de5",
     "locked": false,
     "schema_version": 3,
     "solution": true,
     "task": false
    }
   },
   "outputs": [],
   "source": [
    "def findAverageImageColor(lab, width, height):\n",
    "    # Your code here:\n",
    "    for x in range(width):\n",
    "        for y in range(height):\n",
    "            L, a, b = img[x][y]\n",
    "        \n",
    "    \n",
    "    \n",
    "    "
   ]
  },
  {
   "cell_type": "markdown",
   "metadata": {},
   "source": [
    "### Part 1 -- Test Cases\n",
    "\n",
    "These test cases help you debug your code to make sure you're finding the correct average values for known images.  After you pass these test cases, then you'll start using your own images! :)"
   ]
  },
  {
   "cell_type": "code",
   "execution_count": 4,
   "metadata": {
    "deletable": false,
    "editable": false,
    "nbgrader": {
     "cell_type": "code",
     "checksum": "27724bd2fe7542c0297f308a6db06341",
     "grade": true,
     "grade_id": "cell-59256d97f4255439",
     "locked": true,
     "points": 1,
     "schema_version": 3,
     "solution": false,
     "task": false
    }
   },
   "outputs": [
    {
     "ename": "NameError",
     "evalue": "name 'img' is not defined",
     "output_type": "error",
     "traceback": [
      "\u001b[1;31m---------------------------------------------------------------------------\u001b[0m",
      "\u001b[1;31mNameError\u001b[0m                                 Traceback (most recent call last)",
      "\u001b[1;32m<ipython-input-4-062cd29557ce>\u001b[0m in \u001b[0;36m<module>\u001b[1;34m\u001b[0m\n\u001b[0;32m     14\u001b[0m     \u001b[1;32mreturn\u001b[0m \u001b[0mfindAverageImageColor\u001b[0m\u001b[1;33m(\u001b[0m\u001b[0mlab\u001b[0m\u001b[1;33m,\u001b[0m \u001b[0mw\u001b[0m\u001b[1;33m,\u001b[0m \u001b[0mh\u001b[0m\u001b[1;33m)\u001b[0m\u001b[1;33m\u001b[0m\u001b[1;33m\u001b[0m\u001b[0m\n\u001b[0;32m     15\u001b[0m \u001b[1;33m\u001b[0m\u001b[0m\n\u001b[1;32m---> 16\u001b[1;33m \u001b[0mtest\u001b[0m \u001b[1;33m=\u001b[0m \u001b[0mtest_findAverageImageColor\u001b[0m\u001b[1;33m(\u001b[0m\u001b[1;34m'test.png'\u001b[0m\u001b[1;33m)\u001b[0m\u001b[1;33m\u001b[0m\u001b[1;33m\u001b[0m\u001b[0m\n\u001b[0m\u001b[0;32m     17\u001b[0m \u001b[1;33m\u001b[0m\u001b[0m\n\u001b[0;32m     18\u001b[0m \u001b[1;32massert\u001b[0m\u001b[1;33m(\u001b[0m \u001b[0mtest\u001b[0m \u001b[1;33m!=\u001b[0m \u001b[1;32mNone\u001b[0m \u001b[1;33m)\u001b[0m\u001b[1;33m,\u001b[0m \u001b[1;34m\"Your findAverageImageColor function must return a value (right now it's returning nothing).\"\u001b[0m\u001b[1;33m\u001b[0m\u001b[1;33m\u001b[0m\u001b[0m\n",
      "\u001b[1;32m<ipython-input-4-062cd29557ce>\u001b[0m in \u001b[0;36mtest_findAverageImageColor\u001b[1;34m(file)\u001b[0m\n\u001b[0;32m     12\u001b[0m     \u001b[0mw\u001b[0m\u001b[1;33m,\u001b[0m \u001b[0mh\u001b[0m \u001b[1;33m=\u001b[0m \u001b[0mimage\u001b[0m\u001b[1;33m.\u001b[0m\u001b[0msize\u001b[0m\u001b[1;33m\u001b[0m\u001b[1;33m\u001b[0m\u001b[0m\n\u001b[0;32m     13\u001b[0m     \u001b[0mlab\u001b[0m \u001b[1;33m=\u001b[0m \u001b[0mimageToLabArray\u001b[0m\u001b[1;33m(\u001b[0m\u001b[0mimage\u001b[0m\u001b[1;33m,\u001b[0m \u001b[0mresize\u001b[0m\u001b[1;33m=\u001b[0m\u001b[1;32mFalse\u001b[0m\u001b[1;33m)\u001b[0m\u001b[1;33m\u001b[0m\u001b[1;33m\u001b[0m\u001b[0m\n\u001b[1;32m---> 14\u001b[1;33m     \u001b[1;32mreturn\u001b[0m \u001b[0mfindAverageImageColor\u001b[0m\u001b[1;33m(\u001b[0m\u001b[0mlab\u001b[0m\u001b[1;33m,\u001b[0m \u001b[0mw\u001b[0m\u001b[1;33m,\u001b[0m \u001b[0mh\u001b[0m\u001b[1;33m)\u001b[0m\u001b[1;33m\u001b[0m\u001b[1;33m\u001b[0m\u001b[0m\n\u001b[0m\u001b[0;32m     15\u001b[0m \u001b[1;33m\u001b[0m\u001b[0m\n\u001b[0;32m     16\u001b[0m \u001b[0mtest\u001b[0m \u001b[1;33m=\u001b[0m \u001b[0mtest_findAverageImageColor\u001b[0m\u001b[1;33m(\u001b[0m\u001b[1;34m'test.png'\u001b[0m\u001b[1;33m)\u001b[0m\u001b[1;33m\u001b[0m\u001b[1;33m\u001b[0m\u001b[0m\n",
      "\u001b[1;32m<ipython-input-3-21f1b11f02e4>\u001b[0m in \u001b[0;36mfindAverageImageColor\u001b[1;34m(lab, width, height)\u001b[0m\n\u001b[0;32m      3\u001b[0m     \u001b[1;32mfor\u001b[0m \u001b[0mx\u001b[0m \u001b[1;32min\u001b[0m \u001b[0mrange\u001b[0m\u001b[1;33m(\u001b[0m\u001b[0mwidth\u001b[0m\u001b[1;33m)\u001b[0m\u001b[1;33m:\u001b[0m\u001b[1;33m\u001b[0m\u001b[1;33m\u001b[0m\u001b[0m\n\u001b[0;32m      4\u001b[0m         \u001b[1;32mfor\u001b[0m \u001b[0my\u001b[0m \u001b[1;32min\u001b[0m \u001b[0mrange\u001b[0m\u001b[1;33m(\u001b[0m\u001b[0mheight\u001b[0m\u001b[1;33m)\u001b[0m\u001b[1;33m:\u001b[0m\u001b[1;33m\u001b[0m\u001b[1;33m\u001b[0m\u001b[0m\n\u001b[1;32m----> 5\u001b[1;33m             \u001b[0mL\u001b[0m\u001b[1;33m,\u001b[0m \u001b[0ma\u001b[0m\u001b[1;33m,\u001b[0m \u001b[0mb\u001b[0m \u001b[1;33m=\u001b[0m \u001b[0mimg\u001b[0m\u001b[1;33m[\u001b[0m\u001b[0mx\u001b[0m\u001b[1;33m]\u001b[0m\u001b[1;33m[\u001b[0m\u001b[0my\u001b[0m\u001b[1;33m]\u001b[0m\u001b[1;33m\u001b[0m\u001b[1;33m\u001b[0m\u001b[0m\n\u001b[0m\u001b[0;32m      6\u001b[0m \u001b[1;33m\u001b[0m\u001b[0m\n\u001b[0;32m      7\u001b[0m \u001b[1;33m\u001b[0m\u001b[0m\n",
      "\u001b[1;31mNameError\u001b[0m: name 'img' is not defined"
     ]
    }
   ],
   "source": [
    "## == TEST CASES for Part 1c ==\n",
    "# - This read-only cell contains test cases for your previous cell(s).\n",
    "# - If this cell runs without any errors in the output, you PASSED all test cases!\n",
    "# - If this cell results errors, check you previous cell, make changes, and RE-RUN your code and then this cell.\n",
    "\n",
    "info = '\\N{INFORMATION SOURCE}'\n",
    "%run project1-settings.ipynb\n",
    "\n",
    "def test_findAverageImageColor(file):\n",
    "    from PIL import Image\n",
    "    image = Image.open(file)\n",
    "    w, h = image.size\n",
    "    lab = imageToLabArray(image, resize=False)\n",
    "    return findAverageImageColor(lab, w, h)\n",
    "\n",
    "test = test_findAverageImageColor('test.png')\n",
    "\n",
    "assert( test != None ), \"Your findAverageImageColor function must return a value (right now it's returning nothing).\"\n",
    "assert( type(test) == type({}) ), f\"Your findAverageImageColor function must return a dictionary (right now it's returning {type(test)}).\"\n",
    "\n",
    "assert( 'L' in test ), \"Your findAverageImageColor must return a value for 'L'.\"\n",
    "assert( 'a' in test ), \"Your findAverageImageColor must return a value for 'a'.\"\n",
    "assert( 'b' in test ), \"Your findAverageImageColor must return a value for 'b'.\"\n",
    "\n",
    "print(f\"{info} Your test.png values: (L={test['L']}, a={test['a']}, b={test['b']})\")\n",
    "assert( abs(test['L'] - 54.244) > 0.001 ), \"Your 'L' value is the value of only orange pixels.  Are you sure you are visiting every pixel?\"\n",
    "assert( abs(test['a'] - 59.314) > 0.001 ), \"Your 'a' value is the value of only orange pixels.  Are you sure you are visiting every pixel?\"\n",
    "assert( abs(test['b'] - 52.9799) > 0.001 ), \"Your 'b' value is the value of only orange pixels.  Are you sure you are visiting every pixel?\"\n",
    "\n",
    "assert( abs(test['L'] - 47.197) < 0.001 ), \"Your 'L' value is not correct on test.png.\"\n",
    "assert( abs(test['a'] - 49.034) < 0.001 ), \"Your 'a' value is not correct on test.png.\"\n",
    "assert( abs(test['b'] - 38.609) < 0.001 ), \"Your 'b' value is not correct on test.png.\"\n",
    "\n",
    "\n",
    "test2 = test_findAverageImageColor('test2.png')\n",
    "\n",
    "print(f\"{info} Your test2.png values: (L={test2['L']}, a={test2['a']}, b={test2['b']})\")\n",
    "assert( abs(test2['L'] - 54.244) < 0.001 ), \"Your 'L' value is not correct on test2.png.\"\n",
    "assert( abs(test2['a'] - 59.314) < 0.001 ), \"Your 'a' value is not correct on test2.png.\"\n",
    "assert( abs(test2['b'] - 52.9799) < 0.001 ), \"Your 'b' value is not correct on test2.png.\"\n",
    "\n",
    "\n",
    "test3 = test_findAverageImageColor('test3.png')\n",
    "\n",
    "print(f\"{info} Your test3.png values: (L={test3['L']}, a={test3['a']}, b={test3['b']})\")\n",
    "assert( abs(test3['L'] - 46.414) < 0.001 ), \"Your 'L' value is not correct on test3.png.\"\n",
    "assert( abs(test3['a'] - 47.892) < 0.001 ), \"Your 'a' value is not correct on test3.png.\"\n",
    "assert( abs(test3['b'] - 37.012) < 0.001 ), \"Your 'b' value is not correct on test3.png.\"\n",
    "\n",
    "\n",
    "## == SUCCESS MESSAGE ==\n",
    "# You will only see this message (with the emoji showing) if you passed all test cases:\n",
    "tada = \"\\N{PARTY POPPER}\"\n",
    "print()\n",
    "print(f\"{tada} All tests passed! {tada}\")"
   ]
  },
  {
   "cell_type": "markdown",
   "metadata": {},
   "source": [
    "## Part 1 Image Analysis -- Your Images\n",
    "\n",
    "Once your function works and passes all the test cases, this code loads all files in the folder specified in `project1-settings.ipynb` and stores the average color value of the image in `tile-images.csv`.\n",
    "\n",
    "- This code is already complete, but depends on a correct `findAverageImageColor` function!\n",
    "- Make sure your code is complete before running this function!\n",
    "- If you have a File Not Found Error, double check the location of your tile images in `project1-settings.ipynb`!\n"
   ]
  },
  {
   "cell_type": "code",
   "execution_count": null,
   "metadata": {},
   "outputs": [],
   "source": [
    "import pandas as pd\n",
    "\n",
    "import PIL\n",
    "from PIL import Image\n",
    "\n",
    "from os import listdir\n",
    "from os.path import isfile, join\n",
    "import sys\n",
    "\n",
    "\n",
    "# Run the `project1-settings.ipynb` notebook:\n",
    "%run project1-settings.ipynb\n",
    "\n",
    "def isImageFile(file):\n",
    "    if file.endswith(\".jpg\") or file.endswith(\".jpeg\") or file.endswith(\".png\") or file.endswith(\".gif\") or \\\n",
    "       file.endswith(\".JPG\") or file.endswith(\".JPEG\") or file.endswith(\".PNG\") or file.endswith(\".GIF\"):\n",
    "        return True\n",
    "    else:\n",
    "        return False\n",
    "\n",
    "\n",
    "# Use `data` to store data about every image:\n",
    "data = []\n",
    "    \n",
    "# Loop through every file:\n",
    "error = False\n",
    "files = [tileImageDir + \"/\" + f for f in listdir(tileImageDir + \"/\") if isfile(join(tileImageDir + \"/\", f)) and isImageFile(join(tileImageDir + \"/\", f))]\n",
    "print(f\"Starting to process {len(files)} files...\")\n",
    "for file in files:\n",
    "    try:\n",
    "        # Reduce file to outputSize in pixels\n",
    "        lab = fileToLabArray(file)\n",
    "        w = len(lab)\n",
    "        h = len(lab[0])\n",
    "                \n",
    "        # Run `findAverageImageColor` and store the result:\n",
    "        result = findAverageImageColor(lab, w, h)\n",
    "        d = { 'file': file, 'L': result['L'], 'a': result['a'], 'b': result['b'] }\n",
    "        data.append(d)\n",
    "        \n",
    "        # Print out message for the user:\n",
    "        pct = len(data) / len(files) * 100\n",
    "        sys.stdout.write(f\"\\r  ... {len(data)} / {len(files)} total files processed ({pct:.2f}%)\")\n",
    "    except ValueError as e:\n",
    "        print()\n",
    "        print()\n",
    "        print(f\"ERROR: `{file}` failed to process.\")\n",
    "        print(\"...try to remove the image and run again.\")\n",
    "        print(repr(e))\n",
    "        error = True\n",
    "        break\n",
    "                \n",
    "# Save the data as a DataFrame and CSV file:\n",
    "if not error:\n",
    "    df = pd.DataFrame(data)\n",
    "    df.to_csv('tile-images.csv')\n",
    "    df\n",
    "\n",
    "    tada = \"\\N{PARTY POPPER}\"\n",
    "    print(\"\")\n",
    "    print(\"\")\n",
    "    print(f\"{tada} Image data saved as \"\"tile-images.csv\"\"\")\n",
    "    print(df)"
   ]
  },
  {
   "cell_type": "markdown",
   "metadata": {},
   "source": [
    "## Turn In and Continue to Part 2\n",
    "\n",
    "- Make sure to turn in Part 1 by the due date!\n",
    "- Part 2 will use the CSV file you saved, `tile-images.csv`, to build your image mosaic!"
   ]
  }
 ],
 "metadata": {
  "kernelspec": {
   "display_name": "Python 3",
   "language": "python",
   "name": "python3"
  },
  "language_info": {
   "codemirror_mode": {
    "name": "ipython",
    "version": 3
   },
   "file_extension": ".py",
   "mimetype": "text/x-python",
   "name": "python",
   "nbconvert_exporter": "python",
   "pygments_lexer": "ipython3",
   "version": "3.7.6"
  }
 },
 "nbformat": 4,
 "nbformat_minor": 2
}
