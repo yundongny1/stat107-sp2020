{
 "cells": [
  {
   "cell_type": "markdown",
   "metadata": {},
   "source": [
    "# Welcome to the University of Illinois administrative office!\n",
    "\n",
    "We are so thankful that you agreed to take a look at our salary data. We have a dataset for you that we need you to perform some analysis on and create some plots that we can show the state to get funding for another year. Further details follow below.\n",
    "\n",
    "Thanks again!\n",
    " \n",
    "\\- Chancellor Kelly\n",
    "\n",
    "## Lab: Plots\n",
    "\n",
    "In this lab, you will:\n",
    "\n",
    "- Work with real UIUC salary data to explore some of the statistics that we talked about in class: mean, median, mode, standard deviation, and quartiles!\n",
    "- Practice creating plots to visualize quantitative data: boxplots, scatter plots, and histograms"
   ]
  },
  {
   "cell_type": "code",
   "execution_count": 2,
   "metadata": {},
   "outputs": [],
   "source": [
    "ta_name = \"Anku\"\n",
    "ca1_name = \"DEAN\"\n",
    "ca2_name = \"JASMINE\"\n",
    "\n",
    "partner1_name = \"Cam\"\n",
    "partner1_netid = \"cr13\"\n",
    "partner1_major = \"ECONOMETRICS\"\n",
    "partner1_qotd_answer = \"KARLE\"\n",
    "\n",
    "partner2_name = \"EMILIE\"\n",
    "partner2_netid = \"EMILIES2\"\n",
    "partner2_major = \"linguistics\"\n",
    "partner2_qotd_answer = \"karle\"\n",
    "\n",
    "partner3_name = \"nima\"\n",
    "partner3_netid = \"nimas2\"\n",
    "partner3_major = \"IS\"\n",
    "partner3_qotd_answer = \"wade\"\n",
    "\n",
    "partner4_name = \"\"\n",
    "partner4_netid = \"\"\n",
    "partner4_major = \"\"\n",
    "partner4_qotd_answer = \"\""
   ]
  },
  {
   "cell_type": "markdown",
   "metadata": {},
   "source": [
    "# 0. Import the Data\n",
    "\n",
    "In the same directory as this notebook find the dataset that is provided.  You know what to do to import the libraries and read the data! :)"
   ]
  },
  {
   "cell_type": "code",
   "execution_count": 4,
   "metadata": {
    "deletable": false,
    "nbgrader": {
     "cell_type": "code",
     "checksum": "40a9b55a4721908243d995f8d7f2fbb7",
     "grade": false,
     "grade_id": "cell-27971beecac131cc",
     "locked": false,
     "schema_version": 3,
     "solution": true,
     "task": false
    }
   },
   "outputs": [],
   "source": [
    "import pandas as pd\n",
    "df= pd.read_csv(\"graybook.csv\")"
   ]
  },
  {
   "cell_type": "markdown",
   "metadata": {},
   "source": [
    "# 1. The Basics\n",
    "\n",
    "\n",
    "## Exploring measures of center: Mean, Median, and Standard Deviation\n",
    "\n",
    "The first thing we need from you is to get us some basics statistics at both a university and department level. We need to know:\n",
    "1. the number of employees at UIUC\n",
    "2. the mean salary\n",
    "3. the median salary\n",
    "4. the standard deviation"
   ]
  },
  {
   "cell_type": "code",
   "execution_count": 6,
   "metadata": {
    "deletable": false,
    "nbgrader": {
     "cell_type": "code",
     "checksum": "b1bea43f79c33b854e1f15dfe00b180b",
     "grade": false,
     "grade_id": "cell-419796a0b415e588",
     "locked": false,
     "schema_version": 3,
     "solution": true,
     "task": false
    }
   },
   "outputs": [
    {
     "data": {
      "text/plain": [
       "3555"
      ]
     },
     "execution_count": 6,
     "metadata": {},
     "output_type": "execute_result"
    }
   ],
   "source": [
    "university_num_emp = len(df)\n",
    "university_num_emp\n",
    "\n"
   ]
  },
  {
   "cell_type": "code",
   "execution_count": 7,
   "metadata": {
    "deletable": false,
    "nbgrader": {
     "cell_type": "code",
     "checksum": "f86aac497feb3ecd4289626231b44964",
     "grade": false,
     "grade_id": "cell-4dbbeef1022a20e4",
     "locked": false,
     "schema_version": 3,
     "solution": true,
     "task": false
    }
   },
   "outputs": [
    {
     "data": {
      "text/plain": [
       "101284.91668642394"
      ]
     },
     "execution_count": 7,
     "metadata": {},
     "output_type": "execute_result"
    }
   ],
   "source": [
    "university_mean_sal = df['Salary'].mean()\n",
    "university_mean_sal\n",
    "\n"
   ]
  },
  {
   "cell_type": "code",
   "execution_count": 8,
   "metadata": {
    "deletable": false,
    "nbgrader": {
     "cell_type": "code",
     "checksum": "e8f355f508ffadd1f9b645c9686c73ea",
     "grade": false,
     "grade_id": "cell-727195c3fef2cf78",
     "locked": false,
     "schema_version": 3,
     "solution": true,
     "task": false
    }
   },
   "outputs": [
    {
     "data": {
      "text/plain": [
       "86995.0"
      ]
     },
     "execution_count": 8,
     "metadata": {},
     "output_type": "execute_result"
    }
   ],
   "source": [
    "university_median_sal = df['Salary'].median()\n",
    "university_median_sal\n",
    "\n"
   ]
  },
  {
   "cell_type": "code",
   "execution_count": 9,
   "metadata": {
    "deletable": false,
    "nbgrader": {
     "cell_type": "code",
     "checksum": "3da9719c35e35c72a09a1068d100b0f1",
     "grade": false,
     "grade_id": "cell-35e651d14a628e50",
     "locked": false,
     "schema_version": 3,
     "solution": true,
     "task": false
    }
   },
   "outputs": [
    {
     "data": {
      "text/plain": [
       "55129.29496464772"
      ]
     },
     "execution_count": 9,
     "metadata": {},
     "output_type": "execute_result"
    }
   ],
   "source": [
    "university_std_sal = df['Salary'].std()\n",
    "university_std_sal\n",
    "\n"
   ]
  },
  {
   "cell_type": "code",
   "execution_count": 10,
   "metadata": {
    "deletable": false,
    "editable": false,
    "nbgrader": {
     "cell_type": "code",
     "checksum": "56f09ea04974ac5c89f390a8825daa39",
     "grade": true,
     "grade_id": "cell-04e624817d681f8e",
     "locked": true,
     "points": 1,
     "schema_version": 3,
     "solution": false,
     "task": false
    }
   },
   "outputs": [
    {
     "name": "stdout",
     "output_type": "stream",
     "text": [
      "🎉 All tests passed! 🎉\n"
     ]
    }
   ],
   "source": [
    "## == TEST CASES for Puzzle 1.1 ==\n",
    "# - This read-only cell contains test cases for your previous cell.\n",
    "# - If this cell runs with a message (with the emoji showing), you PASSED all test cases!\n",
    "# - If this cell results in any errors, check your previous cell, make changes, and RE-RUN your code and then this cell.\n",
    "x = university_num_emp + university_mean_sal + university_median_sal + university_std_sal\n",
    "y = ((university_mean_sal - university_median_sal) * university_std_sal) / university_num_emp\n",
    "\n",
    "assert( abs(x - 246964.21165107167) < 1 ), \"It looks like your calculations are off?\"\n",
    "assert( abs(y - 221601.415478511) < 1 ), \"It looks like your calculations are off?\"\n",
    "\n",
    "## == SUCCESS MESSAGE ==\n",
    "# You will only see this message (with the emoji showing) if you passed all test cases:\n",
    "tada = \"\\N{PARTY POPPER}\"\n",
    "print(f\"{tada} All tests passed! {tada}\")"
   ]
  },
  {
   "cell_type": "markdown",
   "metadata": {},
   "source": [
    "## Department-level Data\n",
    "\n",
    "Now we need the same data at a department level. In other words, you want each of those statistics for each department.  There was a certain function you learned a bit ago that will help you **group** all of the people in each department so you can find departmental aggregates.\n",
    "\n",
    "Instead of just grouping by a single aggregate, use **Python list syntax** to aggregate to find the `count`, `mean`, and `median`.  After that, select only the `'Primary Department'` and `'Salary'` data.\n",
    "\n",
    "*(You can view technical docs here:\n",
    "https://pandas.pydata.org/pandas-docs/stable/reference/groupby.html)*"
   ]
  },
  {
   "cell_type": "code",
   "execution_count": 28,
   "metadata": {
    "deletable": false,
    "nbgrader": {
     "cell_type": "code",
     "checksum": "912abaecdf749394d0921e160cd15746",
     "grade": false,
     "grade_id": "cell-72189b308296916b",
     "locked": false,
     "schema_version": 3,
     "solution": true,
     "task": false
    }
   },
   "outputs": [
    {
     "data": {
      "text/html": [
       "<div>\n",
       "<style scoped>\n",
       "    .dataframe tbody tr th:only-of-type {\n",
       "        vertical-align: middle;\n",
       "    }\n",
       "\n",
       "    .dataframe tbody tr th {\n",
       "        vertical-align: top;\n",
       "    }\n",
       "\n",
       "    .dataframe thead tr th {\n",
       "        text-align: left;\n",
       "    }\n",
       "</style>\n",
       "<table border=\"1\" class=\"dataframe\">\n",
       "  <thead>\n",
       "    <tr>\n",
       "      <th></th>\n",
       "      <th>Primary Department</th>\n",
       "      <th colspan=\"3\" halign=\"left\">Salary</th>\n",
       "    </tr>\n",
       "    <tr>\n",
       "      <th></th>\n",
       "      <th></th>\n",
       "      <th>mean</th>\n",
       "      <th>count</th>\n",
       "      <th>median</th>\n",
       "    </tr>\n",
       "  </thead>\n",
       "  <tbody>\n",
       "    <tr>\n",
       "      <th>82</th>\n",
       "      <td>Human Dvlpmt &amp; Family Studies</td>\n",
       "      <td>73734.806047</td>\n",
       "      <td>43</td>\n",
       "      <td>65149.0</td>\n",
       "    </tr>\n",
       "    <tr>\n",
       "      <th>35</th>\n",
       "      <td>Chemical &amp; Biomolecular Engr</td>\n",
       "      <td>114500.126538</td>\n",
       "      <td>26</td>\n",
       "      <td>105770.0</td>\n",
       "    </tr>\n",
       "    <tr>\n",
       "      <th>65</th>\n",
       "      <td>Engr Shared Admin Services</td>\n",
       "      <td>70328.164615</td>\n",
       "      <td>13</td>\n",
       "      <td>68500.0</td>\n",
       "    </tr>\n",
       "    <tr>\n",
       "      <th>54</th>\n",
       "      <td>E Asian &amp; Pacific Studies Cntr</td>\n",
       "      <td>58417.800000</td>\n",
       "      <td>1</td>\n",
       "      <td>58417.8</td>\n",
       "    </tr>\n",
       "    <tr>\n",
       "      <th>58</th>\n",
       "      <td>Education Administration</td>\n",
       "      <td>81850.140417</td>\n",
       "      <td>24</td>\n",
       "      <td>67438.0</td>\n",
       "    </tr>\n",
       "  </tbody>\n",
       "</table>\n",
       "</div>"
      ],
      "text/plain": [
       "                Primary Department         Salary                \n",
       "                                             mean count    median\n",
       "82   Human Dvlpmt & Family Studies   73734.806047    43   65149.0\n",
       "35    Chemical & Biomolecular Engr  114500.126538    26  105770.0\n",
       "65      Engr Shared Admin Services   70328.164615    13   68500.0\n",
       "54  E Asian & Pacific Studies Cntr   58417.800000     1   58417.8\n",
       "58        Education Administration   81850.140417    24   67438.0"
      ]
     },
     "execution_count": 28,
     "metadata": {},
     "output_type": "execute_result"
    }
   ],
   "source": [
    "group = df.groupby(\"Primary Department\").agg([\"mean\",\"count\", \"median\"]).reset_index()\n",
    "agg_df = group[[\"Primary Department\", \"Salary\"]]\n",
    "\n",
    "\n",
    "\n",
    "# Display 5 random rows to make sure it works:\n",
    "agg_df.sample(5)"
   ]
  },
  {
   "cell_type": "code",
   "execution_count": 29,
   "metadata": {
    "deletable": false,
    "editable": false,
    "nbgrader": {
     "cell_type": "code",
     "checksum": "0bbf4ebd7bc25281632fc296ffd2b063",
     "grade": true,
     "grade_id": "cell-d4a69c902629304a",
     "locked": true,
     "points": 1,
     "schema_version": 3,
     "solution": false,
     "task": false
    }
   },
   "outputs": [
    {
     "name": "stdout",
     "output_type": "stream",
     "text": [
      "🎉 All tests passed! 🎉\n"
     ]
    }
   ],
   "source": [
    "## == TEST CASES for Puzzle 1.2 ==\n",
    "# - This read-only cell contains test cases for your previous cell.\n",
    "# - If this cell runs with a message (with the emoji showing), you PASSED all test cases!\n",
    "# - If this cell results in any errors, check your previous cell, make changes, and RE-RUN your code and then this cell.\n",
    "assert( len(agg_df) == 140 ), \"You should have 140 different departments.  Check to make sure you grouped the data?\"\n",
    "assert( \"Salary\" in agg_df ), \"You must have a salary output\"\n",
    "assert( \"mean\" in agg_df[\"Salary\"] ), \"Make sure you have a mean in your salary\"\n",
    "assert( \"count\" in agg_df[\"Salary\"] ), \"Make sure you have a count in your salary\"\n",
    "assert( \"median\" in agg_df[\"Salary\"] ), \"Make sure you have a median in your salary\"\n",
    "assert( len(agg_df.columns) == 4 ), \"Make sure you have ONLY the salary data and the department\"\n",
    "\n",
    "## == SUCCESS MESSAGE ==\n",
    "# You will only see this message (with the emoji showing) if you passed all test cases:\n",
    "tada = \"\\N{PARTY POPPER}\"\n",
    "print(f\"{tada} All tests passed! {tada}\")"
   ]
  },
  {
   "cell_type": "markdown",
   "metadata": {},
   "source": [
    "Your boss is thrilled with the numbers you've come up with! Now she's ready to go to the state to ask for money. To know how much to ask for, she wants you to **add a column** to the department-grouped DataFrame that is equal to the **mean** salary of that department multiplied by the number of people in that department. She wants you to provide her with this table and the sum of all of the values in this column.\n",
    "\n",
    "Hop to it!"
   ]
  },
  {
   "cell_type": "code",
   "execution_count": 42,
   "metadata": {
    "deletable": false,
    "nbgrader": {
     "cell_type": "code",
     "checksum": "86b741d1a4d55d4d35847373f4f953c0",
     "grade": false,
     "grade_id": "cell-4532891e3738e59e",
     "locked": false,
     "schema_version": 3,
     "solution": true,
     "task": false
    }
   },
   "outputs": [
    {
     "name": "stderr",
     "output_type": "stream",
     "text": [
      "C:\\Users\\yundo\\Miniconda3\\lib\\site-packages\\ipykernel_launcher.py:1: SettingWithCopyWarning: \n",
      "A value is trying to be set on a copy of a slice from a DataFrame.\n",
      "Try using .loc[row_indexer,col_indexer] = value instead\n",
      "\n",
      "See the caveats in the documentation: http://pandas.pydata.org/pandas-docs/stable/user_guide/indexing.html#returning-a-view-versus-a-copy\n",
      "  \"\"\"Entry point for launching an IPython kernel.\n"
     ]
    },
    {
     "data": {
      "text/html": [
       "<div>\n",
       "<style scoped>\n",
       "    .dataframe tbody tr th:only-of-type {\n",
       "        vertical-align: middle;\n",
       "    }\n",
       "\n",
       "    .dataframe tbody tr th {\n",
       "        vertical-align: top;\n",
       "    }\n",
       "\n",
       "    .dataframe thead tr th {\n",
       "        text-align: left;\n",
       "    }\n",
       "</style>\n",
       "<table border=\"1\" class=\"dataframe\">\n",
       "  <thead>\n",
       "    <tr>\n",
       "      <th></th>\n",
       "      <th>Primary Department</th>\n",
       "      <th colspan=\"3\" halign=\"left\">Salary</th>\n",
       "      <th>MeanMulCount</th>\n",
       "    </tr>\n",
       "    <tr>\n",
       "      <th></th>\n",
       "      <th></th>\n",
       "      <th>mean</th>\n",
       "      <th>count</th>\n",
       "      <th>median</th>\n",
       "      <th></th>\n",
       "    </tr>\n",
       "  </thead>\n",
       "  <tbody>\n",
       "    <tr>\n",
       "      <th>68</th>\n",
       "      <td>Fine &amp; Applied Arts Admin</td>\n",
       "      <td>74298.004815</td>\n",
       "      <td>27</td>\n",
       "      <td>74174.000</td>\n",
       "      <td>2006046.13</td>\n",
       "    </tr>\n",
       "    <tr>\n",
       "      <th>25</th>\n",
       "      <td>Biochemistry</td>\n",
       "      <td>116513.786429</td>\n",
       "      <td>14</td>\n",
       "      <td>102702.995</td>\n",
       "      <td>1631193.01</td>\n",
       "    </tr>\n",
       "    <tr>\n",
       "      <th>121</th>\n",
       "      <td>Russian,E European,Eurasn Ctr</td>\n",
       "      <td>50783.500000</td>\n",
       "      <td>2</td>\n",
       "      <td>50783.500</td>\n",
       "      <td>101567.00</td>\n",
       "    </tr>\n",
       "    <tr>\n",
       "      <th>4</th>\n",
       "      <td>Aces Info Tech &amp; Cmc Svcs</td>\n",
       "      <td>71087.565652</td>\n",
       "      <td>23</td>\n",
       "      <td>70582.130</td>\n",
       "      <td>1635014.01</td>\n",
       "    </tr>\n",
       "    <tr>\n",
       "      <th>91</th>\n",
       "      <td>Journalism</td>\n",
       "      <td>102709.371250</td>\n",
       "      <td>16</td>\n",
       "      <td>91948.650</td>\n",
       "      <td>1643349.94</td>\n",
       "    </tr>\n",
       "  </tbody>\n",
       "</table>\n",
       "</div>"
      ],
      "text/plain": [
       "                Primary Department         Salary                    \\\n",
       "                                             mean count      median   \n",
       "68       Fine & Applied Arts Admin   74298.004815    27   74174.000   \n",
       "25                    Biochemistry  116513.786429    14  102702.995   \n",
       "121  Russian,E European,Eurasn Ctr   50783.500000     2   50783.500   \n",
       "4        Aces Info Tech & Cmc Svcs   71087.565652    23   70582.130   \n",
       "91                      Journalism  102709.371250    16   91948.650   \n",
       "\n",
       "    MeanMulCount  \n",
       "                  \n",
       "68    2006046.13  \n",
       "25    1631193.01  \n",
       "121    101567.00  \n",
       "4     1635014.01  \n",
       "91    1643349.94  "
      ]
     },
     "execution_count": 42,
     "metadata": {},
     "output_type": "execute_result"
    }
   ],
   "source": [
    "agg_df['MeanMulCount'] = agg_df['Salary', \"mean\"] * agg_df['Salary', 'count']\n",
    "\n",
    "\n",
    "# Display 5 random rows to make sure it works:\n",
    "agg_df.sample(5)"
   ]
  },
  {
   "cell_type": "code",
   "execution_count": 50,
   "metadata": {
    "deletable": false,
    "nbgrader": {
     "cell_type": "code",
     "checksum": "a364a79abfffc0e72fe0b37f1e4c4012",
     "grade": false,
     "grade_id": "cell-6da6f358c0acaf48",
     "locked": false,
     "schema_version": 3,
     "solution": true,
     "task": false
    }
   },
   "outputs": [
    {
     "data": {
      "text/plain": [
       "358852459.81999993"
      ]
     },
     "execution_count": 50,
     "metadata": {},
     "output_type": "execute_result"
    }
   ],
   "source": [
    "# calculate the total sum of all of the values in the column you added\n",
    "total_money_needed_mean = agg_df[\"MeanMulCount\"].sum()\n",
    "\n",
    "total_money_needed_mean"
   ]
  },
  {
   "cell_type": "code",
   "execution_count": 51,
   "metadata": {
    "deletable": false,
    "editable": false,
    "nbgrader": {
     "cell_type": "code",
     "checksum": "82d494a5b5c398b3225f159603673091",
     "grade": true,
     "grade_id": "cell-f199dd0452902f41",
     "locked": true,
     "points": 1,
     "schema_version": 3,
     "solution": false,
     "task": false
    }
   },
   "outputs": [
    {
     "name": "stdout",
     "output_type": "stream",
     "text": [
      "🎉 All tests passed! 🎉\n"
     ]
    }
   ],
   "source": [
    "## == TEST CASES for Puzzle 1.3 ==\n",
    "# - This read-only cell contains test cases for your previous cell.\n",
    "# - If this cell runs with a message (with the emoji showing), you PASSED all test cases!\n",
    "# - If this cell results in any errors, check your previous cell, make changes, and RE-RUN your code and then this cell.\n",
    "\n",
    "assert( abs(total_money_needed_mean - 358852459) < 1 ), \"Looks like your multiplication did not work properly!\"\n",
    "\n",
    "## == SUCCESS MESSAGE ==\n",
    "# You will only see this message (with the emoji showing) if you passed all test cases:\n",
    "tada = \"\\N{PARTY POPPER}\"\n",
    "print(f\"{tada} All tests passed! {tada}\")"
   ]
  },
  {
   "cell_type": "markdown",
   "metadata": {},
   "source": [
    "# 2. Estimations\n",
    "\n",
    "Great! Your boss is ready to go to the state with this number. Is this a good estimate of the amount of money she will need?\n",
    "\n",
    "Let's calculate the standard deviation for each department to find out.  Remember, SD measures the spread around the average.  The larger the SD, the more spread out the numbers are from the average.\n",
    "\n",
    "Add another column to your dataframe with the departmental data which holds the value of the standard deviation of the salaries for that department.  *(Hint: This may require you to re-group your original `df`)*"
   ]
  },
  {
   "cell_type": "code",
   "execution_count": 68,
   "metadata": {
    "deletable": false,
    "nbgrader": {
     "cell_type": "code",
     "checksum": "fbf16695acaebfe92f608b5121644035",
     "grade": false,
     "grade_id": "cell-dca5763613817466",
     "locked": false,
     "schema_version": 3,
     "solution": true,
     "task": false
    }
   },
   "outputs": [
    {
     "data": {
      "text/html": [
       "<div>\n",
       "<style scoped>\n",
       "    .dataframe tbody tr th:only-of-type {\n",
       "        vertical-align: middle;\n",
       "    }\n",
       "\n",
       "    .dataframe tbody tr th {\n",
       "        vertical-align: top;\n",
       "    }\n",
       "\n",
       "    .dataframe thead tr th {\n",
       "        text-align: left;\n",
       "    }\n",
       "</style>\n",
       "<table border=\"1\" class=\"dataframe\">\n",
       "  <thead>\n",
       "    <tr>\n",
       "      <th></th>\n",
       "      <th>Primary Department</th>\n",
       "      <th colspan=\"4\" halign=\"left\">Salary</th>\n",
       "    </tr>\n",
       "    <tr>\n",
       "      <th></th>\n",
       "      <th></th>\n",
       "      <th>mean</th>\n",
       "      <th>count</th>\n",
       "      <th>median</th>\n",
       "      <th>std</th>\n",
       "    </tr>\n",
       "  </thead>\n",
       "  <tbody>\n",
       "    <tr>\n",
       "      <th>121</th>\n",
       "      <td>Russian,E European,Eurasn Ctr</td>\n",
       "      <td>50783.500000</td>\n",
       "      <td>2</td>\n",
       "      <td>50783.50</td>\n",
       "      <td>12959.145979</td>\n",
       "    </tr>\n",
       "    <tr>\n",
       "      <th>87</th>\n",
       "      <td>IPM Delivery</td>\n",
       "      <td>43420.445000</td>\n",
       "      <td>4</td>\n",
       "      <td>40644.58</td>\n",
       "      <td>31742.213040</td>\n",
       "    </tr>\n",
       "    <tr>\n",
       "      <th>65</th>\n",
       "      <td>Engr Shared Admin Services</td>\n",
       "      <td>70328.164615</td>\n",
       "      <td>13</td>\n",
       "      <td>68500.00</td>\n",
       "      <td>15079.004356</td>\n",
       "    </tr>\n",
       "    <tr>\n",
       "      <th>116</th>\n",
       "      <td>Plant Biology</td>\n",
       "      <td>110171.244000</td>\n",
       "      <td>15</td>\n",
       "      <td>94931.48</td>\n",
       "      <td>58594.058989</td>\n",
       "    </tr>\n",
       "    <tr>\n",
       "      <th>139</th>\n",
       "      <td>eLearning</td>\n",
       "      <td>69615.987143</td>\n",
       "      <td>14</td>\n",
       "      <td>62934.00</td>\n",
       "      <td>21457.566197</td>\n",
       "    </tr>\n",
       "  </tbody>\n",
       "</table>\n",
       "</div>"
      ],
      "text/plain": [
       "                Primary Department         Salary                  \\\n",
       "                                             mean count    median   \n",
       "121  Russian,E European,Eurasn Ctr   50783.500000     2  50783.50   \n",
       "87                    IPM Delivery   43420.445000     4  40644.58   \n",
       "65      Engr Shared Admin Services   70328.164615    13  68500.00   \n",
       "116                  Plant Biology  110171.244000    15  94931.48   \n",
       "139                      eLearning   69615.987143    14  62934.00   \n",
       "\n",
       "                   \n",
       "              std  \n",
       "121  12959.145979  \n",
       "87   31742.213040  \n",
       "65   15079.004356  \n",
       "116  58594.058989  \n",
       "139  21457.566197  "
      ]
     },
     "execution_count": 68,
     "metadata": {},
     "output_type": "execute_result"
    }
   ],
   "source": [
    "# add that column here!\n",
    "group = df.groupby(\"Primary Department\").agg([\"mean\",\"count\", \"median\", \"std\"]).reset_index()\n",
    "agg_df = group[[\"Primary Department\", \"Salary\"]]\n",
    "\n",
    "\n",
    "\n",
    "\n",
    "# Display 5 random rows to make sure it works:\n",
    "agg_df.sample(5)\n",
    "\n"
   ]
  },
  {
   "cell_type": "markdown",
   "metadata": {},
   "source": [
    "Are there any departments for which your boss' way of approximating the total salary would be fairly accurate? Are there deparments where it would not be an okay approximation?  *Hint*: It might be helpful to find the largest standard deviation!"
   ]
  },
  {
   "cell_type": "code",
   "execution_count": 66,
   "metadata": {
    "deletable": false,
    "nbgrader": {
     "cell_type": "code",
     "checksum": "2fdb936f99485f2c4244bfd1a6eb4b08",
     "grade": false,
     "grade_id": "cell-8d360389fd08fc8f",
     "locked": false,
     "schema_version": 3,
     "solution": true,
     "task": false
    }
   },
   "outputs": [],
   "source": [
    "#CTr wounded veteras higher ed has the lowest sd \n",
    "#entomology has the biggest sd"
   ]
  },
  {
   "cell_type": "markdown",
   "metadata": {},
   "source": [
    "## EDIT THIS CELL:\n",
    "\n",
    "- One department where it would be an okay approximation is: CTR wounded veterans\n",
    "\n",
    "- One department where it would not be an okay approximation is: entomology"
   ]
  },
  {
   "cell_type": "markdown",
   "metadata": {},
   "source": [
    "Well, I believe you that the mean salary isn't always a good approximation, but your boss doesn't. I think she is more of a visual learner. To help prove our point, let's make a histogram of the salaries in the computer science department."
   ]
  },
  {
   "cell_type": "markdown",
   "metadata": {},
   "source": [
    "## 2.1 Histograms\n",
    "Create a histogram of the salaries within the computer science department. Pandas has a nice function that helps you accomplish this: https://pandas.pydata.org/pandas-docs/stable/reference/api/pandas.DataFrame.hist.html\n",
    "\n",
    "Hint: in order to apply this function, you will need a DataFrame `cs_salary_df` with just the data for Computer Science professors.\n",
    "\n",
    "Play around with putting different values as the *bin* parameter to the function. Which value would you select to present the data to your boss?  Remember, there is no right or wrong number of bins.  You want to pick an amount that allows you to see the overall shape of the histogram."
   ]
  },
  {
   "cell_type": "code",
   "execution_count": 121,
   "metadata": {
    "deletable": false,
    "nbgrader": {
     "cell_type": "code",
     "checksum": "7777e465b14968d1f4327a70d6978c20",
     "grade": false,
     "grade_id": "cell-12e1d9777e55620b",
     "locked": false,
     "schema_version": 3,
     "solution": true,
     "task": false
    }
   },
   "outputs": [
    {
     "data": {
      "text/plain": [
       "array([[<matplotlib.axes._subplots.AxesSubplot object at 0x000001BEEF80A688>]],\n",
       "      dtype=object)"
      ]
     },
     "execution_count": 121,
     "metadata": {},
     "output_type": "execute_result"
    },
    {
     "data": {
      "image/png": "[encoded data removed]",
      "text/plain": [
       "<Figure size 432x288 with 1 Axes>"
      ]
     },
     "metadata": {
      "needs_background": "light"
     },
     "output_type": "display_data"
    }
   ],
   "source": [
    "\n",
    "cs_salary_df = df[df[\"Primary Department\"] == \"Computer Science\"]\n",
    "cs_salary_df.hist('Salary', bins = 10)\n",
    "\n",
    "# ...and then create your histogram:\n"
   ]
  },
  {
   "cell_type": "code",
   "execution_count": 122,
   "metadata": {
    "deletable": false,
    "editable": false,
    "nbgrader": {
     "cell_type": "code",
     "checksum": "0be137870b79f34f989d2c69fdf98113",
     "grade": true,
     "grade_id": "cell-5ad401ab98278a69",
     "locked": true,
     "points": 1,
     "schema_version": 3,
     "solution": false,
     "task": false
    }
   },
   "outputs": [
    {
     "name": "stdout",
     "output_type": "stream",
     "text": [
      "🎉 All tests passed! 🎉\n"
     ]
    }
   ],
   "source": [
    "## == TEST CASES for Puzzle 2.1 ==\n",
    "# - This read-only cell contains test cases for your previous cell.\n",
    "# - If this cell runs with a message (with the emoji showing), you PASSED all test cases!\n",
    "# - If this cell results in any errors, check your previous cell, make changes, and RE-RUN your code and then this cell.\n",
    "assert(cs_salary_df[\"Salary\"].sum() == 13323600), \"You are not showing the correct data in the histogram\"\n",
    "\n",
    "## == SUCCESS MESSAGE ==\n",
    "# You will only see this message (with the emoji showing) if you passed all test cases:\n",
    "tada = \"\\N{PARTY POPPER}\"\n",
    "print(f\"{tada} All tests passed! {tada}\")"
   ]
  },
  {
   "cell_type": "markdown",
   "metadata": {},
   "source": [
    "## 2.2 Boxplots\n",
    "\n",
    "Ok, you've convinced her. Your boss no longer thinks that the average is a good approximation for each department. To explain to the state why this isn't the case, she wants you to create a plot that shows the distribution of the salaries for each department that is relatively compact (i.e., not 100 tiny histograms). A collection of box plots would work quite nicely!  This allows us to see different quartiles and if the departments have outliers!"
   ]
  },
  {
   "cell_type": "markdown",
   "metadata": {},
   "source": [
    "But first, let's just make one box plot. Again, pandas has a nifty function that can help you do this: https://pandas.pydata.org/pandas-docs/stable/reference/api/pandas.DataFrame.boxplot.html\n",
    "\n",
    "Make a box plot for the computer science department salaries."
   ]
  },
  {
   "cell_type": "code",
   "execution_count": 125,
   "metadata": {
    "deletable": false,
    "nbgrader": {
     "cell_type": "code",
     "checksum": "c4c98626c6763183384c4e7db0f983cf",
     "grade": false,
     "grade_id": "cell-bc5e651b041152a9",
     "locked": false,
     "schema_version": 3,
     "solution": true,
     "task": false
    }
   },
   "outputs": [
    {
     "data": {
      "text/plain": [
       "<matplotlib.axes._subplots.AxesSubplot at 0x1beefb70cc8>"
      ]
     },
     "execution_count": 125,
     "metadata": {},
     "output_type": "execute_result"
    },
    {
     "data": {
      "image/png": "[encoded data removed]",
      "text/plain": [
       "<Figure size 432x288 with 1 Axes>"
      ]
     },
     "metadata": {
      "needs_background": "light"
     },
     "output_type": "display_data"
    }
   ],
   "source": [
    "# Create your box plot of the CS salaries:\n",
    "df['Salary'].plot.box()\n",
    "\n",
    "\n"
   ]
  },
  {
   "cell_type": "markdown",
   "metadata": {},
   "source": [
    "## 2.3 New Estimating Method\n",
    "\n",
    "Your boss notices some outliers in your boxplot and wants to try another estimation strategy to account for them. She has heard that the median is less likely to be distorted by extreme data points and wants to try using that for salary estimation instead of the mean.\n",
    "\n",
    "Just like with the mean estimator, she wants you to **add a column** to the department-grouped DataFrame that is equal to the **median** salary of that department multiplied by the number of people in that department. She wants you to provide her again with this table and the sum of all of the values in this column."
   ]
  },
  {
   "cell_type": "code",
   "execution_count": 128,
   "metadata": {
    "deletable": false,
    "nbgrader": {
     "cell_type": "code",
     "checksum": "1cc45640043bcdd8bb6c277453d77f0e",
     "grade": false,
     "grade_id": "cell-ce6f91de7935befc",
     "locked": false,
     "schema_version": 3,
     "solution": true,
     "task": false
    }
   },
   "outputs": [
    {
     "name": "stderr",
     "output_type": "stream",
     "text": [
      "C:\\Users\\yundo\\Miniconda3\\lib\\site-packages\\ipykernel_launcher.py:1: SettingWithCopyWarning: \n",
      "A value is trying to be set on a copy of a slice from a DataFrame.\n",
      "Try using .loc[row_indexer,col_indexer] = value instead\n",
      "\n",
      "See the caveats in the documentation: http://pandas.pydata.org/pandas-docs/stable/user_guide/indexing.html#returning-a-view-versus-a-copy\n",
      "  \"\"\"Entry point for launching an IPython kernel.\n"
     ]
    },
    {
     "data": {
      "text/html": [
       "<div>\n",
       "<style scoped>\n",
       "    .dataframe tbody tr th:only-of-type {\n",
       "        vertical-align: middle;\n",
       "    }\n",
       "\n",
       "    .dataframe tbody tr th {\n",
       "        vertical-align: top;\n",
       "    }\n",
       "\n",
       "    .dataframe thead tr th {\n",
       "        text-align: left;\n",
       "    }\n",
       "</style>\n",
       "<table border=\"1\" class=\"dataframe\">\n",
       "  <thead>\n",
       "    <tr>\n",
       "      <th></th>\n",
       "      <th>Primary Department</th>\n",
       "      <th colspan=\"4\" halign=\"left\">Salary</th>\n",
       "      <th>MedianMulCount</th>\n",
       "    </tr>\n",
       "    <tr>\n",
       "      <th></th>\n",
       "      <th></th>\n",
       "      <th>mean</th>\n",
       "      <th>count</th>\n",
       "      <th>median</th>\n",
       "      <th>std</th>\n",
       "      <th></th>\n",
       "    </tr>\n",
       "  </thead>\n",
       "  <tbody>\n",
       "    <tr>\n",
       "      <th>121</th>\n",
       "      <td>Russian,E European,Eurasn Ctr</td>\n",
       "      <td>50783.500000</td>\n",
       "      <td>2</td>\n",
       "      <td>50783.500</td>\n",
       "      <td>12959.145979</td>\n",
       "      <td>101567.00</td>\n",
       "    </tr>\n",
       "    <tr>\n",
       "      <th>39</th>\n",
       "      <td>Cline Ctr for Adv Social Rsrch</td>\n",
       "      <td>42556.296667</td>\n",
       "      <td>3</td>\n",
       "      <td>42032.000</td>\n",
       "      <td>1673.229914</td>\n",
       "      <td>126096.00</td>\n",
       "    </tr>\n",
       "    <tr>\n",
       "      <th>122</th>\n",
       "      <td>Sch Earth, Soc, Environ Admin</td>\n",
       "      <td>75622.455714</td>\n",
       "      <td>7</td>\n",
       "      <td>67001.000</td>\n",
       "      <td>18798.794737</td>\n",
       "      <td>469007.00</td>\n",
       "    </tr>\n",
       "    <tr>\n",
       "      <th>25</th>\n",
       "      <td>Biochemistry</td>\n",
       "      <td>116513.786429</td>\n",
       "      <td>14</td>\n",
       "      <td>102702.995</td>\n",
       "      <td>52122.432218</td>\n",
       "      <td>1437841.93</td>\n",
       "    </tr>\n",
       "    <tr>\n",
       "      <th>62</th>\n",
       "      <td>Engineering General Expen</td>\n",
       "      <td>79985.666667</td>\n",
       "      <td>3</td>\n",
       "      <td>86888.000</td>\n",
       "      <td>12991.395011</td>\n",
       "      <td>260664.00</td>\n",
       "    </tr>\n",
       "  </tbody>\n",
       "</table>\n",
       "</div>"
      ],
      "text/plain": [
       "                 Primary Department         Salary                    \\\n",
       "                                              mean count      median   \n",
       "121   Russian,E European,Eurasn Ctr   50783.500000     2   50783.500   \n",
       "39   Cline Ctr for Adv Social Rsrch   42556.296667     3   42032.000   \n",
       "122   Sch Earth, Soc, Environ Admin   75622.455714     7   67001.000   \n",
       "25                     Biochemistry  116513.786429    14  102702.995   \n",
       "62        Engineering General Expen   79985.666667     3   86888.000   \n",
       "\n",
       "                  MedianMulCount  \n",
       "              std                 \n",
       "121  12959.145979      101567.00  \n",
       "39    1673.229914      126096.00  \n",
       "122  18798.794737      469007.00  \n",
       "25   52122.432218     1437841.93  \n",
       "62   12991.395011      260664.00  "
      ]
     },
     "execution_count": 128,
     "metadata": {},
     "output_type": "execute_result"
    }
   ],
   "source": [
    "agg_df['MedianMulCount'] = agg_df['Salary', \"median\"] * agg_df['Salary', 'count']\n",
    "\n",
    "\n",
    "\n",
    "# Display 5 random rows to make sure it works:\n",
    "agg_df.sample(5)"
   ]
  },
  {
   "cell_type": "code",
   "execution_count": 140,
   "metadata": {
    "deletable": false,
    "nbgrader": {
     "cell_type": "code",
     "checksum": "bdf77dae214ab27bc103eca987700b2a",
     "grade": false,
     "grade_id": "cell-5be4d8ec77de1777",
     "locked": false,
     "schema_version": 3,
     "solution": true,
     "task": false
    }
   },
   "outputs": [
    {
     "data": {
      "text/plain": [
       "332199238.08000004"
      ]
     },
     "execution_count": 140,
     "metadata": {},
     "output_type": "execute_result"
    }
   ],
   "source": [
    "# calculate the total sum of all of the values in the column you added\n",
    "total_money_needed_med = agg_df['MedianMulCount'].sum()\n",
    "\n",
    "total_money_needed_med"
   ]
  },
  {
   "cell_type": "code",
   "execution_count": 141,
   "metadata": {},
   "outputs": [
    {
     "name": "stdout",
     "output_type": "stream",
     "text": [
      "🎉 All tests passed! 🎉\n"
     ]
    }
   ],
   "source": [
    "## == TEST CASES for Puzzle 2.3 ==\n",
    "# - This read-only cell contains test cases for your previous cell.\n",
    "# - If this cell runs with a message (with the emoji showing), you PASSED all test cases!\n",
    "# - If this cell results in any errors, check your previous cell, make changes, and RE-RUN your code and then this cell.\n",
    "\n",
    "assert( abs(total_money_needed_med - 332199238) < 1 ), \"Looks like your multiplication did not work properly!\"\n",
    "\n",
    "## == SUCCESS MESSAGE ==\n",
    "# You will only see this message (with the emoji showing) if you passed all test cases:\n",
    "tada = \"\\N{PARTY POPPER}\"\n",
    "print(f\"{tada} All tests passed! {tada}\")"
   ]
  },
  {
   "cell_type": "markdown",
   "metadata": {},
   "source": [
    "# 3. Confronting your boss\n",
    "After spending days creating plots, you finally decide to tell your boss that there is an easier way to find out how much money you should request from the state to pay university salaries. Find the exact total amount of money that will be needed to pay everyone in the dataset."
   ]
  },
  {
   "cell_type": "code",
   "execution_count": 148,
   "metadata": {
    "deletable": false,
    "nbgrader": {
     "cell_type": "code",
     "checksum": "6d9b89c66beb9c12847c318f875b00e8",
     "grade": false,
     "grade_id": "cell-674a9d3767b37b18",
     "locked": false,
     "schema_version": 3,
     "solution": true,
     "task": false
    }
   },
   "outputs": [
    {
     "data": {
      "text/plain": [
       "358852459.82"
      ]
     },
     "execution_count": 148,
     "metadata": {},
     "output_type": "execute_result"
    }
   ],
   "source": [
    "# your code goes here!\n",
    "total_money = df[\"Salary\"].sum()\n",
    "total_money\n"
   ]
  },
  {
   "cell_type": "code",
   "execution_count": 150,
   "metadata": {
    "deletable": false,
    "editable": false,
    "nbgrader": {
     "cell_type": "code",
     "checksum": "3efa677c9c2e9073180f93758d90c947",
     "grade": true,
     "grade_id": "cell-a52dae832d7423fb",
     "locked": true,
     "points": 1,
     "schema_version": 3,
     "solution": false,
     "task": false
    }
   },
   "outputs": [
    {
     "name": "stdout",
     "output_type": "stream",
     "text": [
      "🎉 All tests passed! 🎉\n"
     ]
    }
   ],
   "source": [
    "## == TEST CASES for Puzzle 3 ==\n",
    "# - This read-only cell contains test cases for your previous cell.\n",
    "# - If this cell runs with a message (with the emoji showing), you PASSED all test cases!\n",
    "# - If this cell results in any errors, check your previous cell, make changes, and RE-RUN your code and then this cell.\n",
    "\n",
    "assert(abs(total_money - 358852459) < 1), \"Are you sure the total is correct?\"\n",
    "\n",
    "## == SUCCESS MESSAGE ==\n",
    "# You will only see this message (with the emoji showing) if you passed all test cases:\n",
    "tada = \"\\N{PARTY POPPER}\"\n",
    "print(f\"{tada} All tests passed! {tada}\")"
   ]
  },
  {
   "cell_type": "markdown",
   "metadata": {},
   "source": [
    "# 4. Estimation Error\n",
    "Your boss is very pleased with your data science knowledge! She would like to see by how much your original estimates were off. Find the exact error (difference) of the mean estimation method and the exact amount needed and then repeat for the median estimate method."
   ]
  },
  {
   "cell_type": "code",
   "execution_count": 165,
   "metadata": {
    "deletable": false,
    "nbgrader": {
     "cell_type": "code",
     "checksum": "8ab1317854e2f147397500ca31e096ab",
     "grade": false,
     "grade_id": "cell-69ce1c4a9f719004",
     "locked": false,
     "schema_version": 3,
     "solution": true,
     "task": false
    }
   },
   "outputs": [
    {
     "data": {
      "text/plain": [
       "-5.960464477539063e-08"
      ]
     },
     "execution_count": 165,
     "metadata": {},
     "output_type": "execute_result"
    }
   ],
   "source": [
    "#calculate the error of the mean estimation method\n",
    "mean_estimate_error = total_money_needed_mean - total_money\n",
    "\n",
    "mean_estimate_error"
   ]
  },
  {
   "cell_type": "code",
   "execution_count": 167,
   "metadata": {
    "deletable": false,
    "nbgrader": {
     "cell_type": "code",
     "checksum": "f19e641f256454e2908b3d13ad31a088",
     "grade": false,
     "grade_id": "cell-e593b6cc6e5b2cb9",
     "locked": false,
     "schema_version": 3,
     "solution": true,
     "task": false
    }
   },
   "outputs": [
    {
     "data": {
      "text/plain": [
       "-26653221.73999995"
      ]
     },
     "execution_count": 167,
     "metadata": {},
     "output_type": "execute_result"
    }
   ],
   "source": [
    "#calculate the error of the med estimation method\n",
    "med_estimate_error = total_money_needed_med - total_money\n",
    "\n",
    "med_estimate_error"
   ]
  },
  {
   "cell_type": "code",
   "execution_count": 169,
   "metadata": {},
   "outputs": [
    {
     "name": "stdout",
     "output_type": "stream",
     "text": [
      "🎉 All tests passed! 🎉\n"
     ]
    }
   ],
   "source": [
    "## == TEST CASES for Puzzle 4 ==\n",
    "# - This read-only cell contains test cases for your previous cell.\n",
    "# - If this cell runs with a message (with the emoji showing), you PASSED all test cases!\n",
    "# - If this cell results in any errors, check your previous cell, make changes, and RE-RUN your code and then this cell.\n",
    "\n",
    "assert(abs(mean_estimate_error - (-5.9605e-08)) < 1.0e-07), \"Are you sure the error for the mean estimate is correct?\"\n",
    "assert(abs(med_estimate_error - (-26653221)) < 1), \"Are you sure the error for the median estimate is correct?\"\n",
    "\n",
    "## == SUCCESS MESSAGE ==\n",
    "# You will only see this message (with the emoji showing) if you passed all test cases:\n",
    "tada = \"\\N{PARTY POPPER}\"\n",
    "print(f\"{tada} All tests passed! {tada}\")"
   ]
  },
  {
   "cell_type": "markdown",
   "metadata": {},
   "source": [
    "## EDIT THIS CELL:\n",
    "\n",
    "- The method that resulted with the least error was: mean estimate error\n",
    "- With an error of: -5.960464477539063e-08"
   ]
  },
  {
   "cell_type": "markdown",
   "metadata": {},
   "source": [
    "## 4. Your Department\n",
    "\n",
    "You're awesome!  Now find something interesting about your home department... maybe a box plot or a scatter plot, do whatever interests you, it does not have to be complex (but totally can be!)"
   ]
  },
  {
   "cell_type": "code",
   "execution_count": 182,
   "metadata": {
    "deletable": false,
    "nbgrader": {
     "cell_type": "code",
     "checksum": "3d338deb6ac710033314b7b5fdd4425c",
     "grade": true,
     "grade_id": "cell-539333ff16c3dfff",
     "locked": false,
     "points": 1,
     "schema_version": 3,
     "solution": true,
     "task": false
    }
   },
   "outputs": [
    {
     "data": {
      "text/plain": [
       "array([[<matplotlib.axes._subplots.AxesSubplot object at 0x000001BEF0F87FC8>]],\n",
       "      dtype=object)"
      ]
     },
     "execution_count": 182,
     "metadata": {},
     "output_type": "execute_result"
    },
    {
     "data": {
      "image/png": "[encoded data removed]",
      "text/plain": [
       "<Figure size 432x288 with 1 Axes>"
      ]
     },
     "metadata": {
      "needs_background": "light"
     },
     "output_type": "display_data"
    }
   ],
   "source": [
    "stats_salary_df = df[df[\"Primary Department\"] == \"Statistics\"]\n",
    "stats_salary_df.hist('Salary', bins = 20)"
   ]
  },
  {
   "cell_type": "markdown",
   "metadata": {},
   "source": [
    "## Submit Your Work"
   ]
  },
  {
   "cell_type": "markdown",
   "metadata": {},
   "source": [
    "You're almost done -- congratulations! 🎉\n",
    "\n",
    "You need to do a few more things:\n",
    "\n",
    "1. Save your work.  To do this, create a **notebook checkpoint** by using the menu within the notebook to go **File -> Save and Checkpoint**\n",
    "\n",
    "\n",
    "2. After you have saved and checkpointed, exit this notebook by going to **File -> Close and Halt**\n",
    "\n",
    "\n",
    "3. Once you have closed your notebook select **Quit** on the **Jupyter main page** to stop the Jupyter server\n",
    "\n",
    "\n",
    "4. Return to the Data Science Discovery page on how to use git to turn this notebook into the course!"
   ]
  },
  {
   "cell_type": "code",
   "execution_count": null,
   "metadata": {},
   "outputs": [],
   "source": []
  }
 ],
 "metadata": {
  "kernelspec": {
   "display_name": "Python 3",
   "language": "python",
   "name": "python3"
  },
  "language_info": {
   "codemirror_mode": {
    "name": "ipython",
    "version": 3
   },
   "file_extension": ".py",
   "mimetype": "text/x-python",
   "name": "python",
   "nbconvert_exporter": "python",
   "pygments_lexer": "ipython3",
   "version": "3.7.6"
  }
 },
 "nbformat": 4,
 "nbformat_minor": 2
}
