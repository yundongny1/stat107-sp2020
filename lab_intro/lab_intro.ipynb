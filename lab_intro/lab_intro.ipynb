{
 "cells": [
  {
   "cell_type": "markdown",
   "metadata": {},
   "source": [
    "# Welcome to a Jupyter Notebook!\n",
    "\n",
    "You are in your very first Jupyter Notebook for Data Science Discovery!  Notebooks allow us to combine text (like you're reading now) with Python code.  You will complete a lab notebook like this for all of the labs.  Just like learning a new spoken language, you won't learn the language without practice -- labs are an important part of the course!\n",
    "\n",
    "Collaboration on labs is **extremely encouraged**.  If you find yourself stuck for more than a few minutes, ask a neighbor or course staff for help!  When you are giving help to your neighbor, explain the **idea and approach** to the problem without sharing the answer itself so they can have the same ah-hah moment!\n",
    "\n",
    "Let's get started!\n",
    "\n",
    "## Lab: Introduction to Data Science Discovery!\n",
    "\n",
    "In this lab, you will:\n",
    "\n",
    "- Explore how to navigate and use Jupyter notebooks (this tool you're looking at!)\n",
    "- Write a few basic Python commands\n",
    "- Learn how to turn in assignments using git"
   ]
  },
  {
   "cell_type": "markdown",
   "metadata": {},
   "source": [
    "# 1. Jupyter Notebooks\n",
    "\n",
    "\n",
    "## Types of Cells\n",
    "\n",
    "Jupyter notebooks are organized into rectangular **cells**.  Every **cell** will either be one of either:\n",
    "\n",
    "1. A **Markdown cell**, which contains text instructions (like the cell you are reading now).  **Markdown cells** will have formatted text and will have a white background.\n",
    "2. A **Python cell**, which contains Python code.  **Python cells** (which you will see shortly) will have a gray background and colored text."
   ]
  },
  {
   "cell_type": "markdown",
   "metadata": {},
   "source": [
    "## Editing Cells\n",
    "\n",
    "Every cell can be edited by **double clicking on the cell**.\n",
    "\n",
    "- Double click on this cell right now!\n",
    "- Edit the end of this line and add your name: EDIT IN YOUR NAME HERE\n",
    "\n",
    "Once you are finishing editing:\n",
    "\n",
    "- Press **CTRL + ENTER** to exit editing and \"run\" the cell.\n",
    "- Press **SHIFT + ENTER** to exit editing, \"run\" the cell, AND advance to the next cell.\n",
    "- (You can also press \\[▶| Run\\] at the top of the notebook to exit editing (same as SHIFT+ENTER))\n",
    "\n",
    "\"Running\" a Markdown cell will save it and make it part of your notebook.\n"
   ]
  },
  {
   "cell_type": "markdown",
   "metadata": {},
   "source": [
    "## Python Cells\n",
    "\n",
    "Python cells are cells that contain Python code -- the programming language we will use for Data Science Discovery.  When you \"run\" a Python cell, you will run your snippet of code!\n",
    "\n",
    "Python is a programming language that was designed to be easy and simple to use, and notebooks make it even easier to use.  The most basic operations that a computer can do are simple math.\n",
    "\n",
    "The next cell is your first Python cell, where we already asked the computer to compute `5 + 4`:"
   ]
  },
  {
   "cell_type": "code",
   "execution_count": null,
   "metadata": {},
   "outputs": [],
   "source": [
    "5 + 4"
   ]
  },
  {
   "cell_type": "markdown",
   "metadata": {},
   "source": [
    "Notice above that there are two components to a single Python cell:\n",
    "\n",
    "- **In \\[#\\]:**, which shows the Python code you wrote (ex: `5 + 4` above)\n",
    "- **Out \\[#\\]:**, which shows the output from the Python (ex: `9` above, the answer)\n",
    "\n",
    "Let's have you try it! :)"
   ]
  },
  {
   "cell_type": "markdown",
   "metadata": {},
   "source": [
    "### Puzzle 1.1:\n",
    "\n",
    "In the next cell, use Python to compute the sum of `3` and `8`.\n",
    "\n",
    "- Remember to double click to edit the cell.\n",
    "- Also remember that you can use **SHIFT + ENTER** to exit and run the cell."
   ]
  },
  {
   "cell_type": "code",
   "execution_count": null,
   "metadata": {},
   "outputs": [],
   "source": []
  },
  {
   "cell_type": "markdown",
   "metadata": {},
   "source": [
    "### Puzzle 1.2:\n",
    "\n",
    "In the next cell, use Python to compute the product of the numbers `7` and `5`.\n",
    "- Hint: In Python, the `*` symbol used for multiplication."
   ]
  },
  {
   "cell_type": "code",
   "execution_count": null,
   "metadata": {},
   "outputs": [],
   "source": []
  },
  {
   "cell_type": "markdown",
   "metadata": {},
   "source": [
    "### Puzzle 1.3:\n",
    "\n",
    "In addition to addition (`+`), subtraction (`-`), multiplication (`*`), and division (`/`), Python can also raise a number to a power (ex: $2^4$).  The syntax to do this in Python is to use `**`.\n",
    "\n",
    "For example, the Python code for $2^4$ is:"
   ]
  },
  {
   "cell_type": "code",
   "execution_count": null,
   "metadata": {},
   "outputs": [],
   "source": [
    "2 ** 4"
   ]
  },
  {
   "cell_type": "markdown",
   "metadata": {},
   "source": [
    "Using everything you know, use the following cell to compute the value of $(3 + 5) * 9^2$"
   ]
  },
  {
   "cell_type": "code",
   "execution_count": null,
   "metadata": {},
   "outputs": [],
   "source": []
  },
  {
   "cell_type": "markdown",
   "metadata": {},
   "source": [
    "# 2. Print Statements in Python\n",
    "\n",
    "In all of the previous puzzles, the text in the **Out\\[#\\]** was the result of your Python code.  In a notebook, the notebook will always **automatically print out the result of the last line of Python code**.\n",
    "\n",
    "Because ONLY the last line is automatically printed, what do you expect to happen when the following code is run?"
   ]
  },
  {
   "cell_type": "code",
   "execution_count": null,
   "metadata": {},
   "outputs": [],
   "source": [
    "1 + 1\n",
    "2 + 2\n",
    "3 + 3"
   ]
  },
  {
   "cell_type": "markdown",
   "metadata": {},
   "source": [
    "...run the cell and find out!"
   ]
  },
  {
   "cell_type": "markdown",
   "metadata": {},
   "source": [
    "## Using the print() function\n",
    "\n",
    "If you want to print out things that is NOT the result of the last line, Python has a **function** called `print(...)` that will output everything between `(` and `)`.  For example, the same example with `print()`:"
   ]
  },
  {
   "cell_type": "code",
   "execution_count": null,
   "metadata": {},
   "outputs": [],
   "source": [
    "print( 1 + 1 )\n",
    "print( 2 + 2 )\n",
    "print( 3 + 3 )"
   ]
  },
  {
   "cell_type": "markdown",
   "metadata": {},
   "source": [
    "### Using Strings\n",
    "\n",
    "In Python, we often want to print out more than just numbers.  If you want to print words out, Python requires that **strings** are in quotes.  One of the most simple programs is a program that prints `\"Hello World\"` (notice the quotes)!\n",
    "\n",
    "The following `print()` command does exactly that:"
   ]
  },
  {
   "cell_type": "code",
   "execution_count": null,
   "metadata": {},
   "outputs": [],
   "source": [
    "print(\"Hello World\")"
   ]
  },
  {
   "cell_type": "markdown",
   "metadata": {},
   "source": [
    "Notice that the quotes **do not appear in the output**.  Instead, Python uses the quotes to know that the contents inside of the quotes are a  **string**.\n",
    "\n",
    "If you forget to add the quotes, Python will provide an error message:"
   ]
  },
  {
   "cell_type": "code",
   "execution_count": null,
   "metadata": {},
   "outputs": [],
   "source": [
    "print(Hello World)"
   ]
  },
  {
   "cell_type": "markdown",
   "metadata": {},
   "source": [
    "Errors are what makes programming difficult and **EVERYONE** makes errors programming.  Errors happen when Python does not understand the code you typed.  Python will do it's best to give you useful information in the error message, but the messages are often generic or confusing."
   ]
  },
  {
   "cell_type": "markdown",
   "metadata": {},
   "source": [
    "#### Emojis Work, Too!\n",
    "\n",
    "Anything that is not a number goes into a quotes and we will refer to these as **strings**.  This even includes emojis:"
   ]
  },
  {
   "cell_type": "code",
   "execution_count": null,
   "metadata": {},
   "outputs": [],
   "source": [
    "print(\"🎉\")"
   ]
  },
  {
   "cell_type": "markdown",
   "metadata": {},
   "source": [
    "### Puzzle 2.1:\n",
    "\n",
    "Using the `print()` function, print your name in the output of the next cell:"
   ]
  },
  {
   "cell_type": "code",
   "execution_count": null,
   "metadata": {},
   "outputs": [],
   "source": []
  },
  {
   "cell_type": "markdown",
   "metadata": {},
   "source": [
    "### Puzzle 2.2:\n",
    "\n",
    "Using the `print()` function, print the **result** of the following three things on separate lines:\n",
    "- $(4 * 3)^2$\n",
    "- Data Science Discovery\n",
    "- $8 - 3$"
   ]
  },
  {
   "cell_type": "code",
   "execution_count": null,
   "metadata": {},
   "outputs": [],
   "source": []
  },
  {
   "cell_type": "markdown",
   "metadata": {},
   "source": [
    "# 3. Names in Python\n",
    "*This section has been adopted from Berkeley's Data8: Lab \\#1 from Spring 2017*\n",
    "\n",
    "In natural language, we have terminology that lets us quickly reference very complicated concepts. We don't say, \"That's a large slow mammal with brown fur and three toes!\" Instead, we just say, \"SLOTH!\"\n",
    "\n",
    "Similarly, an effective strategy for writing code is to define names for data as we compute it, like a lawyer would define terms for complex ideas at the start of a legal document to simplify the rest of the writing.\n",
    "\n",
    "In Python, we do this with assignment statements. An assignment statement has a name on the left side of an `=` sign and an expression to be evaluated on the right."
   ]
  },
  {
   "cell_type": "code",
   "execution_count": null,
   "metadata": {},
   "outputs": [],
   "source": [
    "ten = 3 * 2 + 4"
   ]
  },
  {
   "cell_type": "markdown",
   "metadata": {},
   "source": [
    "When you run that cell, Python first evaluates the first line. It computes the value of the expression `3 * 2 + 4`, which is the number 10. Then it gives that value the name `ten`. At that point, the code in the cell is done running.\n",
    "\n",
    "After you run that cell, the value 10 is bound to the name `ten`:"
   ]
  },
  {
   "cell_type": "code",
   "execution_count": null,
   "metadata": {},
   "outputs": [],
   "source": [
    "ten"
   ]
  },
  {
   "cell_type": "markdown",
   "metadata": {},
   "source": [
    "The statement `ten = 3 * 2 + 4` is not asserting that ten is already equal to `3 * 2 + 4`, as we might expect by analogy with math notation. Rather, that line of code changes what `ten` means; it now refers to the value 10, whereas before it meant nothing at all."
   ]
  },
  {
   "cell_type": "markdown",
   "metadata": {},
   "source": [
    "### Question 3.1.\n",
    "\n",
    "Try writing code that uses a name (like `eleven`) that hasn't been assigned to anything.\n",
    "\n",
    "* You should see an **ERROR** -- this is expected."
   ]
  },
  {
   "cell_type": "code",
   "execution_count": null,
   "metadata": {},
   "outputs": [],
   "source": []
  },
  {
   "cell_type": "markdown",
   "metadata": {},
   "source": [
    "### Question 3.2.\n",
    "\n",
    "Now, define the value of the name that gave you an error:"
   ]
  },
  {
   "cell_type": "code",
   "execution_count": null,
   "metadata": {},
   "outputs": [],
   "source": []
  },
  {
   "cell_type": "markdown",
   "metadata": {},
   "source": [
    "### Question 3.3.\n",
    "\n",
    "Finally, try using that name again:"
   ]
  },
  {
   "cell_type": "code",
   "execution_count": null,
   "metadata": {},
   "outputs": [],
   "source": []
  },
  {
   "cell_type": "markdown",
   "metadata": {},
   "source": [
    "## Common Patterns with Names:\n",
    "\n",
    "A common pattern in Jupyter notebooks is to assign a value to a name and then immediately evaluate the name in the last line in the cell so that the value is displayed as output:"
   ]
  },
  {
   "cell_type": "code",
   "execution_count": null,
   "metadata": {},
   "outputs": [],
   "source": [
    "close_to_pi = 355/113\n",
    "close_to_pi"
   ]
  },
  {
   "cell_type": "markdown",
   "metadata": {},
   "source": [
    "Another common pattern is that a series of lines in a single cell will build up a complex computation in stages, naming the intermediate results."
   ]
  },
  {
   "cell_type": "code",
   "execution_count": null,
   "metadata": {},
   "outputs": [],
   "source": [
    "paycheck = 840\n",
    "monthly_salary = 2 * paycheck\n",
    "number_of_months_in_a_year = 12\n",
    "yearly_salary = number_of_months_in_a_year * monthly_salary\n",
    "yearly_salary"
   ]
  },
  {
   "cell_type": "markdown",
   "metadata": {},
   "source": [
    "Names in Python can have letters (upper- and lower-case letters are both okay and count as different letters), underscores, and numbers. The first character can't be a number (otherwise a name might look like a number). And names can't contain spaces, since spaces are used to separate pieces of code from each other.\n",
    "\n",
    "Other than those rules, what you name something doesn't matter to Python. For example, this cell does the same thing as the above cell, except everything has a different name:"
   ]
  },
  {
   "cell_type": "code",
   "execution_count": null,
   "metadata": {},
   "outputs": [],
   "source": [
    "a = 840\n",
    "b = 2 * a\n",
    "c = 12\n",
    "d = c * b\n",
    "d"
   ]
  },
  {
   "cell_type": "markdown",
   "metadata": {},
   "source": [
    "**However**, names are very important for making your code readable to yourself and others. The cell above is shorter, but it's totally useless without an explanation of what it does."
   ]
  },
  {
   "cell_type": "markdown",
   "metadata": {},
   "source": [
    "### Puzzle 3.4:\n",
    "\n",
    "Assign the name `seconds_in_a_decade` to the number of seconds between midnight January 1, 2010 and midnight January 1, 2020.\n",
    "\n",
    "- You will want to think about how this is computed before you start writing code.  Pencil and paper works great!\n",
    "- Any line of code in Python that begins with an `#` is a comment and is ignored by Python.  We have added some comments to help you out here."
   ]
  },
  {
   "cell_type": "code",
   "execution_count": null,
   "metadata": {},
   "outputs": [],
   "source": [
    "# Change the next line so that it computes the number of\n",
    "# seconds in a decade and assigns that number the name\n",
    "# seconds_in_a_decade.\n",
    "#\n",
    "# (You may want to add other names to help you calculate\n",
    "# this value.)\n",
    "seconds_in_a_decade = ...\n",
    "\n",
    "# We've put this line in this cell so that it will print\n",
    "# the value you've given to seconds_in_a_decade when you\n",
    "# run it.  You don't need to change this.\n",
    "seconds_in_a_decade"
   ]
  },
  {
   "cell_type": "markdown",
   "metadata": {},
   "source": [
    "## Submit Your Work"
   ]
  },
  {
   "cell_type": "markdown",
   "metadata": {},
   "source": [
    "You're almost done -- congratulations!\n",
    "\n",
    "You need to do a few more things:\n",
    "\n",
    "1. Save your work.  To do this, create a **notebook checkpoint** by using the menu within the notebook to go **File -> Save and Checkpoint**\n",
    "\n",
    "2. Click **File** -> **Close and Halt** to close this notebook.\n",
    "\n",
    "3. Click **Logout** on Jupyter to return your terminal back to the command prompt.\n",
    "\n",
    "4. Follow the assignment instructions to submit this assignment."
   ]
  }
 ],
 "metadata": {
  "kernelspec": {
   "display_name": "Python 3",
   "language": "python",
   "name": "python3"
  },
  "language_info": {
   "codemirror_mode": {
    "name": "ipython",
    "version": 3
   },
   "file_extension": ".py",
   "mimetype": "text/x-python",
   "name": "python",
   "nbconvert_exporter": "python",
   "pygments_lexer": "ipython3",
   "version": "3.7.1"
  }
 },
 "nbformat": 4,
 "nbformat_minor": 2
}
