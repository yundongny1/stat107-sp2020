{
 "cells": [
  {
   "cell_type": "markdown",
   "metadata": {},
   "source": [
    "# Your Grades and GPA at Illinois!\n",
    "\n",
    "In this lab, you will explore the GPA dataset and find out about the easiest, hardest, and most popular courses at Illinois!"
   ]
  },
  {
   "cell_type": "markdown",
   "metadata": {},
   "source": [
    "# Part 0: Your Group!\n",
    "\n",
    "Edit the next Python cell to add information about who you're working within your lab section:"
   ]
  },
  {
   "cell_type": "code",
   "execution_count": null,
   "metadata": {},
   "outputs": [],
   "source": [
    "# First, meet your CAs and TA if you haven't already!\n",
    "# ...first name is enough, we'll know who they are! :)\n",
    "ta_name = \"\"\n",
    "ca1_name = \"\"\n",
    "ca2_name = \"\"\n",
    "\n",
    "\n",
    "# Also, make sure to meet your team for this lab! Find out their name, what major they're in,\n",
    "# and learn something new about them that you never knew before!\n",
    "partner1_name = \"\"\n",
    "partner1_netid = \"\"\n",
    "partner1_major = \"\"\n",
    "partner1_qotd_answer = \"\"\n",
    "\n",
    "partner2_name = \"\"\n",
    "partner2_netid = \"\"\n",
    "partner2_major = \"\"\n",
    "partner2_qotd_answer = \"\"\n",
    "\n",
    "partner3_name = \"\"\n",
    "partner3_netid = \"\"\n",
    "partner3_major = \"\"\n",
    "partner3_qotd_answer = \"\"\n",
    "\n",
    "partner4_name = \"\"\n",
    "partner4_netid = \"\"\n",
    "partner4_major = \"\"\n",
    "partner4_qotd_answer = \"\""
   ]
  },
  {
   "cell_type": "markdown",
   "metadata": {},
   "source": [
    "## Part 0.5 | Loading the Dataset\n",
    "\n",
    "For the first part of our lab, we'll be using the GPA dataset we saw in class.\n",
    "\n",
    "You can download the dataset by following to following link to the github storing the dataset: https://raw.githubusercontent.com/wadefagen/datasets/master/gpa/uiuc-gpa-dataset.csv\n",
    "\n",
    "To download this file, you will want to **right click** and click **Save As**."
   ]
  },
  {
   "cell_type": "code",
   "execution_count": null,
   "metadata": {
    "deletable": false,
    "nbgrader": {
     "cell_type": "code",
     "checksum": "61c21323a76278cbba5e62528d88951e",
     "grade": false,
     "grade_id": "cell-51fef9428e349da7",
     "locked": false,
     "schema_version": 3,
     "solution": true,
     "task": false
    }
   },
   "outputs": [],
   "source": []
  },
  {
   "cell_type": "markdown",
   "metadata": {},
   "source": [
    "## Part 1 | Finding Total GPAs\n",
    "\n",
    "Add two new columns, `Total Students` and `Average GPA`, that compute the total number of students in each course and the average weighted GPA for each course.\n",
    "\n",
    "You should not include students with a `W` in either column and feel free to add other columns to help you out!"
   ]
  },
  {
   "cell_type": "code",
   "execution_count": null,
   "metadata": {
    "deletable": false,
    "nbgrader": {
     "cell_type": "code",
     "checksum": "dd187bf7ff6f357805a16de85eb9feb2",
     "grade": false,
     "grade_id": "cell-1043285927ac8a85",
     "locked": false,
     "schema_version": 3,
     "solution": true,
     "task": false
    }
   },
   "outputs": [],
   "source": [
    "df[\"Total Students\"] = ...\n",
    "df[\"Average GPA\"] = ...\n",
    "\n",
    "\n",
    "\n"
   ]
  },
  {
   "cell_type": "code",
   "execution_count": null,
   "metadata": {
    "deletable": false,
    "editable": false,
    "nbgrader": {
     "cell_type": "code",
     "checksum": "d8adcee949693e0fff9f5fec7c592937",
     "grade": true,
     "grade_id": "cell-46729cc74c213e52",
     "locked": true,
     "points": 1,
     "schema_version": 3,
     "solution": false,
     "task": false
    }
   },
   "outputs": [],
   "source": [
    "## == TEST CASES for Puzzle 1 ==\n",
    "# - This read-only cell contains test cases for your previous cell.\n",
    "# - If this cell runs without any error our output, you PASSED all test cases!\n",
    "# - If this cell results in any errors, check you previous cell, make changes, and RE-RUN your code and then this cell.\n",
    "\n",
    "assert(df[\n",
    "  (df[\"YearTerm\"] == \"2010-su\") & \\\n",
    "  (df[\"Subject\"] == \"STAT\") & \\\n",
    "  (df[\"Number\"] == 410) \\\n",
    "][\"Total Students\"].sum() == 31), \"It appears your \\\"Total Students\\\" column is incorrect.\"\n",
    "\n",
    "assert(df[\n",
    "  (df[\"YearTerm\"] == \"2018-fa\") & \\\n",
    "  (df[\"Subject\"] == \"CS\") & \\\n",
    "  (df[\"Number\"] == 225) \\\n",
    "][\"Total Students\"].sum() == 697), \"It appears your \\\"Total Students\\\" column is incorrect.\"\n",
    "\n",
    "assert( abs(df[\n",
    "  (df[\"YearTerm\"] == \"2018-fa\") & \\\n",
    "  (df[\"Subject\"] == \"STAT\") & \\\n",
    "  (df[\"Number\"] == 100) \\\n",
    "][\"Average GPA\"].mean() - 3.247) < 0.01), \"It appears your \\\"Average GPA\\\" column is incorrect.\""
   ]
  },
  {
   "cell_type": "markdown",
   "metadata": {
    "nbgrader": {
     "grade": false,
     "grade_id": "cell-7cf39ab5f78a3f48",
     "locked": false,
     "schema_version": 3,
     "solution": false,
     "task": false
    }
   },
   "source": [
    "## Part 2 | Finding the easiest and hardest courses\n",
    "\n",
    "### Puzzle 2.1: Hardest Courses in the Dataset\n",
    "\n",
    "Using functions you already know, find the **30 hardest courses** at Illinois based on their \"Average GPA\"."
   ]
  },
  {
   "cell_type": "code",
   "execution_count": null,
   "metadata": {
    "deletable": false,
    "nbgrader": {
     "cell_type": "code",
     "checksum": "35c02ad0142f34df4c8119e6fa085175",
     "grade": false,
     "grade_id": "cell-13f6d92b7a658526",
     "locked": false,
     "schema_version": 3,
     "solution": true,
     "task": false
    }
   },
   "outputs": [],
   "source": [
    "df_hardestCourses = ...\n",
    "df_hardestCourses\n",
    "\n"
   ]
  },
  {
   "cell_type": "markdown",
   "metadata": {
    "nbgrader": {
     "grade": false,
     "grade_id": "cell-02a6a9a1be700b2e",
     "locked": false,
     "schema_version": 3,
     "solution": false,
     "task": false
    }
   },
   "source": [
    "### Puzzle 2.2: Hardest Courses in 2019\n",
    "\n",
    "Find the **30 hardest courses in 2019** at Illinois based on their \"Average GPA\"."
   ]
  },
  {
   "cell_type": "code",
   "execution_count": null,
   "metadata": {
    "deletable": false,
    "nbgrader": {
     "cell_type": "code",
     "checksum": "fb28335aa2f93114e56da964c53244f6",
     "grade": false,
     "grade_id": "cell-a7106dca7694711c",
     "locked": false,
     "schema_version": 3,
     "solution": true,
     "task": false
    }
   },
   "outputs": [],
   "source": [
    "df_hardestCourses_2019 = ...\n",
    "df_hardestCourses_2019\n",
    "\n"
   ]
  },
  {
   "cell_type": "markdown",
   "metadata": {},
   "source": [
    "### Puzzle 2.3: Easiest Courses in 2019\n",
    "\n",
    "Find the **30 easiest courses in 2019** at Illinois based on their \"Average GPA\"."
   ]
  },
  {
   "cell_type": "code",
   "execution_count": null,
   "metadata": {
    "deletable": false,
    "nbgrader": {
     "cell_type": "code",
     "checksum": "c0dcac9ed46513cbc06692b0a69c5ddb",
     "grade": false,
     "grade_id": "cell-44d17a2ef57b1a19",
     "locked": false,
     "schema_version": 3,
     "solution": true,
     "task": false
    }
   },
   "outputs": [],
   "source": [
    "df_easiestCourses_2019 = ...\n",
    "df_easiestCourses_2019\n",
    "\n"
   ]
  },
  {
   "cell_type": "code",
   "execution_count": null,
   "metadata": {
    "deletable": false,
    "editable": false,
    "nbgrader": {
     "cell_type": "code",
     "checksum": "f9e74801e6b1587692c8aa754de3169c",
     "grade": true,
     "grade_id": "cell-af77ae707b9fa776",
     "locked": true,
     "points": 1,
     "schema_version": 3,
     "solution": false,
     "task": false
    }
   },
   "outputs": [],
   "source": [
    "## == TEST CASES for Puzzle 2 ==\n",
    "# - This read-only cell contains test cases for your previous cell.\n",
    "# - If this cell runs without any error or output, you PASSED all test cases!\n",
    "# - If this cell results in any errors, check your previous cell, make changes, RE-RUN your code, and then RE-RUN this cell.\n",
    "\n",
    "assert( len(df_hardestCourses) == 30 ), \"You should only have the 30 hardest courses.\"\n",
    "assert( abs(df_hardestCourses[\"Average GPA\"].mean() - 1.58) < 0.01 ), \"Are you sure you have the 30 hardest courses?\"\n",
    "\n",
    "assert( len(df_hardestCourses_2019) == 30 ), \"You should only have the 30 hardest courses in 2019.\"\n",
    "assert( abs(df_hardestCourses_2019[\"Average GPA\"].mean() - 2.04) < 0.01 ), \"Are you sure you have the 30 hardest courses of 2019?\"\n",
    "\n",
    "assert( len(df_easiestCourses_2019) == 30 ), \"You should only have the 30 easiest courses in 2019.\"\n",
    "assert( abs(df_easiestCourses_2019[\"Average GPA\"].mean() - 3.97) < 0.01 ), \"Are you sure you have the 30 easiest courses of 2019?\""
   ]
  },
  {
   "cell_type": "markdown",
   "metadata": {},
   "source": [
    "## Puzzle 3: Finding Data on  Every Subject\n",
    "\n",
    "### Puzzle 3.1: Total Grades Given in Each Subject\n",
    "\n",
    "Using `groupby` and `agg`, find the total number of each grade (eg: \"A+\"s, \"A\"s, \"A-\"s, etc.) for every subject in the DataFrame `df_grouped_subject`."
   ]
  },
  {
   "cell_type": "code",
   "execution_count": null,
   "metadata": {
    "deletable": false,
    "nbgrader": {
     "cell_type": "code",
     "checksum": "5b11beeea75bc4ac27dfc9362bb8de15",
     "grade": false,
     "grade_id": "cell-7d31cf501bfd8025",
     "locked": false,
     "schema_version": 3,
     "solution": true,
     "task": false
    }
   },
   "outputs": [],
   "source": [
    "\n",
    "\n",
    "\n",
    "df_grouped_subject = ...\n",
    "df_grouped_subject\n",
    "\n"
   ]
  },
  {
   "cell_type": "code",
   "execution_count": null,
   "metadata": {
    "deletable": false,
    "editable": false,
    "nbgrader": {
     "cell_type": "code",
     "checksum": "6f7c1e46fedb19f2974fd6cc2502ce2d",
     "grade": true,
     "grade_id": "cell-e9ad64dffa5a1cf1",
     "locked": true,
     "points": 1,
     "schema_version": 3,
     "solution": false,
     "task": false
    }
   },
   "outputs": [],
   "source": [
    "## == TEST CASES for Puzzle 3.1 ==\n",
    "# - This read-only cell contains test cases for your previous cell.\n",
    "# - If this cell runs without any error our output, you PASSED all test cases!\n",
    "# - If this cell results in any errors, check your previous cell, make changes, RE-RUN your code, and then RE-RUN this cell.\n",
    "\n",
    "assert( len(df_grouped_subject) == 161 ), \"Are you sure you grouped by subjects?\"\n",
    "assert( df_grouped_subject[ df_grouped_subject[\"Subject\"] == \"CS\" ][\"A\"].sum() == 38472 ), \"Are you sure you counted the right number of each subject?\""
   ]
  },
  {
   "cell_type": "markdown",
   "metadata": {},
   "source": [
    "### Puzzle 3.2: Overall Average GPA\n",
    "\n",
    "In `df_grouped_subject`, add a new column called `\"Overall Average GPA\"` that computes the total overall GPA of each subject at Illinois."
   ]
  },
  {
   "cell_type": "code",
   "execution_count": null,
   "metadata": {
    "deletable": false,
    "nbgrader": {
     "cell_type": "code",
     "checksum": "9aaf9603d175d486b7bd422607bde996",
     "grade": false,
     "grade_id": "cell-7d3923eba40e1f45",
     "locked": false,
     "schema_version": 3,
     "solution": true,
     "task": false
    }
   },
   "outputs": [],
   "source": [
    "df_grouped_subject[\"Overall Average GPA\"] = ...\n",
    "df_grouped_subject\n",
    "\n"
   ]
  },
  {
   "cell_type": "code",
   "execution_count": null,
   "metadata": {
    "deletable": false,
    "editable": false,
    "nbgrader": {
     "cell_type": "code",
     "checksum": "ddd9499f181361d11f32011f78c0270e",
     "grade": true,
     "grade_id": "cell-81b547cf0d42b67e",
     "locked": true,
     "points": 1,
     "schema_version": 3,
     "solution": false,
     "task": false
    }
   },
   "outputs": [],
   "source": [
    "## == TEST CASES for Puzzle 3.2 ==\n",
    "# - This read-only cell contains test cases for your previous cell.\n",
    "# - If this cell runs without any error or output, you PASSED all test cases!\n",
    "# - If this cell results in any errors, check you previous cell, make changes, RE-RUN your code, and then RE-RUN this cell.\n",
    "\n",
    "assert( abs(df_grouped_subject[ df_grouped_subject[\"Subject\"] == \"CS\" ][\"Overall Average GPA\"].sum() - 3.249) < 0.01 ), \"Your overall average GPA does not appear correct.\""
   ]
  },
  {
   "cell_type": "markdown",
   "metadata": {},
   "source": [
    "### Puzzle 3.3: Find the 15 easiest subjects at Illinois\n",
    "\n",
    "Finally, find the 15 easiest subjects at Illinois based on their \"Overall Average GPA\""
   ]
  },
  {
   "cell_type": "code",
   "execution_count": null,
   "metadata": {
    "deletable": false,
    "nbgrader": {
     "cell_type": "code",
     "checksum": "1cc53495a464936c783af8a0c6463e85",
     "grade": false,
     "grade_id": "cell-cb713763b3781870",
     "locked": false,
     "schema_version": 3,
     "solution": true,
     "task": false
    }
   },
   "outputs": [],
   "source": [
    "df_easiest_subjects = ...\n",
    "df_easiest_subjects\n",
    "\n"
   ]
  },
  {
   "cell_type": "markdown",
   "metadata": {},
   "source": [
    "### Puzzle 3.4: Find the hardest 15 subjects at Illinois\n",
    "\n",
    "Find the hardest 15 subjects at Illinois based on their \"Overall Average GPA\""
   ]
  },
  {
   "cell_type": "code",
   "execution_count": null,
   "metadata": {
    "deletable": false,
    "nbgrader": {
     "cell_type": "code",
     "checksum": "2e1dccc27dc3b85d5f1b090aeee898b3",
     "grade": false,
     "grade_id": "cell-eb5a80d62e1c7a45",
     "locked": false,
     "schema_version": 3,
     "solution": true,
     "task": false
    }
   },
   "outputs": [],
   "source": [
    "df_hardest_subjects = ...\n",
    "df_hardest_subjects\n",
    "\n"
   ]
  },
  {
   "cell_type": "markdown",
   "metadata": {},
   "source": [
    "### Puzzle 3.5: Find your major!\n",
    "\n",
    "Finally, find your major/subject in the DataSet and check out how hard it is! \n",
    "\n",
    "Feel free to look around and explore! Write your code below and write comments to explain what your code does. For example, what are the hardest classes in your major that have had at least 50 students?"
   ]
  },
  {
   "cell_type": "code",
   "execution_count": null,
   "metadata": {
    "deletable": false,
    "nbgrader": {
     "cell_type": "code",
     "checksum": "ef2c04f9199ab28fe67147ab68e80494",
     "grade": false,
     "grade_id": "cell-116a2bb23ee81616",
     "locked": false,
     "schema_version": 3,
     "solution": true,
     "task": false
    }
   },
   "outputs": [],
   "source": []
  },
  {
   "cell_type": "markdown",
   "metadata": {},
   "source": [
    "# Finale!\n",
    "\n",
    "You're almost done -- congratulations!\n",
    "\n",
    "You need to do two more things:\n",
    "\n",
    "1. Save your work.  To do this, create a **notebook checkpoint** by using the menu within the notebook to go **File -> Save and Checkpoint**\n",
    "\n",
    "2. After you have saved and checkpointed, exit this notebook, and return to the Data Science DISCOVERY page on how to use git to turn this notebook into the course!"
   ]
  }
 ],
 "metadata": {
  "kernelspec": {
   "display_name": "Python 3",
   "language": "python",
   "name": "python3"
  },
  "language_info": {
   "codemirror_mode": {
    "name": "ipython",
    "version": 3
   },
   "file_extension": ".py",
   "mimetype": "text/x-python",
   "name": "python",
   "nbconvert_exporter": "python",
   "pygments_lexer": "ipython3",
   "version": "3.7.6"
  }
 },
 "nbformat": 4,
 "nbformat_minor": 2
}
