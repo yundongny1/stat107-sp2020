{
 "cells": [
  {
   "cell_type": "markdown",
   "metadata": {
    "deletable": false,
    "editable": false,
    "nbgrader": {
     "cell_type": "markdown",
     "checksum": "867c0e5f5900ea74ba1ae4c93d249681",
     "grade": false,
     "grade_id": "cell-817393b4b625d714",
     "locked": true,
     "schema_version": 3,
     "solution": false,
     "task": false
    }
   },
   "source": [
    "# Central Limit Theorem (CLT) !"
   ]
  },
  {
   "cell_type": "markdown",
   "metadata": {
    "deletable": false,
    "editable": false,
    "nbgrader": {
     "cell_type": "markdown",
     "checksum": "6d2419243a32cff68cc12e895702d5c6",
     "grade": false,
     "grade_id": "cell-31012a832251aa31",
     "locked": true,
     "schema_version": 3,
     "solution": false,
     "task": false
    }
   },
   "source": [
    "Welcome! In this lab, we will be exploring the Central Limit Theorem (CLT)! Although this concept was first developed by Abraham de Moivre in 1733, it wasn’t formally named until 1930, when noted Hungarian mathematician George Polya officially dubbed it the Central Limit Theorem.\n",
    "\n",
    "## Review: What is the Central Limit Theorem?\n",
    "Basically, the Central Limit Theorem says:  \n",
    "\n",
    "If we repeatedly take independent random samples of size n from any population, then when n is large, the distribution of the sample means will approach a normal distribution.\n",
    "\n",
    "Wow! This works for any population, even non-normal populations.  The CLT is a very useful theorem that is the foundation for many data science procedures. We'll see a lot of these procedures in the upcoming weeks in Data Science DISCOVERY!\n",
    "\n",
    "Today, we will be working with a \"song_data\" dataset that has around 19,000 songs which have multiple attributes. This lab will help demonstrate how the Central Limit Theorem works! Below are the 15 attributes of the \"song\" dataset. \n",
    "\n",
    "The Attributes:\n",
    "\n",
    "- `song_name`: contains the name of the song\n",
    "- `song_popularity`: how popular a song is\n",
    "- `song_duration_ms`: length of the song\n",
    "- `acousticness`: the higher the value, the more acoustic the song is\n",
    "- `danceability`: the higher the value, the easier it is to dance to this song\n",
    "- `energy`: the energy of a song, the higher the value, the more energetic\n",
    "- `instrumentalness`: the higher the value, the less vocals there are\n",
    "- `key`: key the track is in\n",
    "- `liveness`: the higher the value, the more of an audience presence there is\n",
    "- `loudness`: the higher the value, the louder the song (in dB)\n",
    "- `audiomode`: represents the modality of the track: major is represented by 1 and minor is represented by 0\n",
    "- `speechiness`: the higher the value, the more presence of spoken words\n",
    "- `tempo`: the overall estimated tempo of the song\n",
    "- `time_signature`: an estimated overall time signature of a track\n",
    "- `audio_valence`: the higher the value, the more positive it is"
   ]
  },
  {
   "cell_type": "markdown",
   "metadata": {
    "deletable": false,
    "editable": false,
    "nbgrader": {
     "cell_type": "markdown",
     "checksum": "107204faf3fa8dcdaf6dd89f4f9b0e8f",
     "grade": false,
     "grade_id": "cell-5cc8b31cab6fa600",
     "locked": true,
     "schema_version": 3,
     "solution": false,
     "task": false
    }
   },
   "source": [
    "# 0. Import the Dataset\n",
    "\n",
    "In the same folder as this notebook find the dataset `song_data.csv` that is provided. You know what to do to import the libraries and read the data! :)"
   ]
  },
  {
   "cell_type": "code",
   "execution_count": 1,
   "metadata": {
    "deletable": false,
    "nbgrader": {
     "cell_type": "code",
     "checksum": "6edb99cb6682ee59db545dedc8d2e771",
     "grade": false,
     "grade_id": "cell-615783f5a93483b3",
     "locked": false,
     "schema_version": 3,
     "solution": true,
     "task": false
    }
   },
   "outputs": [],
   "source": [
    "import pandas as pd\n",
    "import random\n",
    "df = pd.read_csv(\"song_data.csv\")\n",
    "\n"
   ]
  },
  {
   "cell_type": "markdown",
   "metadata": {
    "deletable": false,
    "editable": false,
    "nbgrader": {
     "cell_type": "markdown",
     "checksum": "32ece8548018ba38aed9757847cdadc2",
     "grade": false,
     "grade_id": "cell-f61c85aa4792f9f0",
     "locked": true,
     "schema_version": 3,
     "solution": false,
     "task": false
    }
   },
   "source": [
    "# 1. Puzzle 1 "
   ]
  },
  {
   "cell_type": "markdown",
   "metadata": {
    "deletable": false,
    "editable": false,
    "nbgrader": {
     "cell_type": "markdown",
     "checksum": "e9f0ee75690f27c27e961321a4b13405",
     "grade": false,
     "grade_id": "cell-442fb4aa41937816",
     "locked": true,
     "schema_version": 3,
     "solution": false,
     "task": false
    }
   },
   "source": [
    "### 1.1 Find Descriptive Statistics\n",
    "Let's do some basic EDA to start. Find the mean, median, standard deviation, first quartile, and third quartile for each of the attributes. Quantiles are the same thing as quartiles that we talked about in class. *You will need some of these values later so make sure to store them as variables!*"
   ]
  },
  {
   "cell_type": "code",
   "execution_count": 2,
   "metadata": {
    "deletable": false,
    "nbgrader": {
     "cell_type": "code",
     "checksum": "550b35d56e454999e3910cee6872654b",
     "grade": false,
     "grade_id": "cell-1a9ba098db01bfaa",
     "locked": false,
     "schema_version": 3,
     "solution": true,
     "task": false
    }
   },
   "outputs": [
    {
     "data": {
      "text/plain": [
       "song_popularity        21.905654\n",
       "song_duration_ms    59887.540566\n",
       "acousticness            0.288719\n",
       "danceability            0.156723\n",
       "energy                  0.214101\n",
       "instrumentalness        0.221591\n",
       "key                     3.614595\n",
       "liveness                0.143984\n",
       "loudness                3.827831\n",
       "audio_mode              0.483314\n",
       "speechiness             0.104378\n",
       "tempo                  28.714456\n",
       "time_signature          0.298533\n",
       "audio_valence           0.244632\n",
       "dtype: float64"
      ]
     },
     "execution_count": 2,
     "metadata": {},
     "output_type": "execute_result"
    }
   ],
   "source": [
    "df_mean = df.mean()\n",
    "df_median = df.median()\n",
    "df_sd = df.std()\n",
    "df_quantile1st = df.quantile(0.25)\n",
    "df_quantile3rd = df.quantile(0.75)\n",
    "\n",
    "\n",
    "df.mean()\n",
    "df.std()"
   ]
  },
  {
   "cell_type": "code",
   "execution_count": 3,
   "metadata": {
    "deletable": false,
    "editable": false,
    "nbgrader": {
     "cell_type": "code",
     "checksum": "94a7341243988c787d14670005e5c59f",
     "grade": true,
     "grade_id": "cell-496495a67929f448",
     "locked": true,
     "points": 1,
     "schema_version": 3,
     "solution": false,
     "task": false
    }
   },
   "outputs": [
    {
     "name": "stdout",
     "output_type": "stream",
     "text": [
      "🎉 All tests passed! 🎉\n"
     ]
    }
   ],
   "source": [
    "## == TEST CASES for Puzzle 1.1 ==\n",
    "# - This read-only cell contains test cases for your previous cell.\n",
    "# - If this cell runs without any error our output, you PASSED all test cases!\n",
    "# - If this cell results in any errors, check you previous cell, make changes, and RE-RUN your code and then this cell.\n",
    "\n",
    "assert(round(df_mean[0],0) == 53), \"The value is not correct!\"\n",
    "assert(round(df_median[0],0) == 56), \"The value is not correct!\"\n",
    "assert(round(df_sd[0],0) == 22), \"The value is not correct!\"\n",
    "assert(round(df_quantile1st[0],0) == 40), \"The value is not correct!\"\n",
    "assert(round(df_quantile3rd[0],0) == 69), \"The value is not correct!\"\n",
    "tada = \"\\N{PARTY POPPER}\"\n",
    "print(f\"{tada} All tests passed! {tada}\")"
   ]
  },
  {
   "cell_type": "markdown",
   "metadata": {
    "deletable": false,
    "editable": false,
    "nbgrader": {
     "cell_type": "markdown",
     "checksum": "78c6666bff7cad57d8f8f19758251970",
     "grade": false,
     "grade_id": "cell-bce1e58971db9fb4",
     "locked": true,
     "schema_version": 3,
     "solution": false,
     "task": false
    }
   },
   "source": [
    "### 1.2 Histograms for the Dataset\n",
    "\n",
    "Plot the histograms for each column and find the two columns whose histograms are closest to the normal distribution. Calcuate the mean and standard deviation for these two columns. \n",
    "\n",
    "- If needed: In `df.hist`, use `figsize=(50, 30)` to make your figure bigger.\n"
   ]
  },
  {
   "cell_type": "code",
   "execution_count": 4,
   "metadata": {
    "deletable": false,
    "nbgrader": {
     "cell_type": "code",
     "checksum": "cd9c5b72449009a76dcc935bbb5d1345",
     "grade": false,
     "grade_id": "cell-20bcf1a74c11c1ec",
     "locked": false,
     "schema_version": 3,
     "solution": true,
     "task": false
    }
   },
   "outputs": [],
   "source": [
    "var1_mean = df[\"energy\"].mean()\n",
    "var1_sd = df[\"energy\"].std()\n",
    "var2_mean = df[\"song_popularity\"].mean()\n",
    "var2_sd = df[\"song_popularity\"].std()\n",
    "\n",
    "\n"
   ]
  },
  {
   "cell_type": "code",
   "execution_count": 5,
   "metadata": {
    "deletable": false,
    "editable": false,
    "nbgrader": {
     "cell_type": "code",
     "checksum": "14e50548fe860e2026e793187a9681c5",
     "grade": true,
     "grade_id": "cell-1abef90366d2a757",
     "locked": true,
     "points": 1,
     "schema_version": 3,
     "solution": false,
     "task": false
    }
   },
   "outputs": [
    {
     "name": "stdout",
     "output_type": "stream",
     "text": [
      "🎉 All tests passed! 🎉\n"
     ]
    }
   ],
   "source": [
    "## == TEST CASES for Puzzle 1.2 ==\n",
    "# - This read-only cell contains test cases for your previous cell.\n",
    "# - If this cell runs without any error our output, you PASSED all test cases!\n",
    "# - If this cell results in any errors, check you previous cell, make changes, and RE-RUN your code and then this cell.\n",
    "\n",
    "assert(round(var1_mean,1) == 0.6), \"The value is not correct!\"\n",
    "assert(round(var1_sd,1) == 0.2), \"The value is not correct!\"\n",
    "assert(round(var2_mean,1) == 53), \"The value is not correct!\"\n",
    "assert(round(var2_sd,1) == 21.9), \"The value is not correct!\"\n",
    "tada = \"\\N{PARTY POPPER}\"\n",
    "print(f\"{tada} All tests passed! {tada}\")"
   ]
  },
  {
   "cell_type": "markdown",
   "metadata": {
    "deletable": false,
    "editable": false,
    "nbgrader": {
     "cell_type": "markdown",
     "checksum": "d69b33fc267eb7ae4d855bde7cf69931",
     "grade": false,
     "grade_id": "cell-a28d80896657a45c",
     "locked": true,
     "schema_version": 3,
     "solution": false,
     "task": false
    }
   },
   "source": [
    "# 2. Puzzle 2"
   ]
  },
  {
   "cell_type": "markdown",
   "metadata": {
    "deletable": false,
    "editable": false,
    "nbgrader": {
     "cell_type": "markdown",
     "checksum": "49d6a99b47ca41179cfcf392d7d4345f",
     "grade": false,
     "grade_id": "cell-885cec22da463dbb",
     "locked": true,
     "schema_version": 3,
     "solution": false,
     "task": false
    }
   },
   "source": [
    "### 2.1 Simulation #1\n",
    "Now, we will see the beauty of the Central Limit Theorem.  \n",
    "\n",
    "Define a funciton called `simulate_average` that will simulate playing `n` random songs and return the average value of these `n` songs for each column. For example, the column may be `'danceability'` and your function should return the average `'danceability'` for the `n` songs. (Hint: Your function should take 2 arguments)"
   ]
  },
  {
   "cell_type": "code",
   "execution_count": 6,
   "metadata": {
    "deletable": false,
    "nbgrader": {
     "cell_type": "code",
     "checksum": "4b39ce4c558633e966e951eabe8213cd",
     "grade": false,
     "grade_id": "cell-6c5408ef21a469e8",
     "locked": false,
     "schema_version": 3,
     "solution": true,
     "task": false
    }
   },
   "outputs": [
    {
     "data": {
      "text/plain": [
       "0.6389242999999999"
      ]
     },
     "execution_count": 6,
     "metadata": {},
     "output_type": "execute_result"
    }
   ],
   "source": [
    "### simulate_average ###\n",
    "def simulate_average(n, column):\n",
    "    d1 = df.sample(n)\n",
    "    return d1[column].mean()\n",
    "    \n",
    "simulate_average(1000, \"energy\")\n"
   ]
  },
  {
   "cell_type": "markdown",
   "metadata": {
    "deletable": false,
    "editable": false,
    "nbgrader": {
     "cell_type": "markdown",
     "checksum": "5f1ac7d8962d426a9ee5b3ea9249b018",
     "grade": false,
     "grade_id": "cell-bb599a9f9672e3f1",
     "locked": true,
     "schema_version": 3,
     "solution": false,
     "task": false
    }
   },
   "source": [
    "### 2.1.1 Approximating The Normal Distribution\n",
    "\n",
    "Plot the histogram for the column `loudness`. Then using the `simulate_average` function we defined before, use the column `loudness` to run the simulation **100** times with `n = 1000`.  Store the results in a dataframe and plot the histogram to see the results.  Repeat this with the variable `danceability`.  Finally, repeat the process **10000** times for both variables and see the results."
   ]
  },
  {
   "cell_type": "code",
   "execution_count": 7,
   "metadata": {
    "deletable": false,
    "nbgrader": {
     "cell_type": "code",
     "checksum": "3427dbb5825655d5b2e28e5194904dac",
     "grade": false,
     "grade_id": "cell-de2def1a23d85b1a",
     "locked": false,
     "schema_version": 3,
     "solution": true,
     "task": false
    }
   },
   "outputs": [
    {
     "data": {
      "text/plain": [
       "array([[<matplotlib.axes._subplots.AxesSubplot object at 0x000001C1A4ACD648>]],\n",
       "      dtype=object)"
      ]
     },
     "execution_count": 7,
     "metadata": {},
     "output_type": "execute_result"
    },
    {
     "data": {
      "image/png": "[encoded data removed]",
      "text/plain": [
       "<Figure size 432x288 with 1 Axes>"
      ]
     },
     "metadata": {
      "needs_background": "light"
     },
     "output_type": "display_data"
    },
    {
     "data": {
      "image/png": "[encoded data removed]",
      "text/plain": [
       "<Figure size 432x288 with 1 Axes>"
      ]
     },
     "metadata": {
      "needs_background": "light"
     },
     "output_type": "display_data"
    },
    {
     "data": {
      "image/png": "[encoded data removed]",
      "text/plain": [
       "<Figure size 432x288 with 1 Axes>"
      ]
     },
     "metadata": {
      "needs_background": "light"
     },
     "output_type": "display_data"
    },
    {
     "data": {
      "image/png": "[encoded data removed]",
      "text/plain": [
       "<Figure size 432x288 with 1 Axes>"
      ]
     },
     "metadata": {
      "needs_background": "light"
     },
     "output_type": "display_data"
    },
    {
     "data": {
      "image/png": "[encoded data removed]",
      "text/plain": [
       "<Figure size 432x288 with 1 Axes>"
      ]
     },
     "metadata": {
      "needs_background": "light"
     },
     "output_type": "display_data"
    }
   ],
   "source": [
    "loudness_hist = df[\"loudness\"].hist()\n",
    "\n",
    "### df loudness 100\n",
    "data = []\n",
    "for i in range(100):\n",
    "    mean_loudness_1 = simulate_average(100, \"loudness\")\n",
    "    data.append( {\"mean_loudness_1\": mean_loudness_1} )\n",
    "df_loudness_100 = pd.DataFrame(data)\n",
    "df_loudness_100.hist()\n",
    "\n",
    "### df danceability 100\n",
    "data2 = []\n",
    "for i in range(100):\n",
    "    mean2 = simulate_average(100, \"danceability\")\n",
    "    data2.append( {\"mean2\": mean2} )\n",
    "df_danceability_100 = pd.DataFrame(data2)\n",
    "df_danceability_100.hist()\n",
    "\n",
    "### df danceability 10000\n",
    "data3 = []\n",
    "for i in range(100):\n",
    "    mean3 = simulate_average(10000, \"danceability\")\n",
    "    data3.append( {\"mean3\": mean3} )\n",
    "df_danceability_10000 = pd.DataFrame(data3)\n",
    "df_danceability_10000.hist()\n",
    "\n",
    "\n",
    "### df loudness 10000\n",
    "data4 = []\n",
    "for i in range(100):\n",
    "    mean4 = simulate_average(10000, \"loudness\")\n",
    "    data4.append( {\"mean4\": mean4} )\n",
    "df_loudness_10000 = pd.DataFrame(data4)\n",
    "df_loudness_10000.hist()"
   ]
  },
  {
   "cell_type": "code",
   "execution_count": 8,
   "metadata": {
    "deletable": false,
    "editable": false,
    "nbgrader": {
     "cell_type": "code",
     "checksum": "9f219f8c82ef1df8eba658fc127d7467",
     "grade": true,
     "grade_id": "cell-fbb14166a355972b",
     "locked": true,
     "points": 1,
     "schema_version": 3,
     "solution": false,
     "task": false
    }
   },
   "outputs": [
    {
     "name": "stdout",
     "output_type": "stream",
     "text": [
      "🎉 All tests passed! 🎉\n"
     ]
    }
   ],
   "source": [
    "## == TEST CASES for Puzzle 2 ==\n",
    "# - This read-only cell contains test cases for your previous cell.\n",
    "# - If this cell runs without any error our output, you PASSED all test cases!\n",
    "# - If this cell results in any errors, check you previous cell, make changes, and RE-RUN your code and then this cell.\n",
    "\n",
    "assert( (0.62 <= df_danceability_100.mean()).bool() & (df_danceability_100.mean() <= 0.68).bool() ), \"The simulation is not correct!\"\n",
    "assert( (-7.6 <= df_loudness_100.mean()).bool() & (df_loudness_100.mean() <= -7.3).bool() ), \"The simulation is not correct!\"\n",
    "assert( (0.62 <= df_danceability_10000.mean()).bool() & (df_danceability_10000.mean() <= 0.68).bool() ), \"The simulation is not correct!\"\n",
    "assert( (-7.6 <= df_loudness_10000.mean()).bool() & (df_loudness_10000.mean() <= -7.3).bool() ), \"The simulation is not correct!\"\n",
    "tada = \"\\N{PARTY POPPER}\"\n",
    "print(f\"{tada} All tests passed! {tada}\")"
   ]
  },
  {
   "cell_type": "markdown",
   "metadata": {
    "deletable": false,
    "editable": false,
    "nbgrader": {
     "cell_type": "markdown",
     "checksum": "6606089c2bd4047b2cfa6868dea2626c",
     "grade": false,
     "grade_id": "cell-cd7ec5f66b8c0a21",
     "locked": true,
     "schema_version": 3,
     "solution": false,
     "task": false
    }
   },
   "source": [
    "### 2.1 Simulation #2\n",
    "In simulation #1, we saw the CLT in action using the song dataset. In this simulation, we are going to see the CLT again, but for rolling dice. Create **10** simulations of **50** die rolls.  For each simulation, find the average of the dice rolls and store the value. Then create a histogram of your results. Repeat, but using **100** simulations. Finally, repeat again with **1000** simulations."
   ]
  },
  {
   "cell_type": "code",
   "execution_count": 9,
   "metadata": {
    "deletable": false,
    "nbgrader": {
     "cell_type": "code",
     "checksum": "2831c799eef7af780ba126aa8380fad8",
     "grade": false,
     "grade_id": "cell-7c3bd1e8efe3344a",
     "locked": false,
     "schema_version": 3,
     "solution": true,
     "task": false
    }
   },
   "outputs": [
    {
     "data": {
      "text/plain": [
       "array([[<matplotlib.axes._subplots.AxesSubplot object at 0x000001C1A4B46D08>]],\n",
       "      dtype=object)"
      ]
     },
     "execution_count": 9,
     "metadata": {},
     "output_type": "execute_result"
    },
    {
     "data": {
      "image/png": "[encoded data removed]",
      "text/plain": [
       "<Figure size 432x288 with 1 Axes>"
      ]
     },
     "metadata": {
      "needs_background": "light"
     },
     "output_type": "display_data"
    },
    {
     "data": {
      "image/png": "[encoded data removed]",
      "text/plain": [
       "<Figure size 432x288 with 1 Axes>"
      ]
     },
     "metadata": {
      "needs_background": "light"
     },
     "output_type": "display_data"
    },
    {
     "data": {
      "image/png": "[encoded data removed]",
      "text/plain": [
       "<Figure size 432x288 with 1 Axes>"
      ]
     },
     "metadata": {
      "needs_background": "light"
     },
     "output_type": "display_data"
    }
   ],
   "source": [
    "def simulate_dieroll(n):\n",
    "    for i in range(50):\n",
    "        result = random.randint(1, 6)\n",
    "    return result\n",
    "\n",
    "### 10 dice rolls\n",
    "data5 = []\n",
    "for i in range(10):\n",
    "    die1 = simulate_dieroll(10)\n",
    "    data5.append( {\"die1\": die1} )\n",
    "df_dice_10 = pd.DataFrame(data5)\n",
    "df_dice_10.hist()\n",
    "\n",
    "### 100 dice rolls\n",
    "data6 = []\n",
    "for i in range(100):\n",
    "    die2 = simulate_dieroll(100)\n",
    "    data6.append( {\"die2\": die2} )\n",
    "df_dice_100 = pd.DataFrame(data6)\n",
    "df_dice_100.hist()\n",
    "\n",
    "\n",
    "###1000 dice rolls\n",
    "data7 = []\n",
    "for i in range(1000):\n",
    "    die3 = simulate_dieroll(100)\n",
    "    data7.append( {\"die3\": die3} )\n",
    "df_dice_1000 = pd.DataFrame(data7)\n",
    "df_dice_1000.hist()\n",
    "\n"
   ]
  },
  {
   "cell_type": "code",
   "execution_count": 10,
   "metadata": {
    "deletable": false,
    "editable": false,
    "nbgrader": {
     "cell_type": "code",
     "checksum": "c6194844b29cccfe270f767c2b1bb7e8",
     "grade": true,
     "grade_id": "cell-f850852667e6dce3",
     "locked": true,
     "points": 1,
     "schema_version": 3,
     "solution": false,
     "task": false
    }
   },
   "outputs": [
    {
     "name": "stdout",
     "output_type": "stream",
     "text": [
      "🎉 All tests passed! 🎉\n"
     ]
    }
   ],
   "source": [
    "## == TEST CASES for Puzzle 3 ==\n",
    "# - This read-only cell contains test cases for your previous cell.\n",
    "# - If this cell runs without any error our output, you PASSED all test cases!\n",
    "# - If this cell results in any errors, check you previous cell, make changes, and RE-RUN your code and then this cell.\n",
    "\n",
    "assert( (3.3 <= df_dice_1000.mean()).bool() & (df_dice_1000.mean() <= 3.6).bool() ), \"The simulation is not correct!\"\n",
    "tada = \"\\N{PARTY POPPER}\"\n",
    "print(f\"{tada} All tests passed! {tada}\")"
   ]
  },
  {
   "cell_type": "markdown",
   "metadata": {
    "deletable": false,
    "editable": false,
    "nbgrader": {
     "cell_type": "markdown",
     "checksum": "2c434da4ef6e66b337c07a5fe65daed2",
     "grade": false,
     "grade_id": "cell-3058fc9866235ced",
     "locked": true,
     "schema_version": 3,
     "solution": false,
     "task": false
    }
   },
   "source": [
    "## Submit Your Work!\n",
    "\n",
    "You're almost done -- congratulations!\n",
    "\n",
    "You need to do two more things:\n",
    "\n",
    "1. Save your work.  To do this, create a **notebook checkpoint** by using the menu within the notebook to go **File -> Save and Checkpoint**\n",
    "\n",
    "2. Choose `File` and then `Close and Halt` from this notebook.\n",
    "\n",
    "3. Choose `Quit` on the main notebook webpage.\n",
    "\n",
    "4. Return to your command line and follow the directions on the Data Science Discovery page on how to use git to turn this notebook into the course!"
   ]
  },
  {
   "cell_type": "code",
   "execution_count": null,
   "metadata": {},
   "outputs": [],
   "source": []
  }
 ],
 "metadata": {
  "kernelspec": {
   "display_name": "Python 3",
   "language": "python",
   "name": "python3"
  },
  "language_info": {
   "codemirror_mode": {
    "name": "ipython",
    "version": 3
   },
   "file_extension": ".py",
   "mimetype": "text/x-python",
   "name": "python",
   "nbconvert_exporter": "python",
   "pygments_lexer": "ipython3",
   "version": "3.7.6"
  }
 },
 "nbformat": 4,
 "nbformat_minor": 2
}
