{
 "cells": [
  {
   "cell_type": "markdown",
   "metadata": {},
   "source": [
    "# lab_simpsons-paradox\n",
    "\n",
    "Hi Data Scientists,\n",
    "\n",
    "Welcome to the third lab!  In this lab, you will explore using pandas to explore real-world datasets and find if Simpson's Paradox appears in several different datasets.\n",
    "\n",
    "\n",
    "### Labs are Collaborative\n",
    "\n",
    "In your lab section (right now!), find a person or two around you and form a group.  Work on this together, making sure all of you understand each component of the lab.\n",
    "\n",
    "\n",
    "### Getting Help\n",
    "\n",
    "Remember, there are a lot of ways to get help if you find yourself stuck:\n",
    "\n",
    "1. In lab section, your TA, CAs, and your peers are here for you!\n",
    "\n",
    "\n",
    "2. On the course Piazza page: https://piazza.com/illinois/spring2020/stat107\n",
    "\n",
    "\n",
    "3. Office Hours:\n",
    "\n",
    "  - Open office hours **every Monday, Tuesday, Wednesday, and Friday** from 4:00 pm - 6:00 pm in 23 Illini Hall\n",
    "\n",
    "  - Prof. Wade + Prof. Karle are available every Wednesday from 8:30 am - 10:00 am in 2215 Siebel Center"
   ]
  },
  {
   "cell_type": "markdown",
   "metadata": {},
   "source": [
    "# Puzzle 0: Your Group!\n",
    "\n",
    "Edit the next Python cell to add information about who you're working within your lab section:"
   ]
  },
  {
   "cell_type": "code",
   "execution_count": null,
   "metadata": {},
   "outputs": [],
   "source": [
    "# First, meet your CAs and TA if you haven't already!\n",
    "# ...first name is enough, we'll know who they are! :)\n",
    "ta_name = \"\"\n",
    "ca1_name = \"\"\n",
    "ca2_name = \"\"\n",
    "\n",
    "\n",
    "# Also, make sure to meet your team for this lab! Find out their name, what major they're in,\n",
    "# and learn something new about them that you never knew before!\n",
    "partner1_name = \"\"\n",
    "partner1_netid = \"\"\n",
    "partner1_major = \"\"\n",
    "\n",
    "partner2_name = \"\"\n",
    "partner2_netid = \"\"\n",
    "partner2_major = \"\"\n",
    "\n",
    "partner3_name = \"\"\n",
    "partner3_netid = \"\"\n",
    "partner3_major = \"\""
   ]
  },
  {
   "cell_type": "markdown",
   "metadata": {},
   "source": [
    "# Puzzle 1: Homecoming Date Night\n",
    "\n",
    "Imagine you and your partner are trying to find the perfect restaurant for a homecoming date night dinner!  Knowing this process can lead to hours of arguments, you seek out the answer to all of life’s questions: *online reviews*. \n",
    "\n",
    "The dataset `Black Dog Reviews.csv` (already provided for you as part of the lab code you checked out from git) contains data showing all of the males and females that have reviewed Black Dog in the past year and whether or not they recommended it.  The dataset `Papa Dels Reviews.csv` contains the same information for Papa Dels.\n",
    "\n",
    "\n",
    "## 1.1: Data Cleaning\n",
    "\n",
    "Unfortunately, this data was not as tidy as all of our data has been so far. :(\n",
    "\n",
    "- Open `Black Dog Reviews.csv` and `Papa Dels Reviews.csv` CSV file using any program that can edit spreadsheets.  This can be Microsoft Excel (if you have it installed) or you can upload it to Google Drive and edit it with Google Sheets.\n",
    "- Modify the file to ensure all rows that in the `Gender` column has the same value for the two gender categories (as `Male` and `Female`) found in this dataset.\n",
    "- Finally, make sure to save the file as a CSV so you can used your cleaned dataset for this lab.\n",
    "\n",
    "\n",
    "## 1.2. Loading Your DataSet\n",
    "\n",
    "Load the DataSets you just cleaned into Python:"
   ]
  },
  {
   "cell_type": "code",
   "execution_count": null,
   "metadata": {},
   "outputs": [],
   "source": [
    "# Import the pandas library as pd\n",
    "import pandas as pd"
   ]
  },
  {
   "cell_type": "code",
   "execution_count": null,
   "metadata": {
    "deletable": false,
    "nbgrader": {
     "cell_type": "code",
     "checksum": "cd13240032bcc377d094424ece4fc340",
     "grade": false,
     "grade_id": "cell-3f3752d45165cffa",
     "locked": false,
     "schema_version": 3,
     "solution": true
    }
   },
   "outputs": [],
   "source": [
    "df_black_dog = ...\n",
    "df_black_dog\n"
   ]
  },
  {
   "cell_type": "code",
   "execution_count": null,
   "metadata": {
    "deletable": false,
    "editable": false,
    "nbgrader": {
     "cell_type": "code",
     "checksum": "c8b3dd4b46b5c288310a08e046528550",
     "grade": true,
     "grade_id": "cell-1f967bc5dffe7c62",
     "locked": true,
     "points": 1,
     "schema_version": 3,
     "solution": false
    }
   },
   "outputs": [],
   "source": [
    "## == TEST CASES for Puzzle 1.2 ==\n",
    "# - This read-only cell contains test cases for your previous cell.\n",
    "# - If this cell runs without any error our output, you PASSED all test cases!\n",
    "# - If this cell results in any errors, check your previous cell, make changes, and RE-RUN your code and then this cell.\n",
    "\n",
    "assert(len(df_black_dog) == 40), \"The dataframe does not appear to have correct dataset loaded\"\n",
    "## == SUCCESS MESSAGE ==\n",
    "# You will only see this message (with the emoji showing) if you passed all test cases:\n",
    "tada = \"\\N{PARTY POPPER}\"\n",
    "print(f\"{tada} All tests passed! {tada}\")"
   ]
  },
  {
   "cell_type": "code",
   "execution_count": null,
   "metadata": {
    "deletable": false,
    "nbgrader": {
     "cell_type": "code",
     "checksum": "f02e51a07ac711c244c6fa9330080c48",
     "grade": false,
     "grade_id": "cell-6171dbc0e3852e57",
     "locked": false,
     "schema_version": 3,
     "solution": true
    }
   },
   "outputs": [],
   "source": [
    "df_papa_del = ...\n",
    "df_papa_del\n"
   ]
  },
  {
   "cell_type": "code",
   "execution_count": null,
   "metadata": {
    "deletable": false,
    "editable": false,
    "nbgrader": {
     "cell_type": "code",
     "checksum": "7080c41b97593f9586308ef81fb4b246",
     "grade": true,
     "grade_id": "cell-630e1207191fb31e",
     "locked": true,
     "points": 1,
     "schema_version": 3,
     "solution": false
    }
   },
   "outputs": [],
   "source": [
    "## == TEST CASES for Puzzle 1.2 ==\n",
    "# - This read-only cell contains test cases for your previous cell.\n",
    "# - If this cell runs without any error our output, you PASSED all test cases!\n",
    "# - If this cell results in any errors, check your previous cell, make changes, and RE-RUN your code and then this cell.\n",
    "\n",
    "assert(len(df_papa_del) == 46), \"The dataframe does not appear to have correct dataset loaded\"\n",
    "## == SUCCESS MESSAGE ==\n",
    "# You will only see this message (with the emoji showing) if you passed all test cases:\n",
    "tada = \"\\N{PARTY POPPER}\"\n",
    "print(f\"{tada} All tests passed! {tada}\")"
   ]
  },
  {
   "cell_type": "markdown",
   "metadata": {},
   "source": [
    "## 1.3. Analysis\n",
    "\n",
    "We want to use the Black Dog dataset to calculate the percentage of women who recommended Black Dog.  Then calculate the percentage of men who recommended Black Dog:"
   ]
  },
  {
   "cell_type": "code",
   "execution_count": null,
   "metadata": {
    "deletable": false,
    "nbgrader": {
     "cell_type": "code",
     "checksum": "5a2bfb5746bd4fa4f5c5ab3377da9f33",
     "grade": false,
     "grade_id": "cell-e8a1c3c40402d8e6",
     "locked": false,
     "schema_version": 3,
     "solution": true
    }
   },
   "outputs": [],
   "source": [
    "black_dog_female_percent = ...\n",
    "black_dog_female_percent\n",
    "\n"
   ]
  },
  {
   "cell_type": "code",
   "execution_count": null,
   "metadata": {
    "deletable": false,
    "editable": false,
    "nbgrader": {
     "cell_type": "code",
     "checksum": "bcfd2b883a1225be9fba08374acd2a6c",
     "grade": true,
     "grade_id": "cell-fbdef0d3e0843326",
     "locked": true,
     "points": 1,
     "schema_version": 3,
     "solution": false
    }
   },
   "outputs": [],
   "source": [
    "## == TEST CASES for Puzzle 1.3 ==\n",
    "# - This read-only cell contains test cases for your previous cell.\n",
    "# - If this cell runs without any error our output, you PASSED all test cases!\n",
    "# - If this cell results in any errors, check your previous cell, make changes, and RE-RUN your code and then this cell.\n",
    "\n",
    "assert(black_dog_female_percent == 80), \"The percentage of Female who recommended Black Dog does not appear to have been correctly calculated\"\n",
    "\n",
    "## == SUCCESS MESSAGE ==\n",
    "# You will only see this message (with the emoji showing) if you passed all test cases:\n",
    "tada = \"\\N{PARTY POPPER}\"\n",
    "print(f\"{tada} All tests passed! {tada}\")"
   ]
  },
  {
   "cell_type": "code",
   "execution_count": null,
   "metadata": {
    "deletable": false,
    "nbgrader": {
     "cell_type": "code",
     "checksum": "8169e3ce83cd5fae88e344b7819d4c63",
     "grade": false,
     "grade_id": "cell-e51a9d6c4f48495c",
     "locked": false,
     "schema_version": 3,
     "solution": true
    }
   },
   "outputs": [],
   "source": [
    "black_dog_male_percent = ...\n",
    "black_dog_male_percent\n",
    "\n"
   ]
  },
  {
   "cell_type": "code",
   "execution_count": null,
   "metadata": {
    "deletable": false,
    "editable": false,
    "nbgrader": {
     "cell_type": "code",
     "checksum": "ea151af1fa06de50b70a37882bdb8b9d",
     "grade": true,
     "grade_id": "cell-00ebcd91c621f14a",
     "locked": true,
     "points": 1,
     "schema_version": 3,
     "solution": false
    }
   },
   "outputs": [],
   "source": [
    "## == TEST CASES for Puzzle 1.3 ==\n",
    "# - This read-only cell contains test cases for your previous cell.\n",
    "# - If this cell runs without any error our output, you PASSED all test cases!\n",
    "# - If this cell results in any errors, check your previous cell, make changes, and RE-RUN your code and then this cell.\n",
    "\n",
    "assert(black_dog_male_percent == 100*(1/3)), \"The percentage of Male who recommended Black Dog does not appear to have been correctly calculated\"\n",
    "## == SUCCESS MESSAGE ==\n",
    "# You will only see this message (with the emoji showing) if you passed all test cases:\n",
    "tada = \"\\N{PARTY POPPER}\"\n",
    "print(f\"{tada} All tests passed! {tada}\")"
   ]
  },
  {
   "cell_type": "markdown",
   "metadata": {},
   "source": [
    "Similarly, use the Papa Dels dataset to calculate the percentage of women who recommended Papa Dels.  Then calculate the percentage of men who recommended Papa Dels:"
   ]
  },
  {
   "cell_type": "code",
   "execution_count": null,
   "metadata": {
    "deletable": false,
    "nbgrader": {
     "cell_type": "code",
     "checksum": "d9b5f51446cfbf7b254cacbd76c8f180",
     "grade": false,
     "grade_id": "cell-42037a70312202b7",
     "locked": false,
     "schema_version": 3,
     "solution": true
    }
   },
   "outputs": [],
   "source": [
    "papa_dels_female_percent = ...\n",
    "papa_dels_female_percent\n",
    "\n"
   ]
  },
  {
   "cell_type": "code",
   "execution_count": null,
   "metadata": {
    "deletable": false,
    "editable": false,
    "nbgrader": {
     "cell_type": "code",
     "checksum": "2ee17f15449a2c552005abe071b41083",
     "grade": true,
     "grade_id": "cell-d534e36a406bf8da",
     "locked": true,
     "points": 1,
     "schema_version": 3,
     "solution": false
    }
   },
   "outputs": [],
   "source": [
    "## == TEST CASES for Puzzle 1.3 ==\n",
    "# - This read-only cell contains test cases for your previous cell.\n",
    "# - If this cell runs without any error our output, you PASSED all test cases!\n",
    "# - If this cell results in any errors, check your previous cell, make changes, and RE-RUN your code and then this cell.\n",
    "\n",
    "assert(papa_dels_female_percent == 90), \"The percentage of Female who recommended Papa Dels does not appear to have correctly calculated\"\n",
    "## == SUCCESS MESSAGE ==\n",
    "# You will only see this message (with the emoji showing) if you passed all test cases:\n",
    "tada = \"\\N{PARTY POPPER}\"\n",
    "print(f\"{tada} All tests passed! {tada}\")"
   ]
  },
  {
   "cell_type": "code",
   "execution_count": null,
   "metadata": {
    "deletable": false,
    "nbgrader": {
     "cell_type": "code",
     "checksum": "3f3eeda10316f1ce24c34c8d130e1696",
     "grade": false,
     "grade_id": "cell-25efc5b635f23764",
     "locked": false,
     "schema_version": 3,
     "solution": true
    }
   },
   "outputs": [],
   "source": [
    "papa_dels_male_percent = ...\n",
    "papa_dels_male_percent\n",
    "\n"
   ]
  },
  {
   "cell_type": "code",
   "execution_count": null,
   "metadata": {
    "deletable": false,
    "editable": false,
    "nbgrader": {
     "cell_type": "code",
     "checksum": "38698b8475298d86ac1db59c204af074",
     "grade": true,
     "grade_id": "cell-b481131a6df56f62",
     "locked": true,
     "points": 1,
     "schema_version": 3,
     "solution": false
    }
   },
   "outputs": [],
   "source": [
    "## == TEST CASES for Puzzle 1.3 ==\n",
    "# - This read-only cell contains test cases for your previous cell.\n",
    "# - If this cell runs without any error our output, you PASSED all test cases!\n",
    "# - If this cell results in any errors, check your previous cell, make changes, and RE-RUN your code and then this cell.\n",
    "\n",
    "assert(papa_dels_male_percent == 50), \"The percentage of Male who recommended Papa Dels does not appear to have been correctly calculated\"\n",
    "## == SUCCESS MESSAGE ==\n",
    "# You will only see this message (with the emoji showing) if you passed all test cases:\n",
    "tada = \"\\N{PARTY POPPER}\"\n",
    "print(f\"{tada} All tests passed! {tada}\")"
   ]
  },
  {
   "cell_type": "markdown",
   "metadata": {},
   "source": [
    "### Observe the Results\n",
    "\n",
    "Run the following cell to format all of your answers as a DataFrame:"
   ]
  },
  {
   "cell_type": "code",
   "execution_count": null,
   "metadata": {},
   "outputs": [],
   "source": [
    "pd.DataFrame( [\n",
    "    {'Female': black_dog_female_percent, 'Male': black_dog_male_percent },\n",
    "    {'Female': papa_dels_female_percent, 'Male': papa_dels_male_percent },    \n",
    "], index=['Black Dog', 'Papa Dels'])"
   ]
  },
  {
   "cell_type": "markdown",
   "metadata": {},
   "source": [
    "❓ **Question** ❓: Should your homecoming date night be at Black Dog or Papa Dels?\n",
    "\n",
    "- Does \"Black Dog\" (Row #1) have higher values or \"Papa Dels\" (Row #2) have higher values?"
   ]
  },
  {
   "cell_type": "markdown",
   "metadata": {},
   "source": [
    "*Edit and replace this cell with your answer.*"
   ]
  },
  {
   "cell_type": "markdown",
   "metadata": {},
   "source": [
    "## 1.4. Analysis - Part 2\n",
    "\n",
    "For our final analysis, let's examine the **overall** percentage of people who recommend each restaurant:"
   ]
  },
  {
   "cell_type": "code",
   "execution_count": null,
   "metadata": {
    "deletable": false,
    "nbgrader": {
     "cell_type": "code",
     "checksum": "58ef86c17b1f99c9f5a05ec5930f6aaf",
     "grade": false,
     "grade_id": "cell-76c29af59adb8ed8",
     "locked": false,
     "schema_version": 3,
     "solution": true
    }
   },
   "outputs": [],
   "source": [
    "black_dog_recommended_percent = ...\n",
    "black_dog_recommended_percent\n"
   ]
  },
  {
   "cell_type": "code",
   "execution_count": null,
   "metadata": {
    "deletable": false,
    "editable": false,
    "nbgrader": {
     "cell_type": "code",
     "checksum": "c859d112b16269231c8a5bda05b2c4f6",
     "grade": true,
     "grade_id": "cell-e9f12398cfd30bd5",
     "locked": true,
     "points": 1,
     "schema_version": 3,
     "solution": false
    }
   },
   "outputs": [],
   "source": [
    "## == TEST CASES for Puzzle 1.4 ==\n",
    "# - This read-only cell contains test cases for your previous cell.\n",
    "# - If this cell runs without any error our output, you PASSED all test cases!\n",
    "# - If this cell results in any errors, check your previous cell, make changes, and RE-RUN your code and then this cell.\n",
    "\n",
    "assert(black_dog_recommended_percent == 62.5), \"The percentage of Overall who recommended Black Dog does not appear to have been correctly calculated\"\n",
    "## == SUCCESS MESSAGE ==\n",
    "# You will only see this message (with the emoji showing) if you passed all test cases:\n",
    "tada = \"\\N{PARTY POPPER}\"\n",
    "print(f\"{tada} All tests passed! {tada}\")"
   ]
  },
  {
   "cell_type": "code",
   "execution_count": null,
   "metadata": {
    "deletable": false,
    "nbgrader": {
     "cell_type": "code",
     "checksum": "03161ff46e05dbc324f644987b34b325",
     "grade": false,
     "grade_id": "cell-e2051c256fd564b2",
     "locked": false,
     "schema_version": 3,
     "solution": true
    }
   },
   "outputs": [],
   "source": [
    "papa_dels_recommended_percent = ...\n",
    "papa_dels_recommended_percent\n"
   ]
  },
  {
   "cell_type": "code",
   "execution_count": null,
   "metadata": {
    "deletable": false,
    "editable": false,
    "nbgrader": {
     "cell_type": "code",
     "checksum": "d1b0ecd987b27b9de7b8b26ccff7d7ae",
     "grade": true,
     "grade_id": "cell-b93794d7ed4b3f58",
     "locked": true,
     "points": 0,
     "schema_version": 3,
     "solution": false
    }
   },
   "outputs": [],
   "source": [
    "## == TEST CASES for Puzzle 1.4 ==\n",
    "# - This read-only cell contains test cases for your previous cell.\n",
    "# - If this cell runs without any error our output, you PASSED all test cases!\n",
    "# - If this cell results in any errors, check your previous cell, make changes, and RE-RUN your code and then this cell.\n",
    "\n",
    "assert(papa_dels_recommended_percent == 100*(27/46)), \"The percentage of Overall who recommended Papa Dels does not appear to have been correctly calculated\"\n",
    "## == SUCCESS MESSAGE ==\n",
    "# You will only see this message (with the emoji showing) if you passed all test cases:\n",
    "tada = \"\\N{PARTY POPPER}\"\n",
    "print(f\"{tada} All tests passed! {tada}\")"
   ]
  },
  {
   "cell_type": "markdown",
   "metadata": {},
   "source": [
    "### Observe the Results\n",
    "\n",
    "Run the following cell to format all of your answers as a DataFrame:"
   ]
  },
  {
   "cell_type": "code",
   "execution_count": null,
   "metadata": {},
   "outputs": [],
   "source": [
    "pd.DataFrame( [\n",
    "    {'Female': black_dog_female_percent, 'Male': black_dog_male_percent, 'Overall': black_dog_recommended_percent },\n",
    "    {'Female': papa_dels_female_percent, 'Male': papa_dels_male_percent, 'Overall': papa_dels_recommended_percent },\n",
    "], index=['Black Dog', 'Papa Dels'] )"
   ]
  },
  {
   "cell_type": "markdown",
   "metadata": {},
   "source": [
    "❓ **Question** ❓: Should your homecoming date night be at Black Dog or Papa Dels?\n",
    "\n",
    "- Does \"Black Dog\" (Row #1) have higher values or \"Papa Dels\" (Row #2) have higher values for **Overall**?"
   ]
  },
  {
   "cell_type": "markdown",
   "metadata": {},
   "source": [
    "*Edit and replace this cell with your answer.*"
   ]
  },
  {
   "cell_type": "markdown",
   "metadata": {},
   "source": [
    "# Puzzle 2: Shoe Size vs Shoes Owned"
   ]
  },
  {
   "cell_type": "markdown",
   "metadata": {},
   "source": [
    "From the \"Hello\" dataset we created on the first day of class, we picked two random questions for us to explore:\n",
    "\n",
    "- What is your shoe size?\n",
    "- How many pairs of shoes do you have?"
   ]
  },
  {
   "cell_type": "markdown",
   "metadata": {},
   "source": [
    "## 2.1: Load the Dataset\n",
    "\n",
    "- You can find the \"Hello\" dataset here (make sure to log in with your @illinois.edu address to access it): https://docs.google.com/spreadsheets/d/1uS6OoVsaCNEDwi-ozOXJe7Vn08M-41k7W1cdAlwLIiY/edit#gid=0"
   ]
  },
  {
   "cell_type": "code",
   "execution_count": null,
   "metadata": {
    "deletable": false,
    "nbgrader": {
     "cell_type": "code",
     "checksum": "8a0639784ad62847880e93321cc50c62",
     "grade": false,
     "grade_id": "cell-a754c45cb34da497",
     "locked": false,
     "schema_version": 3,
     "solution": true
    }
   },
   "outputs": [],
   "source": [
    "# Read the hello dataset into a DataFrame\n",
    "df_hello = ...\n",
    "df_hello\n"
   ]
  },
  {
   "cell_type": "code",
   "execution_count": null,
   "metadata": {
    "deletable": false,
    "editable": false,
    "nbgrader": {
     "cell_type": "code",
     "checksum": "c096bcce62b2304bd9e87aff2ac93749",
     "grade": true,
     "grade_id": "cell-96c94f328cfd0876",
     "locked": true,
     "points": 0,
     "schema_version": 3,
     "solution": false
    }
   },
   "outputs": [],
   "source": [
    "## == TEST CASES for Puzzle 2.1 ==\n",
    "# - This read-only cell contains test cases for your previous cell.\n",
    "# - If this cell runs without any error our output, you PASSED all test cases!\n",
    "# - If this cell results in any errors, check you previous cell, make changes, and RE-RUN your code and then this cell.\n",
    "\n",
    "assert(len(df_hello) == 91), \"The dataframe does not appear to have correct dataset loaded\"\n",
    "\n",
    "## == SUCCESS MESSAGE ==\n",
    "# You will only see this message (with the emoji showing) if you passed all test cases:\n",
    "tada = \"\\N{PARTY POPPER}\"\n",
    "print(f\"{tada} All tests passed! {tada}\")"
   ]
  },
  {
   "cell_type": "markdown",
   "metadata": {},
   "source": [
    "## 2.2: Observation Subsets\n",
    "\n",
    "In this situation, let's define shoes that are strictly greater than size 9 to be \"large\" and shoes that less than or equal to size 9 are defined to be \"small\".\n",
    "\n",
    "Create two DataFrames that contain subsets of our data: one DataFrame that includes everyone who has a \"large\" shoe size and one DataFrame that includes everyone who has a \"small\" shoe size:"
   ]
  },
  {
   "cell_type": "code",
   "execution_count": null,
   "metadata": {
    "deletable": false,
    "nbgrader": {
     "cell_type": "code",
     "checksum": "5767e92db711f3db08c6eaf49b70a92a",
     "grade": false,
     "grade_id": "cell-8754c8095ea42040",
     "locked": false,
     "schema_version": 3,
     "solution": true
    }
   },
   "outputs": [],
   "source": [
    "df_large_size = ...\n",
    "df_large_size\n"
   ]
  },
  {
   "cell_type": "code",
   "execution_count": null,
   "metadata": {
    "deletable": false,
    "editable": false,
    "nbgrader": {
     "cell_type": "code",
     "checksum": "849c7fa439276e4c07bfebb807f137f4",
     "grade": true,
     "grade_id": "cell-729252c9fbc53aed",
     "locked": true,
     "points": 1,
     "schema_version": 3,
     "solution": false
    }
   },
   "outputs": [],
   "source": [
    "## == TEST CASES for Puzzle 2.2 ==\n",
    "# - This read-only cell contains test cases for your previous cell.\n",
    "# - If this cell runs without any error our output, you PASSED all test cases!\n",
    "# - If this cell results in any errors, check you previous cell, make changes, and RE-RUN your code and then this cell.\n",
    "\n",
    "assert(len(df_large_size) == 47), \"The dataframe does not appear to have been correct subset\"\n",
    "\n",
    "## == SUCCESS MESSAGE ==\n",
    "# You will only see this message (with the emoji showing) if you passed all test cases:\n",
    "tada = \"\\N{PARTY POPPER}\"\n",
    "print(f\"{tada} All tests passed! {tada}\")"
   ]
  },
  {
   "cell_type": "code",
   "execution_count": null,
   "metadata": {
    "deletable": false,
    "nbgrader": {
     "cell_type": "code",
     "checksum": "78f856d98eb637996a9017f1452959ba",
     "grade": false,
     "grade_id": "cell-b7ac40623aff2344",
     "locked": false,
     "schema_version": 3,
     "solution": true
    }
   },
   "outputs": [],
   "source": [
    "df_small_size = ...\n",
    "df_small_size\n",
    "\n"
   ]
  },
  {
   "cell_type": "code",
   "execution_count": null,
   "metadata": {
    "deletable": false,
    "editable": false,
    "nbgrader": {
     "cell_type": "code",
     "checksum": "fbcc130a46dc092319dcf07bc9d18431",
     "grade": true,
     "grade_id": "cell-3119e2c04a5d3f8d",
     "locked": true,
     "points": 1,
     "schema_version": 3,
     "solution": false
    }
   },
   "outputs": [],
   "source": [
    "## == TEST CASES for Puzzle 2.2 ==\n",
    "# - This read-only cell contains test cases for your previous cell.\n",
    "# - If this cell runs without any error our output, you PASSED all test cases!\n",
    "# - If this cell results in any errors, check you previous cell, make changes, and RE-RUN your code and then this cell.\n",
    "\n",
    "assert(len(df_small_size) == 44), \"The dataframe does not appear to have been correct subset\"\n",
    "## == SUCCESS MESSAGE ==\n",
    "# You will only see this message (with the emoji showing) if you passed all test cases:\n",
    "tada = \"\\N{PARTY POPPER}\"\n",
    "print(f\"{tada} All tests passed! {tada}\")"
   ]
  },
  {
   "cell_type": "markdown",
   "metadata": {},
   "source": [
    "## 2.3: Average Number of Pairs of Shoes\n",
    "\n",
    "Find the average number of pairs of shoes of each group:"
   ]
  },
  {
   "cell_type": "code",
   "execution_count": null,
   "metadata": {
    "deletable": false,
    "nbgrader": {
     "cell_type": "code",
     "checksum": "ff2cf8905a9dc2c3ef770cd2a940742a",
     "grade": false,
     "grade_id": "cell-e4b369fb53d3613d",
     "locked": false,
     "schema_version": 3,
     "solution": true
    }
   },
   "outputs": [],
   "source": [
    "large_avg_shoes = ...\n",
    "large_avg_shoes\n"
   ]
  },
  {
   "cell_type": "code",
   "execution_count": null,
   "metadata": {
    "deletable": false,
    "editable": false,
    "nbgrader": {
     "cell_type": "code",
     "checksum": "eae02c8aa0ae4064c85eb6f79df1f1a8",
     "grade": true,
     "grade_id": "cell-303a6192d564894f",
     "locked": true,
     "points": 1,
     "schema_version": 3,
     "solution": false
    }
   },
   "outputs": [],
   "source": [
    "## == TEST CASES for Puzzle 2.3 ==\n",
    "# - This read-only cell contains test cases for your previous cell.\n",
    "# - If this cell runs without any error our output, you PASSED all test cases!\n",
    "# - If this cell results in any errors, check you previous cell, make changes, and RE-RUN your code and then this cell.\n",
    "\n",
    "assert(large_avg_shoes == 362/47),  \"The average number of pairs of shoes in large shoe-size dataframe does not appear to seem correct. Make sure you are taking mean of the correct variable.\"\n",
    "## == SUCCESS MESSAGE ==\n",
    "# You will only see this message (with the emoji showing) if you passed all test cases:\n",
    "tada = \"\\N{PARTY POPPER}\"\n",
    "print(f\"{tada} All tests passed! {tada}\")"
   ]
  },
  {
   "cell_type": "code",
   "execution_count": null,
   "metadata": {
    "deletable": false,
    "nbgrader": {
     "cell_type": "code",
     "checksum": "123c369257028578febddebb1c520c2a",
     "grade": false,
     "grade_id": "cell-d16479eedeb50e9c",
     "locked": false,
     "schema_version": 3,
     "solution": true
    }
   },
   "outputs": [],
   "source": [
    "small_avg_shoes = ...\n",
    "small_avg_shoes\n"
   ]
  },
  {
   "cell_type": "code",
   "execution_count": null,
   "metadata": {
    "deletable": false,
    "editable": false,
    "nbgrader": {
     "cell_type": "code",
     "checksum": "bbcf6bfaa70ceb461e8f437f75cdf5f5",
     "grade": true,
     "grade_id": "cell-990a59a8df79bb00",
     "locked": true,
     "points": 1,
     "schema_version": 3,
     "solution": false
    }
   },
   "outputs": [],
   "source": [
    "## == TEST CASES for Puzzle 2.3 ==\n",
    "# - This read-only cell contains test cases for your previous cell.\n",
    "# - If this cell runs without any error our output, you PASSED all test cases!\n",
    "# - If this cell results in any errors, check you previous cell, make changes, and RE-RUN your code and then this cell.\n",
    "\n",
    "assert(small_avg_shoes == 503 / 44),  \"The average number of pairs of shoes in small shoe-size dataframe does not appear to seem correct. Make sure you are taking mean of the correct variable.\"\n",
    "## == SUCCESS MESSAGE ==\n",
    "# You will only see this message (with the emoji showing) if you passed all test cases:\n",
    "tada = \"\\N{PARTY POPPER}\"\n",
    "print(f\"{tada} All tests passed! {tada}\")"
   ]
  },
  {
   "cell_type": "markdown",
   "metadata": {},
   "source": [
    "## 2.4. Observations\n",
    "\n",
    "Answer the next two questions with 1-2 sentences each.  The cells after the question text are editable -- you should double-click and replace the text with your answer:"
   ]
  },
  {
   "cell_type": "markdown",
   "metadata": {},
   "source": [
    "### Q1: Is there a difference in the number of shoes owned between the two groups?"
   ]
  },
  {
   "cell_type": "markdown",
   "metadata": {},
   "source": [
    "*Edit and replace this cell with your answer.*"
   ]
  },
  {
   "cell_type": "markdown",
   "metadata": {},
   "source": [
    "### Q2: What might be some possible confounding variable in this result?"
   ]
  },
  {
   "cell_type": "markdown",
   "metadata": {},
   "source": [
    "*Edit and replace this cell with your answer.*"
   ]
  },
  {
   "cell_type": "markdown",
   "metadata": {},
   "source": [
    "# Finale!\n",
    "\n",
    "You're almost done -- congratulations!\n",
    "\n",
    "You need to do two more things:\n",
    "\n",
    "1. Save your work.  To do this, create a **notebook checkpoint** by using the menu within the notebook to go **File -> Save and Checkpoint**\n",
    "\n",
    "2. After you have saved and checkpointed, exit this notebook and return to the Data Science Discovery page on how to use git to turn this notebook into the course!"
   ]
  }
 ],
 "metadata": {
  "kernelspec": {
   "display_name": "Python 3",
   "language": "python",
   "name": "python3"
  },
  "language_info": {
   "codemirror_mode": {
    "name": "ipython",
    "version": 3
   },
   "file_extension": ".py",
   "mimetype": "text/x-python",
   "name": "python",
   "nbconvert_exporter": "python",
   "pygments_lexer": "ipython3",
   "version": "3.7.3"
  }
 },
 "nbformat": 4,
 "nbformat_minor": 2
}
