{
 "cells": [
  {
   "cell_type": "markdown",
   "metadata": {},
   "source": [
    "# EC Notebook for Week 2: Blocking and Conditionals\n",
    "\n",
    "This extra credit Python notebook will let you practice the material you saw in lecture!  Completing all parts of this notebook will earn +1 extra credit point to your grade in STAT 107!\n",
    "\n",
    "This notebook is worth +1 if turned in before 11:59pm on **Friday, Feb. 7**."
   ]
  },
  {
   "cell_type": "markdown",
   "metadata": {},
   "source": [
    "## 1. Loading pandas and importing data\n",
    "\n",
    "For this notebook, we will continue to use the \"Hello\" dataset introduced last lecture!\n",
    "\n",
    "Using your @illinois.edu address, download the dataset as a CSV and **make sure to save or move it to the same directory as this notebook**: https://docs.google.com/spreadsheets/d/1uS6OoVsaCNEDwi-ozOXJe7Vn08M-41k7W1cdAlwLIiY/edit?usp=sharing\n",
    "\n",
    "Use the following cell to load the pandas library and read the DataSet as a DataFrame:"
   ]
  },
  {
   "cell_type": "code",
   "execution_count": null,
   "metadata": {
    "deletable": false,
    "nbgrader": {
     "cell_type": "code",
     "checksum": "05ecc3320cf00f7a1ea3562400e8fd6c",
     "grade": false,
     "grade_id": "cell-7543f21c9c406c26",
     "locked": false,
     "schema_version": 3,
     "solution": true,
     "task": false
    }
   },
   "outputs": [],
   "source": [
    "...\n"
   ]
  },
  {
   "cell_type": "markdown",
   "metadata": {},
   "source": [
    "## 2. Creating a Control Group\n",
    "\n",
    "In lecture, we worked out a puzzle.  From the lecture handout:\n",
    "\n",
    "> Use Python to create a control group of 20 students, using blocking to control for the influence we suspect having more than 1 siblings might have.  Make sure you have an equal number of students with 0 or 1 sibling and an equal number of students with 2 or more siblings.\n",
    "\n",
    "We will complete the code in a notebook this in four separate steps to get practice on each part."
   ]
  },
  {
   "cell_type": "markdown",
   "metadata": {},
   "source": [
    "### 2.1: Sibling Block #1 -- Zero or One Siblings\n",
    "\n",
    "Creating a DataFrame that contains all students with 0 or 1 siblings and call it `block1`:"
   ]
  },
  {
   "cell_type": "code",
   "execution_count": null,
   "metadata": {
    "deletable": false,
    "nbgrader": {
     "cell_type": "code",
     "checksum": "4b7fbe33e2bcf42bc0fb8fa72345d428",
     "grade": false,
     "grade_id": "cell-42b76d09e5d1ea90",
     "locked": false,
     "schema_version": 3,
     "solution": true,
     "task": false
    }
   },
   "outputs": [],
   "source": [
    "block1 = ...\n",
    "\n",
    "\n",
    "\n",
    "# Show a few rows to check if the block has the data we expect:\n",
    "block1.sample(n=3)"
   ]
  },
  {
   "cell_type": "markdown",
   "metadata": {},
   "source": [
    "### 2.2: Sibling Block #2 -- Two or More Siblings\n",
    "\n",
    "Create a DataFrame that contains all students with 2 or more siblings and call it `block2`:"
   ]
  },
  {
   "cell_type": "code",
   "execution_count": null,
   "metadata": {
    "deletable": false,
    "nbgrader": {
     "cell_type": "code",
     "checksum": "d91cecaf0b237590fcc3bf13c270dd4f",
     "grade": false,
     "grade_id": "cell-ad3eef9bc1500907",
     "locked": false,
     "schema_version": 3,
     "solution": true,
     "task": false
    }
   },
   "outputs": [],
   "source": [
    "block2 = ...\n",
    "\n",
    "\n",
    "# Show a few rows to check if the block has the data we expect:\n",
    "block2.sample(n=3)"
   ]
  },
  {
   "cell_type": "markdown",
   "metadata": {},
   "source": [
    "### 2.3: Selecting equal sized groups from block1 and block2\n",
    "\n",
    "**Randomly** select an equal number of students from each of `block1` and `block2` and store them in `control1` and `control2`.  We will combine both groups to make the full control group:"
   ]
  },
  {
   "cell_type": "code",
   "execution_count": null,
   "metadata": {
    "deletable": false,
    "nbgrader": {
     "cell_type": "code",
     "checksum": "b22f19c328932b886bf0b047d218d3fd",
     "grade": false,
     "grade_id": "cell-71025862479973ff",
     "locked": false,
     "schema_version": 3,
     "solution": true,
     "task": false
    }
   },
   "outputs": [],
   "source": [
    "control1 = ...\n",
    "\n",
    "\n",
    "# Show a few rows to check if the control group has the data we expect:\n",
    "control1.sample(n=3)"
   ]
  },
  {
   "cell_type": "code",
   "execution_count": null,
   "metadata": {
    "deletable": false,
    "nbgrader": {
     "cell_type": "code",
     "checksum": "9ffb36c3dae2cbb44ee0ab354971c0a9",
     "grade": false,
     "grade_id": "cell-0a28afaa87e1114d",
     "locked": false,
     "schema_version": 3,
     "solution": true,
     "task": false
    }
   },
   "outputs": [],
   "source": [
    "control2 = ...\n",
    "\n",
    "\n",
    "\n",
    "# Show a few rows to check if the control group has the data we expect:\n",
    "control2.sample(n=3)"
   ]
  },
  {
   "cell_type": "markdown",
   "metadata": {},
   "source": [
    "#### 2.4. [CHALLENGE!] -- Combine the two sub-groups into a single control group\n",
    "\n",
    "Use the following code to merge the contents of `control1` and `control2` together into one large group called `control`.  To do this, you will need to use the `pd.concat` command that you can **find on your cheat sheet**."
   ]
  },
  {
   "cell_type": "code",
   "execution_count": null,
   "metadata": {
    "deletable": false,
    "nbgrader": {
     "cell_type": "code",
     "checksum": "87fc4ea2b94c3eff47f52115b0babf2d",
     "grade": false,
     "grade_id": "cell-f5b1dce206b67c5a",
     "locked": false,
     "schema_version": 3,
     "solution": true,
     "task": false
    }
   },
   "outputs": [],
   "source": [
    "control = ...\n",
    "\n",
    "\n",
    "\n",
    "# Show the full control group (it should have 20 rows, mixed number of siblings)\n",
    "control"
   ]
  },
  {
   "cell_type": "code",
   "execution_count": null,
   "metadata": {
    "deletable": false,
    "editable": false,
    "nbgrader": {
     "cell_type": "code",
     "checksum": "7e121c7601f43a688febb7a71242f73c",
     "grade": true,
     "grade_id": "cell-78cde41a46e52f67",
     "locked": true,
     "points": 0,
     "schema_version": 3,
     "solution": false,
     "task": false
    }
   },
   "outputs": [],
   "source": [
    "## == TEST CASES for Puzzle 2 ==\n",
    "# - This read-only cell contains test cases for your previous cells.\n",
    "# - If this cell runs without any error our output, you PASSED all test cases!\n",
    "# - If this cell results in any errors, check you previous cell, make changes, and RE-RUN your code and then this cell.\n",
    "\n",
    "assert( len(control) == 20 ), \"Your control group must only have 20 courses in it.\"\n",
    "assert( len(control[control.Siblings < 2] ) == 10 ), \"Your control group must only have 10 people with 0-1 siblings in it.\"\n",
    "assert( len(control[control.Siblings >= 2] ) == 10 ), \"Your control group must only have 10 people with 2+ siblings in it.\"\n",
    "\n",
    "\n",
    "## == SUCCESS MESSAGE ==\n",
    "# You will only see this message (with the emoji showing) if you passed all test cases:\n",
    "\n",
    "tada = \"\\N{PARTY POPPER}\"\n",
    "print(f\"{tada} All tests passed! {tada}\")"
   ]
  },
  {
   "cell_type": "markdown",
   "metadata": {},
   "source": [
    "## Submit Your Work!\n",
    "\n",
    "Make sure to **Save and Checkpoint** your notebook, exit Jupyter, and submit your work! :)"
   ]
  }
 ],
 "metadata": {
  "kernelspec": {
   "display_name": "Python 3",
   "language": "python",
   "name": "python3"
  },
  "language_info": {
   "codemirror_mode": {
    "name": "ipython",
    "version": 3
   },
   "file_extension": ".py",
   "mimetype": "text/x-python",
   "name": "python",
   "nbconvert_exporter": "python",
   "pygments_lexer": "ipython3",
   "version": "3.7.1"
  }
 },
 "nbformat": 4,
 "nbformat_minor": 2
}
