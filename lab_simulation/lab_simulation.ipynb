{
 "cells": [
  {
   "cell_type": "markdown",
   "metadata": {},
   "source": [
    "# lab_simulation : Into the Matrix\n",
    "\n",
    "As you learned in lecture, **simulation** is an extremely powerful tool to estimate the probability of an event occurring by simulating many observations an event and determining the successful observations.\n",
    "\n",
    "This lab will have you build increasingly interesting simulations and find the results."
   ]
  },
  {
   "cell_type": "markdown",
   "metadata": {},
   "source": [
    "## Simulation 0: Your Groups! \n",
    "Edit the next Python cell to add information about who you're working within your lab section:"
   ]
  },
  {
   "cell_type": "code",
   "execution_count": null,
   "metadata": {},
   "outputs": [],
   "source": [
    "# First, meet your CAs and TA if you haven't already!\n",
    "# ...first name is enough, we'll know who they are! :)\n",
    "ta_name = \"Anku\"\n",
    "ca1_name = \"Dean\"\n",
    "ca2_name = \"Jasmine\"\n",
    "\n",
    "\n",
    "# Also, make sure to meet your team for this lab! Find out their name, what major they're in,\n",
    "# and learn something new about them that you never knew before!\n",
    "partner1_name = \"Bakhtiar\"\n",
    "partner1_major = \"ECON\"\n",
    "partner1_qotd_answer = \"fire\"\n",
    "\n",
    "partner2_name = \"Gracynn\"\n",
    "partner2_major = \"Math\"\n",
    "partner2_qotd_answer = \"water\"\n",
    "\n",
    "partner3_name = \"Ishaan\"\n",
    "partner3_major = \"CHEM E\"\n",
    "partner3_qotd_answer = \"WIND\"\n",
    "\n",
    "partner4_name = \"Cameron\"\n",
    "partner4_major = \"Econometrics\"\n",
    "partner4_qotd_answer = \"Water\"\n",
    "\n"
   ]
  },
  {
   "cell_type": "markdown",
   "metadata": {},
   "source": [
    "## Simulation 1: Pre-Quiz Dice Rolls\n",
    "\n",
    "The pre-quiz question that was asked by Karle and Wade in lecture was as follows:\n",
    "\n",
    "> You roll two different fair six-sided dice at the same time.  One die is colored blue, one is colored red.  What is the probability that the blue die lands on 4 or the red die lands on 2?\n",
    "\n",
    "Simulate the above problem 1,000 times and storing your observations of the value of the red die and blue die into `df1`."
   ]
  },
  {
   "cell_type": "code",
   "execution_count": 3,
   "metadata": {
    "deletable": false,
    "nbgrader": {
     "cell_type": "code",
     "checksum": "0f67361097c54a7210771b3373117c1d",
     "grade": false,
     "grade_id": "cell-de10356f8a7798ce",
     "locked": false,
     "schema_version": 3,
     "solution": true,
     "task": false
    }
   },
   "outputs": [],
   "source": [
    "# Step 0: Import any libraries you need:\n",
    "import pandas as pd\n",
    "import random \n",
    "\n",
    "\n"
   ]
  },
  {
   "cell_type": "code",
   "execution_count": 11,
   "metadata": {
    "deletable": false,
    "nbgrader": {
     "cell_type": "code",
     "checksum": "13f2de1f32547f9e2739488f760471d5",
     "grade": false,
     "grade_id": "cell-c93866d5164aa8aa",
     "locked": false,
     "schema_version": 3,
     "solution": true,
     "task": false
    }
   },
   "outputs": [
    {
     "data": {
      "text/html": [
       "<div>\n",
       "<style scoped>\n",
       "    .dataframe tbody tr th:only-of-type {\n",
       "        vertical-align: middle;\n",
       "    }\n",
       "\n",
       "    .dataframe tbody tr th {\n",
       "        vertical-align: top;\n",
       "    }\n",
       "\n",
       "    .dataframe thead th {\n",
       "        text-align: right;\n",
       "    }\n",
       "</style>\n",
       "<table border=\"1\" class=\"dataframe\">\n",
       "  <thead>\n",
       "    <tr style=\"text-align: right;\">\n",
       "      <th></th>\n",
       "      <th>blue</th>\n",
       "      <th>red</th>\n",
       "    </tr>\n",
       "  </thead>\n",
       "  <tbody>\n",
       "    <tr>\n",
       "      <th>241</th>\n",
       "      <td>4</td>\n",
       "      <td>4</td>\n",
       "    </tr>\n",
       "    <tr>\n",
       "      <th>142</th>\n",
       "      <td>1</td>\n",
       "      <td>4</td>\n",
       "    </tr>\n",
       "    <tr>\n",
       "      <th>586</th>\n",
       "      <td>5</td>\n",
       "      <td>2</td>\n",
       "    </tr>\n",
       "    <tr>\n",
       "      <th>277</th>\n",
       "      <td>2</td>\n",
       "      <td>3</td>\n",
       "    </tr>\n",
       "    <tr>\n",
       "      <th>624</th>\n",
       "      <td>3</td>\n",
       "      <td>6</td>\n",
       "    </tr>\n",
       "  </tbody>\n",
       "</table>\n",
       "</div>"
      ],
      "text/plain": [
       "     blue  red\n",
       "241     4    4\n",
       "142     1    4\n",
       "586     5    2\n",
       "277     2    3\n",
       "624     3    6"
      ]
     },
     "execution_count": 11,
     "metadata": {},
     "output_type": "execute_result"
    }
   ],
   "source": [
    "\n",
    "# Step 1: Always start with an empty list to store our simulation data:\n",
    "data = []\n",
    "\n",
    "# Step 2: Write the simulation inside of a for-loop\n",
    "for i in range(1000):\n",
    "    blue = random.randint(1,6)\n",
    "    red = random.randint(1,6)\n",
    "    d = { \"blue\": blue, \"red\": red}\n",
    "    data.append(d)\n",
    "    \n",
    "# Step 3: Store the simulation data into a DataFrame\n",
    "df1 = pd.DataFrame(data)\n",
    "\n",
    "\n",
    "\n",
    "# ...and show a few random rows:\n",
    "df1.sample(5)"
   ]
  },
  {
   "cell_type": "markdown",
   "metadata": {},
   "source": [
    "### Puzzle 1.1: Probability Calculations\n",
    "\n",
    "Find our estimation of the probability that the blue die lands on 4 or the red die lands on 2?\n",
    "\n",
    "- To do this, create a `df1_success` DataFrame with only the rows that were successful.\n",
    "- Use `df1` and `df1_success` to find the probability of success using your simulation and store that value in `P_puzzle1` below."
   ]
  },
  {
   "cell_type": "code",
   "execution_count": 6,
   "metadata": {
    "deletable": false,
    "nbgrader": {
     "cell_type": "code",
     "checksum": "148883809830c12ee5361aabfd1e5965",
     "grade": false,
     "grade_id": "cell-574832866d787b88",
     "locked": false,
     "schema_version": 3,
     "solution": true,
     "task": false
    }
   },
   "outputs": [
    {
     "data": {
      "text/html": [
       "<div>\n",
       "<style scoped>\n",
       "    .dataframe tbody tr th:only-of-type {\n",
       "        vertical-align: middle;\n",
       "    }\n",
       "\n",
       "    .dataframe tbody tr th {\n",
       "        vertical-align: top;\n",
       "    }\n",
       "\n",
       "    .dataframe thead th {\n",
       "        text-align: right;\n",
       "    }\n",
       "</style>\n",
       "<table border=\"1\" class=\"dataframe\">\n",
       "  <thead>\n",
       "    <tr style=\"text-align: right;\">\n",
       "      <th></th>\n",
       "      <th>blue</th>\n",
       "      <th>red</th>\n",
       "    </tr>\n",
       "  </thead>\n",
       "  <tbody>\n",
       "    <tr>\n",
       "      <th>317</th>\n",
       "      <td>2</td>\n",
       "      <td>2</td>\n",
       "    </tr>\n",
       "    <tr>\n",
       "      <th>142</th>\n",
       "      <td>2</td>\n",
       "      <td>2</td>\n",
       "    </tr>\n",
       "    <tr>\n",
       "      <th>450</th>\n",
       "      <td>2</td>\n",
       "      <td>2</td>\n",
       "    </tr>\n",
       "    <tr>\n",
       "      <th>860</th>\n",
       "      <td>2</td>\n",
       "      <td>2</td>\n",
       "    </tr>\n",
       "    <tr>\n",
       "      <th>688</th>\n",
       "      <td>2</td>\n",
       "      <td>2</td>\n",
       "    </tr>\n",
       "  </tbody>\n",
       "</table>\n",
       "</div>"
      ],
      "text/plain": [
       "     blue  red\n",
       "317     2    2\n",
       "142     2    2\n",
       "450     2    2\n",
       "860     2    2\n",
       "688     2    2"
      ]
     },
     "execution_count": 6,
     "metadata": {},
     "output_type": "execute_result"
    }
   ],
   "source": [
    "# Create a DataFrame that contains only the subset of observations that were successful:\n",
    "df1_success = df1[ (df1[\"blue\"] == 4) | (df1[\"red\"] == 2)]\n",
    "\n",
    "\n",
    "# ...and show a few random rows:\n",
    "df1_success.sample(5)"
   ]
  },
  {
   "cell_type": "code",
   "execution_count": 39,
   "metadata": {
    "deletable": false,
    "nbgrader": {
     "cell_type": "code",
     "checksum": "729fc9879d83a111dccf56faf69bf511",
     "grade": false,
     "grade_id": "cell-5144eadebe059446",
     "locked": false,
     "schema_version": 3,
     "solution": true,
     "task": false
    }
   },
   "outputs": [
    {
     "data": {
      "text/plain": [
       "0.324"
      ]
     },
     "execution_count": 39,
     "metadata": {},
     "output_type": "execute_result"
    }
   ],
   "source": [
    "# Find the value of P_puzzle1, the probability of success:\n",
    "P_puzzle1 = len(df1_success) / len(df1)\n",
    "P_puzzle1\n",
    "\n"
   ]
  },
  {
   "cell_type": "markdown",
   "metadata": {},
   "source": [
    "### Puzzle 1.2: Finding the Exact Answer\n",
    "\n",
    "This simulation simulated a pretty easy example that you can find an exact answer to!  Using the probability learned from lecture, calculate `P_puzzle1_exact`, the **exact** probability of the blue die landing on a 4 **or** the red die landing on a 2. \n",
    "\n",
    "- No python code is **required** for this question, we just need you to store the answer in `P_puzzle1_exact`."
   ]
  },
  {
   "cell_type": "code",
   "execution_count": 41,
   "metadata": {
    "deletable": false,
    "nbgrader": {
     "cell_type": "code",
     "checksum": "96855c989056b85489821ec3bd0b5549",
     "grade": false,
     "grade_id": "cell-a28ce929e8600774",
     "locked": false,
     "schema_version": 3,
     "solution": true,
     "task": false
    }
   },
   "outputs": [
    {
     "data": {
      "text/plain": [
       "0.3055555555555555"
      ]
     },
     "execution_count": 41,
     "metadata": {},
     "output_type": "execute_result"
    }
   ],
   "source": [
    "P_puzzle1_exact = (1/6) + (1/6) - (1/36)\n",
    "P_puzzle1_exact\n",
    "\n"
   ]
  },
  {
   "cell_type": "markdown",
   "metadata": {},
   "source": [
    "### Puzzle 1.3: Finding the Error\n",
    "\n",
    "The **error** in a simulation is the difference between the exact value and value found from the simulation.  Subtract the estimated value (`P_puzzle1`) from the exact value (`P_puzzle1_exact`) to find the total error and store it in `puzzle1_error`."
   ]
  },
  {
   "cell_type": "code",
   "execution_count": 43,
   "metadata": {
    "deletable": false,
    "nbgrader": {
     "cell_type": "code",
     "checksum": "5161c109f7e932ddbe30d7beb300f849",
     "grade": false,
     "grade_id": "cell-34b43bb91da6a5d5",
     "locked": false,
     "schema_version": 3,
     "solution": true,
     "task": false
    }
   },
   "outputs": [
    {
     "data": {
      "text/plain": [
       "0.018444444444444485"
      ]
     },
     "execution_count": 43,
     "metadata": {},
     "output_type": "execute_result"
    }
   ],
   "source": [
    "puzzle1_error = P_puzzle1 - P_puzzle1_exact\n",
    "puzzle1_error\n",
    "\n"
   ]
  },
  {
   "cell_type": "code",
   "execution_count": 44,
   "metadata": {
    "deletable": false,
    "editable": false,
    "nbgrader": {
     "cell_type": "code",
     "checksum": "ad1f8ea656e180c3bc31832b8306e585",
     "grade": true,
     "grade_id": "cell-2572755404d50c65",
     "locked": true,
     "points": 1,
     "schema_version": 3,
     "solution": false,
     "task": false
    }
   },
   "outputs": [
    {
     "name": "stdout",
     "output_type": "stream",
     "text": [
      "🎉 All tests passed! 🎉\n",
      "\n",
      "Simulated Probability: P(blue == 4 | red == 2) = 32.4%\n",
      "    Exact Probability:                         = 30.56%\n"
     ]
    }
   ],
   "source": [
    "## == TEST CASES for Simulation 1 ==\n",
    "# - This read-only cell contains test cases for your previous cell.\n",
    "# - If this cell runs without any error our output, you PASSED all test cases!\n",
    "# - If this cell results in any errors, check you previous cell, make changes, and RE-RUN your code and then this cell.\n",
    "\n",
    "assert(len(df1) == 1000), \"Make sure your df1 has exactly 1,000 observations\"\n",
    "assert(len(df1_success) < 1000), \"Make sure your df1_success only has successes\"\n",
    "assert(P_puzzle1 > 0 and P_puzzle1 < 1), \"Make sure your P_puzzle1 is a probability of success\"\n",
    "assert(round(P_puzzle1_exact, 3) == 0.306), \"Make sure your P_puzzle1_exact contains the exact probability of success\"\n",
    "assert(puzzle1_error < 1), \"Make sure to calculate the error by subtraction\"\n",
    "\n",
    "## == SUCCESS MESSAGE ==\n",
    "# You will only see this message (with the emoji showing) if you passed all test cases:\n",
    "tada = \"\\N{PARTY POPPER}\"\n",
    "print(f\"{tada} All tests passed! {tada}\")\n",
    "print()\n",
    "print(f\"Simulated Probability: P(blue == 4 | red == 2) = {round(100 * P_puzzle1, 2)}%\")\n",
    "print(f\"    Exact Probability:                         = {round(100 * P_puzzle1_exact, 2)}%\")"
   ]
  },
  {
   "cell_type": "markdown",
   "metadata": {},
   "source": [
    "## Simulation 2: Rolling Three Die\n",
    "\n",
    "Let's add another die into the mix.  Suppose we roll three dice: a **white**, a **red**, and a **blue** die.\n",
    "\n",
    "Write a 1,000-run simulation of that event and store the observations in `df2`:"
   ]
  },
  {
   "cell_type": "code",
   "execution_count": 46,
   "metadata": {
    "deletable": false,
    "nbgrader": {
     "cell_type": "code",
     "checksum": "6cb4c60ef04ad189ded83d0d42e67b1f",
     "grade": false,
     "grade_id": "cell-c42efbf1ba47dcab",
     "locked": false,
     "schema_version": 3,
     "solution": true,
     "task": false
    }
   },
   "outputs": [
    {
     "data": {
      "text/html": [
       "<div>\n",
       "<style scoped>\n",
       "    .dataframe tbody tr th:only-of-type {\n",
       "        vertical-align: middle;\n",
       "    }\n",
       "\n",
       "    .dataframe tbody tr th {\n",
       "        vertical-align: top;\n",
       "    }\n",
       "\n",
       "    .dataframe thead th {\n",
       "        text-align: right;\n",
       "    }\n",
       "</style>\n",
       "<table border=\"1\" class=\"dataframe\">\n",
       "  <thead>\n",
       "    <tr style=\"text-align: right;\">\n",
       "      <th></th>\n",
       "      <th>blue</th>\n",
       "      <th>red</th>\n",
       "      <th>white</th>\n",
       "    </tr>\n",
       "  </thead>\n",
       "  <tbody>\n",
       "    <tr>\n",
       "      <th>806</th>\n",
       "      <td>3</td>\n",
       "      <td>4</td>\n",
       "      <td>3</td>\n",
       "    </tr>\n",
       "    <tr>\n",
       "      <th>100</th>\n",
       "      <td>4</td>\n",
       "      <td>1</td>\n",
       "      <td>3</td>\n",
       "    </tr>\n",
       "    <tr>\n",
       "      <th>610</th>\n",
       "      <td>3</td>\n",
       "      <td>1</td>\n",
       "      <td>6</td>\n",
       "    </tr>\n",
       "    <tr>\n",
       "      <th>762</th>\n",
       "      <td>5</td>\n",
       "      <td>1</td>\n",
       "      <td>5</td>\n",
       "    </tr>\n",
       "    <tr>\n",
       "      <th>130</th>\n",
       "      <td>2</td>\n",
       "      <td>6</td>\n",
       "      <td>6</td>\n",
       "    </tr>\n",
       "  </tbody>\n",
       "</table>\n",
       "</div>"
      ],
      "text/plain": [
       "     blue  red  white\n",
       "806     3    4      3\n",
       "100     4    1      3\n",
       "610     3    1      6\n",
       "762     5    1      5\n",
       "130     2    6      6"
      ]
     },
     "execution_count": 46,
     "metadata": {},
     "output_type": "execute_result"
    }
   ],
   "source": [
    "# Step 1: Always start with an empty list to store our simulation data:\n",
    "data = []\n",
    "\n",
    "# Step 2: Write the simulation inside of a for-loop\n",
    "for i in range(1000):\n",
    "    blue= random.randint(1,6)\n",
    "    red = random.randint(1,6)\n",
    "    white = random.randint(1,6)\n",
    "    d = { \"blue\": blue, \"red\": red, \"white\": white}\n",
    "    data.append(d)\n",
    "    \n",
    "# Step 3: Store the simulation data into a DataFrame\n",
    "df2 = pd.DataFrame(data)\n",
    "\n",
    "\n",
    "\n",
    "# ...and show a few random rows:\n",
    "df2.sample(5)"
   ]
  },
  {
   "cell_type": "markdown",
   "metadata": {},
   "source": [
    "### Puzzle 2.1: Probability Calculations\n",
    "\n",
    "Find our estimation of the probability that the **sum of all three die** is equal to exactly 9.\n",
    "\n",
    "- To do this, create a `df2_success` DataFrame with only the rows that were successful.\n",
    "- Store our estimation of the probability of success in `P_puzzle2` below."
   ]
  },
  {
   "cell_type": "code",
   "execution_count": 49,
   "metadata": {
    "deletable": false,
    "nbgrader": {
     "cell_type": "code",
     "checksum": "b216342596e589f5f9a850ffcfe81b13",
     "grade": false,
     "grade_id": "cell-648b4ad7ce37646c",
     "locked": false,
     "schema_version": 3,
     "solution": true,
     "task": false
    }
   },
   "outputs": [
    {
     "data": {
      "text/html": [
       "<div>\n",
       "<style scoped>\n",
       "    .dataframe tbody tr th:only-of-type {\n",
       "        vertical-align: middle;\n",
       "    }\n",
       "\n",
       "    .dataframe tbody tr th {\n",
       "        vertical-align: top;\n",
       "    }\n",
       "\n",
       "    .dataframe thead th {\n",
       "        text-align: right;\n",
       "    }\n",
       "</style>\n",
       "<table border=\"1\" class=\"dataframe\">\n",
       "  <thead>\n",
       "    <tr style=\"text-align: right;\">\n",
       "      <th></th>\n",
       "      <th>blue</th>\n",
       "      <th>red</th>\n",
       "      <th>white</th>\n",
       "    </tr>\n",
       "  </thead>\n",
       "  <tbody>\n",
       "    <tr>\n",
       "      <th>494</th>\n",
       "      <td>2</td>\n",
       "      <td>3</td>\n",
       "      <td>4</td>\n",
       "    </tr>\n",
       "    <tr>\n",
       "      <th>654</th>\n",
       "      <td>2</td>\n",
       "      <td>2</td>\n",
       "      <td>5</td>\n",
       "    </tr>\n",
       "    <tr>\n",
       "      <th>765</th>\n",
       "      <td>3</td>\n",
       "      <td>3</td>\n",
       "      <td>3</td>\n",
       "    </tr>\n",
       "    <tr>\n",
       "      <th>545</th>\n",
       "      <td>3</td>\n",
       "      <td>1</td>\n",
       "      <td>5</td>\n",
       "    </tr>\n",
       "    <tr>\n",
       "      <th>343</th>\n",
       "      <td>2</td>\n",
       "      <td>4</td>\n",
       "      <td>3</td>\n",
       "    </tr>\n",
       "  </tbody>\n",
       "</table>\n",
       "</div>"
      ],
      "text/plain": [
       "     blue  red  white\n",
       "494     2    3      4\n",
       "654     2    2      5\n",
       "765     3    3      3\n",
       "545     3    1      5\n",
       "343     2    4      3"
      ]
     },
     "execution_count": 49,
     "metadata": {},
     "output_type": "execute_result"
    }
   ],
   "source": [
    "# Create a DataFrame that contains only the subset of observations that were successful:\n",
    "df2_success = df2[ (df2[\"red\"]) + (df2[\"white\"]) + (df2[\"blue\"]) == 9]\n",
    "\n",
    "\n",
    "\n",
    "# ...and show a few random rows:\n",
    "df2_success.sample(5)"
   ]
  },
  {
   "cell_type": "code",
   "execution_count": 50,
   "metadata": {
    "deletable": false,
    "nbgrader": {
     "cell_type": "code",
     "checksum": "be85e8bdf1428fec4afbc899e4e14e8a",
     "grade": false,
     "grade_id": "cell-b16fd8d9c98834ef",
     "locked": false,
     "schema_version": 3,
     "solution": true,
     "task": false
    }
   },
   "outputs": [
    {
     "data": {
      "text/plain": [
       "0.1"
      ]
     },
     "execution_count": 50,
     "metadata": {},
     "output_type": "execute_result"
    }
   ],
   "source": [
    "# Find the value of P_puzzle2, the probability of success:\n",
    "P_puzzle2 = len(df2_success) / len(df2)\n",
    "P_puzzle2\n",
    "\n"
   ]
  },
  {
   "cell_type": "code",
   "execution_count": 51,
   "metadata": {
    "deletable": false,
    "editable": false,
    "nbgrader": {
     "cell_type": "code",
     "checksum": "cf6743f2d73c0d2bd3a24795326db9a9",
     "grade": true,
     "grade_id": "cell-571231fcdfa9de08",
     "locked": true,
     "points": 1,
     "schema_version": 3,
     "solution": false,
     "task": false
    }
   },
   "outputs": [
    {
     "name": "stdout",
     "output_type": "stream",
     "text": [
      "🎉 All tests passed! 🎉\n"
     ]
    }
   ],
   "source": [
    "## == TEST CASES for Simulation 2 ==\n",
    "# - This read-only cell contains test cases for your previous cell.\n",
    "# - If this cell runs without any error our output, you PASSED all test cases!\n",
    "# - If this cell results in any errors, check you previous cell, make changes, and RE-RUN your code and then this cell.\n",
    "\n",
    "assert(len(df2) == 1000), \"Make sure your df2 has exactly 1,000 observations\"\n",
    "assert(len(df2_success) < 1000), \"Make sure your df2_success only has successes\"\n",
    "assert(P_puzzle2 > 0 and P_puzzle2 < 1), \"Make sure your P_puzzle2 is a probability of success\"\n",
    "\n",
    "## == SUCCESS MESSAGE ==\n",
    "# You will only see this message (with the emoji showing) if you passed all test cases:\n",
    "tada = \"\\N{PARTY POPPER}\"\n",
    "print(f\"{tada} All tests passed! {tada}\")"
   ]
  },
  {
   "cell_type": "markdown",
   "metadata": {},
   "source": [
    "## Simulation 3: Fliping Four Coins\n",
    "\n",
    "Supoose we flip **four coins**, one coin at a time, one after another.  Each coin has two sides, \"Heads\" and \"Tails\".\n",
    "\n",
    "Write a simulation of that event and store the observations in `df3` and run the simulation **50,000** times:"
   ]
  },
  {
   "cell_type": "code",
   "execution_count": 70,
   "metadata": {
    "deletable": false,
    "nbgrader": {
     "cell_type": "code",
     "checksum": "4105f13b564d227d3e41ffeefe8459ff",
     "grade": false,
     "grade_id": "cell-da32a7ecb4863a7f",
     "locked": false,
     "schema_version": 3,
     "solution": true,
     "task": false
    }
   },
   "outputs": [
    {
     "data": {
      "text/html": [
       "<div>\n",
       "<style scoped>\n",
       "    .dataframe tbody tr th:only-of-type {\n",
       "        vertical-align: middle;\n",
       "    }\n",
       "\n",
       "    .dataframe tbody tr th {\n",
       "        vertical-align: top;\n",
       "    }\n",
       "\n",
       "    .dataframe thead th {\n",
       "        text-align: right;\n",
       "    }\n",
       "</style>\n",
       "<table border=\"1\" class=\"dataframe\">\n",
       "  <thead>\n",
       "    <tr style=\"text-align: right;\">\n",
       "      <th></th>\n",
       "      <th>flip1</th>\n",
       "      <th>flip2</th>\n",
       "      <th>flip3</th>\n",
       "      <th>flip4</th>\n",
       "    </tr>\n",
       "  </thead>\n",
       "  <tbody>\n",
       "    <tr>\n",
       "      <th>11239</th>\n",
       "      <td>1</td>\n",
       "      <td>2</td>\n",
       "      <td>1</td>\n",
       "      <td>1</td>\n",
       "    </tr>\n",
       "    <tr>\n",
       "      <th>42692</th>\n",
       "      <td>2</td>\n",
       "      <td>1</td>\n",
       "      <td>1</td>\n",
       "      <td>1</td>\n",
       "    </tr>\n",
       "    <tr>\n",
       "      <th>38821</th>\n",
       "      <td>2</td>\n",
       "      <td>2</td>\n",
       "      <td>2</td>\n",
       "      <td>2</td>\n",
       "    </tr>\n",
       "    <tr>\n",
       "      <th>46208</th>\n",
       "      <td>2</td>\n",
       "      <td>2</td>\n",
       "      <td>1</td>\n",
       "      <td>1</td>\n",
       "    </tr>\n",
       "    <tr>\n",
       "      <th>44548</th>\n",
       "      <td>1</td>\n",
       "      <td>1</td>\n",
       "      <td>1</td>\n",
       "      <td>2</td>\n",
       "    </tr>\n",
       "  </tbody>\n",
       "</table>\n",
       "</div>"
      ],
      "text/plain": [
       "       flip1  flip2  flip3  flip4\n",
       "11239      1      2      1      1\n",
       "42692      2      1      1      1\n",
       "38821      2      2      2      2\n",
       "46208      2      2      1      1\n",
       "44548      1      1      1      2"
      ]
     },
     "execution_count": 70,
     "metadata": {},
     "output_type": "execute_result"
    }
   ],
   "source": [
    "# Refer to the previous simulations if needed, but write the code yourself (don't just copy/paste and edit it)!\n",
    "data = []\n",
    "for i in range (50000):\n",
    "    coin1 = random.randint(1,2)\n",
    "    coin2 = random.randint(1,2)\n",
    "    coin3 = random.randint(1,2)\n",
    "    coin4 = random.randint(1,2)\n",
    "    df3 = {\"flip1\": coin1, \"flip2\": coin2, \"flip3\": coin3, \"flip4\":coin4}\n",
    "    data.append(df3)\n",
    "\n",
    "\n",
    "\n",
    "df3 = pd.DataFrame(data)\n",
    "\n",
    "\n",
    "\n",
    "# ...and show a few random rows:\n",
    "df3.sample(5)"
   ]
  },
  {
   "cell_type": "markdown",
   "metadata": {},
   "source": [
    "### Puzzle 3.1: Probability Calculations\n",
    "\n",
    "Find our estimation of the probability that your first two coin flips were both heads and your last two coin flips were both tails?\n",
    "\n",
    "- To do this, create a `df3_success` DataFrame with only the rows that were successful.\n",
    "- Store our estimation of the probability of success in `P_puzzle3` below."
   ]
  },
  {
   "cell_type": "code",
   "execution_count": 71,
   "metadata": {
    "deletable": false,
    "nbgrader": {
     "cell_type": "code",
     "checksum": "558db8fffb4cba89d79468ea904d9442",
     "grade": false,
     "grade_id": "cell-762f8885cf1175bc",
     "locked": false,
     "schema_version": 3,
     "solution": true,
     "task": false
    }
   },
   "outputs": [
    {
     "data": {
      "text/html": [
       "<div>\n",
       "<style scoped>\n",
       "    .dataframe tbody tr th:only-of-type {\n",
       "        vertical-align: middle;\n",
       "    }\n",
       "\n",
       "    .dataframe tbody tr th {\n",
       "        vertical-align: top;\n",
       "    }\n",
       "\n",
       "    .dataframe thead th {\n",
       "        text-align: right;\n",
       "    }\n",
       "</style>\n",
       "<table border=\"1\" class=\"dataframe\">\n",
       "  <thead>\n",
       "    <tr style=\"text-align: right;\">\n",
       "      <th></th>\n",
       "      <th>flip1</th>\n",
       "      <th>flip2</th>\n",
       "      <th>flip3</th>\n",
       "      <th>flip4</th>\n",
       "    </tr>\n",
       "  </thead>\n",
       "  <tbody>\n",
       "    <tr>\n",
       "      <th>37340</th>\n",
       "      <td>1</td>\n",
       "      <td>1</td>\n",
       "      <td>2</td>\n",
       "      <td>2</td>\n",
       "    </tr>\n",
       "    <tr>\n",
       "      <th>48996</th>\n",
       "      <td>1</td>\n",
       "      <td>1</td>\n",
       "      <td>2</td>\n",
       "      <td>2</td>\n",
       "    </tr>\n",
       "    <tr>\n",
       "      <th>16986</th>\n",
       "      <td>1</td>\n",
       "      <td>1</td>\n",
       "      <td>2</td>\n",
       "      <td>2</td>\n",
       "    </tr>\n",
       "    <tr>\n",
       "      <th>12415</th>\n",
       "      <td>1</td>\n",
       "      <td>1</td>\n",
       "      <td>2</td>\n",
       "      <td>2</td>\n",
       "    </tr>\n",
       "    <tr>\n",
       "      <th>40233</th>\n",
       "      <td>1</td>\n",
       "      <td>1</td>\n",
       "      <td>2</td>\n",
       "      <td>2</td>\n",
       "    </tr>\n",
       "  </tbody>\n",
       "</table>\n",
       "</div>"
      ],
      "text/plain": [
       "       flip1  flip2  flip3  flip4\n",
       "37340      1      1      2      2\n",
       "48996      1      1      2      2\n",
       "16986      1      1      2      2\n",
       "12415      1      1      2      2\n",
       "40233      1      1      2      2"
      ]
     },
     "execution_count": 71,
     "metadata": {},
     "output_type": "execute_result"
    }
   ],
   "source": [
    "# Create a DataFrame that contains only the subset of observations that were successful:\n",
    "df3_success = df3[ (df3[\"flip1\"] == 1) & (df3[\"flip2\"] == 1) & (df3[\"flip3\"] == 2) & (df3[\"flip4\"] == 2)]\n",
    "\n",
    "\n",
    "\n",
    "# ...and show a few random rows:\n",
    "df3_success.sample(5)"
   ]
  },
  {
   "cell_type": "code",
   "execution_count": 72,
   "metadata": {
    "deletable": false,
    "nbgrader": {
     "cell_type": "code",
     "checksum": "95ef7861928caf99848f18c8ae5ba1e6",
     "grade": false,
     "grade_id": "cell-500cf95087dcb6db",
     "locked": false,
     "schema_version": 3,
     "solution": true,
     "task": false
    }
   },
   "outputs": [
    {
     "data": {
      "text/plain": [
       "0.06116"
      ]
     },
     "execution_count": 72,
     "metadata": {},
     "output_type": "execute_result"
    }
   ],
   "source": [
    "# Find the value of P_puzzle3, the probability of success:\n",
    "P_puzzle3 = len(df3_success) / len(df3)\n",
    "P_puzzle3\n",
    "\n"
   ]
  },
  {
   "cell_type": "code",
   "execution_count": 73,
   "metadata": {
    "deletable": false,
    "editable": false,
    "nbgrader": {
     "cell_type": "code",
     "checksum": "c8f74bfe830f93f7ee75abad9bef5f64",
     "grade": true,
     "grade_id": "cell-ee8226d0066bb603",
     "locked": true,
     "points": 1,
     "schema_version": 3,
     "solution": false,
     "task": false
    }
   },
   "outputs": [
    {
     "name": "stdout",
     "output_type": "stream",
     "text": [
      "🎉 All tests passed! 🎉\n"
     ]
    }
   ],
   "source": [
    "## == TEST CASES for Simulation 3 ==\n",
    "# - This read-only cell contains test cases for your previous cell.\n",
    "# - If this cell runs without any error our output, you PASSED all test cases!\n",
    "# - If this cell results in any errors, check you previous cell, make changes, and RE-RUN your code and then this cell.\n",
    "\n",
    "assert(len(df3) == 50000), \"Make sure your df3 has exactly 50,000 observations\"\n",
    "assert(len(df3_success) < 10000), \"Make sure your df3_success only has successes\"\n",
    "assert(P_puzzle3 > 0.03 and P_puzzle3 < 0.125), \"Make sure your P_puzzle3 is a probability of success\"\n",
    "\n",
    "## == SUCCESS MESSAGE ==\n",
    "# You will only see this message (with the emoji showing) if you passed all test cases:\n",
    "tada = \"\\N{PARTY POPPER}\"\n",
    "print(f\"{tada} All tests passed! {tada}\")"
   ]
  },
  {
   "cell_type": "markdown",
   "metadata": {},
   "source": [
    "## Simulation 4: A short exam\n",
    "\n",
    "Suppose you take a short exam with **four quesitons**:\n",
    "\n",
    "- Two multiple choice questions with five possible responses, AND\n",
    "- Two true/false questions\n",
    "\n",
    "Write a simulation of that randomly guess on each question and store the observations in `df4`.  Run the simulation **107,000** times:"
   ]
  },
  {
   "cell_type": "code",
   "execution_count": 78,
   "metadata": {
    "deletable": false,
    "nbgrader": {
     "cell_type": "code",
     "checksum": "dbc8570199e262042bd7e25d5bca1a49",
     "grade": false,
     "grade_id": "cell-18a97c31851aa17c",
     "locked": false,
     "schema_version": 3,
     "solution": true,
     "task": false
    }
   },
   "outputs": [
    {
     "data": {
      "text/html": [
       "<div>\n",
       "<style scoped>\n",
       "    .dataframe tbody tr th:only-of-type {\n",
       "        vertical-align: middle;\n",
       "    }\n",
       "\n",
       "    .dataframe tbody tr th {\n",
       "        vertical-align: top;\n",
       "    }\n",
       "\n",
       "    .dataframe thead th {\n",
       "        text-align: right;\n",
       "    }\n",
       "</style>\n",
       "<table border=\"1\" class=\"dataframe\">\n",
       "  <thead>\n",
       "    <tr style=\"text-align: right;\">\n",
       "      <th></th>\n",
       "      <th>MC1</th>\n",
       "      <th>MC2</th>\n",
       "      <th>TF1</th>\n",
       "      <th>TF2</th>\n",
       "    </tr>\n",
       "  </thead>\n",
       "  <tbody>\n",
       "    <tr>\n",
       "      <th>1115</th>\n",
       "      <td>4</td>\n",
       "      <td>5</td>\n",
       "      <td>2</td>\n",
       "      <td>2</td>\n",
       "    </tr>\n",
       "    <tr>\n",
       "      <th>62487</th>\n",
       "      <td>2</td>\n",
       "      <td>4</td>\n",
       "      <td>1</td>\n",
       "      <td>1</td>\n",
       "    </tr>\n",
       "    <tr>\n",
       "      <th>7301</th>\n",
       "      <td>2</td>\n",
       "      <td>2</td>\n",
       "      <td>2</td>\n",
       "      <td>1</td>\n",
       "    </tr>\n",
       "    <tr>\n",
       "      <th>95920</th>\n",
       "      <td>2</td>\n",
       "      <td>4</td>\n",
       "      <td>2</td>\n",
       "      <td>1</td>\n",
       "    </tr>\n",
       "    <tr>\n",
       "      <th>19856</th>\n",
       "      <td>1</td>\n",
       "      <td>5</td>\n",
       "      <td>2</td>\n",
       "      <td>1</td>\n",
       "    </tr>\n",
       "  </tbody>\n",
       "</table>\n",
       "</div>"
      ],
      "text/plain": [
       "       MC1  MC2  TF1  TF2\n",
       "1115     4    5    2    2\n",
       "62487    2    4    1    1\n",
       "7301     2    2    2    1\n",
       "95920    2    4    2    1\n",
       "19856    1    5    2    1"
      ]
     },
     "execution_count": 78,
     "metadata": {},
     "output_type": "execute_result"
    }
   ],
   "source": [
    "data = []\n",
    "for i in range (107000) :\n",
    "    tf1 = random.randint(1,2)\n",
    "    tf2 = random.randint(1,2)\n",
    "    mc1 = random.randint(1,5)\n",
    "    mc2 = random.randint(1,5)\n",
    "    d = {\"MC1\": mc1, \"MC2\": mc2, \"TF1\":tf1, \"TF2\":tf2}\n",
    "    data.append(d)\n",
    "\n",
    "\n",
    "\n",
    "\n",
    "\n",
    "df4 = pd.DataFrame(data)\n",
    "\n",
    "\n",
    "# ...and show a few random rows:\n",
    "df4.sample(5)"
   ]
  },
  {
   "cell_type": "markdown",
   "metadata": {},
   "source": [
    "### Puzzle 4.1: Probability Calculations\n",
    "\n",
    "Suppose you have a solution for the exam (the solution itself can be anything, you just need to make sure each question only has one correct answer).  Find an estimation of the probability that a student, who randomly guesses on each question, **earned a 100%** on the exam.\n",
    "\n",
    "- To do this, create a `df4_success` DataFrame with only the rows that were successful.\n",
    "- Store our estimation of the probability of success in `P_puzzle4` below."
   ]
  },
  {
   "cell_type": "code",
   "execution_count": 81,
   "metadata": {
    "deletable": false,
    "nbgrader": {
     "cell_type": "code",
     "checksum": "4d6d19246f741848a5771bad425a71cc",
     "grade": false,
     "grade_id": "cell-347ce0ac71f7bc03",
     "locked": false,
     "schema_version": 3,
     "solution": true,
     "task": false
    }
   },
   "outputs": [
    {
     "data": {
      "text/html": [
       "<div>\n",
       "<style scoped>\n",
       "    .dataframe tbody tr th:only-of-type {\n",
       "        vertical-align: middle;\n",
       "    }\n",
       "\n",
       "    .dataframe tbody tr th {\n",
       "        vertical-align: top;\n",
       "    }\n",
       "\n",
       "    .dataframe thead th {\n",
       "        text-align: right;\n",
       "    }\n",
       "</style>\n",
       "<table border=\"1\" class=\"dataframe\">\n",
       "  <thead>\n",
       "    <tr style=\"text-align: right;\">\n",
       "      <th></th>\n",
       "      <th>MC1</th>\n",
       "      <th>MC2</th>\n",
       "      <th>TF1</th>\n",
       "      <th>TF2</th>\n",
       "    </tr>\n",
       "  </thead>\n",
       "  <tbody>\n",
       "    <tr>\n",
       "      <th>72850</th>\n",
       "      <td>1</td>\n",
       "      <td>1</td>\n",
       "      <td>1</td>\n",
       "      <td>1</td>\n",
       "    </tr>\n",
       "    <tr>\n",
       "      <th>104686</th>\n",
       "      <td>1</td>\n",
       "      <td>1</td>\n",
       "      <td>1</td>\n",
       "      <td>1</td>\n",
       "    </tr>\n",
       "    <tr>\n",
       "      <th>31197</th>\n",
       "      <td>1</td>\n",
       "      <td>1</td>\n",
       "      <td>1</td>\n",
       "      <td>1</td>\n",
       "    </tr>\n",
       "    <tr>\n",
       "      <th>40793</th>\n",
       "      <td>1</td>\n",
       "      <td>1</td>\n",
       "      <td>1</td>\n",
       "      <td>1</td>\n",
       "    </tr>\n",
       "    <tr>\n",
       "      <th>7580</th>\n",
       "      <td>1</td>\n",
       "      <td>1</td>\n",
       "      <td>1</td>\n",
       "      <td>1</td>\n",
       "    </tr>\n",
       "  </tbody>\n",
       "</table>\n",
       "</div>"
      ],
      "text/plain": [
       "        MC1  MC2  TF1  TF2\n",
       "72850     1    1    1    1\n",
       "104686    1    1    1    1\n",
       "31197     1    1    1    1\n",
       "40793     1    1    1    1\n",
       "7580      1    1    1    1"
      ]
     },
     "execution_count": 81,
     "metadata": {},
     "output_type": "execute_result"
    }
   ],
   "source": [
    "# Create a DataFrame that contains only the subset of observations that were successful:\n",
    "df4_success =df4[ (df4[\"MC1\"] == 1) & (df4[\"MC2\"] == 1) & (df4[\"TF1\"] == 1) & (df4[\"TF2\"] == 1)]\n",
    "\n",
    "\n",
    "\n",
    "# ...and show a few random rows:\n",
    "df4_success.sample(5)"
   ]
  },
  {
   "cell_type": "code",
   "execution_count": 82,
   "metadata": {
    "deletable": false,
    "nbgrader": {
     "cell_type": "code",
     "checksum": "02b0741470898915fe31d1d95fd5ea58",
     "grade": false,
     "grade_id": "cell-fe878c90818d81cd",
     "locked": false,
     "schema_version": 3,
     "solution": true,
     "task": false
    }
   },
   "outputs": [
    {
     "data": {
      "text/plain": [
       "0.01014018691588785"
      ]
     },
     "execution_count": 82,
     "metadata": {},
     "output_type": "execute_result"
    }
   ],
   "source": [
    "# Find the value of P_puzzle4, the probability of success:\n",
    "P_puzzle4 = len(df4_success)/len(df4)\n",
    "P_puzzle4\n",
    "\n"
   ]
  },
  {
   "cell_type": "markdown",
   "metadata": {},
   "source": [
    "### Puzzle 4.2: Probability Calculations\n",
    "\n",
    "Suppose you have a solution for the exam (the solution itself can be anything, you just need to make sure each question only has one correct answer).  Find an estimation of the probability that a student, who randomly guesses on each question, **earned a passing grade** on the exam.  *(Each question is worth the same amount, so a passing grade means you got at least 3 of the four quesitons correct.)* Hint: How many ways are there to get a **passing grade** on the exam?\n",
    "\n",
    "- To do this, create a `df4_passing` DataFrame with only the rows that were successful.\n",
    "- Store our estimation of the probability of success in `P_puzzle4_passing` below."
   ]
  },
  {
   "cell_type": "code",
   "execution_count": 91,
   "metadata": {
    "deletable": false,
    "nbgrader": {
     "cell_type": "code",
     "checksum": "2a885b911abd3ddbaaeaabc7e1b025c3",
     "grade": false,
     "grade_id": "cell-2d30e3f69ccc4cab",
     "locked": false,
     "schema_version": 3,
     "solution": true,
     "task": false
    }
   },
   "outputs": [
    {
     "data": {
      "text/html": [
       "<div>\n",
       "<style scoped>\n",
       "    .dataframe tbody tr th:only-of-type {\n",
       "        vertical-align: middle;\n",
       "    }\n",
       "\n",
       "    .dataframe tbody tr th {\n",
       "        vertical-align: top;\n",
       "    }\n",
       "\n",
       "    .dataframe thead th {\n",
       "        text-align: right;\n",
       "    }\n",
       "</style>\n",
       "<table border=\"1\" class=\"dataframe\">\n",
       "  <thead>\n",
       "    <tr style=\"text-align: right;\">\n",
       "      <th></th>\n",
       "      <th>MC1</th>\n",
       "      <th>MC2</th>\n",
       "      <th>TF1</th>\n",
       "      <th>TF2</th>\n",
       "    </tr>\n",
       "  </thead>\n",
       "  <tbody>\n",
       "    <tr>\n",
       "      <th>93881</th>\n",
       "      <td>1</td>\n",
       "      <td>1</td>\n",
       "      <td>1</td>\n",
       "      <td>1</td>\n",
       "    </tr>\n",
       "    <tr>\n",
       "      <th>97229</th>\n",
       "      <td>1</td>\n",
       "      <td>2</td>\n",
       "      <td>1</td>\n",
       "      <td>1</td>\n",
       "    </tr>\n",
       "    <tr>\n",
       "      <th>29522</th>\n",
       "      <td>1</td>\n",
       "      <td>5</td>\n",
       "      <td>1</td>\n",
       "      <td>1</td>\n",
       "    </tr>\n",
       "    <tr>\n",
       "      <th>95360</th>\n",
       "      <td>1</td>\n",
       "      <td>2</td>\n",
       "      <td>1</td>\n",
       "      <td>1</td>\n",
       "    </tr>\n",
       "    <tr>\n",
       "      <th>28310</th>\n",
       "      <td>1</td>\n",
       "      <td>1</td>\n",
       "      <td>1</td>\n",
       "      <td>2</td>\n",
       "    </tr>\n",
       "    <tr>\n",
       "      <th>66414</th>\n",
       "      <td>1</td>\n",
       "      <td>3</td>\n",
       "      <td>1</td>\n",
       "      <td>1</td>\n",
       "    </tr>\n",
       "    <tr>\n",
       "      <th>91485</th>\n",
       "      <td>1</td>\n",
       "      <td>5</td>\n",
       "      <td>1</td>\n",
       "      <td>1</td>\n",
       "    </tr>\n",
       "    <tr>\n",
       "      <th>32038</th>\n",
       "      <td>1</td>\n",
       "      <td>3</td>\n",
       "      <td>1</td>\n",
       "      <td>1</td>\n",
       "    </tr>\n",
       "    <tr>\n",
       "      <th>7898</th>\n",
       "      <td>1</td>\n",
       "      <td>3</td>\n",
       "      <td>1</td>\n",
       "      <td>1</td>\n",
       "    </tr>\n",
       "    <tr>\n",
       "      <th>64585</th>\n",
       "      <td>1</td>\n",
       "      <td>1</td>\n",
       "      <td>1</td>\n",
       "      <td>1</td>\n",
       "    </tr>\n",
       "    <tr>\n",
       "      <th>57346</th>\n",
       "      <td>1</td>\n",
       "      <td>2</td>\n",
       "      <td>1</td>\n",
       "      <td>1</td>\n",
       "    </tr>\n",
       "    <tr>\n",
       "      <th>12684</th>\n",
       "      <td>1</td>\n",
       "      <td>5</td>\n",
       "      <td>1</td>\n",
       "      <td>1</td>\n",
       "    </tr>\n",
       "    <tr>\n",
       "      <th>79207</th>\n",
       "      <td>1</td>\n",
       "      <td>3</td>\n",
       "      <td>1</td>\n",
       "      <td>1</td>\n",
       "    </tr>\n",
       "    <tr>\n",
       "      <th>61944</th>\n",
       "      <td>1</td>\n",
       "      <td>5</td>\n",
       "      <td>1</td>\n",
       "      <td>1</td>\n",
       "    </tr>\n",
       "    <tr>\n",
       "      <th>90327</th>\n",
       "      <td>1</td>\n",
       "      <td>2</td>\n",
       "      <td>1</td>\n",
       "      <td>1</td>\n",
       "    </tr>\n",
       "    <tr>\n",
       "      <th>80691</th>\n",
       "      <td>1</td>\n",
       "      <td>4</td>\n",
       "      <td>1</td>\n",
       "      <td>1</td>\n",
       "    </tr>\n",
       "    <tr>\n",
       "      <th>97549</th>\n",
       "      <td>1</td>\n",
       "      <td>5</td>\n",
       "      <td>1</td>\n",
       "      <td>1</td>\n",
       "    </tr>\n",
       "    <tr>\n",
       "      <th>52935</th>\n",
       "      <td>1</td>\n",
       "      <td>5</td>\n",
       "      <td>1</td>\n",
       "      <td>1</td>\n",
       "    </tr>\n",
       "    <tr>\n",
       "      <th>51006</th>\n",
       "      <td>1</td>\n",
       "      <td>3</td>\n",
       "      <td>1</td>\n",
       "      <td>1</td>\n",
       "    </tr>\n",
       "    <tr>\n",
       "      <th>4288</th>\n",
       "      <td>1</td>\n",
       "      <td>1</td>\n",
       "      <td>1</td>\n",
       "      <td>1</td>\n",
       "    </tr>\n",
       "  </tbody>\n",
       "</table>\n",
       "</div>"
      ],
      "text/plain": [
       "       MC1  MC2  TF1  TF2\n",
       "93881    1    1    1    1\n",
       "97229    1    2    1    1\n",
       "29522    1    5    1    1\n",
       "95360    1    2    1    1\n",
       "28310    1    1    1    2\n",
       "66414    1    3    1    1\n",
       "91485    1    5    1    1\n",
       "32038    1    3    1    1\n",
       "7898     1    3    1    1\n",
       "64585    1    1    1    1\n",
       "57346    1    2    1    1\n",
       "12684    1    5    1    1\n",
       "79207    1    3    1    1\n",
       "61944    1    5    1    1\n",
       "90327    1    2    1    1\n",
       "80691    1    4    1    1\n",
       "97549    1    5    1    1\n",
       "52935    1    5    1    1\n",
       "51006    1    3    1    1\n",
       "4288     1    1    1    1"
      ]
     },
     "execution_count": 91,
     "metadata": {},
     "output_type": "execute_result"
    }
   ],
   "source": [
    "# Create a DataFrame that contains only the subset of observations that were successful:\n",
    "df4_passing = df4[ ((df4[\"MC1\"] == 1) & (df4[\"MC2\"] == 1) & (df4[\"TF1\"] == 1)) | ((df4[\"MC1\"] == 1) & (df4[\"TF1\"] == 1) & (df4[\"TF2\"] == 1))]\n",
    "\n",
    "\n",
    "\n",
    "\n",
    "# ...and show a few random rows:\n",
    "df4_passing.sample(20)"
   ]
  },
  {
   "cell_type": "code",
   "execution_count": 96,
   "metadata": {
    "deletable": false,
    "nbgrader": {
     "cell_type": "code",
     "checksum": "1afccd38e3d5b6730a27e009e781aff0",
     "grade": false,
     "grade_id": "cell-9bad993cdbd1fde9",
     "locked": false,
     "schema_version": 3,
     "solution": true,
     "task": false
    }
   },
   "outputs": [
    {
     "data": {
      "text/plain": [
       "0.05991588785046729"
      ]
     },
     "execution_count": 96,
     "metadata": {},
     "output_type": "execute_result"
    }
   ],
   "source": [
    "# Find the value of P_puzzle4_passing, the probability of success:\n",
    "P_puzzle4_passing = len(df4_passing) / len(df4)\n",
    "P_puzzle4_passing\n",
    "\n"
   ]
  },
  {
   "cell_type": "code",
   "execution_count": 97,
   "metadata": {
    "deletable": false,
    "editable": false,
    "nbgrader": {
     "cell_type": "code",
     "checksum": "7d1c2c0d30642743213b290601410d4d",
     "grade": true,
     "grade_id": "cell-a6ebe4ed0a4a4c12",
     "locked": true,
     "points": 1,
     "schema_version": 3,
     "solution": false,
     "task": false
    }
   },
   "outputs": [
    {
     "name": "stdout",
     "output_type": "stream",
     "text": [
      "🎉 All tests passed! 🎉\n"
     ]
    }
   ],
   "source": [
    "## == TEST CASES for Simulation 4 ==\n",
    "# - This read-only cell contains test cases for your previous cell.\n",
    "# - If this cell runs without any error our output, you PASSED all test cases!\n",
    "# - If this cell results in any errors, check you previous cell, make changes, and RE-RUN your code and then this cell.\n",
    "\n",
    "assert(len(df4) == 107000), \"Make sure your df4 has exactly 107,000 observations\"\n",
    "assert(len(df4_success) < (107000 * 0.05)), \"Make sure your df4_success only has students scoring 100%\"\n",
    "assert(len(df4_passing) < (107000 * 0.2)), \"Make sure your df4_passing has all students passing\"\n",
    "\n",
    "assert(P_puzzle4 > 0 and P_puzzle4 < 0.05), \"Make sure your P_puzzle4 is a probability of earning a 100%\"\n",
    "assert(P_puzzle4_passing > 0.05 and P_puzzle4_passing < 0.2), \"Make sure your P_puzzle4_passing is a probability of earning a passing grade\"\n",
    "\n",
    "## == SUCCESS MESSAGE ==\n",
    "# You will only see this message (with the emoji showing) if you passed all test cases:\n",
    "tada = \"\\N{PARTY POPPER}\"\n",
    "print(f\"{tada} All tests passed! {tada}\")"
   ]
  },
  {
   "cell_type": "markdown",
   "metadata": {},
   "source": [
    "## Simulation 5: Marbles in a Bag\n",
    "\n",
    "Suppose you have a bag of 12 marbles.  The bag contains:\n",
    "\n",
    "- Three red marbles,\n",
    "- Four blue marbles, and\n",
    "- Five clear marbles\n",
    "\n",
    "Write a simulation of that randomly draws a total of two marbles from the bag **with replacement** after drawing each one.  Run the simulation **50,000** times and store your observations in `df5`:"
   ]
  },
  {
   "cell_type": "code",
   "execution_count": 100,
   "metadata": {
    "deletable": false,
    "nbgrader": {
     "cell_type": "code",
     "checksum": "62d806287cdaa9339da020e75df181b0",
     "grade": false,
     "grade_id": "cell-ae186efce8f6a1ac",
     "locked": false,
     "schema_version": 3,
     "solution": true,
     "task": false
    }
   },
   "outputs": [
    {
     "data": {
      "text/html": [
       "<div>\n",
       "<style scoped>\n",
       "    .dataframe tbody tr th:only-of-type {\n",
       "        vertical-align: middle;\n",
       "    }\n",
       "\n",
       "    .dataframe tbody tr th {\n",
       "        vertical-align: top;\n",
       "    }\n",
       "\n",
       "    .dataframe thead th {\n",
       "        text-align: right;\n",
       "    }\n",
       "</style>\n",
       "<table border=\"1\" class=\"dataframe\">\n",
       "  <thead>\n",
       "    <tr style=\"text-align: right;\">\n",
       "      <th></th>\n",
       "      <th>red</th>\n",
       "      <th>blue</th>\n",
       "      <th>clear</th>\n",
       "    </tr>\n",
       "  </thead>\n",
       "  <tbody>\n",
       "    <tr>\n",
       "      <th>46288</th>\n",
       "      <td>1</td>\n",
       "      <td>2</td>\n",
       "      <td>1</td>\n",
       "    </tr>\n",
       "    <tr>\n",
       "      <th>47024</th>\n",
       "      <td>1</td>\n",
       "      <td>1</td>\n",
       "      <td>1</td>\n",
       "    </tr>\n",
       "    <tr>\n",
       "      <th>8696</th>\n",
       "      <td>3</td>\n",
       "      <td>2</td>\n",
       "      <td>2</td>\n",
       "    </tr>\n",
       "    <tr>\n",
       "      <th>46566</th>\n",
       "      <td>3</td>\n",
       "      <td>3</td>\n",
       "      <td>2</td>\n",
       "    </tr>\n",
       "    <tr>\n",
       "      <th>14581</th>\n",
       "      <td>1</td>\n",
       "      <td>3</td>\n",
       "      <td>3</td>\n",
       "    </tr>\n",
       "  </tbody>\n",
       "</table>\n",
       "</div>"
      ],
      "text/plain": [
       "       red  blue  clear\n",
       "46288    1     2      1\n",
       "47024    1     1      1\n",
       "8696     3     2      2\n",
       "46566    3     3      2\n",
       "14581    1     3      3"
      ]
     },
     "execution_count": 100,
     "metadata": {},
     "output_type": "execute_result"
    }
   ],
   "source": [
    "# Suggestion! You can use 1-3: red, 4-7: blue, 8-12: clear\n",
    "data = []\n",
    "for i in range (50000) :\n",
    "    red = random.randint(1,3)\n",
    "    blue = random.randint(1,4)\n",
    "    clear = random.randint(1,5)\n",
    "\n",
    "    d = {\"red\": red, \"blue\": blue, \"clear\":clear}\n",
    "    data.append(d)\n",
    "\n",
    "\n",
    "df5 = pd.DataFrame(data)\n",
    "\n",
    "\n",
    "\n",
    "# ...and show a few random rows:\n",
    "df5.sample(5)"
   ]
  },
  {
   "cell_type": "markdown",
   "metadata": {},
   "source": [
    "### Puzzle 5.1: Probability Calculations\n",
    "\n",
    "Find an estimation of the probability that you draw exactly one red marble and exactly one blue marble.\n",
    "\n",
    "- To do this, create a `df5_success` DataFrame with only the rows that were successful.\n",
    "- Store our estimation of the probability of success in `P_puzzle5` below."
   ]
  },
  {
   "cell_type": "code",
   "execution_count": 102,
   "metadata": {
    "deletable": false,
    "nbgrader": {
     "cell_type": "code",
     "checksum": "cda6eae7db9cfcff2b9630807d33b656",
     "grade": false,
     "grade_id": "cell-eed49152845de177",
     "locked": false,
     "schema_version": 3,
     "solution": true,
     "task": false
    }
   },
   "outputs": [
    {
     "data": {
      "text/html": [
       "<div>\n",
       "<style scoped>\n",
       "    .dataframe tbody tr th:only-of-type {\n",
       "        vertical-align: middle;\n",
       "    }\n",
       "\n",
       "    .dataframe tbody tr th {\n",
       "        vertical-align: top;\n",
       "    }\n",
       "\n",
       "    .dataframe thead th {\n",
       "        text-align: right;\n",
       "    }\n",
       "</style>\n",
       "<table border=\"1\" class=\"dataframe\">\n",
       "  <thead>\n",
       "    <tr style=\"text-align: right;\">\n",
       "      <th></th>\n",
       "      <th>red</th>\n",
       "      <th>blue</th>\n",
       "      <th>clear</th>\n",
       "    </tr>\n",
       "  </thead>\n",
       "  <tbody>\n",
       "    <tr>\n",
       "      <th>33068</th>\n",
       "      <td>1</td>\n",
       "      <td>1</td>\n",
       "      <td>2</td>\n",
       "    </tr>\n",
       "    <tr>\n",
       "      <th>24643</th>\n",
       "      <td>1</td>\n",
       "      <td>1</td>\n",
       "      <td>1</td>\n",
       "    </tr>\n",
       "    <tr>\n",
       "      <th>13818</th>\n",
       "      <td>1</td>\n",
       "      <td>1</td>\n",
       "      <td>5</td>\n",
       "    </tr>\n",
       "    <tr>\n",
       "      <th>41881</th>\n",
       "      <td>1</td>\n",
       "      <td>1</td>\n",
       "      <td>1</td>\n",
       "    </tr>\n",
       "    <tr>\n",
       "      <th>5798</th>\n",
       "      <td>1</td>\n",
       "      <td>1</td>\n",
       "      <td>5</td>\n",
       "    </tr>\n",
       "    <tr>\n",
       "      <th>12452</th>\n",
       "      <td>1</td>\n",
       "      <td>1</td>\n",
       "      <td>4</td>\n",
       "    </tr>\n",
       "    <tr>\n",
       "      <th>30511</th>\n",
       "      <td>1</td>\n",
       "      <td>1</td>\n",
       "      <td>5</td>\n",
       "    </tr>\n",
       "    <tr>\n",
       "      <th>48300</th>\n",
       "      <td>1</td>\n",
       "      <td>1</td>\n",
       "      <td>5</td>\n",
       "    </tr>\n",
       "    <tr>\n",
       "      <th>38772</th>\n",
       "      <td>1</td>\n",
       "      <td>1</td>\n",
       "      <td>3</td>\n",
       "    </tr>\n",
       "    <tr>\n",
       "      <th>38110</th>\n",
       "      <td>1</td>\n",
       "      <td>1</td>\n",
       "      <td>5</td>\n",
       "    </tr>\n",
       "  </tbody>\n",
       "</table>\n",
       "</div>"
      ],
      "text/plain": [
       "       red  blue  clear\n",
       "33068    1     1      2\n",
       "24643    1     1      1\n",
       "13818    1     1      5\n",
       "41881    1     1      1\n",
       "5798     1     1      5\n",
       "12452    1     1      4\n",
       "30511    1     1      5\n",
       "48300    1     1      5\n",
       "38772    1     1      3\n",
       "38110    1     1      5"
      ]
     },
     "execution_count": 102,
     "metadata": {},
     "output_type": "execute_result"
    }
   ],
   "source": [
    "# Create a DataFrame that contains only the subset of observations that were successful:\n",
    "df5_success = df5[(df5[\"red\"] == 1) & (df5[\"blue\"] == 1)]\n",
    "\n",
    "\n",
    "\n",
    "# ...and show a few random rows:\n",
    "df5_success.sample(10)"
   ]
  },
  {
   "cell_type": "code",
   "execution_count": 103,
   "metadata": {
    "deletable": false,
    "nbgrader": {
     "cell_type": "code",
     "checksum": "7aa28138b1881dbc027048f3387ac6be",
     "grade": false,
     "grade_id": "cell-5d3f15b37a9a3ef3",
     "locked": false,
     "schema_version": 3,
     "solution": true,
     "task": false
    }
   },
   "outputs": [
    {
     "data": {
      "text/plain": [
       "0.08422"
      ]
     },
     "execution_count": 103,
     "metadata": {},
     "output_type": "execute_result"
    }
   ],
   "source": [
    "# Find the value of P_puzzle5, the probability of success:\n",
    "P_puzzle5 = len(df5_success) / len(df5)\n",
    "P_puzzle5\n",
    "\n"
   ]
  },
  {
   "cell_type": "code",
   "execution_count": 104,
   "metadata": {
    "deletable": false,
    "editable": false,
    "nbgrader": {
     "cell_type": "code",
     "checksum": "8ddf96b5b3c73440c10103626756bff7",
     "grade": true,
     "grade_id": "cell-4ceb4e0fd91e0606",
     "locked": true,
     "points": 1,
     "schema_version": 3,
     "solution": false,
     "task": false
    }
   },
   "outputs": [
    {
     "name": "stdout",
     "output_type": "stream",
     "text": [
      "🎉 All tests passed! 🎉\n"
     ]
    }
   ],
   "source": [
    "## == TEST CASES for Simulation 5 ==\n",
    "# - This read-only cell contains test cases for your previous cell.\n",
    "# - If this cell runs without any error our output, you PASSED all test cases!\n",
    "# - If this cell results in any errors, check you previous cell, make changes, and RE-RUN your code and then this cell.\n",
    "\n",
    "assert(len(df5) == 50000), \"Make sure your df5 has exactly 50,000 observations\"\n",
    "assert(len(df5_success) < (107000 * 0.2)), \"Make sure your df5_success only has students scoring 100%\"\n",
    "\n",
    "assert(P_puzzle5 > 0.02 and P_puzzle5 < 0.2), \"Make sure your P_puzzle5 is a probability of earning a 100%\"\n",
    "\n",
    "## == SUCCESS MESSAGE ==\n",
    "# You will only see this message (with the emoji showing) if you passed all test cases:\n",
    "tada = \"\\N{PARTY POPPER}\"\n",
    "print(f\"{tada} All tests passed! {tada}\")"
   ]
  },
  {
   "cell_type": "markdown",
   "metadata": {},
   "source": [
    "## Submit Your Work!\n",
    "\n",
    "Make sure to **Save and Checkpoint** your notebook, exit Jupyter, and submit your work! :)"
   ]
  }
 ],
 "metadata": {
  "kernelspec": {
   "display_name": "Python 3",
   "language": "python",
   "name": "python3"
  },
  "language_info": {
   "codemirror_mode": {
    "name": "ipython",
    "version": 3
   },
   "file_extension": ".py",
   "mimetype": "text/x-python",
   "name": "python",
   "nbconvert_exporter": "python",
   "pygments_lexer": "ipython3",
   "version": "3.7.4"
  }
 },
 "nbformat": 4,
 "nbformat_minor": 2
}
